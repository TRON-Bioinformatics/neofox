{
 "cells": [
  {
   "cell_type": "markdown",
   "metadata": {},
   "source": [
    "# Programmatic usage of NeoFox\n",
    "\n",
    "NeoFox provides an Application Programming Interface (API) that enables the integration into other applications. This API relies heavily on Protocol Buffers data models that provide placeholder objects to store the required data while enabling different representations, data manipulation, validation and normalization. We use the Protocol Buffers data models to generate Python code automatically and to implement validation and normalization around them, but Protocol Buffers is technology agnostic thus this may facilitate the integration with third party applications not necessarily implemented in Python (see https://developers.google.com/protocol-buffers). The API is tightly integrated with the Python data analysis library Pandas (see https://pandas.pydata.org/).\n",
    "\n",
    "Here we show: \n",
    "\n",
    "* how to create new model objects\n",
    "* how to import/export these objects into different representations\n",
    "* how to manipulate them\n",
    "* how to validate and normalize on the data \n",
    "\n",
    "And finally we show how to run NeoFox programmatically, you may want to skip to this part for a quick grasp of the API usage."
   ]
  },
  {
   "cell_type": "markdown",
   "metadata": {},
   "source": [
    "## Neoantigens\n",
    "\n",
    "The neoantigen is the central piece of information that NeoFox handles, all output annotations refer to a neoantigen. A neoantigen is formed by two subentities transcript and mutation, plus some additional attributes. Here we show how to create a neoantigen, transform it into different representations and validate it."
   ]
  },
  {
   "cell_type": "markdown",
   "metadata": {},
   "source": [
    "### Create a neoantigen\n",
    "\n",
    "Create a transcript:"
   ]
  },
  {
   "cell_type": "code",
   "execution_count": 1,
   "metadata": {},
   "outputs": [],
   "source": [
    "from neofox.model.neoantigen import Transcript\n",
    "transcript = Transcript(\n",
    "    assembly=\"hg19\", \n",
    "    gene=\"VCAN\", \n",
    "    identifier=\"uc003kii.3\")"
   ]
  },
  {
   "cell_type": "markdown",
   "metadata": {},
   "source": [
    "Create a mutation:"
   ]
  },
  {
   "cell_type": "code",
   "execution_count": 2,
   "metadata": {},
   "outputs": [],
   "source": [
    "from neofox.model.neoantigen import Mutation\n",
    "mutation = Mutation(\n",
    "    position=1007, \n",
    "    wild_type_aminoacid=\"I\", \n",
    "    mutated_aminoacid=\"T\", \n",
    "    left_flanking_region=\"DEVLGEPSQDILV\", \n",
    "    right_flanking_region=\"DQTRLEATISPET\")"
   ]
  },
  {
   "cell_type": "markdown",
   "metadata": {},
   "source": [
    "Create a neoantigen using the previous transcript and mutation:"
   ]
  },
  {
   "cell_type": "code",
   "execution_count": 3,
   "metadata": {},
   "outputs": [],
   "source": [
    "from neofox.model.neoantigen import Neoantigen\n",
    "neoantigen = Neoantigen(\n",
    "    transcript=transcript, \n",
    "    mutation=mutation, \n",
    "    patient_identifier=\"P123\", \n",
    "    rna_expression=0.519506894, \n",
    "    rna_variant_allele_frequency=0.857142857, \n",
    "    dna_variant_allele_frequency=0.294573643)"
   ]
  },
  {
   "cell_type": "markdown",
   "metadata": {},
   "source": [
    "### Representation into different formats\n",
    "\n",
    "The same piece of data agreeing with NeoFox data models can be represented in different formats. Here we show how to transform the data between several formats: JSON, Python dictionaries, Protocol Buffers binary representations, Pandas dataframes and tabular representations in files. This is relevant for enabling data import and export and adding flexibility to the integration with other tools.\n",
    "\n",
    "What is shown here is applicable to all entities in NeoFox data models.\n",
    "\n",
    "These objects can be easily transformed into JSON:"
   ]
  },
  {
   "cell_type": "code",
   "execution_count": 4,
   "metadata": {},
   "outputs": [
    {
     "name": "stdout",
     "output_type": "stream",
     "text": [
      "{\n",
      "  \"patientIdentifier\": \"P123\",\n",
      "  \"transcript\": {\n",
      "    \"identifier\": \"uc003kii.3\",\n",
      "    \"assembly\": \"hg19\",\n",
      "    \"gene\": \"VCAN\"\n",
      "  },\n",
      "  \"mutation\": {\n",
      "    \"position\": 1007,\n",
      "    \"wildTypeAminoacid\": \"I\",\n",
      "    \"mutatedAminoacid\": \"T\",\n",
      "    \"leftFlankingRegion\": \"DEVLGEPSQDILV\",\n",
      "    \"rightFlankingRegion\": \"DQTRLEATISPET\"\n",
      "  },\n",
      "  \"rnaExpression\": 0.519506894,\n",
      "  \"dnaVariantAlleleFrequency\": 0.294573643,\n",
      "  \"rnaVariantAlleleFrequency\": 0.857142857\n",
      "}\n"
     ]
    }
   ],
   "source": [
    "print(neoantigen.to_json(indent=2))"
   ]
  },
  {
   "cell_type": "markdown",
   "metadata": {},
   "source": [
    "They can also be transformed into a Python native dictionary:"
   ]
  },
  {
   "cell_type": "code",
   "execution_count": 5,
   "metadata": {},
   "outputs": [
    {
     "data": {
      "text/plain": [
       "{'identifier': 'uc003kii.3', 'assembly': 'hg19', 'gene': 'VCAN'}"
      ]
     },
     "execution_count": 5,
     "metadata": {},
     "output_type": "execute_result"
    }
   ],
   "source": [
    "transcript.to_dict()"
   ]
  },
  {
   "cell_type": "markdown",
   "metadata": {},
   "source": [
    "And also into the Protocol Buffers binary format that allows a better compression for storing the data or sending it over the wire:"
   ]
  },
  {
   "cell_type": "code",
   "execution_count": 6,
   "metadata": {},
   "outputs": [
    {
     "data": {
      "text/plain": [
       "b'\\x08\\xef\\x07\\x1a\\x01I*\\x01T2\\rDEVLGEPSQDILVB\\rDQTRLEATISPET'"
      ]
     },
     "execution_count": 6,
     "metadata": {},
     "output_type": "execute_result"
    }
   ],
   "source": [
    "mutation.SerializeToString()"
   ]
  },
  {
   "cell_type": "markdown",
   "metadata": {},
   "source": [
    "### Integration with Pandas\n",
    "\n",
    "NeoFox integrates with the Python library for data analysis Pandas (see https://pandas.pydata.org/). A single object can be transformed into a Pandas `Series` and a list of objects can be transformed into a Pandas `DataFrame`. Pandas provide functionality to persist this tabular representations to files that can be stored and imported into other environments, for instance R.\n",
    "\n",
    "What is shown here is applicable to all entities in NeoFox data models."
   ]
  },
  {
   "cell_type": "markdown",
   "metadata": {},
   "source": [
    "Transform a neoantigen into a Pandas `Series`:"
   ]
  },
  {
   "cell_type": "code",
   "execution_count": 7,
   "metadata": {},
   "outputs": [
    {
     "data": {
      "text/plain": [
       "clonality_estimation                           False\n",
       "dna_variant_allele_frequency                0.294574\n",
       "identifier                                          \n",
       "mutation.left_flanking_region          DEVLGEPSQDILV\n",
       "mutation.mutated_aminoacid                         T\n",
       "mutation.mutated_xmer                               \n",
       "mutation.position                               1007\n",
       "mutation.right_flanking_region         DQTRLEATISPET\n",
       "mutation.size_left_flanking_region                 0\n",
       "mutation.size_right_flanking_region                0\n",
       "mutation.wild_type_aminoacid                       I\n",
       "mutation.wild_type_xmer                             \n",
       "patient_identifier                              P123\n",
       "rna_expression                              0.519507\n",
       "rna_variant_allele_frequency                0.857143\n",
       "transcript.assembly                             hg19\n",
       "transcript.gene                                 VCAN\n",
       "transcript.identifier                     uc003kii.3\n",
       "Name: 0, dtype: object"
      ]
     },
     "execution_count": 7,
     "metadata": {},
     "output_type": "execute_result"
    }
   ],
   "source": [
    "from neofox.model.conversion import ModelConverter\n",
    "ModelConverter.object2series(neoantigen)"
   ]
  },
  {
   "cell_type": "markdown",
   "metadata": {},
   "source": [
    "Transform a list of transcripts into a Pandas `DataFrame`:"
   ]
  },
  {
   "cell_type": "code",
   "execution_count": 8,
   "metadata": {},
   "outputs": [
    {
     "data": {
      "text/html": [
       "<div>\n",
       "<style scoped>\n",
       "    .dataframe tbody tr th:only-of-type {\n",
       "        vertical-align: middle;\n",
       "    }\n",
       "\n",
       "    .dataframe tbody tr th {\n",
       "        vertical-align: top;\n",
       "    }\n",
       "\n",
       "    .dataframe thead th {\n",
       "        text-align: right;\n",
       "    }\n",
       "</style>\n",
       "<table border=\"1\" class=\"dataframe\">\n",
       "  <thead>\n",
       "    <tr style=\"text-align: right;\">\n",
       "      <th></th>\n",
       "      <th>leftFlankingRegion</th>\n",
       "      <th>mutatedAminoacid</th>\n",
       "      <th>mutatedXmer</th>\n",
       "      <th>position</th>\n",
       "      <th>rightFlankingRegion</th>\n",
       "      <th>sizeLeftFlankingRegion</th>\n",
       "      <th>sizeRightFlankingRegion</th>\n",
       "      <th>wildTypeAminoacid</th>\n",
       "      <th>wildTypeXmer</th>\n",
       "    </tr>\n",
       "  </thead>\n",
       "  <tbody>\n",
       "    <tr>\n",
       "      <th>0</th>\n",
       "      <td>DEVLGEPSQDILV</td>\n",
       "      <td>T</td>\n",
       "      <td></td>\n",
       "      <td>1007</td>\n",
       "      <td>DQTRLEATISPET</td>\n",
       "      <td>0</td>\n",
       "      <td>0</td>\n",
       "      <td>I</td>\n",
       "      <td></td>\n",
       "    </tr>\n",
       "    <tr>\n",
       "      <th>1</th>\n",
       "      <td>AAAAAAAAAAAAA</td>\n",
       "      <td>G</td>\n",
       "      <td></td>\n",
       "      <td>126</td>\n",
       "      <td>AAAAAAAAAAAAA</td>\n",
       "      <td>0</td>\n",
       "      <td>0</td>\n",
       "      <td>A</td>\n",
       "      <td></td>\n",
       "    </tr>\n",
       "  </tbody>\n",
       "</table>\n",
       "</div>"
      ],
      "text/plain": [
       "  leftFlankingRegion mutatedAminoacid mutatedXmer  position  \\\n",
       "0      DEVLGEPSQDILV                T                  1007   \n",
       "1      AAAAAAAAAAAAA                G                   126   \n",
       "\n",
       "  rightFlankingRegion  sizeLeftFlankingRegion  sizeRightFlankingRegion  \\\n",
       "0       DQTRLEATISPET                       0                        0   \n",
       "1       AAAAAAAAAAAAA                       0                        0   \n",
       "\n",
       "  wildTypeAminoacid wildTypeXmer  \n",
       "0                 I               \n",
       "1                 A               "
      ]
     },
     "execution_count": 8,
     "metadata": {},
     "output_type": "execute_result"
    }
   ],
   "source": [
    "mutation2 = Mutation(\n",
    "    position=126, \n",
    "    wild_type_aminoacid=\"A\", \n",
    "    mutated_aminoacid=\"G\", \n",
    "    left_flanking_region=\"AAAAAAAAAAAAA\", \n",
    "    right_flanking_region=\"AAAAAAAAAAAAA\")\n",
    "mutations_df = ModelConverter.objects2dataframe([mutation, mutation2])\n",
    "mutations_df"
   ]
  },
  {
   "cell_type": "markdown",
   "metadata": {},
   "source": [
    "Persist any Pandas object into a file:"
   ]
  },
  {
   "cell_type": "code",
   "execution_count": 9,
   "metadata": {},
   "outputs": [],
   "source": [
    "mutations_df.to_csv(\"my_mutations.csv\")"
   ]
  },
  {
   "cell_type": "markdown",
   "metadata": {},
   "source": [
    "And read it back:"
   ]
  },
  {
   "cell_type": "code",
   "execution_count": 10,
   "metadata": {},
   "outputs": [
    {
     "data": {
      "text/html": [
       "<div>\n",
       "<style scoped>\n",
       "    .dataframe tbody tr th:only-of-type {\n",
       "        vertical-align: middle;\n",
       "    }\n",
       "\n",
       "    .dataframe tbody tr th {\n",
       "        vertical-align: top;\n",
       "    }\n",
       "\n",
       "    .dataframe thead th {\n",
       "        text-align: right;\n",
       "    }\n",
       "</style>\n",
       "<table border=\"1\" class=\"dataframe\">\n",
       "  <thead>\n",
       "    <tr style=\"text-align: right;\">\n",
       "      <th></th>\n",
       "      <th>leftFlankingRegion</th>\n",
       "      <th>mutatedAminoacid</th>\n",
       "      <th>mutatedXmer</th>\n",
       "      <th>position</th>\n",
       "      <th>rightFlankingRegion</th>\n",
       "      <th>sizeLeftFlankingRegion</th>\n",
       "      <th>sizeRightFlankingRegion</th>\n",
       "      <th>wildTypeAminoacid</th>\n",
       "      <th>wildTypeXmer</th>\n",
       "    </tr>\n",
       "  </thead>\n",
       "  <tbody>\n",
       "    <tr>\n",
       "      <th>0</th>\n",
       "      <td>DEVLGEPSQDILV</td>\n",
       "      <td>T</td>\n",
       "      <td>NaN</td>\n",
       "      <td>1007</td>\n",
       "      <td>DQTRLEATISPET</td>\n",
       "      <td>0</td>\n",
       "      <td>0</td>\n",
       "      <td>I</td>\n",
       "      <td>NaN</td>\n",
       "    </tr>\n",
       "    <tr>\n",
       "      <th>1</th>\n",
       "      <td>AAAAAAAAAAAAA</td>\n",
       "      <td>G</td>\n",
       "      <td>NaN</td>\n",
       "      <td>126</td>\n",
       "      <td>AAAAAAAAAAAAA</td>\n",
       "      <td>0</td>\n",
       "      <td>0</td>\n",
       "      <td>A</td>\n",
       "      <td>NaN</td>\n",
       "    </tr>\n",
       "  </tbody>\n",
       "</table>\n",
       "</div>"
      ],
      "text/plain": [
       "  leftFlankingRegion mutatedAminoacid  mutatedXmer  position  \\\n",
       "0      DEVLGEPSQDILV                T          NaN      1007   \n",
       "1      AAAAAAAAAAAAA                G          NaN       126   \n",
       "\n",
       "  rightFlankingRegion  sizeLeftFlankingRegion  sizeRightFlankingRegion  \\\n",
       "0       DQTRLEATISPET                       0                        0   \n",
       "1       AAAAAAAAAAAAA                       0                        0   \n",
       "\n",
       "  wildTypeAminoacid  wildTypeXmer  \n",
       "0                 I           NaN  \n",
       "1                 A           NaN  "
      ]
     },
     "execution_count": 10,
     "metadata": {},
     "output_type": "execute_result"
    }
   ],
   "source": [
    "import pandas as pd\n",
    "mutations_df2 = pd.read_csv(\"my_mutations.csv\")\n",
    "mutations = []\n",
    "for _, row in mutations_df2.iterrows():\n",
    "    nested_dict = ModelConverter._flat_dict2nested_dict(flat_dict=row.to_dict())\n",
    "    mutations.append(Mutation().from_dict(row.to_dict()))\n",
    "ModelConverter.objects2dataframe(mutations)"
   ]
  },
  {
   "cell_type": "markdown",
   "metadata": {},
   "source": [
    "### Data validation\n",
    "\n",
    "The quality and cleanliness of data is of great importance to enable an effective data analysis and make the data machine readable. Clean data means that the data is valid and that it is in a normal and homogeneous form. The use of controlled vocabularies help to represent knowledge in a standardised way. This is a domain specific task, although it can be assisted with the right tools such as Pandas in Python or tidyverse in R, it requires domain expertise to perform it. NeoFox provides this domain expertise out of the box with its validation and normalization layers on top of its data models."
   ]
  },
  {
   "cell_type": "markdown",
   "metadata": {},
   "source": [
    "The data validation checks for missing required fields and shows relevant messages."
   ]
  },
  {
   "cell_type": "code",
   "execution_count": 11,
   "metadata": {},
   "outputs": [
    {
     "name": "stdout",
     "output_type": "stream",
     "text": [
      "Error message: Empty gene symbol\n"
     ]
    }
   ],
   "source": [
    "from neofox.model.conversion import ModelValidator\n",
    "from neofox.exceptions import NeofoxDataValidationException\n",
    "try:\n",
    "    ModelValidator.validate_neoantigen(neoantigen=Neoantigen())\n",
    "except NeofoxDataValidationException as e:\n",
    "    print(\"Error message: {}\".format(e))"
   ]
  },
  {
   "cell_type": "markdown",
   "metadata": {},
   "source": [
    "It also performs more domain specific validations such as aminoacids being valid according to the IUPAC standard aminoacid representation."
   ]
  },
  {
   "cell_type": "code",
   "execution_count": 12,
   "metadata": {},
   "outputs": [
    {
     "name": "stdout",
     "output_type": "stream",
     "text": [
      "Error message: Non existing aminoacid 1\n"
     ]
    }
   ],
   "source": [
    "try:\n",
    "    ModelValidator.validate_neoantigen(neoantigen=Neoantigen(\n",
    "        transcript=Transcript(\n",
    "            assembly=\"hg19\", \n",
    "            gene=\"VCAN\", \n",
    "            identifier=\"uc003kii.3\"\n",
    "        ),\n",
    "        mutation=Mutation(\n",
    "            position=126, \n",
    "            wild_type_aminoacid=\"A\", \n",
    "            mutated_aminoacid=\"G\", \n",
    "            left_flanking_region=\"123456\", # wrong aminoacid representation\n",
    "            right_flanking_region=\"AAAAAAAAAAAAA\")))\n",
    "except NeofoxDataValidationException as e:\n",
    "    print(\"Error message: {}\".format(e))"
   ]
  },
  {
   "cell_type": "markdown",
   "metadata": {},
   "source": [
    "The data normalization layer ensures the aminoacid representation is normalized into 1 letter IUPAC codes, although 3 letters IUPAC codes can be provided."
   ]
  },
  {
   "cell_type": "code",
   "execution_count": 13,
   "metadata": {},
   "outputs": [
    {
     "name": "stdout",
     "output_type": "stream",
     "text": [
      "{\n",
      "  \"position\": 126,\n",
      "  \"wildTypeXmer\": \"AAAAAAAAAAAAAAAAAAAAAAAAAAA\",\n",
      "  \"wildTypeAminoacid\": \"A\",\n",
      "  \"mutatedXmer\": \"AAAAAAAAAAAAAGAAAAAAAAAAAAA\",\n",
      "  \"mutatedAminoacid\": \"G\",\n",
      "  \"leftFlankingRegion\": \"AAAAAAAAAAAAA\",\n",
      "  \"sizeLeftFlankingRegion\": 13,\n",
      "  \"rightFlankingRegion\": \"AAAAAAAAAAAAA\",\n",
      "  \"sizeRightFlankingRegion\": 13\n",
      "}\n"
     ]
    }
   ],
   "source": [
    "valid_neoantigen = ModelValidator.validate_neoantigen(neoantigen=Neoantigen(\n",
    "    transcript=Transcript(\n",
    "        assembly=\"hg19\", \n",
    "        gene=\"VCAN\", \n",
    "        identifier=\"uc003kii.3\"\n",
    "    ),\n",
    "    mutation=Mutation(\n",
    "        position=126, \n",
    "        wild_type_aminoacid=\"Ala\", # 3 letter IUPAC code\n",
    "        mutated_aminoacid=\"Gly\", \n",
    "        left_flanking_region=\"AAAAAAAAAAAAA\",\n",
    "        right_flanking_region=\"AAAAAAAAAAAAA\")))\n",
    "\n",
    "print(valid_neoantigen.mutation.to_json(indent=2))"
   ]
  },
  {
   "cell_type": "markdown",
   "metadata": {},
   "source": [
    "The validation of a neoantigen fills in some redundant representations, see below the fields `wildTypeXmer`, `mutatedXmer`, `sizeLeftFlankingRegion` and `sizeRightFlankingRegion` that were never provided. After validation a unique neoantigen identifier is generated, this is a hash function of the normalized neoantigen representation, thus two different representations of the same neoantigen will share the same identifier after normalization."
   ]
  },
  {
   "cell_type": "code",
   "execution_count": 14,
   "metadata": {},
   "outputs": [
    {
     "name": "stdout",
     "output_type": "stream",
     "text": [
      "{\n",
      "  \"identifier\": \"jETwpX0R9iEiQz2SMpHkPQ==\",\n",
      "  \"patientIdentifier\": \"P123\",\n",
      "  \"transcript\": {\n",
      "    \"identifier\": \"uc003kii.3\",\n",
      "    \"assembly\": \"hg19\",\n",
      "    \"gene\": \"VCAN\"\n",
      "  },\n",
      "  \"mutation\": {\n",
      "    \"position\": 1007,\n",
      "    \"wildTypeXmer\": \"DEVLGEPSQDILVIDQTRLEATISPET\",\n",
      "    \"wildTypeAminoacid\": \"I\",\n",
      "    \"mutatedXmer\": \"DEVLGEPSQDILVTDQTRLEATISPET\",\n",
      "    \"mutatedAminoacid\": \"T\",\n",
      "    \"leftFlankingRegion\": \"DEVLGEPSQDILV\",\n",
      "    \"sizeLeftFlankingRegion\": 13,\n",
      "    \"rightFlankingRegion\": \"DQTRLEATISPET\",\n",
      "    \"sizeRightFlankingRegion\": 13\n",
      "  },\n",
      "  \"rnaExpression\": 0.519506894,\n",
      "  \"dnaVariantAlleleFrequency\": 0.294573643,\n",
      "  \"rnaVariantAlleleFrequency\": 0.857142857\n",
      "}\n"
     ]
    }
   ],
   "source": [
    "validated_neoantigen = ModelValidator.validate_neoantigen(neoantigen=neoantigen)\n",
    "print(validated_neoantigen.to_json(indent=2))"
   ]
  },
  {
   "cell_type": "markdown",
   "metadata": {},
   "source": [
    "The data normalization overrides incoherent redundant data."
   ]
  },
  {
   "cell_type": "code",
   "execution_count": 15,
   "metadata": {},
   "outputs": [
    {
     "name": "stdout",
     "output_type": "stream",
     "text": [
      "{\n",
      "  \"position\": 126,\n",
      "  \"wildTypeXmer\": \"AAAAAAAAAAAAAAAAAAAAAAAAAAA\",\n",
      "  \"wildTypeAminoacid\": \"A\",\n",
      "  \"mutatedXmer\": \"AAAAAAAAAAAAAGAAAAAAAAAAAAA\",\n",
      "  \"mutatedAminoacid\": \"G\",\n",
      "  \"leftFlankingRegion\": \"AAAAAAAAAAAAA\",\n",
      "  \"sizeLeftFlankingRegion\": 13,\n",
      "  \"rightFlankingRegion\": \"AAAAAAAAAAAAA\",\n",
      "  \"sizeRightFlankingRegion\": 13\n",
      "}\n"
     ]
    }
   ],
   "source": [
    "valid_neoantigen = ModelValidator.validate_neoantigen(neoantigen=Neoantigen(\n",
    "    transcript=Transcript(\n",
    "        assembly=\"hg19\", \n",
    "        gene=\"VCAN\", \n",
    "        identifier=\"uc003kii.3\"\n",
    "    ),\n",
    "    mutation=Mutation(\n",
    "        position=126, \n",
    "        wild_type_aminoacid=\"Ala\",\n",
    "        mutated_aminoacid=\"Gly\", \n",
    "        left_flanking_region=\"AAAAAAAAAAAAA\",\n",
    "        right_flanking_region=\"AAAAAAAAAAAAA\",\n",
    "        mutated_xmer=\"GGGGGGGGGGGGGGGGGGGGGGGGGGGGGGGGGG\"  # incoherent mutated xmer\n",
    "    )))\n",
    "\n",
    "print(valid_neoantigen.mutation.to_json(indent=2))"
   ]
  },
  {
   "cell_type": "markdown",
   "metadata": {},
   "source": [
    "## Patients\n",
    "\n",
    "The neoantigen annotation process needs some context information, in particular some data about the individual where the somatic mutation creating this neoantigen took place. This information includes mainly the HLA types of the patient which is key to compute the binding of the potential neoepitopes."
   ]
  },
  {
   "cell_type": "markdown",
   "metadata": {},
   "source": [
    "### Parse MHC I alleles into a normal representation\n",
    "\n",
    "The main complexity in the patient model is the representation of the MHC I and MHC II alleles present in the patient. The HLA alleles are typically represented using the nomenclature defined here http://hla.alleles.org, but de facto there is certain flexibility in the representation of HLA alleles in the community. NeoFox aims at normalizing the different HLA representations into a controlled representation agreeing with the HLA nomenclature. NeoFox only supports the classic MHC genes and although the provided HLA type is kept internally it only works with the first 4 digits.\n",
    "\n",
    "There are specific functions in NeoFox to parse a list of non normal HLA alleles into a normalized representation of the HLA alleles including information on the zygosity."
   ]
  },
  {
   "cell_type": "markdown",
   "metadata": {},
   "source": [
    "Parse a list of MHC I alleles. The data validation will ensure that the data is valid and it will infer the zygosity of the different genes. The data normalization layer will normalize the HLA representation into a the valid HLA nomenclature including the first 4 digits."
   ]
  },
  {
   "cell_type": "code",
   "execution_count": 16,
   "metadata": {},
   "outputs": [
    {
     "data": {
      "text/html": [
       "<div>\n",
       "<style scoped>\n",
       "    .dataframe tbody tr th:only-of-type {\n",
       "        vertical-align: middle;\n",
       "    }\n",
       "\n",
       "    .dataframe tbody tr th {\n",
       "        vertical-align: top;\n",
       "    }\n",
       "\n",
       "    .dataframe thead th {\n",
       "        text-align: right;\n",
       "    }\n",
       "</style>\n",
       "<table border=\"1\" class=\"dataframe\">\n",
       "  <thead>\n",
       "    <tr style=\"text-align: right;\">\n",
       "      <th></th>\n",
       "      <th>alleles</th>\n",
       "      <th>name</th>\n",
       "      <th>zygosity</th>\n",
       "    </tr>\n",
       "  </thead>\n",
       "  <tbody>\n",
       "    <tr>\n",
       "      <th>0</th>\n",
       "      <td>[{'fullName': 'HLA-A*01:01:02:03N', 'name': 'H...</td>\n",
       "      <td>A</td>\n",
       "      <td>HETEROZYGOUS</td>\n",
       "    </tr>\n",
       "    <tr>\n",
       "      <th>1</th>\n",
       "      <td>[{'fullName': 'HLA-B*01:01:02:03N', 'name': 'H...</td>\n",
       "      <td>B</td>\n",
       "      <td>HOMOZYGOUS</td>\n",
       "    </tr>\n",
       "    <tr>\n",
       "      <th>2</th>\n",
       "      <td>[{'fullName': 'HLA-C*01:01', 'name': 'HLA-C*01...</td>\n",
       "      <td>C</td>\n",
       "      <td>HEMIZYGOUS</td>\n",
       "    </tr>\n",
       "  </tbody>\n",
       "</table>\n",
       "</div>"
      ],
      "text/plain": [
       "                                             alleles name      zygosity\n",
       "0  [{'fullName': 'HLA-A*01:01:02:03N', 'name': 'H...    A  HETEROZYGOUS\n",
       "1  [{'fullName': 'HLA-B*01:01:02:03N', 'name': 'H...    B    HOMOZYGOUS\n",
       "2  [{'fullName': 'HLA-C*01:01', 'name': 'HLA-C*01...    C    HEMIZYGOUS"
      ]
     },
     "execution_count": 16,
     "metadata": {},
     "output_type": "execute_result"
    }
   ],
   "source": [
    "mhc1 = ModelConverter.parse_mhc1_alleles([\"HLA-A*01:01:02:03N\", \"HLA-A*01:02:02:03N\", \n",
    "                                          \"HLA-B*01:01:02:03N\", \"HLA-B*01:01:02:04N\", \n",
    "                                          \"HLA-C*01:01\"])\n",
    "ModelConverter.objects2dataframe(mhc1)"
   ]
  },
  {
   "cell_type": "code",
   "execution_count": 17,
   "metadata": {},
   "outputs": [
    {
     "data": {
      "text/html": [
       "<div>\n",
       "<style scoped>\n",
       "    .dataframe tbody tr th:only-of-type {\n",
       "        vertical-align: middle;\n",
       "    }\n",
       "\n",
       "    .dataframe tbody tr th {\n",
       "        vertical-align: top;\n",
       "    }\n",
       "\n",
       "    .dataframe thead th {\n",
       "        text-align: right;\n",
       "    }\n",
       "</style>\n",
       "<table border=\"1\" class=\"dataframe\">\n",
       "  <thead>\n",
       "    <tr style=\"text-align: right;\">\n",
       "      <th></th>\n",
       "      <th>fullName</th>\n",
       "      <th>gene</th>\n",
       "      <th>group</th>\n",
       "      <th>name</th>\n",
       "      <th>protein</th>\n",
       "    </tr>\n",
       "  </thead>\n",
       "  <tbody>\n",
       "    <tr>\n",
       "      <th>0</th>\n",
       "      <td>HLA-A*01:01:02:03N</td>\n",
       "      <td>A</td>\n",
       "      <td>01</td>\n",
       "      <td>HLA-A*01:01</td>\n",
       "      <td>01</td>\n",
       "    </tr>\n",
       "    <tr>\n",
       "      <th>1</th>\n",
       "      <td>HLA-A*01:02:02:03N</td>\n",
       "      <td>A</td>\n",
       "      <td>01</td>\n",
       "      <td>HLA-A*01:02</td>\n",
       "      <td>02</td>\n",
       "    </tr>\n",
       "    <tr>\n",
       "      <th>2</th>\n",
       "      <td>HLA-B*01:01:02:03N</td>\n",
       "      <td>B</td>\n",
       "      <td>01</td>\n",
       "      <td>HLA-B*01:01</td>\n",
       "      <td>01</td>\n",
       "    </tr>\n",
       "    <tr>\n",
       "      <th>3</th>\n",
       "      <td>HLA-C*01:01</td>\n",
       "      <td>C</td>\n",
       "      <td>01</td>\n",
       "      <td>HLA-C*01:01</td>\n",
       "      <td>01</td>\n",
       "    </tr>\n",
       "  </tbody>\n",
       "</table>\n",
       "</div>"
      ],
      "text/plain": [
       "             fullName gene group         name protein\n",
       "0  HLA-A*01:01:02:03N    A    01  HLA-A*01:01      01\n",
       "1  HLA-A*01:02:02:03N    A    01  HLA-A*01:02      02\n",
       "2  HLA-B*01:01:02:03N    B    01  HLA-B*01:01      01\n",
       "3         HLA-C*01:01    C    01  HLA-C*01:01      01"
      ]
     },
     "execution_count": 17,
     "metadata": {},
     "output_type": "execute_result"
    }
   ],
   "source": [
    "ModelConverter.objects2dataframe(mhc1[0].alleles + mhc1[1].alleles + mhc1[2].alleles)"
   ]
  },
  {
   "cell_type": "markdown",
   "metadata": {},
   "source": [
    "### Validation and normalization of MHC alleles\n",
    "\n",
    "The data validation layer checks that the provided allele representations are valid."
   ]
  },
  {
   "cell_type": "code",
   "execution_count": 18,
   "metadata": {},
   "outputs": [
    {
     "name": "stdout",
     "output_type": "stream",
     "text": [
      "Error message: Gene from MHC I allele is not valid: W\n"
     ]
    }
   ],
   "source": [
    "try:\n",
    "    ModelConverter.parse_mhc1_alleles([\"HLA-W*01:01:02:03N\"])  # bad gene W\n",
    "except NeofoxDataValidationException as e:\n",
    "    print (\"Error message: {}\".format(e))"
   ]
  },
  {
   "cell_type": "code",
   "execution_count": 19,
   "metadata": {},
   "outputs": [
    {
     "name": "stdout",
     "output_type": "stream",
     "text": [
      "Error message: Allele does not match HLA allele pattern HLA-A*first:second:02:03N\n"
     ]
    }
   ],
   "source": [
    "try:\n",
    "    ModelConverter.parse_mhc1_alleles([\"HLA-A*first:second:02:03N\"])  # bad allele representation\n",
    "except NeofoxDataValidationException as e:\n",
    "    print (\"Error message: {}\".format(e))"
   ]
  },
  {
   "cell_type": "code",
   "execution_count": 20,
   "metadata": {},
   "outputs": [
    {
     "name": "stdout",
     "output_type": "stream",
     "text": [
      "Error message: More than 2 alleles for gene A\n"
     ]
    }
   ],
   "source": [
    "try:\n",
    "    ModelConverter.parse_mhc1_alleles([\"HLA-A*01:02:02:03N\", \"HLA-A*01:03:02:03N\", \"HLA-A*01:04:02:03N\"])  # wrong number of alleles\n",
    "except NeofoxDataValidationException as e:\n",
    "    print (\"Error message: {}\".format(e))"
   ]
  },
  {
   "cell_type": "markdown",
   "metadata": {},
   "source": [
    "The data normalizatin layer ensures that different representations of the same HLA allele are equivalent in the internal representation."
   ]
  },
  {
   "cell_type": "code",
   "execution_count": 21,
   "metadata": {},
   "outputs": [
    {
     "data": {
      "text/plain": [
       "[Mhc1(name=<Mhc1Name.A: 0>, zygosity=<Zygosity.HOMOZYGOUS: 0>, alleles=[MhcAllele(full_name='HLA-A*01:02:02:03N', name='HLA-A*01:02', gene='A', group='01', protein='02')]),\n",
       " Mhc1(name=<Mhc1Name.B: 1>, zygosity=<Zygosity.HOMOZYGOUS: 0>, alleles=[MhcAllele(full_name='HLA-B*01:01', name='HLA-B*01:01', gene='B', group='01', protein='01')]),\n",
       " Mhc1(name=<Mhc1Name.C: 2>, zygosity=<Zygosity.LOSS: 3>, alleles=[])]"
      ]
     },
     "execution_count": 21,
     "metadata": {},
     "output_type": "execute_result"
    }
   ],
   "source": [
    "ModelConverter.parse_mhc1_alleles([\"HLA-A*01:02:02:03N\", \"HLA-A*01:02\", \"HLA-B*01:01\", \"HLA-B0101\"])"
   ]
  },
  {
   "cell_type": "markdown",
   "metadata": {},
   "source": [
    "### Parse MHC II alleles into a normal representation\n",
    "\n",
    "The model for MHC II alleles is more complex as we need to reflect all combinations of alpha and beta chains, but the data validation and normalization provided by NeoFox is fundamentally the same.\n",
    "\n",
    "Parse a list of MHC II alleles:"
   ]
  },
  {
   "cell_type": "code",
   "execution_count": 22,
   "metadata": {},
   "outputs": [],
   "source": [
    "mhc2 = ModelConverter.parse_mhc2_alleles([\"HLA-DPA1*01:01\", \"HLA-DPA1*01:02\", \"HLA-DPB1*01:01\", \"HLA-DPB1*01:01\", \n",
    "                                          \"HLA-DQA1*01:01\", \"HLA-DQA1*01:01\", \"HLA-DQB1*01:01\", \"HLA-DQB1*01:01\", \n",
    "                                          \"HLA-DRB1*01:01\", \"HLA-DRB1*01:01\"])"
   ]
  },
  {
   "cell_type": "markdown",
   "metadata": {},
   "source": [
    "An MHC II gene with an heteroyzgous alpha chain and an homozygous beta chain has two isoforms"
   ]
  },
  {
   "cell_type": "code",
   "execution_count": 23,
   "metadata": {},
   "outputs": [
    {
     "name": "stdout",
     "output_type": "stream",
     "text": [
      "{\n",
      "  \"name\": \"DP\",\n",
      "  \"genes\": [\n",
      "    {\n",
      "      \"name\": \"DPA1\",\n",
      "      \"zygosity\": \"HETEROZYGOUS\",\n",
      "      \"alleles\": [\n",
      "        {\n",
      "          \"fullName\": \"HLA-DPA1*01:01\",\n",
      "          \"name\": \"HLA-DPA1*01:01\",\n",
      "          \"gene\": \"DPA1\",\n",
      "          \"group\": \"01\",\n",
      "          \"protein\": \"01\"\n",
      "        },\n",
      "        {\n",
      "          \"fullName\": \"HLA-DPA1*01:02\",\n",
      "          \"name\": \"HLA-DPA1*01:02\",\n",
      "          \"gene\": \"DPA1\",\n",
      "          \"group\": \"01\",\n",
      "          \"protein\": \"02\"\n",
      "        }\n",
      "      ]\n",
      "    },\n",
      "    {\n",
      "      \"name\": \"DPB1\",\n",
      "      \"alleles\": [\n",
      "        {\n",
      "          \"fullName\": \"HLA-DPB1*01:01\",\n",
      "          \"name\": \"HLA-DPB1*01:01\",\n",
      "          \"gene\": \"DPB1\",\n",
      "          \"group\": \"01\",\n",
      "          \"protein\": \"01\"\n",
      "        }\n",
      "      ]\n",
      "    }\n",
      "  ],\n",
      "  \"isoforms\": [\n",
      "    {\n",
      "      \"name\": \"HLA-DPA1*01:01-DPB1*01:01\",\n",
      "      \"alphaChain\": {\n",
      "        \"fullName\": \"HLA-DPA1*01:01\",\n",
      "        \"name\": \"HLA-DPA1*01:01\",\n",
      "        \"gene\": \"DPA1\",\n",
      "        \"group\": \"01\",\n",
      "        \"protein\": \"01\"\n",
      "      },\n",
      "      \"betaChain\": {\n",
      "        \"fullName\": \"HLA-DPB1*01:01\",\n",
      "        \"name\": \"HLA-DPB1*01:01\",\n",
      "        \"gene\": \"DPB1\",\n",
      "        \"group\": \"01\",\n",
      "        \"protein\": \"01\"\n",
      "      }\n",
      "    },\n",
      "    {\n",
      "      \"name\": \"HLA-DPA1*01:02-DPB1*01:01\",\n",
      "      \"alphaChain\": {\n",
      "        \"fullName\": \"HLA-DPA1*01:02\",\n",
      "        \"name\": \"HLA-DPA1*01:02\",\n",
      "        \"gene\": \"DPA1\",\n",
      "        \"group\": \"01\",\n",
      "        \"protein\": \"02\"\n",
      "      },\n",
      "      \"betaChain\": {\n",
      "        \"fullName\": \"HLA-DPB1*01:01\",\n",
      "        \"name\": \"HLA-DPB1*01:01\",\n",
      "        \"gene\": \"DPB1\",\n",
      "        \"group\": \"01\",\n",
      "        \"protein\": \"01\"\n",
      "      }\n",
      "    }\n",
      "  ]\n",
      "}\n"
     ]
    }
   ],
   "source": [
    "print(mhc2[1].to_json(indent=2))"
   ]
  },
  {
   "cell_type": "markdown",
   "metadata": {},
   "source": [
    "An MHC II gene with an homozygous alpha and beta chains has a single isoform."
   ]
  },
  {
   "cell_type": "code",
   "execution_count": 24,
   "metadata": {},
   "outputs": [
    {
     "name": "stdout",
     "output_type": "stream",
     "text": [
      "{\n",
      "  \"name\": \"DQ\",\n",
      "  \"genes\": [\n",
      "    {\n",
      "      \"name\": \"DQA1\",\n",
      "      \"alleles\": [\n",
      "        {\n",
      "          \"fullName\": \"HLA-DQA1*01:01\",\n",
      "          \"name\": \"HLA-DQA1*01:01\",\n",
      "          \"gene\": \"DQA1\",\n",
      "          \"group\": \"01\",\n",
      "          \"protein\": \"01\"\n",
      "        }\n",
      "      ]\n",
      "    },\n",
      "    {\n",
      "      \"name\": \"DQB1\",\n",
      "      \"alleles\": [\n",
      "        {\n",
      "          \"fullName\": \"HLA-DQB1*01:01\",\n",
      "          \"name\": \"HLA-DQB1*01:01\",\n",
      "          \"gene\": \"DQB1\",\n",
      "          \"group\": \"01\",\n",
      "          \"protein\": \"01\"\n",
      "        }\n",
      "      ]\n",
      "    }\n",
      "  ],\n",
      "  \"isoforms\": [\n",
      "    {\n",
      "      \"name\": \"HLA-DQA1*01:01-DQB1*01:01\",\n",
      "      \"alphaChain\": {\n",
      "        \"fullName\": \"HLA-DQA1*01:01\",\n",
      "        \"name\": \"HLA-DQA1*01:01\",\n",
      "        \"gene\": \"DQA1\",\n",
      "        \"group\": \"01\",\n",
      "        \"protein\": \"01\"\n",
      "      },\n",
      "      \"betaChain\": {\n",
      "        \"fullName\": \"HLA-DQB1*01:01\",\n",
      "        \"name\": \"HLA-DQB1*01:01\",\n",
      "        \"gene\": \"DQB1\",\n",
      "        \"group\": \"01\",\n",
      "        \"protein\": \"01\"\n",
      "      }\n",
      "    }\n",
      "  ]\n",
      "}\n"
     ]
    }
   ],
   "source": [
    "print(mhc2[2].to_json(indent=2))"
   ]
  },
  {
   "cell_type": "markdown",
   "metadata": {},
   "source": [
    "The MHC II DRB gene is a special case with no alpha chain represented as this is not variable."
   ]
  },
  {
   "cell_type": "code",
   "execution_count": 25,
   "metadata": {},
   "outputs": [
    {
     "name": "stdout",
     "output_type": "stream",
     "text": [
      "{\n",
      "  \"genes\": [\n",
      "    {\n",
      "      \"alleles\": [\n",
      "        {\n",
      "          \"fullName\": \"HLA-DRB1*01:01\",\n",
      "          \"name\": \"HLA-DRB1*01:01\",\n",
      "          \"gene\": \"DRB1\",\n",
      "          \"group\": \"01\",\n",
      "          \"protein\": \"01\"\n",
      "        }\n",
      "      ]\n",
      "    }\n",
      "  ],\n",
      "  \"isoforms\": [\n",
      "    {\n",
      "      \"name\": \"HLA-DRB1*01:01\",\n",
      "      \"betaChain\": {\n",
      "        \"fullName\": \"HLA-DRB1*01:01\",\n",
      "        \"name\": \"HLA-DRB1*01:01\",\n",
      "        \"gene\": \"DRB1\",\n",
      "        \"group\": \"01\",\n",
      "        \"protein\": \"01\"\n",
      "      }\n",
      "    }\n",
      "  ]\n",
      "}\n"
     ]
    }
   ],
   "source": [
    "print(mhc2[0].to_json(indent=2))"
   ]
  },
  {
   "cell_type": "markdown",
   "metadata": {},
   "source": [
    "Beware that incomplete MHC II molecules missing one of the chains will have no isoforms and thus no binding will be computed on them. In the case below the beta chain allele for the DP gene is missing."
   ]
  },
  {
   "cell_type": "code",
   "execution_count": 26,
   "metadata": {},
   "outputs": [
    {
     "name": "stdout",
     "output_type": "stream",
     "text": [
      "{\n",
      "  \"name\": \"DP\",\n",
      "  \"genes\": [\n",
      "    {\n",
      "      \"name\": \"DPA1\",\n",
      "      \"zygosity\": \"HETEROZYGOUS\",\n",
      "      \"alleles\": [\n",
      "        {\n",
      "          \"fullName\": \"HLA-DPA1*01:01\",\n",
      "          \"name\": \"HLA-DPA1*01:01\",\n",
      "          \"gene\": \"DPA1\",\n",
      "          \"group\": \"01\",\n",
      "          \"protein\": \"01\"\n",
      "        },\n",
      "        {\n",
      "          \"fullName\": \"HLA-DPA1*01:02\",\n",
      "          \"name\": \"HLA-DPA1*01:02\",\n",
      "          \"gene\": \"DPA1\",\n",
      "          \"group\": \"01\",\n",
      "          \"protein\": \"02\"\n",
      "        }\n",
      "      ]\n",
      "    },\n",
      "    {\n",
      "      \"name\": \"DPB1\",\n",
      "      \"zygosity\": \"LOSS\"\n",
      "    }\n",
      "  ]\n",
      "}\n"
     ]
    }
   ],
   "source": [
    "mhc2 = ModelConverter.parse_mhc2_alleles([\"HLA-DPA1*01:01\", \"HLA-DPA1*01:02\"])\n",
    "print(mhc2[1].to_json(indent=2))"
   ]
  },
  {
   "cell_type": "markdown",
   "metadata": {},
   "source": [
    "### Create a patient"
   ]
  },
  {
   "cell_type": "code",
   "execution_count": 27,
   "metadata": {},
   "outputs": [
    {
     "data": {
      "text/plain": [
       "identifier                                                       P123\n",
       "is_rna_available                                                 True\n",
       "mhc1                [{'name': 'A', 'zygosity': 'HETEROZYGOUS', 'al...\n",
       "mhc2                [{'name': 'DR', 'genes': [{'name': 'DRB1', 'zy...\n",
       "tumor_type                                                      NSCLC\n",
       "Name: 0, dtype: object"
      ]
     },
     "execution_count": 27,
     "metadata": {},
     "output_type": "execute_result"
    }
   ],
   "source": [
    "from neofox.model.neoantigen import Patient\n",
    "\n",
    "\n",
    "mhc1 = ModelConverter.parse_mhc1_alleles([\"HLA-A*01:01:02:03N\", \"HLA-A*01:02:02:03N\", \n",
    "                                          \"HLA-B*01:01:02:03N\", \"HLA-B*01:01:02:04N\", \n",
    "                                          \"HLA-C*01:01\"])\n",
    "mhc2 = ModelConverter.parse_mhc2_alleles([\"HLA-DPA1*01:01\", \"HLA-DPA1*01:02\", \"HLA-DPB1*01:01\", \"HLA-DPB1*01:01\", \n",
    "                                          \"HLA-DQA1*01:01\", \"HLA-DQA1*01:01\", \"HLA-DQB1*01:01\", \"HLA-DQB1*01:01\", \n",
    "                                          \"HLA-DRB1*01:01\", \"HLA-DRB1*01:01\"])\n",
    "patient = Patient(\n",
    "    identifier=\"P123\", \n",
    "    is_rna_available=True, \n",
    "    tumor_type=\"NSCLC\", \n",
    "    mhc1=mhc1,\n",
    "    mhc2=mhc2\n",
    ")\n",
    "ModelConverter.object2series(patient)"
   ]
  },
  {
   "cell_type": "markdown",
   "metadata": {},
   "source": [
    "### Validate a patient"
   ]
  },
  {
   "cell_type": "code",
   "execution_count": 28,
   "metadata": {},
   "outputs": [],
   "source": [
    "validated_patient = ModelValidator.validate_patient(patient)"
   ]
  },
  {
   "cell_type": "markdown",
   "metadata": {},
   "source": [
    "## Run Neofox"
   ]
  },
  {
   "cell_type": "markdown",
   "metadata": {},
   "source": [
    "### Parse input data from a file\n",
    "\n",
    "Although we could create the data objects manually as shown above, for convenience it is useful to store the data in tabular format. Here we show how to parse the neoantigens and patients from tabular files. "
   ]
  },
  {
   "cell_type": "markdown",
   "metadata": {},
   "source": [
    "The tabular file for neoantigens should look as follows:"
   ]
  },
  {
   "cell_type": "code",
   "execution_count": 29,
   "metadata": {},
   "outputs": [
    {
     "data": {
      "text/html": [
       "<div>\n",
       "<style scoped>\n",
       "    .dataframe tbody tr th:only-of-type {\n",
       "        vertical-align: middle;\n",
       "    }\n",
       "\n",
       "    .dataframe tbody tr th {\n",
       "        vertical-align: top;\n",
       "    }\n",
       "\n",
       "    .dataframe thead th {\n",
       "        text-align: right;\n",
       "    }\n",
       "</style>\n",
       "<table border=\"1\" class=\"dataframe\">\n",
       "  <thead>\n",
       "    <tr style=\"text-align: right;\">\n",
       "      <th></th>\n",
       "      <th>transcript.assembly</th>\n",
       "      <th>transcript.gene</th>\n",
       "      <th>transcript.identifier</th>\n",
       "      <th>mutation.leftFlankingRegion</th>\n",
       "      <th>mutation.mutatedAminoacid</th>\n",
       "      <th>mutation.position</th>\n",
       "      <th>mutation.rightFlankingRegion</th>\n",
       "      <th>mutation.wildTypeAminoacid</th>\n",
       "      <th>patientIdentifier</th>\n",
       "    </tr>\n",
       "  </thead>\n",
       "  <tbody>\n",
       "    <tr>\n",
       "      <th>0</th>\n",
       "      <td>hg19</td>\n",
       "      <td>VCAN</td>\n",
       "      <td>uc003kii.3</td>\n",
       "      <td>DEVLGEPSQDILV</td>\n",
       "      <td>T</td>\n",
       "      <td>1007</td>\n",
       "      <td>DQTRLEATISPET</td>\n",
       "      <td>I</td>\n",
       "      <td>Ptx 27</td>\n",
       "    </tr>\n",
       "    <tr>\n",
       "      <th>1</th>\n",
       "      <td>hg19</td>\n",
       "      <td>DCST2</td>\n",
       "      <td>uc001fgm.3</td>\n",
       "      <td>RTNLLAALHRSVR</td>\n",
       "      <td>W</td>\n",
       "      <td>564</td>\n",
       "      <td>RAADQGHRSAFLV</td>\n",
       "      <td>R</td>\n",
       "      <td>Ptx 24</td>\n",
       "    </tr>\n",
       "    <tr>\n",
       "      <th>2</th>\n",
       "      <td>hg19</td>\n",
       "      <td>NRAS</td>\n",
       "      <td>uc009wgu.3</td>\n",
       "      <td>MTEYKLVVVGA</td>\n",
       "      <td>C</td>\n",
       "      <td>12</td>\n",
       "      <td>GVGKSALTIQLIQ</td>\n",
       "      <td>G</td>\n",
       "      <td>Ptx 28</td>\n",
       "    </tr>\n",
       "    <tr>\n",
       "      <th>3</th>\n",
       "      <td>hg19</td>\n",
       "      <td>CEP350</td>\n",
       "      <td>uc001gnt.3</td>\n",
       "      <td>QTDSSSSDMQACS</td>\n",
       "      <td>K</td>\n",
       "      <td>968</td>\n",
       "      <td>DKAKISLGSSIDS</td>\n",
       "      <td>Q</td>\n",
       "      <td>Ptx 63</td>\n",
       "    </tr>\n",
       "    <tr>\n",
       "      <th>4</th>\n",
       "      <td>hg19</td>\n",
       "      <td>CPPED1</td>\n",
       "      <td>uc002dca.4</td>\n",
       "      <td>DRAIPLVLVSGNH</td>\n",
       "      <td>Y</td>\n",
       "      <td>129</td>\n",
       "      <td>IGNTPTAETVEEF</td>\n",
       "      <td>D</td>\n",
       "      <td>Ptx 77</td>\n",
       "    </tr>\n",
       "    <tr>\n",
       "      <th>5</th>\n",
       "      <td>hg19</td>\n",
       "      <td>CXorf26</td>\n",
       "      <td>uc004ecl.1</td>\n",
       "      <td>YNKAVYISVQDKE</td>\n",
       "      <td>E</td>\n",
       "      <td>167</td>\n",
       "      <td>EKGVNNGGEKRAD</td>\n",
       "      <td>G</td>\n",
       "      <td>Ptx 117</td>\n",
       "    </tr>\n",
       "    <tr>\n",
       "      <th>6</th>\n",
       "      <td>hg19</td>\n",
       "      <td>IGSF9B</td>\n",
       "      <td>uc001qgx.4</td>\n",
       "      <td>ASTHLTVIGTSPH</td>\n",
       "      <td>V</td>\n",
       "      <td>512</td>\n",
       "      <td>PGSVRVQVSMTTA</td>\n",
       "      <td>A</td>\n",
       "      <td>Ptx 110</td>\n",
       "    </tr>\n",
       "    <tr>\n",
       "      <th>7</th>\n",
       "      <td>hg19</td>\n",
       "      <td>HEATR5A</td>\n",
       "      <td>uc001wrf.4</td>\n",
       "      <td>TRRDEKSHPFTNP</td>\n",
       "      <td>Q</td>\n",
       "      <td>1222</td>\n",
       "      <td>WATRVFAAECVCR</td>\n",
       "      <td>R</td>\n",
       "      <td>Ptx 26</td>\n",
       "    </tr>\n",
       "    <tr>\n",
       "      <th>8</th>\n",
       "      <td>hg19</td>\n",
       "      <td>CHRDL2</td>\n",
       "      <td>uc001ovh.3</td>\n",
       "      <td>ARPDMFCLFHGKR</td>\n",
       "      <td>H</td>\n",
       "      <td>40</td>\n",
       "      <td>FPGESWHPYLEPQ</td>\n",
       "      <td>Y</td>\n",
       "      <td>Ptx 77</td>\n",
       "    </tr>\n",
       "  </tbody>\n",
       "</table>\n",
       "</div>"
      ],
      "text/plain": [
       "  transcript.assembly transcript.gene transcript.identifier  \\\n",
       "0                hg19            VCAN            uc003kii.3   \n",
       "1                hg19           DCST2            uc001fgm.3   \n",
       "2                hg19            NRAS            uc009wgu.3   \n",
       "3                hg19          CEP350            uc001gnt.3   \n",
       "4                hg19          CPPED1            uc002dca.4   \n",
       "5                hg19         CXorf26            uc004ecl.1   \n",
       "6                hg19          IGSF9B            uc001qgx.4   \n",
       "7                hg19         HEATR5A            uc001wrf.4   \n",
       "8                hg19          CHRDL2            uc001ovh.3   \n",
       "\n",
       "  mutation.leftFlankingRegion mutation.mutatedAminoacid  mutation.position  \\\n",
       "0               DEVLGEPSQDILV                         T               1007   \n",
       "1               RTNLLAALHRSVR                         W                564   \n",
       "2                 MTEYKLVVVGA                         C                 12   \n",
       "3               QTDSSSSDMQACS                         K                968   \n",
       "4               DRAIPLVLVSGNH                         Y                129   \n",
       "5               YNKAVYISVQDKE                         E                167   \n",
       "6               ASTHLTVIGTSPH                         V                512   \n",
       "7               TRRDEKSHPFTNP                         Q               1222   \n",
       "8               ARPDMFCLFHGKR                         H                 40   \n",
       "\n",
       "  mutation.rightFlankingRegion mutation.wildTypeAminoacid patientIdentifier  \n",
       "0                DQTRLEATISPET                          I            Ptx 27  \n",
       "1                RAADQGHRSAFLV                          R            Ptx 24  \n",
       "2                GVGKSALTIQLIQ                          G            Ptx 28  \n",
       "3                DKAKISLGSSIDS                          Q            Ptx 63  \n",
       "4                IGNTPTAETVEEF                          D            Ptx 77  \n",
       "5                EKGVNNGGEKRAD                          G           Ptx 117  \n",
       "6                PGSVRVQVSMTTA                          A           Ptx 110  \n",
       "7                WATRVFAAECVCR                          R            Ptx 26  \n",
       "8                FPGESWHPYLEPQ                          Y            Ptx 77  "
      ]
     },
     "execution_count": 29,
     "metadata": {},
     "output_type": "execute_result"
    }
   ],
   "source": [
    "pd.read_csv(\"test_model_file.txt\", sep=\"\\t\")"
   ]
  },
  {
   "cell_type": "markdown",
   "metadata": {},
   "source": [
    "Parse it into the model objects as follows:"
   ]
  },
  {
   "cell_type": "code",
   "execution_count": 30,
   "metadata": {},
   "outputs": [],
   "source": [
    "neoantigens, external_annotations = ModelConverter.parse_neoantigens_file(\"test_model_file.txt\")"
   ]
  },
  {
   "cell_type": "markdown",
   "metadata": {},
   "source": [
    "The tabular file for patients should look as follows:"
   ]
  },
  {
   "cell_type": "code",
   "execution_count": 31,
   "metadata": {},
   "outputs": [
    {
     "data": {
      "text/html": [
       "<div>\n",
       "<style scoped>\n",
       "    .dataframe tbody tr th:only-of-type {\n",
       "        vertical-align: middle;\n",
       "    }\n",
       "\n",
       "    .dataframe tbody tr th {\n",
       "        vertical-align: top;\n",
       "    }\n",
       "\n",
       "    .dataframe thead th {\n",
       "        text-align: right;\n",
       "    }\n",
       "</style>\n",
       "<table border=\"1\" class=\"dataframe\">\n",
       "  <thead>\n",
       "    <tr style=\"text-align: right;\">\n",
       "      <th></th>\n",
       "      <th>identifier</th>\n",
       "      <th>mhcIAlleles</th>\n",
       "      <th>mhcIIAlleles</th>\n",
       "      <th>isRnaAvailable</th>\n",
       "      <th>tumorType</th>\n",
       "    </tr>\n",
       "  </thead>\n",
       "  <tbody>\n",
       "    <tr>\n",
       "      <th>0</th>\n",
       "      <td>Ptx 27</td>\n",
       "      <td>HLA-A*03:01,HLA-A*29:02,HLA-B*07:02,HLA-B*44:0...</td>\n",
       "      <td>HLA-DRB1*04:02,HLA-DRB1*08:01,HLA-DQA1*03:01,H...</td>\n",
       "      <td>True</td>\n",
       "      <td>HNSC</td>\n",
       "    </tr>\n",
       "    <tr>\n",
       "      <th>1</th>\n",
       "      <td>Ptx 24</td>\n",
       "      <td>HLA-A*03:01,HLA-A*29:02,HLA-B*07:02,HLA-B*44:0...</td>\n",
       "      <td>HLA-DRB1*04:02,HLA-DRB1*08:01,HLA-DQA1*03:01,H...</td>\n",
       "      <td>True</td>\n",
       "      <td>HNSC</td>\n",
       "    </tr>\n",
       "    <tr>\n",
       "      <th>2</th>\n",
       "      <td>Ptx 28</td>\n",
       "      <td>HLA-A*03:01,HLA-A*29:02,HLA-B*07:02,HLA-B*44:0...</td>\n",
       "      <td>HLA-DRB1*04:02,HLA-DRB1*08:01,HLA-DQA1*03:01,H...</td>\n",
       "      <td>True</td>\n",
       "      <td>HNSC</td>\n",
       "    </tr>\n",
       "    <tr>\n",
       "      <th>3</th>\n",
       "      <td>Ptx 63</td>\n",
       "      <td>HLA-A*03:01,HLA-A*29:02,HLA-B*07:02,HLA-B*44:0...</td>\n",
       "      <td>HLA-DRB1*04:02,HLA-DRB1*08:01,HLA-DQA1*03:01,H...</td>\n",
       "      <td>True</td>\n",
       "      <td>HNSC</td>\n",
       "    </tr>\n",
       "    <tr>\n",
       "      <th>4</th>\n",
       "      <td>Ptx 77</td>\n",
       "      <td>HLA-A*03:01,HLA-A*29:02,HLA-B*07:02,HLA-B*44:0...</td>\n",
       "      <td>HLA-DRB1*04:02,HLA-DRB1*08:01,HLA-DQA1*03:01,H...</td>\n",
       "      <td>True</td>\n",
       "      <td>HNSC</td>\n",
       "    </tr>\n",
       "    <tr>\n",
       "      <th>5</th>\n",
       "      <td>Ptx 117</td>\n",
       "      <td>HLA-A*03:01,HLA-A*29:02,HLA-B*07:02,HLA-B*44:0...</td>\n",
       "      <td>HLA-DRB1*04:02,HLA-DRB1*08:01,HLA-DQA1*03:01,H...</td>\n",
       "      <td>True</td>\n",
       "      <td>HNSC</td>\n",
       "    </tr>\n",
       "    <tr>\n",
       "      <th>6</th>\n",
       "      <td>Ptx 110</td>\n",
       "      <td>HLA-A*03:01,HLA-A*29:02,HLA-B*07:02,HLA-B*44:0...</td>\n",
       "      <td>HLA-DRB1*04:02,HLA-DRB1*08:01,HLA-DQA1*03:01,H...</td>\n",
       "      <td>True</td>\n",
       "      <td>HNSC</td>\n",
       "    </tr>\n",
       "    <tr>\n",
       "      <th>7</th>\n",
       "      <td>Ptx 26</td>\n",
       "      <td>HLA-A*03:01,HLA-A*29:02,HLA-B*07:02,HLA-B*44:0...</td>\n",
       "      <td>HLA-DRB1*04:02,HLA-DRB1*08:01,HLA-DQA1*03:01,H...</td>\n",
       "      <td>True</td>\n",
       "      <td>HNSC</td>\n",
       "    </tr>\n",
       "  </tbody>\n",
       "</table>\n",
       "</div>"
      ],
      "text/plain": [
       "  identifier                                        mhcIAlleles  \\\n",
       "0     Ptx 27  HLA-A*03:01,HLA-A*29:02,HLA-B*07:02,HLA-B*44:0...   \n",
       "1     Ptx 24  HLA-A*03:01,HLA-A*29:02,HLA-B*07:02,HLA-B*44:0...   \n",
       "2     Ptx 28  HLA-A*03:01,HLA-A*29:02,HLA-B*07:02,HLA-B*44:0...   \n",
       "3     Ptx 63  HLA-A*03:01,HLA-A*29:02,HLA-B*07:02,HLA-B*44:0...   \n",
       "4     Ptx 77  HLA-A*03:01,HLA-A*29:02,HLA-B*07:02,HLA-B*44:0...   \n",
       "5    Ptx 117  HLA-A*03:01,HLA-A*29:02,HLA-B*07:02,HLA-B*44:0...   \n",
       "6    Ptx 110  HLA-A*03:01,HLA-A*29:02,HLA-B*07:02,HLA-B*44:0...   \n",
       "7     Ptx 26  HLA-A*03:01,HLA-A*29:02,HLA-B*07:02,HLA-B*44:0...   \n",
       "\n",
       "                                        mhcIIAlleles  isRnaAvailable tumorType  \n",
       "0  HLA-DRB1*04:02,HLA-DRB1*08:01,HLA-DQA1*03:01,H...            True      HNSC  \n",
       "1  HLA-DRB1*04:02,HLA-DRB1*08:01,HLA-DQA1*03:01,H...            True      HNSC  \n",
       "2  HLA-DRB1*04:02,HLA-DRB1*08:01,HLA-DQA1*03:01,H...            True      HNSC  \n",
       "3  HLA-DRB1*04:02,HLA-DRB1*08:01,HLA-DQA1*03:01,H...            True      HNSC  \n",
       "4  HLA-DRB1*04:02,HLA-DRB1*08:01,HLA-DQA1*03:01,H...            True      HNSC  \n",
       "5  HLA-DRB1*04:02,HLA-DRB1*08:01,HLA-DQA1*03:01,H...            True      HNSC  \n",
       "6  HLA-DRB1*04:02,HLA-DRB1*08:01,HLA-DQA1*03:01,H...            True      HNSC  \n",
       "7  HLA-DRB1*04:02,HLA-DRB1*08:01,HLA-DQA1*03:01,H...            True      HNSC  "
      ]
     },
     "execution_count": 31,
     "metadata": {},
     "output_type": "execute_result"
    }
   ],
   "source": [
    "pd.read_csv(\"test_patient_file.txt\", sep=\"\\t\")"
   ]
  },
  {
   "cell_type": "markdown",
   "metadata": {},
   "source": [
    "Parse the patients into the model objects as follows:"
   ]
  },
  {
   "cell_type": "code",
   "execution_count": 32,
   "metadata": {},
   "outputs": [],
   "source": [
    "patients = ModelConverter.parse_patients_file(\"test_patient_file.txt\")"
   ]
  },
  {
   "cell_type": "markdown",
   "metadata": {},
   "source": [
    "### Annotate your neoantigens\n",
    "\n",
    "Running NeoFox requires the configuration its configuration through a number of environment variables, this is described in detail elsewhere in the documentation.\n"
   ]
  },
  {
   "cell_type": "code",
   "execution_count": 33,
   "metadata": {},
   "outputs": [
    {
     "name": "stderr",
     "output_type": "stream",
     "text": [
      "[I 201118 11:23:32 neofox:85] Loading data...\n",
      "[I 201118 11:23:32 references:147] Reference genome folder: /home/priesgo/neofox_install/reference_data_9/\n",
      "[I 201118 11:23:32 references:148] Resources\n",
      "[I 201118 11:23:32 references:150] /home/priesgo/neofox_install/reference_data_9/netmhc2pan_available_alleles.txt\n",
      "[I 201118 11:23:32 references:150] /home/priesgo/neofox_install/reference_data_9/netmhcpan_available_alleles.txt\n",
      "[I 201118 11:23:32 references:150] /home/priesgo/neofox_install/reference_data_9/iedb\n",
      "[I 201118 11:23:32 references:150] /home/priesgo/neofox_install/reference_data_9/proteome_db\n",
      "[I 201118 11:23:32 references:150] /home/priesgo/neofox_install/reference_data_9/proteome_db/Homo_sapiens.fa\n",
      "[I 201118 11:23:32 references:150] /home/priesgo/neofox_install/reference_data_9/iedb/IEDB.fasta\n",
      "[I 201118 11:23:32 references:150] /home/priesgo/neofox_install/reference_data_9/iedb/iedb_blast_db.phr\n",
      "[I 201118 11:23:32 references:150] /home/priesgo/neofox_install/reference_data_9/iedb/iedb_blast_db.pin\n",
      "[I 201118 11:23:32 references:150] /home/priesgo/neofox_install/reference_data_9/iedb/iedb_blast_db.psq\n",
      "[I 201118 11:23:32 references:150] /home/priesgo/neofox_install/reference_data_9/proteome_db/Homo_sapiens.fa\n",
      "[I 201118 11:23:32 references:150] /home/priesgo/neofox_install/reference_data_9/proteome_db/homo_sapiens.phr\n",
      "[I 201118 11:23:32 references:150] /home/priesgo/neofox_install/reference_data_9/proteome_db/homo_sapiens.pin\n",
      "[I 201118 11:23:32 references:150] /home/priesgo/neofox_install/reference_data_9/proteome_db/homo_sapiens.pog\n",
      "[I 201118 11:23:32 references:150] /home/priesgo/neofox_install/reference_data_9/proteome_db/homo_sapiens.psd\n",
      "[I 201118 11:23:32 references:150] /home/priesgo/neofox_install/reference_data_9/proteome_db/homo_sapiens.psi\n",
      "[I 201118 11:23:32 references:150] /home/priesgo/neofox_install/reference_data_9/proteome_db/homo_sapiens.psq\n",
      "/home/priesgo/src/venv-jupyter/lib/python3.6/site-packages/sklearn/base.py:253: UserWarning: Trying to unpickle estimator DecisionTreeClassifier from version 0.19.0 when using version 0.20.3. This might lead to breaking code or invalid results. Use at your own risk.\n",
      "  UserWarning)\n",
      "/home/priesgo/src/venv-jupyter/lib/python3.6/site-packages/sklearn/base.py:253: UserWarning: Trying to unpickle estimator RandomForestClassifier from version 0.19.0 when using version 0.20.3. This might lead to breaking code or invalid results. Use at your own risk.\n",
      "  UserWarning)\n",
      "[I 201118 11:23:32 neofox:71] Data loaded\n",
      "[I 201118 11:23:32 neofox:114] Starting NeoFox annotations...\n",
      "/home/priesgo/src/venv-jupyter/lib/python3.6/site-packages/distributed/node.py:155: UserWarning: Port 8787 is already in use.\n",
      "Perhaps you already have a cluster running?\n",
      "Hosting the HTTP server on port 37671 instead\n",
      "  http_address[\"port\"], self.http_server.port\n",
      "/home/priesgo/src/venv-jupyter/lib/python3.6/site-packages/distributed/worker.py:3382: UserWarning: Large object of size 13.24 MB detected in task graph: \n",
      "  (Neoantigen(identifier='ZHF7I5wQrRBOFIiwJUz8cA==', ... x7fb00f0942b0>)\n",
      "Consider scattering large objects ahead of time\n",
      "with client.scatter to reduce scheduler burden and \n",
      "keep data on workers\n",
      "\n",
      "    future = client.submit(func, big_data)    # bad\n",
      "\n",
      "    big_future = client.scatter(big_data)     # good\n",
      "    future = client.submit(func, big_future)  # good\n",
      "  % (format_bytes(len(b)), s)\n",
      "[I 201118 11:24:08 neofox:134] Elapsed time for annotating 9 neoantigens 35 seconds\n"
     ]
    }
   ],
   "source": [
    "from neofox.neofox import NeoFox\n",
    "import os\n",
    "os.environ[\"NEOFOX_REFERENCE_FOLDER\"] = \"/home/priesgo/neofox_install/reference_data_9/\"\n",
    "os.environ[\"NEOFOX_RSCRIPT\"] = \"/usr/bin/Rscript\"\n",
    "os.environ[\"NEOFOX_BLASTP\"] = \"/home/priesgo/neofox_install/ncbi-blast-2.10.1+/bin/blastp\"\n",
    "os.environ[\"NEOFOX_NETMHCPAN\"] = \"/home/priesgo/neofox_install/netMHCpan-4.0/netMHCpan\"\n",
    "os.environ[\"NEOFOX_NETMHC2PAN\"] = \"/home/priesgo/neofox_install/netMHCIIpan-3.2/netMHCIIpan\"\n",
    "os.environ[\"NEOFOX_MIXMHCPRED\"] = \"/home/priesgo/neofox_install/MixMHCpred-2.1/MixMHCpred\"\n",
    "os.environ[\"NEOFOX_MIXMHC2PRED\"] = \"/home/priesgo/neofox_install/MixMHC2pred-1.2/MixMHC2pred_unix\"\n",
    "annotations = NeoFox(neoantigens=neoantigens, patients=patients, num_cpus=4).get_annotations()"
   ]
  },
  {
   "cell_type": "markdown",
   "metadata": {},
   "source": [
    "### Transform the annotations into a data frame"
   ]
  },
  {
   "cell_type": "code",
   "execution_count": 34,
   "metadata": {},
   "outputs": [
    {
     "data": {
      "text/html": [
       "<div>\n",
       "<style scoped>\n",
       "    .dataframe tbody tr th:only-of-type {\n",
       "        vertical-align: middle;\n",
       "    }\n",
       "\n",
       "    .dataframe tbody tr th {\n",
       "        vertical-align: top;\n",
       "    }\n",
       "\n",
       "    .dataframe thead th {\n",
       "        text-align: right;\n",
       "    }\n",
       "</style>\n",
       "<table border=\"1\" class=\"dataframe\">\n",
       "  <thead>\n",
       "    <tr style=\"text-align: right;\">\n",
       "      <th></th>\n",
       "      <th>name</th>\n",
       "      <th>value</th>\n",
       "      <th>neoantigen_identifier</th>\n",
       "    </tr>\n",
       "  </thead>\n",
       "  <tbody>\n",
       "    <tr>\n",
       "      <th>0</th>\n",
       "      <td>Expression_mutated_transcript</td>\n",
       "      <td>0</td>\n",
       "      <td>ZHF7I5wQrRBOFIiwJUz8cA==</td>\n",
       "    </tr>\n",
       "    <tr>\n",
       "      <th>1</th>\n",
       "      <td>mutation_not_found_in_proteome</td>\n",
       "      <td>1</td>\n",
       "      <td>ZHF7I5wQrRBOFIiwJUz8cA==</td>\n",
       "    </tr>\n",
       "    <tr>\n",
       "      <th>2</th>\n",
       "      <td>Best_rank_MHCI_score</td>\n",
       "      <td>6.2429</td>\n",
       "      <td>ZHF7I5wQrRBOFIiwJUz8cA==</td>\n",
       "    </tr>\n",
       "    <tr>\n",
       "      <th>3</th>\n",
       "      <td>Best_rank_MHCI_score_epitope</td>\n",
       "      <td>GEPSQDILVT</td>\n",
       "      <td>ZHF7I5wQrRBOFIiwJUz8cA==</td>\n",
       "    </tr>\n",
       "    <tr>\n",
       "      <th>4</th>\n",
       "      <td>Best_rank_MHCI_score_allele</td>\n",
       "      <td>HLA-B*44:03</td>\n",
       "      <td>ZHF7I5wQrRBOFIiwJUz8cA==</td>\n",
       "    </tr>\n",
       "    <tr>\n",
       "      <th>5</th>\n",
       "      <td>Best_affinity_MHCI_score</td>\n",
       "      <td>3984.4</td>\n",
       "      <td>ZHF7I5wQrRBOFIiwJUz8cA==</td>\n",
       "    </tr>\n",
       "    <tr>\n",
       "      <th>6</th>\n",
       "      <td>Best_affinity_MHCI_epitope</td>\n",
       "      <td>ILVTDQTRL</td>\n",
       "      <td>ZHF7I5wQrRBOFIiwJUz8cA==</td>\n",
       "    </tr>\n",
       "    <tr>\n",
       "      <th>7</th>\n",
       "      <td>Best_affinity_MHCI_allele</td>\n",
       "      <td>HLA-C*16:01</td>\n",
       "      <td>ZHF7I5wQrRBOFIiwJUz8cA==</td>\n",
       "    </tr>\n",
       "    <tr>\n",
       "      <th>8</th>\n",
       "      <td>Best_rank_MHCI_9mer_score</td>\n",
       "      <td>6.2525</td>\n",
       "      <td>ZHF7I5wQrRBOFIiwJUz8cA==</td>\n",
       "    </tr>\n",
       "    <tr>\n",
       "      <th>9</th>\n",
       "      <td>Best_rank_MHCI_9mer_epitope</td>\n",
       "      <td>ILVTDQTRL</td>\n",
       "      <td>ZHF7I5wQrRBOFIiwJUz8cA==</td>\n",
       "    </tr>\n",
       "  </tbody>\n",
       "</table>\n",
       "</div>"
      ],
      "text/plain": [
       "                             name        value     neoantigen_identifier\n",
       "0   Expression_mutated_transcript            0  ZHF7I5wQrRBOFIiwJUz8cA==\n",
       "1  mutation_not_found_in_proteome            1  ZHF7I5wQrRBOFIiwJUz8cA==\n",
       "2            Best_rank_MHCI_score       6.2429  ZHF7I5wQrRBOFIiwJUz8cA==\n",
       "3    Best_rank_MHCI_score_epitope   GEPSQDILVT  ZHF7I5wQrRBOFIiwJUz8cA==\n",
       "4     Best_rank_MHCI_score_allele  HLA-B*44:03  ZHF7I5wQrRBOFIiwJUz8cA==\n",
       "5        Best_affinity_MHCI_score       3984.4  ZHF7I5wQrRBOFIiwJUz8cA==\n",
       "6      Best_affinity_MHCI_epitope    ILVTDQTRL  ZHF7I5wQrRBOFIiwJUz8cA==\n",
       "7       Best_affinity_MHCI_allele  HLA-C*16:01  ZHF7I5wQrRBOFIiwJUz8cA==\n",
       "8       Best_rank_MHCI_9mer_score       6.2525  ZHF7I5wQrRBOFIiwJUz8cA==\n",
       "9     Best_rank_MHCI_9mer_epitope    ILVTDQTRL  ZHF7I5wQrRBOFIiwJUz8cA=="
      ]
     },
     "execution_count": 34,
     "metadata": {},
     "output_type": "execute_result"
    }
   ],
   "source": [
    "annotations_ts = ModelConverter.annotations2tall_skinny_table(neoantigen_annotations=annotations)\n",
    "annotations_ts.head(10)"
   ]
  },
  {
   "cell_type": "code",
   "execution_count": 35,
   "metadata": {},
   "outputs": [
    {
     "data": {
      "text/html": [
       "<div>\n",
       "<style scoped>\n",
       "    .dataframe tbody tr th:only-of-type {\n",
       "        vertical-align: middle;\n",
       "    }\n",
       "\n",
       "    .dataframe tbody tr th {\n",
       "        vertical-align: top;\n",
       "    }\n",
       "\n",
       "    .dataframe thead th {\n",
       "        text-align: right;\n",
       "    }\n",
       "</style>\n",
       "<table border=\"1\" class=\"dataframe\">\n",
       "  <thead>\n",
       "    <tr style=\"text-align: right;\">\n",
       "      <th></th>\n",
       "      <th>identifier</th>\n",
       "      <th>clonalityEstimation</th>\n",
       "      <th>dnaVariantAlleleFrequency</th>\n",
       "      <th>mutation.leftFlankingRegion</th>\n",
       "      <th>mutation.mutatedAminoacid</th>\n",
       "      <th>mutation.mutatedXmer</th>\n",
       "      <th>mutation.position</th>\n",
       "      <th>mutation.rightFlankingRegion</th>\n",
       "      <th>mutation.sizeLeftFlankingRegion</th>\n",
       "      <th>mutation.sizeRightFlankingRegion</th>\n",
       "      <th>...</th>\n",
       "      <th>MixMHCpred_best_peptide</th>\n",
       "      <th>MixMHCpred_best_score</th>\n",
       "      <th>MixMHCpred_best_rank</th>\n",
       "      <th>MixMHCpred_best_allele</th>\n",
       "      <th>MixMHC2pred_best_peptide</th>\n",
       "      <th>MixMHC2pred_best_rank</th>\n",
       "      <th>MixMHC2pred_best_allele</th>\n",
       "      <th>Dissimilarity_MHCI_cutoff500nM</th>\n",
       "      <th>vaxrank_binding_score</th>\n",
       "      <th>vaxrank_total_score</th>\n",
       "    </tr>\n",
       "  </thead>\n",
       "  <tbody>\n",
       "    <tr>\n",
       "      <th>0</th>\n",
       "      <td>ZHF7I5wQrRBOFIiwJUz8cA==</td>\n",
       "      <td>False</td>\n",
       "      <td>0.0</td>\n",
       "      <td>DEVLGEPSQDILV</td>\n",
       "      <td>T</td>\n",
       "      <td>DEVLGEPSQDILVTDQTRLEATISPET</td>\n",
       "      <td>1007</td>\n",
       "      <td>DQTRLEATISPET</td>\n",
       "      <td>13</td>\n",
       "      <td>13</td>\n",
       "      <td>...</td>\n",
       "      <td>VTDQTRLEA</td>\n",
       "      <td>-0.09792</td>\n",
       "      <td>10</td>\n",
       "      <td>A2902</td>\n",
       "      <td>DEVLGEPSQDILVT</td>\n",
       "      <td>3.06</td>\n",
       "      <td>DPA1_01_03__DPB1_04_01</td>\n",
       "      <td>NA</td>\n",
       "      <td>0</td>\n",
       "      <td>0</td>\n",
       "    </tr>\n",
       "    <tr>\n",
       "      <th>1</th>\n",
       "      <td>LFJVKawWbJbtTHk4tYfLDQ==</td>\n",
       "      <td>False</td>\n",
       "      <td>0.0</td>\n",
       "      <td>RTNLLAALHRSVR</td>\n",
       "      <td>W</td>\n",
       "      <td>RTNLLAALHRSVRWRAADQGHRSAFLV</td>\n",
       "      <td>564</td>\n",
       "      <td>RAADQGHRSAFLV</td>\n",
       "      <td>13</td>\n",
       "      <td>13</td>\n",
       "      <td>...</td>\n",
       "      <td>AALHRSVRW</td>\n",
       "      <td>0.17623</td>\n",
       "      <td>2</td>\n",
       "      <td>A2902</td>\n",
       "      <td>TNLLAALHRSVRWR</td>\n",
       "      <td>2.09</td>\n",
       "      <td>DRB1_08_01</td>\n",
       "      <td>NA</td>\n",
       "      <td>0.11069</td>\n",
       "      <td>0</td>\n",
       "    </tr>\n",
       "    <tr>\n",
       "      <th>2</th>\n",
       "      <td>QehAoQpFLF+d0yrDBLAioA==</td>\n",
       "      <td>False</td>\n",
       "      <td>0.0</td>\n",
       "      <td>MTEYKLVVVGA</td>\n",
       "      <td>C</td>\n",
       "      <td>MTEYKLVVVGACGVGKSALTIQLIQ</td>\n",
       "      <td>12</td>\n",
       "      <td>GVGKSALTIQLIQ</td>\n",
       "      <td>11</td>\n",
       "      <td>13</td>\n",
       "      <td>...</td>\n",
       "      <td>VVGACGVGK</td>\n",
       "      <td>0.22889</td>\n",
       "      <td>2</td>\n",
       "      <td>A0301</td>\n",
       "      <td>TEYKLVVVGACGVG</td>\n",
       "      <td>2.01</td>\n",
       "      <td>DRB1_08_01</td>\n",
       "      <td>0</td>\n",
       "      <td>1.6547</td>\n",
       "      <td>0</td>\n",
       "    </tr>\n",
       "    <tr>\n",
       "      <th>3</th>\n",
       "      <td>nEnsNGVjkWN5jVsOL8Spew==</td>\n",
       "      <td>False</td>\n",
       "      <td>0.0</td>\n",
       "      <td>QTDSSSSDMQACS</td>\n",
       "      <td>K</td>\n",
       "      <td>QTDSSSSDMQACSKDKAKISLGSSIDS</td>\n",
       "      <td>968</td>\n",
       "      <td>DKAKISLGSSIDS</td>\n",
       "      <td>13</td>\n",
       "      <td>13</td>\n",
       "      <td>...</td>\n",
       "      <td>ACSKDKAKISL</td>\n",
       "      <td>0.11544</td>\n",
       "      <td>3</td>\n",
       "      <td>B0702</td>\n",
       "      <td>SSSDMQACSKDKAKIS</td>\n",
       "      <td>2.38</td>\n",
       "      <td>DRB1_08_01</td>\n",
       "      <td>NA</td>\n",
       "      <td>0.14174</td>\n",
       "      <td>0</td>\n",
       "    </tr>\n",
       "    <tr>\n",
       "      <th>4</th>\n",
       "      <td>Hdoq3Q41wRHGYqIXx9UvDg==</td>\n",
       "      <td>False</td>\n",
       "      <td>0.0</td>\n",
       "      <td>DRAIPLVLVSGNH</td>\n",
       "      <td>Y</td>\n",
       "      <td>DRAIPLVLVSGNHYIGNTPTAETVEEF</td>\n",
       "      <td>129</td>\n",
       "      <td>IGNTPTAETVEEF</td>\n",
       "      <td>13</td>\n",
       "      <td>13</td>\n",
       "      <td>...</td>\n",
       "      <td>LVLVSGNHY</td>\n",
       "      <td>0.19414</td>\n",
       "      <td>2</td>\n",
       "      <td>A2902</td>\n",
       "      <td>GNHYIGNTPTAETVEE</td>\n",
       "      <td>5.59</td>\n",
       "      <td>DPA1_01_03__DPB1_04_01</td>\n",
       "      <td>0</td>\n",
       "      <td>0.89423</td>\n",
       "      <td>0</td>\n",
       "    </tr>\n",
       "    <tr>\n",
       "      <th>5</th>\n",
       "      <td>e5ukn5aW6/8Rm4ow0yAmGw==</td>\n",
       "      <td>False</td>\n",
       "      <td>0.0</td>\n",
       "      <td>YNKAVYISVQDKE</td>\n",
       "      <td>E</td>\n",
       "      <td>YNKAVYISVQDKEEEKGVNNGGEKRAD</td>\n",
       "      <td>167</td>\n",
       "      <td>EKGVNNGGEKRAD</td>\n",
       "      <td>13</td>\n",
       "      <td>13</td>\n",
       "      <td>...</td>\n",
       "      <td>SVQDKEEEK</td>\n",
       "      <td>0.03037</td>\n",
       "      <td>5</td>\n",
       "      <td>A0301</td>\n",
       "      <td>KAVYISVQDKEEEK</td>\n",
       "      <td>1.17</td>\n",
       "      <td>DRB1_08_01</td>\n",
       "      <td>NA</td>\n",
       "      <td>0</td>\n",
       "      <td>0</td>\n",
       "    </tr>\n",
       "    <tr>\n",
       "      <th>6</th>\n",
       "      <td>ljeFHtCIS2FkX2qBl3kWkA==</td>\n",
       "      <td>False</td>\n",
       "      <td>0.0</td>\n",
       "      <td>ASTHLTVIGTSPH</td>\n",
       "      <td>V</td>\n",
       "      <td>ASTHLTVIGTSPHVPGSVRVQVSMTTA</td>\n",
       "      <td>512</td>\n",
       "      <td>PGSVRVQVSMTTA</td>\n",
       "      <td>13</td>\n",
       "      <td>13</td>\n",
       "      <td>...</td>\n",
       "      <td>VPGSVRVQV</td>\n",
       "      <td>0.23011</td>\n",
       "      <td>2</td>\n",
       "      <td>B0702</td>\n",
       "      <td>ASTHLTVIGTSPHVPG</td>\n",
       "      <td>9.56</td>\n",
       "      <td>DRB1_08_01</td>\n",
       "      <td>0</td>\n",
       "      <td>3.7569</td>\n",
       "      <td>0</td>\n",
       "    </tr>\n",
       "    <tr>\n",
       "      <th>7</th>\n",
       "      <td>Tis/Ry2+2i8/KNt3hMAlrg==</td>\n",
       "      <td>False</td>\n",
       "      <td>0.0</td>\n",
       "      <td>TRRDEKSHPFTNP</td>\n",
       "      <td>Q</td>\n",
       "      <td>TRRDEKSHPFTNPQWATRVFAAECVCR</td>\n",
       "      <td>1222</td>\n",
       "      <td>WATRVFAAECVCR</td>\n",
       "      <td>13</td>\n",
       "      <td>13</td>\n",
       "      <td>...</td>\n",
       "      <td>NPQWATRVF</td>\n",
       "      <td>0.21407</td>\n",
       "      <td>2</td>\n",
       "      <td>B0702</td>\n",
       "      <td>TNPQWATRVFAAE</td>\n",
       "      <td>3.56</td>\n",
       "      <td>DRB1_08_01</td>\n",
       "      <td>0</td>\n",
       "      <td>2.5678</td>\n",
       "      <td>0</td>\n",
       "    </tr>\n",
       "    <tr>\n",
       "      <th>8</th>\n",
       "      <td>zczjOnV4nzE+3u+rGKg2zQ==</td>\n",
       "      <td>False</td>\n",
       "      <td>0.0</td>\n",
       "      <td>ARPDMFCLFHGKR</td>\n",
       "      <td>H</td>\n",
       "      <td>ARPDMFCLFHGKRHFPGESWHPYLEPQ</td>\n",
       "      <td>40</td>\n",
       "      <td>FPGESWHPYLEPQ</td>\n",
       "      <td>13</td>\n",
       "      <td>13</td>\n",
       "      <td>...</td>\n",
       "      <td>CLFHGKRHF</td>\n",
       "      <td>0.18702</td>\n",
       "      <td>2</td>\n",
       "      <td>A2902</td>\n",
       "      <td>KRHFPGESWHPYLE</td>\n",
       "      <td>2.8</td>\n",
       "      <td>DPA1_01_03__DPB1_04_01</td>\n",
       "      <td>0</td>\n",
       "      <td>0.92031</td>\n",
       "      <td>0</td>\n",
       "    </tr>\n",
       "  </tbody>\n",
       "</table>\n",
       "<p>9 rows × 88 columns</p>\n",
       "</div>"
      ],
      "text/plain": [
       "                 identifier  clonalityEstimation  dnaVariantAlleleFrequency  \\\n",
       "0  ZHF7I5wQrRBOFIiwJUz8cA==                False                        0.0   \n",
       "1  LFJVKawWbJbtTHk4tYfLDQ==                False                        0.0   \n",
       "2  QehAoQpFLF+d0yrDBLAioA==                False                        0.0   \n",
       "3  nEnsNGVjkWN5jVsOL8Spew==                False                        0.0   \n",
       "4  Hdoq3Q41wRHGYqIXx9UvDg==                False                        0.0   \n",
       "5  e5ukn5aW6/8Rm4ow0yAmGw==                False                        0.0   \n",
       "6  ljeFHtCIS2FkX2qBl3kWkA==                False                        0.0   \n",
       "7  Tis/Ry2+2i8/KNt3hMAlrg==                False                        0.0   \n",
       "8  zczjOnV4nzE+3u+rGKg2zQ==                False                        0.0   \n",
       "\n",
       "  mutation.leftFlankingRegion mutation.mutatedAminoacid  \\\n",
       "0               DEVLGEPSQDILV                         T   \n",
       "1               RTNLLAALHRSVR                         W   \n",
       "2                 MTEYKLVVVGA                         C   \n",
       "3               QTDSSSSDMQACS                         K   \n",
       "4               DRAIPLVLVSGNH                         Y   \n",
       "5               YNKAVYISVQDKE                         E   \n",
       "6               ASTHLTVIGTSPH                         V   \n",
       "7               TRRDEKSHPFTNP                         Q   \n",
       "8               ARPDMFCLFHGKR                         H   \n",
       "\n",
       "          mutation.mutatedXmer  mutation.position  \\\n",
       "0  DEVLGEPSQDILVTDQTRLEATISPET               1007   \n",
       "1  RTNLLAALHRSVRWRAADQGHRSAFLV                564   \n",
       "2    MTEYKLVVVGACGVGKSALTIQLIQ                 12   \n",
       "3  QTDSSSSDMQACSKDKAKISLGSSIDS                968   \n",
       "4  DRAIPLVLVSGNHYIGNTPTAETVEEF                129   \n",
       "5  YNKAVYISVQDKEEEKGVNNGGEKRAD                167   \n",
       "6  ASTHLTVIGTSPHVPGSVRVQVSMTTA                512   \n",
       "7  TRRDEKSHPFTNPQWATRVFAAECVCR               1222   \n",
       "8  ARPDMFCLFHGKRHFPGESWHPYLEPQ                 40   \n",
       "\n",
       "  mutation.rightFlankingRegion  mutation.sizeLeftFlankingRegion  \\\n",
       "0                DQTRLEATISPET                               13   \n",
       "1                RAADQGHRSAFLV                               13   \n",
       "2                GVGKSALTIQLIQ                               11   \n",
       "3                DKAKISLGSSIDS                               13   \n",
       "4                IGNTPTAETVEEF                               13   \n",
       "5                EKGVNNGGEKRAD                               13   \n",
       "6                PGSVRVQVSMTTA                               13   \n",
       "7                WATRVFAAECVCR                               13   \n",
       "8                FPGESWHPYLEPQ                               13   \n",
       "\n",
       "   mutation.sizeRightFlankingRegion  ... MixMHCpred_best_peptide  \\\n",
       "0                                13  ...               VTDQTRLEA   \n",
       "1                                13  ...               AALHRSVRW   \n",
       "2                                13  ...               VVGACGVGK   \n",
       "3                                13  ...             ACSKDKAKISL   \n",
       "4                                13  ...               LVLVSGNHY   \n",
       "5                                13  ...               SVQDKEEEK   \n",
       "6                                13  ...               VPGSVRVQV   \n",
       "7                                13  ...               NPQWATRVF   \n",
       "8                                13  ...               CLFHGKRHF   \n",
       "\n",
       "  MixMHCpred_best_score MixMHCpred_best_rank  MixMHCpred_best_allele  \\\n",
       "0              -0.09792                   10                   A2902   \n",
       "1               0.17623                    2                   A2902   \n",
       "2               0.22889                    2                   A0301   \n",
       "3               0.11544                    3                   B0702   \n",
       "4               0.19414                    2                   A2902   \n",
       "5               0.03037                    5                   A0301   \n",
       "6               0.23011                    2                   B0702   \n",
       "7               0.21407                    2                   B0702   \n",
       "8               0.18702                    2                   A2902   \n",
       "\n",
       "   MixMHC2pred_best_peptide MixMHC2pred_best_rank MixMHC2pred_best_allele  \\\n",
       "0            DEVLGEPSQDILVT                  3.06  DPA1_01_03__DPB1_04_01   \n",
       "1            TNLLAALHRSVRWR                  2.09              DRB1_08_01   \n",
       "2            TEYKLVVVGACGVG                  2.01              DRB1_08_01   \n",
       "3          SSSDMQACSKDKAKIS                  2.38              DRB1_08_01   \n",
       "4          GNHYIGNTPTAETVEE                  5.59  DPA1_01_03__DPB1_04_01   \n",
       "5            KAVYISVQDKEEEK                  1.17              DRB1_08_01   \n",
       "6          ASTHLTVIGTSPHVPG                  9.56              DRB1_08_01   \n",
       "7             TNPQWATRVFAAE                  3.56              DRB1_08_01   \n",
       "8            KRHFPGESWHPYLE                   2.8  DPA1_01_03__DPB1_04_01   \n",
       "\n",
       "  Dissimilarity_MHCI_cutoff500nM vaxrank_binding_score vaxrank_total_score  \n",
       "0                             NA                     0                   0  \n",
       "1                             NA               0.11069                   0  \n",
       "2                              0                1.6547                   0  \n",
       "3                             NA               0.14174                   0  \n",
       "4                              0               0.89423                   0  \n",
       "5                             NA                     0                   0  \n",
       "6                              0                3.7569                   0  \n",
       "7                              0                2.5678                   0  \n",
       "8                              0               0.92031                   0  \n",
       "\n",
       "[9 rows x 88 columns]"
      ]
     },
     "execution_count": 35,
     "metadata": {},
     "output_type": "execute_result"
    }
   ],
   "source": [
    "annotations_sw = ModelConverter.annotations2short_wide_table(annotations, neoantigens)\n",
    "annotations_sw"
   ]
  }
 ],
 "metadata": {
  "kernelspec": {
   "display_name": "Python 3",
   "language": "python",
   "name": "python3"
  },
  "language_info": {
   "codemirror_mode": {
    "name": "ipython",
    "version": 3
   },
   "file_extension": ".py",
   "mimetype": "text/x-python",
   "name": "python",
   "nbconvert_exporter": "python",
   "pygments_lexer": "ipython3",
   "version": "3.6.9"
  }
 },
 "nbformat": 4,
 "nbformat_minor": 4
}
