{
 "cells": [
  {
   "cell_type": "markdown",
   "metadata": {},
   "source": [
    "# Programmatic usage of NeoFox\n",
    "\n",
    "NeoFox provides an Application Programming Interface (API) that enables the integration into other applications. This API relies heavily on Protocol Buffers data models that provide placeholder objects to store the required data while enabling different representations, data manipulation, validation and normalization. We use the Protocol Buffers data models to generate Python code automatically and to implement validation and normalization around them, but Protocol Buffers is technology agnostic thus this may facilitate the integration with third party applications not necessarily implemented in Python (see https://developers.google.com/protocol-buffers). The API is tightly integrated with the Python data analysis library Pandas (see https://pandas.pydata.org/).\n",
    "\n",
    "Here we show: \n",
    "\n",
    "* how to create new model objects\n",
    "* how to import/export these objects into different representations\n",
    "* how to manipulate them\n",
    "* how to validate and normalize on the data \n",
    "\n",
    "And finally we show how to run NeoFox programmatically, you may want to skip to this part for a quick grasp of the API usage."
   ]
  },
  {
   "cell_type": "markdown",
   "metadata": {},
   "source": [
    "## Neoantigens\n",
    "\n",
    "The neoantigen is the central piece of information that NeoFox handles, all output annotations refer to a neoantigen. A neoantigen is formed by two subentities transcript and mutation, plus some additional attributes. Here we show how to create a neoantigen, transform it into different representations and validate it."
   ]
  },
  {
   "cell_type": "markdown",
   "metadata": {},
   "source": [
    "### Create a neoantigen\n"
   ]
  },
  {
   "cell_type": "code",
   "execution_count": 1,
   "metadata": {},
   "outputs": [],
   "source": [
    "from neofox.model.neoantigen import Neoantigen, Mutation"
   ]
  },
  {
   "cell_type": "markdown",
   "metadata": {},
   "source": [
    "Create a mutation:"
   ]
  },
  {
   "cell_type": "code",
   "execution_count": 2,
   "metadata": {},
   "outputs": [],
   "source": [
    "mutation = Mutation(\n",
    "    wild_type_xmer=\"DEVLGEPSQDILVIDQTRLEATISPET\", \n",
    "    mutated_xmer=\"DEVLGEPSQDILVTDQTRLEATISPET\")"
   ]
  },
  {
   "cell_type": "markdown",
   "metadata": {},
   "source": [
    "Create a neoantigen using the previous transcript and mutation:"
   ]
  },
  {
   "cell_type": "code",
   "execution_count": 3,
   "metadata": {},
   "outputs": [],
   "source": [
    "neoantigen = Neoantigen(\n",
    "    patient_identifier=\"P123\", \n",
    "    mutation=mutation, \n",
    "    gene=\"VCAN\", \n",
    "    rna_expression=0.519506894, \n",
    "    rna_variant_allele_frequency=0.857142857, \n",
    "    dna_variant_allele_frequency=0.294573643)"
   ]
  },
  {
   "cell_type": "markdown",
   "metadata": {},
   "source": [
    "### Representation into different formats\n",
    "\n",
    "The same piece of data agreeing with NeoFox data models can be represented in different formats. Here we show how to transform the data between several formats: JSON, Python dictionaries, Protocol Buffers binary representations, Pandas dataframes and tabular representations in files. This is relevant for enabling data import and export and adding flexibility to the integration with other tools.\n",
    "\n",
    "What is shown here is applicable to all entities in NeoFox data models.\n",
    "\n",
    "These objects can be easily transformed into JSON:"
   ]
  },
  {
   "cell_type": "code",
   "execution_count": 4,
   "metadata": {},
   "outputs": [
    {
     "name": "stdout",
     "output_type": "stream",
     "text": [
      "{\n",
      "  \"patientIdentifier\": \"P123\",\n",
      "  \"gene\": \"VCAN\",\n",
      "  \"mutation\": {\n",
      "    \"wildTypeXmer\": \"DEVLGEPSQDILVIDQTRLEATISPET\",\n",
      "    \"mutatedXmer\": \"DEVLGEPSQDILVTDQTRLEATISPET\"\n",
      "  },\n",
      "  \"rnaExpression\": 0.519506894,\n",
      "  \"dnaVariantAlleleFrequency\": 0.294573643,\n",
      "  \"rnaVariantAlleleFrequency\": 0.857142857\n",
      "}\n"
     ]
    }
   ],
   "source": [
    "print(neoantigen.to_json(indent=2))"
   ]
  },
  {
   "cell_type": "markdown",
   "metadata": {},
   "source": [
    "They can also be transformed into a Python native dictionary:"
   ]
  },
  {
   "cell_type": "code",
   "execution_count": 5,
   "metadata": {},
   "outputs": [
    {
     "data": {
      "text/plain": [
       "{'patientIdentifier': 'P123',\n",
       " 'gene': 'VCAN',\n",
       " 'mutation': {'wildTypeXmer': 'DEVLGEPSQDILVIDQTRLEATISPET',\n",
       "  'mutatedXmer': 'DEVLGEPSQDILVTDQTRLEATISPET'},\n",
       " 'rnaExpression': 0.519506894,\n",
       " 'dnaVariantAlleleFrequency': 0.294573643,\n",
       " 'rnaVariantAlleleFrequency': 0.857142857}"
      ]
     },
     "execution_count": 5,
     "metadata": {},
     "output_type": "execute_result"
    }
   ],
   "source": [
    "neoantigen.to_dict()"
   ]
  },
  {
   "cell_type": "markdown",
   "metadata": {},
   "source": [
    "And also into the Protocol Buffers binary format that allows a better compression for storing the data or sending it over the wire:"
   ]
  },
  {
   "cell_type": "code",
   "execution_count": 6,
   "metadata": {},
   "outputs": [
    {
     "data": {
      "text/plain": [
       "b'\\x12\\x04P123\\x1a\\x04VCAN\":\\x12\\x1bDEVLGEPSQDILVIDQTRLEATISPET\\x1a\\x1bDEVLGEPSQDILVTDQTRLEATISPET-g\\xfe\\x04?=[\\xd2\\x96>E\\xb7m[?'"
      ]
     },
     "execution_count": 6,
     "metadata": {},
     "output_type": "execute_result"
    }
   ],
   "source": [
    "neoantigen.SerializeToString()"
   ]
  },
  {
   "cell_type": "markdown",
   "metadata": {},
   "source": [
    "### Integration with Pandas\n",
    "\n",
    "NeoFox integrates with the Python library for data analysis Pandas (see https://pandas.pydata.org/). A single object can be transformed into a Pandas `Series` and a list of objects can be transformed into a Pandas `DataFrame`. Pandas provide functionality to persist this tabular representations to files that can be stored and imported into other environments, for instance R.\n",
    "\n",
    "What is shown here is applicable to all entities in NeoFox data models."
   ]
  },
  {
   "cell_type": "code",
   "execution_count": 7,
   "metadata": {},
   "outputs": [],
   "source": [
    "import pandas as pd\n",
    "from neofox.model.conversion import ModelConverter"
   ]
  },
  {
   "cell_type": "markdown",
   "metadata": {},
   "source": [
    "Transform a neoantigen into a Pandas `Series`:"
   ]
  },
  {
   "cell_type": "code",
   "execution_count": 8,
   "metadata": {},
   "outputs": [
    {
     "data": {
      "text/plain": [
       "identifier                                                 \n",
       "patient_identifier                                     P123\n",
       "gene                                                   VCAN\n",
       "rna_expression                                     0.519507\n",
       "imputed_gene_expression                                   0\n",
       "dna_variant_allele_frequency                       0.294574\n",
       "rna_variant_allele_frequency                       0.857143\n",
       "mutation.position                                        []\n",
       "mutation.wild_type_xmer         DEVLGEPSQDILVIDQTRLEATISPET\n",
       "mutation.mutated_xmer           DEVLGEPSQDILVTDQTRLEATISPET\n",
       "Name: 0, dtype: object"
      ]
     },
     "execution_count": 8,
     "metadata": {},
     "output_type": "execute_result"
    }
   ],
   "source": [
    "neoantigen_series = ModelConverter.object2series(neoantigen)\n",
    "neoantigen_series"
   ]
  },
  {
   "cell_type": "markdown",
   "metadata": {},
   "source": [
    "Transform a list of transcripts into a Pandas `DataFrame`:"
   ]
  },
  {
   "cell_type": "code",
   "execution_count": 9,
   "metadata": {},
   "outputs": [
    {
     "data": {
      "text/html": [
       "<div>\n",
       "<style scoped>\n",
       "    .dataframe tbody tr th:only-of-type {\n",
       "        vertical-align: middle;\n",
       "    }\n",
       "\n",
       "    .dataframe tbody tr th {\n",
       "        vertical-align: top;\n",
       "    }\n",
       "\n",
       "    .dataframe thead th {\n",
       "        text-align: right;\n",
       "    }\n",
       "</style>\n",
       "<table border=\"1\" class=\"dataframe\">\n",
       "  <thead>\n",
       "    <tr style=\"text-align: right;\">\n",
       "      <th></th>\n",
       "      <th>position</th>\n",
       "      <th>wildTypeXmer</th>\n",
       "      <th>mutatedXmer</th>\n",
       "    </tr>\n",
       "  </thead>\n",
       "  <tbody>\n",
       "    <tr>\n",
       "      <th>0</th>\n",
       "      <td>[]</td>\n",
       "      <td>DEVLGEPSQDILVIDQTRLEATISPET</td>\n",
       "      <td>DEVLGEPSQDILVTDQTRLEATISPET</td>\n",
       "    </tr>\n",
       "    <tr>\n",
       "      <th>1</th>\n",
       "      <td>[]</td>\n",
       "      <td>AAAAAAAAAAAAAAAAAAAAAAAAAAA</td>\n",
       "      <td>AAAAAAAAAAAAAGAAAAAAAAAAAAA</td>\n",
       "    </tr>\n",
       "  </tbody>\n",
       "</table>\n",
       "</div>"
      ],
      "text/plain": [
       "  position                 wildTypeXmer                  mutatedXmer\n",
       "0       []  DEVLGEPSQDILVIDQTRLEATISPET  DEVLGEPSQDILVTDQTRLEATISPET\n",
       "1       []  AAAAAAAAAAAAAAAAAAAAAAAAAAA  AAAAAAAAAAAAAGAAAAAAAAAAAAA"
      ]
     },
     "execution_count": 9,
     "metadata": {},
     "output_type": "execute_result"
    }
   ],
   "source": [
    "mutation2 = Mutation(\n",
    "    wild_type_xmer=\"AAAAAAAAAAAAAAAAAAAAAAAAAAA\", \n",
    "    mutated_xmer=\"AAAAAAAAAAAAAGAAAAAAAAAAAAA\")\n",
    "mutations_df = ModelConverter.objects2dataframe([mutation, mutation2])\n",
    "mutations_df"
   ]
  },
  {
   "cell_type": "markdown",
   "metadata": {},
   "source": [
    "Persist any Pandas object into a file:"
   ]
  },
  {
   "cell_type": "code",
   "execution_count": 10,
   "metadata": {},
   "outputs": [],
   "source": [
    "mutations_df.to_csv(\"data/my_mutations.csv\", sep=\"\\t\", index=False)"
   ]
  },
  {
   "cell_type": "markdown",
   "metadata": {},
   "source": [
    "And read it back:"
   ]
  },
  {
   "cell_type": "code",
   "execution_count": 11,
   "metadata": {},
   "outputs": [
    {
     "data": {
      "text/plain": [
       "[Mutation(position='[]', wild_type_xmer='DEVLGEPSQDILVIDQTRLEATISPET', mutated_xmer='DEVLGEPSQDILVTDQTRLEATISPET'),\n",
       " Mutation(position='[]', wild_type_xmer='AAAAAAAAAAAAAAAAAAAAAAAAAAA', mutated_xmer='AAAAAAAAAAAAAGAAAAAAAAAAAAA')]"
      ]
     },
     "execution_count": 11,
     "metadata": {},
     "output_type": "execute_result"
    }
   ],
   "source": [
    "mutations_df2 = pd.read_csv(\"data/my_mutations.csv\", sep=\"\\t\")\n",
    "mutations = []\n",
    "for _, row in mutations_df2.iterrows():\n",
    "    #nested_dict = ModelConverter._flat_dict2nested_dict(flat_dict=row.to_dict())\n",
    "    mutations.append(Mutation().from_dict(row.to_dict()))\n",
    "#ModelConverter.objects2dataframe(mutations)\n",
    "mutations"
   ]
  },
  {
   "cell_type": "markdown",
   "metadata": {},
   "source": [
    "In some cases you will may be handling nested objects, for instance a neoantigen. The nesting is flattened into the DataFrame by concatenating field names with a dot, eg: `mutation.wild_type_xmer`. In order to read the flattened data back into the nested models we need to add an intermediate step."
   ]
  },
  {
   "cell_type": "code",
   "execution_count": 12,
   "metadata": {},
   "outputs": [
    {
     "data": {
      "text/plain": [
       "{'identifier': '',\n",
       " 'patient_identifier': 'P123',\n",
       " 'gene': 'VCAN',\n",
       " 'rna_expression': 0.519506894,\n",
       " 'imputed_gene_expression': 0.0,\n",
       " 'dna_variant_allele_frequency': 0.294573643,\n",
       " 'rna_variant_allele_frequency': 0.857142857,\n",
       " 'mutation.position': [],\n",
       " 'mutation.wild_type_xmer': 'DEVLGEPSQDILVIDQTRLEATISPET',\n",
       " 'mutation.mutated_xmer': 'DEVLGEPSQDILVTDQTRLEATISPET'}"
      ]
     },
     "execution_count": 12,
     "metadata": {},
     "output_type": "execute_result"
    }
   ],
   "source": [
    "# the flattened dictionary\n",
    "neoantigen_series.to_dict()"
   ]
  },
  {
   "cell_type": "code",
   "execution_count": 13,
   "metadata": {},
   "outputs": [
    {
     "data": {
      "text/plain": [
       "{'identifier': '',\n",
       " 'patient_identifier': 'P123',\n",
       " 'gene': 'VCAN',\n",
       " 'rna_expression': 0.519506894,\n",
       " 'imputed_gene_expression': 0.0,\n",
       " 'dna_variant_allele_frequency': 0.294573643,\n",
       " 'rna_variant_allele_frequency': 0.857142857,\n",
       " 'mutation': {'position': [],\n",
       "  'wild_type_xmer': 'DEVLGEPSQDILVIDQTRLEATISPET',\n",
       "  'mutated_xmer': 'DEVLGEPSQDILVTDQTRLEATISPET'}}"
      ]
     },
     "execution_count": 13,
     "metadata": {},
     "output_type": "execute_result"
    }
   ],
   "source": [
    "# the nested dictionary\n",
    "ModelConverter._flat_dict2nested_dict(flat_dict=neoantigen_series.to_dict())"
   ]
  },
  {
   "cell_type": "code",
   "execution_count": 14,
   "metadata": {},
   "outputs": [
    {
     "data": {
      "text/plain": [
       "Neoantigen(identifier='', patient_identifier='P123', gene='VCAN', mutation=Mutation(position=[], wild_type_xmer='DEVLGEPSQDILVIDQTRLEATISPET', mutated_xmer='DEVLGEPSQDILVTDQTRLEATISPET'), rna_expression=0.519506894, imputed_gene_expression=0.0, dna_variant_allele_frequency=0.294573643, rna_variant_allele_frequency=0.857142857)"
      ]
     },
     "execution_count": 14,
     "metadata": {},
     "output_type": "execute_result"
    }
   ],
   "source": [
    "# we can load the nested dictionary into a nested model object\n",
    "Neoantigen().from_dict(ModelConverter._flat_dict2nested_dict(flat_dict=neoantigen_series.to_dict()))"
   ]
  },
  {
   "cell_type": "markdown",
   "metadata": {},
   "source": [
    "### Data validation\n",
    "\n",
    "The quality and cleanliness of data is of great importance to enable an effective data analysis and make the data machine readable. Clean data means that the data is valid and that it is in a normal and homogeneous form. The use of controlled vocabularies help to represent knowledge in a standardised way. This is a domain specific task, although it can be assisted with the right tools such as Pandas in Python or tidyverse in R, it requires domain expertise to perform it. NeoFox provides this domain expertise out of the box with its validation and normalization layers on top of its data models."
   ]
  },
  {
   "cell_type": "code",
   "execution_count": 15,
   "metadata": {},
   "outputs": [],
   "source": [
    "from neofox.model.conversion import ModelValidator\n",
    "from neofox.exceptions import NeofoxDataValidationException"
   ]
  },
  {
   "cell_type": "markdown",
   "metadata": {},
   "source": [
    "The data validation checks for missing required fields and shows relevant messages."
   ]
  },
  {
   "cell_type": "code",
   "execution_count": 16,
   "metadata": {},
   "outputs": [
    {
     "name": "stderr",
     "output_type": "stream",
     "text": [
      "[E 210610 21:44:55 conversion:553] {}\n"
     ]
    },
    {
     "name": "stdout",
     "output_type": "stream",
     "text": [
      "Error message: A patient identifier is missing. Please provide patientIdentifier in the input file\n"
     ]
    }
   ],
   "source": [
    "try:\n",
    "    ModelValidator.validate_neoantigen(neoantigen=Neoantigen())\n",
    "except NeofoxDataValidationException as e:\n",
    "    print(\"Error message: {}\".format(e))"
   ]
  },
  {
   "cell_type": "markdown",
   "metadata": {},
   "source": [
    "It also performs more domain specific validations such as aminoacids being valid according to the IUPAC standard aminoacid representation."
   ]
  },
  {
   "cell_type": "code",
   "execution_count": 17,
   "metadata": {},
   "outputs": [
    {
     "name": "stderr",
     "output_type": "stream",
     "text": [
      "[E 210610 21:44:55 conversion:553] {\n",
      "       \"patientIdentifier\": \"12345\",\n",
      "       \"gene\": \"VCAN\",\n",
      "       \"mutation\": {\n",
      "          \"wildTypeXmer\": \"123456AAAAAAAAAAAAAA\",\n",
      "          \"mutatedXmer\": \"123456GAAAAAAAAAAAAA\"\n",
      "       }\n",
      "    }\n"
     ]
    },
    {
     "name": "stdout",
     "output_type": "stream",
     "text": [
      "Error message: Non existing aminoacid 1\n"
     ]
    }
   ],
   "source": [
    "try:\n",
    "    ModelValidator.validate_neoantigen(neoantigen=Neoantigen(\n",
    "        patient_identifier=\"12345\",\n",
    "        gene=\"VCAN\",\n",
    "        mutation=Mutation(\n",
    "            wild_type_xmer=\"123456AAAAAAAAAAAAAA\", # wrong aminoacid representation\n",
    "            mutated_xmer=\"123456GAAAAAAAAAAAAA\")))\n",
    "except NeofoxDataValidationException as e:\n",
    "    print(\"Error message: {}\".format(e))"
   ]
  },
  {
   "cell_type": "markdown",
   "metadata": {},
   "source": [
    "The data normalization layer ensures the aminoacid representation is normalized into 1 letter IUPAC codes."
   ]
  },
  {
   "cell_type": "code",
   "execution_count": 18,
   "metadata": {},
   "outputs": [
    {
     "name": "stdout",
     "output_type": "stream",
     "text": [
      "{\n",
      "  \"position\": [\n",
      "    6\n",
      "  ],\n",
      "  \"wildTypeXmer\": \"AAAAAAAAAAAAA\",\n",
      "  \"mutatedXmer\": \"AAAAAGAAAAA\"\n",
      "}\n"
     ]
    }
   ],
   "source": [
    "valid_neoantigen = ModelValidator.validate_neoantigen(neoantigen=Neoantigen(\n",
    "    patient_identifier=\"12345\",\n",
    "    mutation=Mutation(\n",
    "        wild_type_xmer=\"AAAAAAAAAAAAA\",\n",
    "        mutated_xmer=\"aaaaaGaaaaa\")))\n",
    "\n",
    "print(valid_neoantigen.mutation.to_json(indent=2))"
   ]
  },
  {
   "cell_type": "markdown",
   "metadata": {},
   "source": [
    "After validation a unique neoantigen identifier is generated, this is a hash function of the normalized neoantigen representation, thus two different representations of the same neoantigen will share the same identifier after normalization."
   ]
  },
  {
   "cell_type": "code",
   "execution_count": 19,
   "metadata": {},
   "outputs": [
    {
     "name": "stdout",
     "output_type": "stream",
     "text": [
      "{\n",
      "  \"identifier\": \"v9cO6QEVw9XjrpJlvJ3isw==\",\n",
      "  \"patientIdentifier\": \"P123\",\n",
      "  \"gene\": \"VCAN\",\n",
      "  \"mutation\": {\n",
      "    \"position\": [\n",
      "      14\n",
      "    ],\n",
      "    \"wildTypeXmer\": \"DEVLGEPSQDILVIDQTRLEATISPET\",\n",
      "    \"mutatedXmer\": \"DEVLGEPSQDILVTDQTRLEATISPET\"\n",
      "  },\n",
      "  \"rnaExpression\": 0.519506894,\n",
      "  \"dnaVariantAlleleFrequency\": 0.294573643,\n",
      "  \"rnaVariantAlleleFrequency\": 0.857142857\n",
      "}\n"
     ]
    }
   ],
   "source": [
    "validated_neoantigen = ModelValidator.validate_neoantigen(neoantigen=neoantigen)\n",
    "print(validated_neoantigen.to_json(indent=2))"
   ]
  },
  {
   "cell_type": "markdown",
   "metadata": {},
   "source": [
    "## Patients\n",
    "\n",
    "The neoantigen annotation process needs some context information, in particular some data about the individual where the somatic mutation creating this neoantigen took place. This information includes mainly the HLA types of the patient which is needed to compute the binding of the potential neoepitopes."
   ]
  },
  {
   "cell_type": "markdown",
   "metadata": {},
   "source": [
    "### Parse MHC I alleles into a normal representation\n",
    "\n",
    "The main complexity in the patient model is the representation of the MHC I and MHC II alleles present in the patient. The HLA alleles are typically represented using the nomenclature defined here http://hla.alleles.org, but de facto there is certain flexibility in the representation of HLA alleles in the community. NeoFox aims at normalizing the different HLA representations into a controlled representation agreeing with the HLA nomenclature. NeoFox only supports the classic MHC genes and although the provided HLA type is kept internally it only works with the first 4 digits.\n",
    "\n",
    "There are specific functions in NeoFox to parse a list of non normal HLA alleles into a normalized representation of the HLA alleles. Due to the heterogeneous representations of alleles we use IPD-IMGT/HLA database in order to normalize ambiguous alleles (e.g.: B15228=>HLA-B*15:228 and DPB110401=>HLA-DPB1*104:01).\n",
    "\n",
    "Furthermore, the zygosity of each HLA gene is inferred."
   ]
  },
  {
   "cell_type": "code",
   "execution_count": 20,
   "metadata": {},
   "outputs": [
    {
     "name": "stderr",
     "output_type": "stream",
     "text": [
      "[I 210610 21:44:56 references:189] Reference genome folder: /neofox_install/reference_data\n",
      "[I 210610 21:44:56 references:190] Resources\n",
      "[I 210610 21:44:56 references:192] /neofox_install/reference_data/netmhc2pan_available_alleles.txt\n",
      "[I 210610 21:44:56 references:192] /neofox_install/reference_data/netmhcpan_available_alleles.txt\n",
      "[I 210610 21:44:56 references:192] /neofox_install/reference_data/iedb\n",
      "[I 210610 21:44:56 references:192] /neofox_install/reference_data/proteome_db\n",
      "[I 210610 21:44:56 references:192] /neofox_install/reference_data/proteome_db/Homo_sapiens.fa\n",
      "[I 210610 21:44:56 references:192] /neofox_install/reference_data/iedb/IEDB.fasta\n",
      "[I 210610 21:44:56 references:192] /neofox_install/reference_data/proteome_db/Homo_sapiens.fa\n",
      "[I 210610 21:44:56 references:192] /neofox_install/reference_data/hla_database_allele_list.csv\n"
     ]
    }
   ],
   "source": [
    "from neofox.references.references import ReferenceFolder\n",
    "import os\n",
    "\n",
    "os.environ[\"NEOFOX_REFERENCE_FOLDER\"] = \"/neofox_install/reference_data\"\n",
    "reference_folder = ReferenceFolder()\n",
    "hla_database = reference_folder.get_hla_database()"
   ]
  },
  {
   "cell_type": "markdown",
   "metadata": {},
   "source": [
    "Parse a list of MHC I alleles. The data validation will ensure that the data is valid and it will infer the zygosity of the different genes. The data normalization layer will normalize the HLA representation into a the valid HLA nomenclature including the first 4 digits. Different representations of the same allele will be matched after normalization."
   ]
  },
  {
   "cell_type": "code",
   "execution_count": 21,
   "metadata": {},
   "outputs": [
    {
     "data": {
      "text/html": [
       "<div>\n",
       "<style scoped>\n",
       "    .dataframe tbody tr th:only-of-type {\n",
       "        vertical-align: middle;\n",
       "    }\n",
       "\n",
       "    .dataframe tbody tr th {\n",
       "        vertical-align: top;\n",
       "    }\n",
       "\n",
       "    .dataframe thead th {\n",
       "        text-align: right;\n",
       "    }\n",
       "</style>\n",
       "<table border=\"1\" class=\"dataframe\">\n",
       "  <thead>\n",
       "    <tr style=\"text-align: right;\">\n",
       "      <th></th>\n",
       "      <th>name</th>\n",
       "      <th>zygosity</th>\n",
       "      <th>alleles</th>\n",
       "    </tr>\n",
       "  </thead>\n",
       "  <tbody>\n",
       "    <tr>\n",
       "      <th>0</th>\n",
       "      <td>A</td>\n",
       "      <td>HETEROZYGOUS</td>\n",
       "      <td>[{'fullName': 'HLA-A*01:01:02:03N', 'name': 'H...</td>\n",
       "    </tr>\n",
       "    <tr>\n",
       "      <th>1</th>\n",
       "      <td>B</td>\n",
       "      <td>HOMOZYGOUS</td>\n",
       "      <td>[{'fullName': 'HLA-B*15:228', 'name': 'HLA-B*1...</td>\n",
       "    </tr>\n",
       "    <tr>\n",
       "      <th>2</th>\n",
       "      <td>C</td>\n",
       "      <td>HEMIZYGOUS</td>\n",
       "      <td>[{'fullName': 'HLA-C*03:163', 'name': 'HLA-C*0...</td>\n",
       "    </tr>\n",
       "  </tbody>\n",
       "</table>\n",
       "</div>"
      ],
      "text/plain": [
       "  name      zygosity                                            alleles\n",
       "0    A  HETEROZYGOUS  [{'fullName': 'HLA-A*01:01:02:03N', 'name': 'H...\n",
       "1    B    HOMOZYGOUS  [{'fullName': 'HLA-B*15:228', 'name': 'HLA-B*1...\n",
       "2    C    HEMIZYGOUS  [{'fullName': 'HLA-C*03:163', 'name': 'HLA-C*0..."
      ]
     },
     "execution_count": 21,
     "metadata": {},
     "output_type": "execute_result"
    }
   ],
   "source": [
    "mhc1 = ModelConverter.parse_mhc1_alleles(\n",
    "    [\"HLA-A*01:01:02:03N\", \"HLA-A*01:02:02:03N\", \"B15228\", \"HLA-B*15:228:02:04N\", \"C03_163\"], \n",
    "    hla_database=hla_database)\n",
    "ModelConverter.objects2dataframe(mhc1)"
   ]
  },
  {
   "cell_type": "code",
   "execution_count": 22,
   "metadata": {},
   "outputs": [
    {
     "data": {
      "text/html": [
       "<div>\n",
       "<style scoped>\n",
       "    .dataframe tbody tr th:only-of-type {\n",
       "        vertical-align: middle;\n",
       "    }\n",
       "\n",
       "    .dataframe tbody tr th {\n",
       "        vertical-align: top;\n",
       "    }\n",
       "\n",
       "    .dataframe thead th {\n",
       "        text-align: right;\n",
       "    }\n",
       "</style>\n",
       "<table border=\"1\" class=\"dataframe\">\n",
       "  <thead>\n",
       "    <tr style=\"text-align: right;\">\n",
       "      <th></th>\n",
       "      <th>fullName</th>\n",
       "      <th>name</th>\n",
       "      <th>gene</th>\n",
       "      <th>group</th>\n",
       "      <th>protein</th>\n",
       "    </tr>\n",
       "  </thead>\n",
       "  <tbody>\n",
       "    <tr>\n",
       "      <th>0</th>\n",
       "      <td>HLA-A*01:01:02:03N</td>\n",
       "      <td>HLA-A*01:01</td>\n",
       "      <td>A</td>\n",
       "      <td>01</td>\n",
       "      <td>01</td>\n",
       "    </tr>\n",
       "    <tr>\n",
       "      <th>1</th>\n",
       "      <td>HLA-A*01:02:02:03N</td>\n",
       "      <td>HLA-A*01:02</td>\n",
       "      <td>A</td>\n",
       "      <td>01</td>\n",
       "      <td>02</td>\n",
       "    </tr>\n",
       "    <tr>\n",
       "      <th>2</th>\n",
       "      <td>HLA-B*15:228</td>\n",
       "      <td>HLA-B*15:228</td>\n",
       "      <td>B</td>\n",
       "      <td>15</td>\n",
       "      <td>228</td>\n",
       "    </tr>\n",
       "    <tr>\n",
       "      <th>3</th>\n",
       "      <td>HLA-C*03:163</td>\n",
       "      <td>HLA-C*03:163</td>\n",
       "      <td>C</td>\n",
       "      <td>03</td>\n",
       "      <td>163</td>\n",
       "    </tr>\n",
       "  </tbody>\n",
       "</table>\n",
       "</div>"
      ],
      "text/plain": [
       "             fullName          name gene group protein\n",
       "0  HLA-A*01:01:02:03N   HLA-A*01:01    A    01      01\n",
       "1  HLA-A*01:02:02:03N   HLA-A*01:02    A    01      02\n",
       "2        HLA-B*15:228  HLA-B*15:228    B    15     228\n",
       "3        HLA-C*03:163  HLA-C*03:163    C    03     163"
      ]
     },
     "execution_count": 22,
     "metadata": {},
     "output_type": "execute_result"
    }
   ],
   "source": [
    "ModelConverter.objects2dataframe(mhc1[0].alleles + mhc1[1].alleles + mhc1[2].alleles)"
   ]
  },
  {
   "cell_type": "markdown",
   "metadata": {},
   "source": [
    "### Validation and normalization of MHC alleles\n",
    "\n",
    "The data validation layer checks that the provided allele representations are valid."
   ]
  },
  {
   "cell_type": "code",
   "execution_count": 23,
   "metadata": {},
   "outputs": [
    {
     "name": "stdout",
     "output_type": "stream",
     "text": [
      "Error message: Allele does not match HLA allele pattern HLA-W*01:01:02:03N\n"
     ]
    }
   ],
   "source": [
    "try:\n",
    "    ModelConverter.parse_mhc1_alleles([\"HLA-W*01:01:02:03N\"], hla_database=hla_database)  # bad gene W\n",
    "except NeofoxDataValidationException as e:\n",
    "    print (\"Error message: {}\".format(e))"
   ]
  },
  {
   "cell_type": "code",
   "execution_count": 24,
   "metadata": {},
   "outputs": [
    {
     "name": "stdout",
     "output_type": "stream",
     "text": [
      "Error message: Allele does not match HLA allele pattern HLA-A*first:second:02:03N\n"
     ]
    }
   ],
   "source": [
    "try:\n",
    "    ModelConverter.parse_mhc1_alleles([\"HLA-A*first:second:02:03N\"], hla_database=hla_database)  # bad allele representation\n",
    "except NeofoxDataValidationException as e:\n",
    "    print (\"Error message: {}\".format(e))"
   ]
  },
  {
   "cell_type": "code",
   "execution_count": 25,
   "metadata": {},
   "outputs": [
    {
     "name": "stdout",
     "output_type": "stream",
     "text": [
      "Error message: More than 2 alleles for gene A\n"
     ]
    }
   ],
   "source": [
    "try:\n",
    "    ModelConverter.parse_mhc1_alleles([\"HLA-A*01:02:02:03N\", \"HLA-A*01:03:02:03N\", \"HLA-A*01:04:02:03N\"], hla_database=hla_database)  # wrong number of alleles\n",
    "except NeofoxDataValidationException as e:\n",
    "    print (\"Error message: {}\".format(e))"
   ]
  },
  {
   "cell_type": "markdown",
   "metadata": {},
   "source": [
    "A warning message will be shown for non existing HLA alleles."
   ]
  },
  {
   "cell_type": "code",
   "execution_count": 26,
   "metadata": {},
   "outputs": [
    {
     "name": "stderr",
     "output_type": "stream",
     "text": [
      "[W 210610 21:44:56 mhc_parser:68] Allele HLA-B*01:02:02:03N does not exist in the HLA database\n"
     ]
    },
    {
     "data": {
      "text/plain": [
       "[Mhc1(name=<Mhc1Name.A: 0>, zygosity=<Zygosity.LOSS: 3>, alleles=[]),\n",
       " Mhc1(name=<Mhc1Name.B: 1>, zygosity=<Zygosity.HEMIZYGOUS: 2>, alleles=[MhcAllele(full_name='HLA-B*01:02:02:03N', name='HLA-B*01:02', gene='B', group='01', protein='02')]),\n",
       " Mhc1(name=<Mhc1Name.C: 2>, zygosity=<Zygosity.HEMIZYGOUS: 2>, alleles=[MhcAllele(full_name='HLA-C*01:02', name='HLA-C*01:02', gene='C', group='01', protein='02')])]"
      ]
     },
     "execution_count": 26,
     "metadata": {},
     "output_type": "execute_result"
    }
   ],
   "source": [
    "ModelConverter.parse_mhc1_alleles([\"HLA-B*01:02:02:03N\", \"HLA-C*01:02\"], hla_database=hla_database)"
   ]
  },
  {
   "cell_type": "markdown",
   "metadata": {},
   "source": [
    "### Parse MHC II alleles into a normal representation\n",
    "\n",
    "The model for MHC II alleles is more complex as we need to reflect all combinations of alpha and beta chains, but the data validation and normalization provided by NeoFox is fundamentally the same.\n",
    "\n",
    "Parse a list of MHC II alleles:"
   ]
  },
  {
   "cell_type": "code",
   "execution_count": 27,
   "metadata": {},
   "outputs": [],
   "source": [
    "mhc2 = ModelConverter.parse_mhc2_alleles([\"HLA-DPA1*01:03\", \"HLA-DPA1*01:04\", \"HLA-DPB1*01:01\", \"HLA-DPB1*01:01\", \n",
    "                                          \"HLA-DQA1*01:01\", \"HLA-DQA1*01:01\", \"HLA-DQB1*02:01\", \"HLA-DQB1*02:01\", \n",
    "                                          \"HLA-DRB1*01:01\", \"HLA-DRB1*01:01\"], hla_database=hla_database)"
   ]
  },
  {
   "cell_type": "markdown",
   "metadata": {},
   "source": [
    "An MHC II gene with an heteroyzgous alpha chain and an homozygous beta chain has two isoforms"
   ]
  },
  {
   "cell_type": "code",
   "execution_count": 28,
   "metadata": {},
   "outputs": [
    {
     "data": {
      "text/plain": [
       "{'name': 'DP',\n",
       " 'genes': [{'name': 'DPA1',\n",
       "   'zygosity': 'HETEROZYGOUS',\n",
       "   'alleles': [{'fullName': 'HLA-DPA1*01:03',\n",
       "     'name': 'HLA-DPA1*01:03',\n",
       "     'gene': 'DPA1',\n",
       "     'group': '01',\n",
       "     'protein': '03'},\n",
       "    {'fullName': 'HLA-DPA1*01:04',\n",
       "     'name': 'HLA-DPA1*01:04',\n",
       "     'gene': 'DPA1',\n",
       "     'group': '01',\n",
       "     'protein': '04'}]},\n",
       "  {'name': 'DPB1',\n",
       "   'alleles': [{'fullName': 'HLA-DPB1*01:01',\n",
       "     'name': 'HLA-DPB1*01:01',\n",
       "     'gene': 'DPB1',\n",
       "     'group': '01',\n",
       "     'protein': '01'}]}],\n",
       " 'isoforms': [{'name': 'HLA-DPA1*01:03-DPB1*01:01',\n",
       "   'alphaChain': {'fullName': 'HLA-DPA1*01:03',\n",
       "    'name': 'HLA-DPA1*01:03',\n",
       "    'gene': 'DPA1',\n",
       "    'group': '01',\n",
       "    'protein': '03'},\n",
       "   'betaChain': {'fullName': 'HLA-DPB1*01:01',\n",
       "    'name': 'HLA-DPB1*01:01',\n",
       "    'gene': 'DPB1',\n",
       "    'group': '01',\n",
       "    'protein': '01'}},\n",
       "  {'name': 'HLA-DPA1*01:04-DPB1*01:01',\n",
       "   'alphaChain': {'fullName': 'HLA-DPA1*01:04',\n",
       "    'name': 'HLA-DPA1*01:04',\n",
       "    'gene': 'DPA1',\n",
       "    'group': '01',\n",
       "    'protein': '04'},\n",
       "   'betaChain': {'fullName': 'HLA-DPB1*01:01',\n",
       "    'name': 'HLA-DPB1*01:01',\n",
       "    'gene': 'DPB1',\n",
       "    'group': '01',\n",
       "    'protein': '01'}}]}"
      ]
     },
     "execution_count": 28,
     "metadata": {},
     "output_type": "execute_result"
    }
   ],
   "source": [
    "mhc2[1].to_dict()"
   ]
  },
  {
   "cell_type": "markdown",
   "metadata": {},
   "source": [
    "An MHC II gene with an homozygous alpha and beta chains has a single isoform."
   ]
  },
  {
   "cell_type": "code",
   "execution_count": 29,
   "metadata": {},
   "outputs": [
    {
     "data": {
      "text/plain": [
       "{'name': 'DQ',\n",
       " 'genes': [{'name': 'DQA1',\n",
       "   'alleles': [{'fullName': 'HLA-DQA1*01:01',\n",
       "     'name': 'HLA-DQA1*01:01',\n",
       "     'gene': 'DQA1',\n",
       "     'group': '01',\n",
       "     'protein': '01'}]},\n",
       "  {'name': 'DQB1',\n",
       "   'alleles': [{'fullName': 'HLA-DQB1*02:01',\n",
       "     'name': 'HLA-DQB1*02:01',\n",
       "     'gene': 'DQB1',\n",
       "     'group': '02',\n",
       "     'protein': '01'}]}],\n",
       " 'isoforms': [{'name': 'HLA-DQA1*01:01-DQB1*02:01',\n",
       "   'alphaChain': {'fullName': 'HLA-DQA1*01:01',\n",
       "    'name': 'HLA-DQA1*01:01',\n",
       "    'gene': 'DQA1',\n",
       "    'group': '01',\n",
       "    'protein': '01'},\n",
       "   'betaChain': {'fullName': 'HLA-DQB1*02:01',\n",
       "    'name': 'HLA-DQB1*02:01',\n",
       "    'gene': 'DQB1',\n",
       "    'group': '02',\n",
       "    'protein': '01'}}]}"
      ]
     },
     "execution_count": 29,
     "metadata": {},
     "output_type": "execute_result"
    }
   ],
   "source": [
    "mhc2[2].to_dict()"
   ]
  },
  {
   "cell_type": "markdown",
   "metadata": {},
   "source": [
    "The MHC II DRB gene is a special case with no alpha chain represented as this is not variable."
   ]
  },
  {
   "cell_type": "code",
   "execution_count": 30,
   "metadata": {},
   "outputs": [
    {
     "data": {
      "text/plain": [
       "{'genes': [{'alleles': [{'fullName': 'HLA-DRB1*01:01',\n",
       "     'name': 'HLA-DRB1*01:01',\n",
       "     'gene': 'DRB1',\n",
       "     'group': '01',\n",
       "     'protein': '01'}]}],\n",
       " 'isoforms': [{'name': 'HLA-DRB1*01:01',\n",
       "   'betaChain': {'fullName': 'HLA-DRB1*01:01',\n",
       "    'name': 'HLA-DRB1*01:01',\n",
       "    'gene': 'DRB1',\n",
       "    'group': '01',\n",
       "    'protein': '01'}}]}"
      ]
     },
     "execution_count": 30,
     "metadata": {},
     "output_type": "execute_result"
    }
   ],
   "source": [
    "mhc2[0].to_dict()"
   ]
  },
  {
   "cell_type": "markdown",
   "metadata": {},
   "source": [
    "Beware that incomplete MHC II molecules missing one of the chains will have no isoforms and thus no binding will be computed on them. In the case below the beta chain allele for the DP gene is missing."
   ]
  },
  {
   "cell_type": "code",
   "execution_count": 31,
   "metadata": {},
   "outputs": [
    {
     "data": {
      "text/plain": [
       "{'name': 'DP',\n",
       " 'genes': [{'name': 'DPA1',\n",
       "   'zygosity': 'HETEROZYGOUS',\n",
       "   'alleles': [{'fullName': 'HLA-DPA1*01:03',\n",
       "     'name': 'HLA-DPA1*01:03',\n",
       "     'gene': 'DPA1',\n",
       "     'group': '01',\n",
       "     'protein': '03'},\n",
       "    {'fullName': 'HLA-DPA1*01:04',\n",
       "     'name': 'HLA-DPA1*01:04',\n",
       "     'gene': 'DPA1',\n",
       "     'group': '01',\n",
       "     'protein': '04'}]},\n",
       "  {'name': 'DPB1', 'zygosity': 'LOSS'}]}"
      ]
     },
     "execution_count": 31,
     "metadata": {},
     "output_type": "execute_result"
    }
   ],
   "source": [
    "mhc2 = ModelConverter.parse_mhc2_alleles([\"HLA-DPA1*01:03\", \"HLA-DPA1*01:04\"], hla_database=hla_database)\n",
    "mhc2[1].to_dict()"
   ]
  },
  {
   "cell_type": "markdown",
   "metadata": {},
   "source": [
    "### Create a patient"
   ]
  },
  {
   "cell_type": "code",
   "execution_count": 32,
   "metadata": {},
   "outputs": [
    {
     "data": {
      "text/plain": [
       "identifier                                                       P123\n",
       "is_rna_available                                                 True\n",
       "tumor_type                                                      NSCLC\n",
       "mhc1                [{'name': 'A', 'zygosity': 'HETEROZYGOUS', 'al...\n",
       "mhc2                [{'name': 'DR', 'genes': [{'name': 'DRB1', 'zy...\n",
       "Name: 0, dtype: object"
      ]
     },
     "execution_count": 32,
     "metadata": {},
     "output_type": "execute_result"
    }
   ],
   "source": [
    "from neofox.model.neoantigen import Patient\n",
    "\n",
    "\n",
    "mhc1 = ModelConverter.parse_mhc1_alleles([\"HLA-A*01:01:02:03N\", \"HLA-A*01:02:02:03N\", \n",
    "                                          \"HLA-B*15:01:02:03N\", \"HLA-B*15:01:02:04N\", \n",
    "                                          \"HLA-C*03:02\"], hla_database=hla_database)\n",
    "mhc2 = ModelConverter.parse_mhc2_alleles([\"HLA-DPA1*01:03\", \"HLA-DPA1*01:04\", \"HLA-DPB1*01:01\", \"HLA-DPB1*01:01\", \n",
    "                                          \"HLA-DQA1*01:01\", \"HLA-DQA1*01:01\", \"HLA-DQB1*02:01\", \"HLA-DQB1*02:01\", \n",
    "                                          \"HLA-DRB1*01:01\", \"HLA-DRB1*01:01\"], hla_database=hla_database)\n",
    "patient = Patient(\n",
    "    identifier=\"P123\", \n",
    "    is_rna_available=True, \n",
    "    tumor_type=\"NSCLC\", \n",
    "    mhc1=mhc1,\n",
    "    mhc2=mhc2\n",
    ")\n",
    "ModelConverter.object2series(patient)"
   ]
  },
  {
   "cell_type": "markdown",
   "metadata": {},
   "source": [
    "### Validate a patient"
   ]
  },
  {
   "cell_type": "code",
   "execution_count": 33,
   "metadata": {},
   "outputs": [],
   "source": [
    "validated_patient = ModelValidator.validate_patient(patient)"
   ]
  },
  {
   "cell_type": "markdown",
   "metadata": {},
   "source": [
    "A patient requires an identifier. MHC I and MHC II are optional in case one or the other are not available, the output annotations are adapted accordingly."
   ]
  },
  {
   "cell_type": "code",
   "execution_count": 34,
   "metadata": {},
   "outputs": [
    {
     "name": "stderr",
     "output_type": "stream",
     "text": [
      "[E 210610 21:44:57 conversion:594] {}\n"
     ]
    },
    {
     "name": "stdout",
     "output_type": "stream",
     "text": [
      "Error message: A patient identifier is missing\n"
     ]
    }
   ],
   "source": [
    "try:\n",
    "    ModelValidator.validate_patient(Patient())  # missing patient identifier\n",
    "except NeofoxDataValidationException as e:\n",
    "    print (\"Error message: {}\".format(e))"
   ]
  },
  {
   "cell_type": "code",
   "execution_count": 35,
   "metadata": {},
   "outputs": [],
   "source": [
    "patient_without_mhc2 = ModelValidator.validate_patient(Patient(identifier=\"12345\", mhc1=mhc1))"
   ]
  },
  {
   "cell_type": "code",
   "execution_count": 36,
   "metadata": {},
   "outputs": [],
   "source": [
    "patient_without_mhc1 = ModelValidator.validate_patient(Patient(identifier=\"12345\", mhc2=mhc2))"
   ]
  },
  {
   "cell_type": "markdown",
   "metadata": {},
   "source": [
    "## Run Neofox"
   ]
  },
  {
   "cell_type": "markdown",
   "metadata": {},
   "source": [
    "### Parse input data from a file\n",
    "\n",
    "Although we could create the data objects manually as shown above, for convenience it is useful to store the data in tabular format. Here we show how to parse the neoantigens and patients from tabular files. "
   ]
  },
  {
   "cell_type": "markdown",
   "metadata": {},
   "source": [
    "The tabular file for neoantigens should look as follows:"
   ]
  },
  {
   "cell_type": "code",
   "execution_count": 37,
   "metadata": {},
   "outputs": [
    {
     "data": {
      "text/html": [
       "<div>\n",
       "<style scoped>\n",
       "    .dataframe tbody tr th:only-of-type {\n",
       "        vertical-align: middle;\n",
       "    }\n",
       "\n",
       "    .dataframe tbody tr th {\n",
       "        vertical-align: top;\n",
       "    }\n",
       "\n",
       "    .dataframe thead th {\n",
       "        text-align: right;\n",
       "    }\n",
       "</style>\n",
       "<table border=\"1\" class=\"dataframe\">\n",
       "  <thead>\n",
       "    <tr style=\"text-align: right;\">\n",
       "      <th></th>\n",
       "      <th>gene</th>\n",
       "      <th>transcript_identifier</th>\n",
       "      <th>mutation.mutatedXmer</th>\n",
       "      <th>mutation.wildTypeXmer</th>\n",
       "      <th>patientIdentifier</th>\n",
       "    </tr>\n",
       "  </thead>\n",
       "  <tbody>\n",
       "    <tr>\n",
       "      <th>0</th>\n",
       "      <td>VCAN</td>\n",
       "      <td>uc003kii.3</td>\n",
       "      <td>DEVLGEPSQDILVTDQTRLEATISPET</td>\n",
       "      <td>DEVLGEPSQDILVIDQTRLEATISPET</td>\n",
       "      <td>Pt27</td>\n",
       "    </tr>\n",
       "    <tr>\n",
       "      <th>1</th>\n",
       "      <td>DCST2</td>\n",
       "      <td>uc001fgm.3</td>\n",
       "      <td>RTNLLAALHRSVRWRAADQGHRSAFLV</td>\n",
       "      <td>RTNLLAALHRSVRRRAADQGHRSAFLV</td>\n",
       "      <td>Pt24</td>\n",
       "    </tr>\n",
       "    <tr>\n",
       "      <th>2</th>\n",
       "      <td>NRAS</td>\n",
       "      <td>uc009wgu.3</td>\n",
       "      <td>MTEYKLVVVGACGVGKSALTIQLIQ</td>\n",
       "      <td>MTEYKLVVVGAGGVGKSALTIQLIQ</td>\n",
       "      <td>Pt28</td>\n",
       "    </tr>\n",
       "    <tr>\n",
       "      <th>3</th>\n",
       "      <td>CEP350</td>\n",
       "      <td>uc001gnt.3</td>\n",
       "      <td>QTDSSSSDMQACSKDKAKISLGSSIDS</td>\n",
       "      <td>QTDSSSSDMQACSQDKAKISLGSSIDS</td>\n",
       "      <td>Pt63</td>\n",
       "    </tr>\n",
       "    <tr>\n",
       "      <th>4</th>\n",
       "      <td>CPPED1</td>\n",
       "      <td>uc002dca.4</td>\n",
       "      <td>DRAIPLVLVSGNHYIGNTPTAETVEEF</td>\n",
       "      <td>DRAIPLVLVSGNHDIGNTPTAETVEEF</td>\n",
       "      <td>Pt77</td>\n",
       "    </tr>\n",
       "    <tr>\n",
       "      <th>5</th>\n",
       "      <td>CXorf26</td>\n",
       "      <td>uc004ecl.1</td>\n",
       "      <td>YNKAVYISVQDKEEEKGVNNGGEKRAD</td>\n",
       "      <td>YNKAVYISVQDKEGEKGVNNGGEKRAD</td>\n",
       "      <td>Pt117</td>\n",
       "    </tr>\n",
       "    <tr>\n",
       "      <th>6</th>\n",
       "      <td>IGSF9B</td>\n",
       "      <td>uc001qgx.4</td>\n",
       "      <td>ASTHLTVIGTSPHVPGSVRVQVSMTTA</td>\n",
       "      <td>ASTHLTVIGTSPHAPGSVRVQVSMTTA</td>\n",
       "      <td>Pt110</td>\n",
       "    </tr>\n",
       "    <tr>\n",
       "      <th>7</th>\n",
       "      <td>HEATR5A</td>\n",
       "      <td>uc001wrf.4</td>\n",
       "      <td>TRRDEKSHPFTNPQWATRVFAAECVCR</td>\n",
       "      <td>TRRDEKSHPFTNPRWATRVFAAECVCR</td>\n",
       "      <td>Pt26</td>\n",
       "    </tr>\n",
       "    <tr>\n",
       "      <th>8</th>\n",
       "      <td>CHRDL2</td>\n",
       "      <td>uc001ovh.3</td>\n",
       "      <td>ARPDMFCLFHGKRHFPGESWHPYLEPQ</td>\n",
       "      <td>ARPDMFCLFHGKRYFPGESWHPYLEPQ</td>\n",
       "      <td>Pt77</td>\n",
       "    </tr>\n",
       "  </tbody>\n",
       "</table>\n",
       "</div>"
      ],
      "text/plain": [
       "      gene transcript_identifier         mutation.mutatedXmer  \\\n",
       "0     VCAN            uc003kii.3  DEVLGEPSQDILVTDQTRLEATISPET   \n",
       "1    DCST2            uc001fgm.3  RTNLLAALHRSVRWRAADQGHRSAFLV   \n",
       "2     NRAS            uc009wgu.3    MTEYKLVVVGACGVGKSALTIQLIQ   \n",
       "3   CEP350            uc001gnt.3  QTDSSSSDMQACSKDKAKISLGSSIDS   \n",
       "4   CPPED1            uc002dca.4  DRAIPLVLVSGNHYIGNTPTAETVEEF   \n",
       "5  CXorf26            uc004ecl.1  YNKAVYISVQDKEEEKGVNNGGEKRAD   \n",
       "6   IGSF9B            uc001qgx.4  ASTHLTVIGTSPHVPGSVRVQVSMTTA   \n",
       "7  HEATR5A            uc001wrf.4  TRRDEKSHPFTNPQWATRVFAAECVCR   \n",
       "8   CHRDL2            uc001ovh.3  ARPDMFCLFHGKRHFPGESWHPYLEPQ   \n",
       "\n",
       "         mutation.wildTypeXmer patientIdentifier  \n",
       "0  DEVLGEPSQDILVIDQTRLEATISPET              Pt27  \n",
       "1  RTNLLAALHRSVRRRAADQGHRSAFLV              Pt24  \n",
       "2    MTEYKLVVVGAGGVGKSALTIQLIQ              Pt28  \n",
       "3  QTDSSSSDMQACSQDKAKISLGSSIDS              Pt63  \n",
       "4  DRAIPLVLVSGNHDIGNTPTAETVEEF              Pt77  \n",
       "5  YNKAVYISVQDKEGEKGVNNGGEKRAD             Pt117  \n",
       "6  ASTHLTVIGTSPHAPGSVRVQVSMTTA             Pt110  \n",
       "7  TRRDEKSHPFTNPRWATRVFAAECVCR              Pt26  \n",
       "8  ARPDMFCLFHGKRYFPGESWHPYLEPQ              Pt77  "
      ]
     },
     "execution_count": 37,
     "metadata": {},
     "output_type": "execute_result"
    }
   ],
   "source": [
    "pd.read_csv(\"data/test_model_file.txt\", sep=\"\\t\")"
   ]
  },
  {
   "cell_type": "markdown",
   "metadata": {},
   "source": [
    "There is a specific function to parse an input file into a list of neoantigens. Any additional column not matching a field in the neoantigens model, in this case `transcript_identifier`, will be parsed into the external annotations. Neofox when executed from the command line interface adds these external annotations in the output together with the new annotations."
   ]
  },
  {
   "cell_type": "code",
   "execution_count": 38,
   "metadata": {},
   "outputs": [],
   "source": [
    "neoantigens, external_annotations = ModelConverter.parse_neoantigens_file(\"data/test_model_file.txt\")"
   ]
  },
  {
   "cell_type": "markdown",
   "metadata": {},
   "source": [
    "The tabular file for patients should look as follows:"
   ]
  },
  {
   "cell_type": "code",
   "execution_count": 39,
   "metadata": {},
   "outputs": [
    {
     "data": {
      "text/html": [
       "<div>\n",
       "<style scoped>\n",
       "    .dataframe tbody tr th:only-of-type {\n",
       "        vertical-align: middle;\n",
       "    }\n",
       "\n",
       "    .dataframe tbody tr th {\n",
       "        vertical-align: top;\n",
       "    }\n",
       "\n",
       "    .dataframe thead th {\n",
       "        text-align: right;\n",
       "    }\n",
       "</style>\n",
       "<table border=\"1\" class=\"dataframe\">\n",
       "  <thead>\n",
       "    <tr style=\"text-align: right;\">\n",
       "      <th></th>\n",
       "      <th>identifier</th>\n",
       "      <th>mhcIAlleles</th>\n",
       "      <th>mhcIIAlleles</th>\n",
       "      <th>isRnaAvailable</th>\n",
       "      <th>tumorType</th>\n",
       "    </tr>\n",
       "  </thead>\n",
       "  <tbody>\n",
       "    <tr>\n",
       "      <th>0</th>\n",
       "      <td>Pt27</td>\n",
       "      <td>HLA-A*03:01,HLA-A*29:02,HLA-B*07:02,HLA-B*44:0...</td>\n",
       "      <td>HLA-DRB1*04:02,HLA-DRB1*08:01,HLA-DQA1*03:01,H...</td>\n",
       "      <td>True</td>\n",
       "      <td>HNSC</td>\n",
       "    </tr>\n",
       "    <tr>\n",
       "      <th>1</th>\n",
       "      <td>Pt24</td>\n",
       "      <td>HLA-A*03:01,HLA-A*29:02,HLA-B*07:02,HLA-B*44:0...</td>\n",
       "      <td>HLA-DRB1*04:02,HLA-DRB1*08:01,HLA-DQA1*03:01,H...</td>\n",
       "      <td>True</td>\n",
       "      <td>HNSC</td>\n",
       "    </tr>\n",
       "    <tr>\n",
       "      <th>2</th>\n",
       "      <td>Pt28</td>\n",
       "      <td>HLA-A*03:01,HLA-A*29:02,HLA-B*07:02,HLA-B*44:0...</td>\n",
       "      <td>HLA-DRB1*04:02,HLA-DRB1*08:01,HLA-DQA1*03:01,H...</td>\n",
       "      <td>True</td>\n",
       "      <td>HNSC</td>\n",
       "    </tr>\n",
       "    <tr>\n",
       "      <th>3</th>\n",
       "      <td>Pt63</td>\n",
       "      <td>HLA-A*03:01,HLA-A*29:02,HLA-B*07:02,HLA-B*44:0...</td>\n",
       "      <td>HLA-DRB1*04:02,HLA-DRB1*08:01,HLA-DQA1*03:01,H...</td>\n",
       "      <td>True</td>\n",
       "      <td>HNSC</td>\n",
       "    </tr>\n",
       "    <tr>\n",
       "      <th>4</th>\n",
       "      <td>Pt77</td>\n",
       "      <td>HLA-A*03:01,HLA-A*29:02,HLA-B*07:02,HLA-B*44:0...</td>\n",
       "      <td>HLA-DRB1*04:02,HLA-DRB1*08:01,HLA-DQA1*03:01,H...</td>\n",
       "      <td>True</td>\n",
       "      <td>HNSC</td>\n",
       "    </tr>\n",
       "    <tr>\n",
       "      <th>5</th>\n",
       "      <td>Pt117</td>\n",
       "      <td>HLA-A*03:01,HLA-A*29:02,HLA-B*07:02,HLA-B*44:0...</td>\n",
       "      <td>HLA-DRB1*04:02,HLA-DRB1*08:01,HLA-DQA1*03:01,H...</td>\n",
       "      <td>True</td>\n",
       "      <td>HNSC</td>\n",
       "    </tr>\n",
       "    <tr>\n",
       "      <th>6</th>\n",
       "      <td>Pt110</td>\n",
       "      <td>HLA-A*03:01,HLA-A*29:02,HLA-B*07:02,HLA-B*44:0...</td>\n",
       "      <td>HLA-DRB1*04:02,HLA-DRB1*08:01,HLA-DQA1*03:01,H...</td>\n",
       "      <td>True</td>\n",
       "      <td>HNSC</td>\n",
       "    </tr>\n",
       "    <tr>\n",
       "      <th>7</th>\n",
       "      <td>Pt26</td>\n",
       "      <td>HLA-A*03:01,HLA-A*29:02,HLA-B*07:02,HLA-B*44:0...</td>\n",
       "      <td>HLA-DRB1*04:02,HLA-DRB1*08:01,HLA-DQA1*03:01,H...</td>\n",
       "      <td>True</td>\n",
       "      <td>HNSC</td>\n",
       "    </tr>\n",
       "  </tbody>\n",
       "</table>\n",
       "</div>"
      ],
      "text/plain": [
       "  identifier                                        mhcIAlleles  \\\n",
       "0       Pt27  HLA-A*03:01,HLA-A*29:02,HLA-B*07:02,HLA-B*44:0...   \n",
       "1       Pt24  HLA-A*03:01,HLA-A*29:02,HLA-B*07:02,HLA-B*44:0...   \n",
       "2       Pt28  HLA-A*03:01,HLA-A*29:02,HLA-B*07:02,HLA-B*44:0...   \n",
       "3       Pt63  HLA-A*03:01,HLA-A*29:02,HLA-B*07:02,HLA-B*44:0...   \n",
       "4       Pt77  HLA-A*03:01,HLA-A*29:02,HLA-B*07:02,HLA-B*44:0...   \n",
       "5      Pt117  HLA-A*03:01,HLA-A*29:02,HLA-B*07:02,HLA-B*44:0...   \n",
       "6      Pt110  HLA-A*03:01,HLA-A*29:02,HLA-B*07:02,HLA-B*44:0...   \n",
       "7       Pt26  HLA-A*03:01,HLA-A*29:02,HLA-B*07:02,HLA-B*44:0...   \n",
       "\n",
       "                                        mhcIIAlleles  isRnaAvailable tumorType  \n",
       "0  HLA-DRB1*04:02,HLA-DRB1*08:01,HLA-DQA1*03:01,H...            True      HNSC  \n",
       "1  HLA-DRB1*04:02,HLA-DRB1*08:01,HLA-DQA1*03:01,H...            True      HNSC  \n",
       "2  HLA-DRB1*04:02,HLA-DRB1*08:01,HLA-DQA1*03:01,H...            True      HNSC  \n",
       "3  HLA-DRB1*04:02,HLA-DRB1*08:01,HLA-DQA1*03:01,H...            True      HNSC  \n",
       "4  HLA-DRB1*04:02,HLA-DRB1*08:01,HLA-DQA1*03:01,H...            True      HNSC  \n",
       "5  HLA-DRB1*04:02,HLA-DRB1*08:01,HLA-DQA1*03:01,H...            True      HNSC  \n",
       "6  HLA-DRB1*04:02,HLA-DRB1*08:01,HLA-DQA1*03:01,H...            True      HNSC  \n",
       "7  HLA-DRB1*04:02,HLA-DRB1*08:01,HLA-DQA1*03:01,H...            True      HNSC  "
      ]
     },
     "execution_count": 39,
     "metadata": {},
     "output_type": "execute_result"
    }
   ],
   "source": [
    "pd.read_csv(\"data/test_patient_file.txt\", sep=\"\\t\")"
   ]
  },
  {
   "cell_type": "markdown",
   "metadata": {},
   "source": [
    "Parse the patients into the model objects as follows:"
   ]
  },
  {
   "cell_type": "code",
   "execution_count": 40,
   "metadata": {},
   "outputs": [],
   "source": [
    "patients = ModelConverter.parse_patients_file(\"data/test_patient_file.txt\", hla_database=hla_database)"
   ]
  },
  {
   "cell_type": "markdown",
   "metadata": {},
   "source": [
    "### Annotate your neoantigens\n",
    "\n",
    "Running NeoFox requires the configuration its configuration through a number of environment variables, this is described in detail elsewhere in the documentation. This configuration can also be provided through a file passed into Neofox class in the field `configuration_file`."
   ]
  },
  {
   "cell_type": "code",
   "execution_count": 41,
   "metadata": {},
   "outputs": [],
   "source": [
    "from neofox.neofox import NeoFox\n",
    "import os"
   ]
  },
  {
   "cell_type": "code",
   "execution_count": 42,
   "metadata": {},
   "outputs": [
    {
     "name": "stderr",
     "output_type": "stream",
     "text": [
      "[I 210610 21:44:59 references:189] Reference genome folder: /neofox_install/reference_data/\n",
      "[I 210610 21:44:59 references:190] Resources\n",
      "[I 210610 21:44:59 references:192] /neofox_install/reference_data/netmhc2pan_available_alleles.txt\n",
      "[I 210610 21:44:59 references:192] /neofox_install/reference_data/netmhcpan_available_alleles.txt\n",
      "[I 210610 21:44:59 references:192] /neofox_install/reference_data/iedb\n",
      "[I 210610 21:44:59 references:192] /neofox_install/reference_data/proteome_db\n",
      "[I 210610 21:44:59 references:192] /neofox_install/reference_data/proteome_db/Homo_sapiens.fa\n",
      "[I 210610 21:44:59 references:192] /neofox_install/reference_data/iedb/IEDB.fasta\n",
      "[I 210610 21:44:59 references:192] /neofox_install/reference_data/proteome_db/Homo_sapiens.fa\n",
      "[I 210610 21:44:59 references:192] /neofox_install/reference_data/hla_database_allele_list.csv\n",
      "[I 210610 21:44:59 expression_imputation:71] Fetching the gene expression at VCAN:10\n",
      "[I 210610 21:44:59 expression_imputation:77] Fetched a gene expression of 8.8404052357\n",
      "[I 210610 21:44:59 expression_imputation:71] Fetching the gene expression at DCST2:10\n",
      "[I 210610 21:44:59 expression_imputation:77] Fetched a gene expression of 0.1283784886\n",
      "[I 210610 21:44:59 expression_imputation:71] Fetching the gene expression at NRAS:10\n",
      "[I 210610 21:44:59 expression_imputation:77] Fetched a gene expression of 14.0097794749\n",
      "[I 210610 21:44:59 expression_imputation:71] Fetching the gene expression at CEP350:10\n",
      "[I 210610 21:44:59 expression_imputation:77] Fetched a gene expression of 4.1881530572\n",
      "[I 210610 21:44:59 expression_imputation:71] Fetching the gene expression at CPPED1:10\n",
      "[I 210610 21:44:59 expression_imputation:77] Fetched a gene expression of 3.2718222656\n",
      "[I 210610 21:44:59 expression_imputation:71] Fetching the gene expression at CXorf26:10\n",
      "[I 210610 21:44:59 expression_imputation:77] Fetched a gene expression of 13.5743362176\n",
      "[I 210610 21:44:59 expression_imputation:71] Fetching the gene expression at IGSF9B:10\n",
      "[I 210610 21:44:59 expression_imputation:77] Fetched a gene expression of 0.0771477047\n",
      "[I 210610 21:44:59 expression_imputation:71] Fetching the gene expression at HEATR5A:10\n",
      "[I 210610 21:44:59 expression_imputation:77] Fetched a gene expression of 2.8020526973\n",
      "[I 210610 21:44:59 expression_imputation:71] Fetching the gene expression at CHRDL2:10\n",
      "[I 210610 21:44:59 expression_imputation:77] Fetched a gene expression of 0.3346201976\n",
      "[I 210610 21:44:59 neofox:125] Data loaded\n",
      "[I 210610 21:44:59 neofox:203] Starting NeoFox annotations...\n",
      "/home/priesgo/src/addannot/venv37/lib/python3.7/site-packages/distributed/node.py:155: UserWarning: Port 8787 is already in use.\n",
      "Perhaps you already have a cluster running?\n",
      "Hosting the HTTP server on port 44957 instead\n",
      "  http_address[\"port\"], self.http_server.port\n",
      "[I 210610 21:47:12 neofox:250] Elapsed time for annotating 9 neoantigens 131 seconds\n"
     ]
    }
   ],
   "source": [
    "os.environ[\"NEOFOX_REFERENCE_FOLDER\"] = \"/neofox_install/reference_data/\"\n",
    "os.environ[\"NEOFOX_RSCRIPT\"] = \"/usr/bin/Rscript\"\n",
    "os.environ[\"NEOFOX_BLASTP\"] = \"/neofox_install/ncbi-blast-2.10.1+/bin/blastp\"\n",
    "os.environ[\"NEOFOX_NETMHCPAN\"] = \"/neofox_install/netMHCpan-4.1/netMHCpan\"\n",
    "os.environ[\"NEOFOX_NETMHC2PAN\"] = \"/neofox_install/netMHCIIpan-4.0/netMHCIIpan\"\n",
    "os.environ[\"NEOFOX_MIXMHCPRED\"] = \"/neofox_install/MixMHCpred-2.1/MixMHCpred\"\n",
    "os.environ[\"NEOFOX_MIXMHC2PRED\"] = \"/neofox_install/MixMHC2pred-1.2/MixMHC2pred_unix\"\n",
    "os.environ[\"NEOFOX_PRIME\"] = \"/neofox_install/PRIME-master/PRIME\"\n",
    "annotations = NeoFox(neoantigens=neoantigens, patients=patients, num_cpus=4).get_annotations()"
   ]
  },
  {
   "cell_type": "markdown",
   "metadata": {},
   "source": [
    "Neofox returns a list of annotations for each neoantigen, these are stored in an object called `NeoantigenAnnotations` which contains the corresponding neoantigen identifier, the annotator (ie: neofox), the annotator version, a timestamp and finally a list of the annotations."
   ]
  },
  {
   "cell_type": "code",
   "execution_count": 43,
   "metadata": {},
   "outputs": [
    {
     "data": {
      "text/plain": [
       "{'neoantigenIdentifier': '89CU9fUhWJ9zADEZMuwljQ==',\n",
       " 'annotations': [{'name': 'Best_rank_MHCI_score', 'value': '3.906'},\n",
       "  {'name': 'Best_rank_MHCI_score_epitope', 'value': 'VTDQTRLEA'},\n",
       "  {'name': 'Best_rank_MHCI_score_allele', 'value': 'HLA-C*16:01'},\n",
       "  {'name': 'Best_affinity_MHCI_score', 'value': '2982.7'},\n",
       "  {'name': 'Best_affinity_MHCI_epitope', 'value': 'VTDQTRLEA'},\n",
       "  {'name': 'Best_affinity_MHCI_allele', 'value': 'HLA-C*16:01'},\n",
       "  {'name': 'Best_rank_MHCI_9mer_score', 'value': '3.906'},\n",
       "  {'name': 'Best_rank_MHCI_9mer_epitope', 'value': 'VTDQTRLEA'},\n",
       "  {'name': 'Best_rank_MHCI_9mer_allele', 'value': 'HLA-C*16:01'},\n",
       "  {'name': 'Best_affinity_MHCI_9mer_score', 'value': '2982.7'},\n",
       "  {'name': 'Best_affinity_MHCI_9mer_allele', 'value': 'HLA-C*16:01'},\n",
       "  {'name': 'Best_affinity_MHCI_9mer_epitope', 'value': 'VTDQTRLEA'},\n",
       "  {'name': 'Best_affinity_MHCI_score_WT', 'value': '9467.9'},\n",
       "  {'name': 'Best_affinity_MHCI_epitope_WT', 'value': 'VIDQTRLEA'},\n",
       "  {'name': 'Best_affinity_MHCI_allele_WT', 'value': 'HLA-C*16:01'},\n",
       "  {'name': 'Best_rank_MHCI_score_WT', 'value': '8.277'},\n",
       "  {'name': 'Best_rank_MHCI_score_epitope_WT', 'value': 'VIDQTRLEA'},\n",
       "  {'name': 'Best_rank_MHCI_score_allele_WT', 'value': 'HLA-C*16:01'},\n",
       "  {'name': 'Best_rank_MHCI_9mer_score_WT', 'value': '8.277'},\n",
       "  {'name': 'Best_rank_MHCI_9mer_epitope_WT', 'value': 'VIDQTRLEA'},\n",
       "  {'name': 'Best_rank_MHCI_9mer_allele_WT', 'value': 'HLA-C*16:01'},\n",
       "  {'name': 'Best_affinity_MHCI_9mer_score_WT', 'value': '9467.9'},\n",
       "  {'name': 'Best_affinity_MHCI_9mer_allele_WT', 'value': 'HLA-C*16:01'},\n",
       "  {'name': 'Best_affinity_MHCI_9mer_epitope_WT', 'value': 'VIDQTRLEA'},\n",
       "  {'name': 'Generator_rate_MHCI', 'value': '0'},\n",
       "  {'name': 'Generator_rate_CDN_MHCI', 'value': '0'},\n",
       "  {'name': 'Generator_rate_ADN_MHCI', 'value': '0'},\n",
       "  {'name': 'PHBR-I', 'value': '6.2707'},\n",
       "  {'name': 'Best_affinity_MHCI_9mer_position_mutation', 'value': '2'},\n",
       "  {'name': 'Best_affinity_MHCI_9mer_anchor_mutated', 'value': '1'},\n",
       "  {'name': 'Best_rank_MHCII_score', 'value': '3.26'},\n",
       "  {'name': 'Best_rank_MHCII_score_epitope', 'value': 'SQDILVTDQTRLEAT'},\n",
       "  {'name': 'Best_rank_MHCII_score_allele',\n",
       "   'value': 'HLA-DQA1*03:01-DQB1*03:02'},\n",
       "  {'name': 'Best_affinity_MHCII_score', 'value': '1103.5'},\n",
       "  {'name': 'Best_affinity_MHCII_epitope', 'value': 'QDILVTDQTRLEATI'},\n",
       "  {'name': 'Best_affinity_MHCII_allele', 'value': 'HLA-DRB1*08:01'},\n",
       "  {'name': 'Best_rank_MHCII_score_WT', 'value': '6.14'},\n",
       "  {'name': 'Best_rank_MHCII_score_epitope_WT', 'value': 'SQDILVIDQTRLEAT'},\n",
       "  {'name': 'Best_rank_MHCII_score_allele_WT',\n",
       "   'value': 'HLA-DQA1*03:01-DQB1*03:02'},\n",
       "  {'name': 'Best_affinity_MHCII_score_WT', 'value': '562.6'},\n",
       "  {'name': 'Best_affinity_MHCII_epitope_WT', 'value': 'QDILVIDQTRLEATI'},\n",
       "  {'name': 'Best_affinity_MHCII_allele_WT', 'value': 'HLA-DRB1*08:01'},\n",
       "  {'name': 'PHBR-II', 'value': '8.8958'},\n",
       "  {'name': 'Generator_rate_MHCII', 'value': '0'},\n",
       "  {'name': 'Generator_rate_CDN_MHCII', 'value': '0'},\n",
       "  {'name': 'Generator_rate_ADN_MHCII', 'value': '0'},\n",
       "  {'name': 'MixMHCpred_best_peptide', 'value': 'VTDQTRLEA'},\n",
       "  {'name': 'MixMHCpred_best_score', 'value': '-0.09792'},\n",
       "  {'name': 'MixMHCpred_best_rank', 'value': '10'},\n",
       "  {'name': 'MixMHCpred_best_allele', 'value': 'HLA-A*29:02'},\n",
       "  {'name': 'PRIME_best_peptide', 'value': 'LVTDQTRLE'},\n",
       "  {'name': 'PRIME_best_score', 'value': '0.16349'},\n",
       "  {'name': 'PRIME_best_rank', 'value': '5'},\n",
       "  {'name': 'PRIME_best_allele', 'value': 'HLA-A*29:02'},\n",
       "  {'name': 'MixMHC2pred_best_peptide', 'value': 'DEVLGEPSQDILVT'},\n",
       "  {'name': 'MixMHC2pred_best_rank', 'value': '3.06'},\n",
       "  {'name': 'MixMHC2pred_best_allele', 'value': 'HLA-DPA1*01:03-DPB1*04:01'},\n",
       "  {'name': 'Expression_mutated_transcript', 'value': 'NA'},\n",
       "  {'name': 'mutation_not_found_in_proteome', 'value': '1'},\n",
       "  {'name': 'Amplitude_MHCI_affinity_9mer', 'value': '0.82656'},\n",
       "  {'name': 'Amplitude_MHCI_affinity', 'value': '0.82656'},\n",
       "  {'name': 'Amplitude_MHCII_rank', 'value': '1.8834'},\n",
       "  {'name': 'Pathogensimiliarity_MHCI_affinity_9mer', 'value': '0'},\n",
       "  {'name': 'Recognition_Potential_MHCI_affinity_9mer', 'value': '0'},\n",
       "  {'name': 'DAI_MHCI_affinity', 'value': '6485.2'},\n",
       "  {'name': 'CDN_MHCI', 'value': '0'},\n",
       "  {'name': 'ADN_MHCI', 'value': '0'},\n",
       "  {'name': 'CDN_MHCII', 'value': '0'},\n",
       "  {'name': 'ADN_MHCII', 'value': '0'},\n",
       "  {'name': 'Tcell_predictor_score', 'value': '0.5094749478464053'},\n",
       "  {'name': 'Improved_Binder_MHCI', 'value': '1'},\n",
       "  {'name': 'Selfsimilarity_MHCI_conserved_binder', 'value': 'NA'},\n",
       "  {'name': 'Number_of_mismatches_MCHI', 'value': '1'},\n",
       "  {'name': 'Priority_score', 'value': 'NA'},\n",
       "  {'name': 'Neoag_immunogenicity', 'value': '142.3854'},\n",
       "  {'name': 'IEDB_Immunogenicity_MHCI', 'value': '0.0263'},\n",
       "  {'name': 'Dissimilarity_MHCI', 'value': '0'},\n",
       "  {'name': 'vaxrank_binding_score', 'value': '0'},\n",
       "  {'name': 'vaxrank_total_score', 'value': 'NA'}],\n",
       " 'annotator': 'Neofox',\n",
       " 'annotatorVersion': '0.5.0.dev28',\n",
       " 'timestamp': '20210610214503712320'}"
      ]
     },
     "execution_count": 43,
     "metadata": {},
     "output_type": "execute_result"
    }
   ],
   "source": [
    "annotations[0].to_dict()"
   ]
  },
  {
   "cell_type": "markdown",
   "metadata": {},
   "source": [
    "### Transform the annotations into a data frame"
   ]
  },
  {
   "cell_type": "code",
   "execution_count": 44,
   "metadata": {},
   "outputs": [
    {
     "data": {
      "text/html": [
       "<div>\n",
       "<style scoped>\n",
       "    .dataframe tbody tr th:only-of-type {\n",
       "        vertical-align: middle;\n",
       "    }\n",
       "\n",
       "    .dataframe tbody tr th {\n",
       "        vertical-align: top;\n",
       "    }\n",
       "\n",
       "    .dataframe thead th {\n",
       "        text-align: right;\n",
       "    }\n",
       "</style>\n",
       "<table border=\"1\" class=\"dataframe\">\n",
       "  <thead>\n",
       "    <tr style=\"text-align: right;\">\n",
       "      <th></th>\n",
       "      <th>name</th>\n",
       "      <th>neoantigen_identifier</th>\n",
       "      <th>value</th>\n",
       "    </tr>\n",
       "  </thead>\n",
       "  <tbody>\n",
       "    <tr>\n",
       "      <th>0</th>\n",
       "      <td>Best_rank_MHCI_score</td>\n",
       "      <td>89CU9fUhWJ9zADEZMuwljQ==</td>\n",
       "      <td>3.906</td>\n",
       "    </tr>\n",
       "    <tr>\n",
       "      <th>1</th>\n",
       "      <td>Best_rank_MHCI_score_epitope</td>\n",
       "      <td>89CU9fUhWJ9zADEZMuwljQ==</td>\n",
       "      <td>VTDQTRLEA</td>\n",
       "    </tr>\n",
       "    <tr>\n",
       "      <th>2</th>\n",
       "      <td>Best_rank_MHCI_score_allele</td>\n",
       "      <td>89CU9fUhWJ9zADEZMuwljQ==</td>\n",
       "      <td>HLA-C*16:01</td>\n",
       "    </tr>\n",
       "    <tr>\n",
       "      <th>3</th>\n",
       "      <td>Best_affinity_MHCI_score</td>\n",
       "      <td>89CU9fUhWJ9zADEZMuwljQ==</td>\n",
       "      <td>2982.7</td>\n",
       "    </tr>\n",
       "    <tr>\n",
       "      <th>4</th>\n",
       "      <td>Best_affinity_MHCI_epitope</td>\n",
       "      <td>89CU9fUhWJ9zADEZMuwljQ==</td>\n",
       "      <td>VTDQTRLEA</td>\n",
       "    </tr>\n",
       "    <tr>\n",
       "      <th>5</th>\n",
       "      <td>Best_affinity_MHCI_allele</td>\n",
       "      <td>89CU9fUhWJ9zADEZMuwljQ==</td>\n",
       "      <td>HLA-C*16:01</td>\n",
       "    </tr>\n",
       "    <tr>\n",
       "      <th>6</th>\n",
       "      <td>Best_rank_MHCI_9mer_score</td>\n",
       "      <td>89CU9fUhWJ9zADEZMuwljQ==</td>\n",
       "      <td>3.906</td>\n",
       "    </tr>\n",
       "    <tr>\n",
       "      <th>7</th>\n",
       "      <td>Best_rank_MHCI_9mer_epitope</td>\n",
       "      <td>89CU9fUhWJ9zADEZMuwljQ==</td>\n",
       "      <td>VTDQTRLEA</td>\n",
       "    </tr>\n",
       "    <tr>\n",
       "      <th>8</th>\n",
       "      <td>Best_rank_MHCI_9mer_allele</td>\n",
       "      <td>89CU9fUhWJ9zADEZMuwljQ==</td>\n",
       "      <td>HLA-C*16:01</td>\n",
       "    </tr>\n",
       "    <tr>\n",
       "      <th>9</th>\n",
       "      <td>Best_affinity_MHCI_9mer_score</td>\n",
       "      <td>89CU9fUhWJ9zADEZMuwljQ==</td>\n",
       "      <td>2982.7</td>\n",
       "    </tr>\n",
       "  </tbody>\n",
       "</table>\n",
       "</div>"
      ],
      "text/plain": [
       "                            name     neoantigen_identifier        value\n",
       "0           Best_rank_MHCI_score  89CU9fUhWJ9zADEZMuwljQ==        3.906\n",
       "1   Best_rank_MHCI_score_epitope  89CU9fUhWJ9zADEZMuwljQ==    VTDQTRLEA\n",
       "2    Best_rank_MHCI_score_allele  89CU9fUhWJ9zADEZMuwljQ==  HLA-C*16:01\n",
       "3       Best_affinity_MHCI_score  89CU9fUhWJ9zADEZMuwljQ==       2982.7\n",
       "4     Best_affinity_MHCI_epitope  89CU9fUhWJ9zADEZMuwljQ==    VTDQTRLEA\n",
       "5      Best_affinity_MHCI_allele  89CU9fUhWJ9zADEZMuwljQ==  HLA-C*16:01\n",
       "6      Best_rank_MHCI_9mer_score  89CU9fUhWJ9zADEZMuwljQ==        3.906\n",
       "7    Best_rank_MHCI_9mer_epitope  89CU9fUhWJ9zADEZMuwljQ==    VTDQTRLEA\n",
       "8     Best_rank_MHCI_9mer_allele  89CU9fUhWJ9zADEZMuwljQ==  HLA-C*16:01\n",
       "9  Best_affinity_MHCI_9mer_score  89CU9fUhWJ9zADEZMuwljQ==       2982.7"
      ]
     },
     "execution_count": 44,
     "metadata": {},
     "output_type": "execute_result"
    }
   ],
   "source": [
    "annotations_ts = ModelConverter.annotations2tall_skinny_table(neoantigen_annotations=annotations)\n",
    "annotations_ts.head(10)"
   ]
  },
  {
   "cell_type": "code",
   "execution_count": 45,
   "metadata": {},
   "outputs": [
    {
     "data": {
      "text/html": [
       "<div>\n",
       "<style scoped>\n",
       "    .dataframe tbody tr th:only-of-type {\n",
       "        vertical-align: middle;\n",
       "    }\n",
       "\n",
       "    .dataframe tbody tr th {\n",
       "        vertical-align: top;\n",
       "    }\n",
       "\n",
       "    .dataframe thead th {\n",
       "        text-align: right;\n",
       "    }\n",
       "</style>\n",
       "<table border=\"1\" class=\"dataframe\">\n",
       "  <thead>\n",
       "    <tr style=\"text-align: right;\">\n",
       "      <th></th>\n",
       "      <th>patientIdentifier</th>\n",
       "      <th>gene</th>\n",
       "      <th>mutation.mutatedXmer</th>\n",
       "      <th>mutation.wildTypeXmer</th>\n",
       "      <th>mutation.position</th>\n",
       "      <th>dnaVariantAlleleFrequency</th>\n",
       "      <th>rnaVariantAlleleFrequency</th>\n",
       "      <th>rnaExpression</th>\n",
       "      <th>imputedGeneExpression</th>\n",
       "      <th>ADN_MHCI</th>\n",
       "      <th>...</th>\n",
       "      <th>PRIME_best_rank</th>\n",
       "      <th>PRIME_best_score</th>\n",
       "      <th>Pathogensimiliarity_MHCI_affinity_9mer</th>\n",
       "      <th>Priority_score</th>\n",
       "      <th>Recognition_Potential_MHCI_affinity_9mer</th>\n",
       "      <th>Selfsimilarity_MHCI_conserved_binder</th>\n",
       "      <th>Tcell_predictor_score</th>\n",
       "      <th>mutation_not_found_in_proteome</th>\n",
       "      <th>vaxrank_binding_score</th>\n",
       "      <th>vaxrank_total_score</th>\n",
       "    </tr>\n",
       "  </thead>\n",
       "  <tbody>\n",
       "    <tr>\n",
       "      <th>0</th>\n",
       "      <td>Pt27</td>\n",
       "      <td>VCAN</td>\n",
       "      <td>DEVLGEPSQDILVTDQTRLEATISPET</td>\n",
       "      <td>DEVLGEPSQDILVIDQTRLEATISPET</td>\n",
       "      <td>14</td>\n",
       "      <td>NA</td>\n",
       "      <td>NA</td>\n",
       "      <td>8.840405</td>\n",
       "      <td>8.840405</td>\n",
       "      <td>0</td>\n",
       "      <td>...</td>\n",
       "      <td>5</td>\n",
       "      <td>0.16349</td>\n",
       "      <td>0</td>\n",
       "      <td>NA</td>\n",
       "      <td>0</td>\n",
       "      <td>NA</td>\n",
       "      <td>0.5094749478464053</td>\n",
       "      <td>1</td>\n",
       "      <td>0</td>\n",
       "      <td>NA</td>\n",
       "    </tr>\n",
       "    <tr>\n",
       "      <th>1</th>\n",
       "      <td>Pt24</td>\n",
       "      <td>DCST2</td>\n",
       "      <td>RTNLLAALHRSVRWRAADQGHRSAFLV</td>\n",
       "      <td>RTNLLAALHRSVRRRAADQGHRSAFLV</td>\n",
       "      <td>14</td>\n",
       "      <td>NA</td>\n",
       "      <td>NA</td>\n",
       "      <td>0.128378</td>\n",
       "      <td>0.128378</td>\n",
       "      <td>0</td>\n",
       "      <td>...</td>\n",
       "      <td>0.5</td>\n",
       "      <td>0.17545</td>\n",
       "      <td>0</td>\n",
       "      <td>NA</td>\n",
       "      <td>0</td>\n",
       "      <td>0.9421875787623097</td>\n",
       "      <td>0.27191401693602235</td>\n",
       "      <td>1</td>\n",
       "      <td>0.38942</td>\n",
       "      <td>NA</td>\n",
       "    </tr>\n",
       "    <tr>\n",
       "      <th>2</th>\n",
       "      <td>Pt28</td>\n",
       "      <td>NRAS</td>\n",
       "      <td>MTEYKLVVVGACGVGKSALTIQLIQ</td>\n",
       "      <td>MTEYKLVVVGAGGVGKSALTIQLIQ</td>\n",
       "      <td>12</td>\n",
       "      <td>NA</td>\n",
       "      <td>NA</td>\n",
       "      <td>14.009779</td>\n",
       "      <td>14.009779</td>\n",
       "      <td>0</td>\n",
       "      <td>...</td>\n",
       "      <td>0.3</td>\n",
       "      <td>0.1794</td>\n",
       "      <td>0</td>\n",
       "      <td>NA</td>\n",
       "      <td>0</td>\n",
       "      <td>0.9330521460001094</td>\n",
       "      <td>0.5068878716790075</td>\n",
       "      <td>1</td>\n",
       "      <td>1.4787</td>\n",
       "      <td>NA</td>\n",
       "    </tr>\n",
       "    <tr>\n",
       "      <th>3</th>\n",
       "      <td>Pt63</td>\n",
       "      <td>CEP350</td>\n",
       "      <td>QTDSSSSDMQACSKDKAKISLGSSIDS</td>\n",
       "      <td>QTDSSSSDMQACSQDKAKISLGSSIDS</td>\n",
       "      <td>14</td>\n",
       "      <td>NA</td>\n",
       "      <td>NA</td>\n",
       "      <td>4.188153</td>\n",
       "      <td>4.188153</td>\n",
       "      <td>0</td>\n",
       "      <td>...</td>\n",
       "      <td>2</td>\n",
       "      <td>0.16876</td>\n",
       "      <td>0</td>\n",
       "      <td>NA</td>\n",
       "      <td>0</td>\n",
       "      <td>0.9822504402167844</td>\n",
       "      <td>0.3367698236194417</td>\n",
       "      <td>1</td>\n",
       "      <td>0.23049</td>\n",
       "      <td>NA</td>\n",
       "    </tr>\n",
       "    <tr>\n",
       "      <th>4</th>\n",
       "      <td>Pt77</td>\n",
       "      <td>CPPED1</td>\n",
       "      <td>DRAIPLVLVSGNHYIGNTPTAETVEEF</td>\n",
       "      <td>DRAIPLVLVSGNHDIGNTPTAETVEEF</td>\n",
       "      <td>14</td>\n",
       "      <td>NA</td>\n",
       "      <td>NA</td>\n",
       "      <td>3.271822</td>\n",
       "      <td>3.271822</td>\n",
       "      <td>1</td>\n",
       "      <td>...</td>\n",
       "      <td>2</td>\n",
       "      <td>0.17307</td>\n",
       "      <td>0</td>\n",
       "      <td>NA</td>\n",
       "      <td>0</td>\n",
       "      <td>NA</td>\n",
       "      <td>0.5720939101479084</td>\n",
       "      <td>1</td>\n",
       "      <td>0.8453</td>\n",
       "      <td>NA</td>\n",
       "    </tr>\n",
       "    <tr>\n",
       "      <th>5</th>\n",
       "      <td>Pt117</td>\n",
       "      <td>CXorf26</td>\n",
       "      <td>YNKAVYISVQDKEEEKGVNNGGEKRAD</td>\n",
       "      <td>YNKAVYISVQDKEGEKGVNNGGEKRAD</td>\n",
       "      <td>14</td>\n",
       "      <td>NA</td>\n",
       "      <td>NA</td>\n",
       "      <td>13.574336</td>\n",
       "      <td>13.574336</td>\n",
       "      <td>0</td>\n",
       "      <td>...</td>\n",
       "      <td>2</td>\n",
       "      <td>0.16764</td>\n",
       "      <td>0</td>\n",
       "      <td>NA</td>\n",
       "      <td>0</td>\n",
       "      <td>0.9542175575949939</td>\n",
       "      <td>0.4886563384775356</td>\n",
       "      <td>1</td>\n",
       "      <td>0</td>\n",
       "      <td>NA</td>\n",
       "    </tr>\n",
       "    <tr>\n",
       "      <th>6</th>\n",
       "      <td>Pt110</td>\n",
       "      <td>IGSF9B</td>\n",
       "      <td>ASTHLTVIGTSPHVPGSVRVQVSMTTA</td>\n",
       "      <td>ASTHLTVIGTSPHAPGSVRVQVSMTTA</td>\n",
       "      <td>14</td>\n",
       "      <td>NA</td>\n",
       "      <td>NA</td>\n",
       "      <td>0.077148</td>\n",
       "      <td>0.077148</td>\n",
       "      <td>0</td>\n",
       "      <td>...</td>\n",
       "      <td>0.3</td>\n",
       "      <td>0.17709</td>\n",
       "      <td>0</td>\n",
       "      <td>NA</td>\n",
       "      <td>0</td>\n",
       "      <td>0.9874590500904996</td>\n",
       "      <td>0.09919940654277996</td>\n",
       "      <td>1</td>\n",
       "      <td>3.6385</td>\n",
       "      <td>NA</td>\n",
       "    </tr>\n",
       "    <tr>\n",
       "      <th>7</th>\n",
       "      <td>Pt26</td>\n",
       "      <td>HEATR5A</td>\n",
       "      <td>TRRDEKSHPFTNPQWATRVFAAECVCR</td>\n",
       "      <td>TRRDEKSHPFTNPRWATRVFAAECVCR</td>\n",
       "      <td>14</td>\n",
       "      <td>NA</td>\n",
       "      <td>NA</td>\n",
       "      <td>2.802053</td>\n",
       "      <td>2.802053</td>\n",
       "      <td>0</td>\n",
       "      <td>...</td>\n",
       "      <td>0.03</td>\n",
       "      <td>0.19263</td>\n",
       "      <td>0</td>\n",
       "      <td>NA</td>\n",
       "      <td>0</td>\n",
       "      <td>0.9614920042660836</td>\n",
       "      <td>0.3374084622586067</td>\n",
       "      <td>1</td>\n",
       "      <td>3.1392</td>\n",
       "      <td>NA</td>\n",
       "    </tr>\n",
       "    <tr>\n",
       "      <th>8</th>\n",
       "      <td>Pt77</td>\n",
       "      <td>CHRDL2</td>\n",
       "      <td>ARPDMFCLFHGKRHFPGESWHPYLEPQ</td>\n",
       "      <td>ARPDMFCLFHGKRYFPGESWHPYLEPQ</td>\n",
       "      <td>14</td>\n",
       "      <td>NA</td>\n",
       "      <td>NA</td>\n",
       "      <td>0.334620</td>\n",
       "      <td>0.334620</td>\n",
       "      <td>0</td>\n",
       "      <td>...</td>\n",
       "      <td>2</td>\n",
       "      <td>0.17078</td>\n",
       "      <td>0.99239</td>\n",
       "      <td>NA</td>\n",
       "      <td>NA</td>\n",
       "      <td>0.9782021524274523</td>\n",
       "      <td>0.4311394423910402</td>\n",
       "      <td>1</td>\n",
       "      <td>2.6589</td>\n",
       "      <td>NA</td>\n",
       "    </tr>\n",
       "  </tbody>\n",
       "</table>\n",
       "<p>9 rows × 88 columns</p>\n",
       "</div>"
      ],
      "text/plain": [
       "  patientIdentifier     gene         mutation.mutatedXmer  \\\n",
       "0              Pt27     VCAN  DEVLGEPSQDILVTDQTRLEATISPET   \n",
       "1              Pt24    DCST2  RTNLLAALHRSVRWRAADQGHRSAFLV   \n",
       "2              Pt28     NRAS    MTEYKLVVVGACGVGKSALTIQLIQ   \n",
       "3              Pt63   CEP350  QTDSSSSDMQACSKDKAKISLGSSIDS   \n",
       "4              Pt77   CPPED1  DRAIPLVLVSGNHYIGNTPTAETVEEF   \n",
       "5             Pt117  CXorf26  YNKAVYISVQDKEEEKGVNNGGEKRAD   \n",
       "6             Pt110   IGSF9B  ASTHLTVIGTSPHVPGSVRVQVSMTTA   \n",
       "7              Pt26  HEATR5A  TRRDEKSHPFTNPQWATRVFAAECVCR   \n",
       "8              Pt77   CHRDL2  ARPDMFCLFHGKRHFPGESWHPYLEPQ   \n",
       "\n",
       "         mutation.wildTypeXmer mutation.position dnaVariantAlleleFrequency  \\\n",
       "0  DEVLGEPSQDILVIDQTRLEATISPET                14                        NA   \n",
       "1  RTNLLAALHRSVRRRAADQGHRSAFLV                14                        NA   \n",
       "2    MTEYKLVVVGAGGVGKSALTIQLIQ                12                        NA   \n",
       "3  QTDSSSSDMQACSQDKAKISLGSSIDS                14                        NA   \n",
       "4  DRAIPLVLVSGNHDIGNTPTAETVEEF                14                        NA   \n",
       "5  YNKAVYISVQDKEGEKGVNNGGEKRAD                14                        NA   \n",
       "6  ASTHLTVIGTSPHAPGSVRVQVSMTTA                14                        NA   \n",
       "7  TRRDEKSHPFTNPRWATRVFAAECVCR                14                        NA   \n",
       "8  ARPDMFCLFHGKRYFPGESWHPYLEPQ                14                        NA   \n",
       "\n",
       "  rnaVariantAlleleFrequency  rnaExpression  imputedGeneExpression ADN_MHCI  \\\n",
       "0                        NA       8.840405               8.840405        0   \n",
       "1                        NA       0.128378               0.128378        0   \n",
       "2                        NA      14.009779              14.009779        0   \n",
       "3                        NA       4.188153               4.188153        0   \n",
       "4                        NA       3.271822               3.271822        1   \n",
       "5                        NA      13.574336              13.574336        0   \n",
       "6                        NA       0.077148               0.077148        0   \n",
       "7                        NA       2.802053               2.802053        0   \n",
       "8                        NA       0.334620               0.334620        0   \n",
       "\n",
       "   ... PRIME_best_rank PRIME_best_score  \\\n",
       "0  ...               5          0.16349   \n",
       "1  ...             0.5          0.17545   \n",
       "2  ...             0.3           0.1794   \n",
       "3  ...               2          0.16876   \n",
       "4  ...               2          0.17307   \n",
       "5  ...               2          0.16764   \n",
       "6  ...             0.3          0.17709   \n",
       "7  ...            0.03          0.19263   \n",
       "8  ...               2          0.17078   \n",
       "\n",
       "  Pathogensimiliarity_MHCI_affinity_9mer Priority_score  \\\n",
       "0                                      0             NA   \n",
       "1                                      0             NA   \n",
       "2                                      0             NA   \n",
       "3                                      0             NA   \n",
       "4                                      0             NA   \n",
       "5                                      0             NA   \n",
       "6                                      0             NA   \n",
       "7                                      0             NA   \n",
       "8                                0.99239             NA   \n",
       "\n",
       "  Recognition_Potential_MHCI_affinity_9mer  \\\n",
       "0                                        0   \n",
       "1                                        0   \n",
       "2                                        0   \n",
       "3                                        0   \n",
       "4                                        0   \n",
       "5                                        0   \n",
       "6                                        0   \n",
       "7                                        0   \n",
       "8                                       NA   \n",
       "\n",
       "  Selfsimilarity_MHCI_conserved_binder Tcell_predictor_score  \\\n",
       "0                                   NA    0.5094749478464053   \n",
       "1                   0.9421875787623097   0.27191401693602235   \n",
       "2                   0.9330521460001094    0.5068878716790075   \n",
       "3                   0.9822504402167844    0.3367698236194417   \n",
       "4                                   NA    0.5720939101479084   \n",
       "5                   0.9542175575949939    0.4886563384775356   \n",
       "6                   0.9874590500904996   0.09919940654277996   \n",
       "7                   0.9614920042660836    0.3374084622586067   \n",
       "8                   0.9782021524274523    0.4311394423910402   \n",
       "\n",
       "  mutation_not_found_in_proteome vaxrank_binding_score vaxrank_total_score  \n",
       "0                              1                     0                  NA  \n",
       "1                              1               0.38942                  NA  \n",
       "2                              1                1.4787                  NA  \n",
       "3                              1               0.23049                  NA  \n",
       "4                              1                0.8453                  NA  \n",
       "5                              1                     0                  NA  \n",
       "6                              1                3.6385                  NA  \n",
       "7                              1                3.1392                  NA  \n",
       "8                              1                2.6589                  NA  \n",
       "\n",
       "[9 rows x 88 columns]"
      ]
     },
     "execution_count": 45,
     "metadata": {},
     "output_type": "execute_result"
    }
   ],
   "source": [
    "annotations_sw = ModelConverter.annotations2short_wide_table(annotations, neoantigens)\n",
    "annotations_sw"
   ]
  }
 ],
 "metadata": {
  "kernelspec": {
   "display_name": "Python 3",
   "language": "python",
   "name": "python3"
  },
  "language_info": {
   "codemirror_mode": {
    "name": "ipython",
    "version": 3
   },
   "file_extension": ".py",
   "mimetype": "text/x-python",
   "name": "python",
   "nbconvert_exporter": "python",
   "pygments_lexer": "ipython3",
   "version": "3.7.10"
  }
 },
 "nbformat": 4,
 "nbformat_minor": 4
}
