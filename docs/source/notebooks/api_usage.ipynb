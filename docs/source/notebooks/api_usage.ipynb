{
 "cells": [
  {
   "cell_type": "markdown",
   "metadata": {},
   "source": [
    "# Programmatic usage of NeoFox\n",
    "\n",
    "NeoFox provides an Application Programming Interface (API) that enables the integration into other applications. This API relies heavily on Protocol Buffers data models that provide placeholder objects to store the required data while enabling different representations, data manipulation, validation and normalization. We use the Protocol Buffers data models to generate Python code automatically and to implement validation and normalization around them, but Protocol Buffers is technology agnostic thus this may facilitate the integration with third party applications not necessarily implemented in Python (see https://developers.google.com/protocol-buffers). The API is tightly integrated with the Python data analysis library Pandas (see https://pandas.pydata.org/).\n",
    "\n",
    "Here we show: \n",
    "\n",
    "* how to create new model objects\n",
    "* how to import/export these objects into different representations\n",
    "* how to manipulate them\n",
    "* how to validate and normalize on the data \n",
    "\n",
    "And finally we show how to run NeoFox programmatically, you may want to skip to this part for a quick grasp of the API usage."
   ]
  },
  {
   "cell_type": "code",
   "execution_count": 1,
   "metadata": {},
   "outputs": [
    {
     "data": {
      "text/plain": [
       "'0.5.4.dev3'"
      ]
     },
     "execution_count": 1,
     "metadata": {},
     "output_type": "execute_result"
    }
   ],
   "source": [
    "import neofox\n",
    "neofox.VERSION"
   ]
  },
  {
   "cell_type": "markdown",
   "metadata": {},
   "source": [
    "## Neoantigens\n",
    "\n",
    "The neoantigen is the central piece of information that NeoFox handles, all output annotations refer to a neoantigen. A neoantigen is formed by two subentities transcript and mutation, plus some additional attributes. Here we show how to create a neoantigen, transform it into different representations and validate it."
   ]
  },
  {
   "cell_type": "markdown",
   "metadata": {},
   "source": [
    "### Create a neoantigen\n"
   ]
  },
  {
   "cell_type": "code",
   "execution_count": 2,
   "metadata": {},
   "outputs": [],
   "source": [
    "from neofox.model.neoantigen import Neoantigen, Mutation"
   ]
  },
  {
   "cell_type": "markdown",
   "metadata": {},
   "source": [
    "Create a mutation:"
   ]
  },
  {
   "cell_type": "code",
   "execution_count": 3,
   "metadata": {},
   "outputs": [],
   "source": [
    "mutation = Mutation(\n",
    "    wild_type_xmer=\"DEVLGEPSQDILVIDQTRLEATISPET\", \n",
    "    mutated_xmer=\"DEVLGEPSQDILVTDQTRLEATISPET\")"
   ]
  },
  {
   "cell_type": "markdown",
   "metadata": {},
   "source": [
    "Create a neoantigen using the previous transcript and mutation:"
   ]
  },
  {
   "cell_type": "code",
   "execution_count": 4,
   "metadata": {},
   "outputs": [],
   "source": [
    "neoantigen = Neoantigen(\n",
    "    patient_identifier=\"P123\", \n",
    "    mutation=mutation, \n",
    "    gene=\"VCAN\", \n",
    "    rna_expression=0.519506894, \n",
    "    rna_variant_allele_frequency=0.857142857, \n",
    "    dna_variant_allele_frequency=0.294573643)"
   ]
  },
  {
   "cell_type": "markdown",
   "metadata": {},
   "source": [
    "### Representation into different formats\n",
    "\n",
    "The same piece of data agreeing with NeoFox data models can be represented in different formats. Here we show how to transform the data between several formats: JSON, Python dictionaries, Protocol Buffers binary representations, Pandas dataframes and tabular representations in files. This is relevant for enabling data import and export and adding flexibility to the integration with other tools.\n",
    "\n",
    "What is shown here is applicable to all entities in NeoFox data models.\n",
    "\n",
    "These objects can be easily transformed into JSON:"
   ]
  },
  {
   "cell_type": "code",
   "execution_count": 5,
   "metadata": {},
   "outputs": [
    {
     "name": "stdout",
     "output_type": "stream",
     "text": [
      "{\n",
      "  \"patientIdentifier\": \"P123\",\n",
      "  \"gene\": \"VCAN\",\n",
      "  \"mutation\": {\n",
      "    \"wildTypeXmer\": \"DEVLGEPSQDILVIDQTRLEATISPET\",\n",
      "    \"mutatedXmer\": \"DEVLGEPSQDILVTDQTRLEATISPET\"\n",
      "  },\n",
      "  \"rnaExpression\": 0.519506894,\n",
      "  \"dnaVariantAlleleFrequency\": 0.294573643,\n",
      "  \"rnaVariantAlleleFrequency\": 0.857142857\n",
      "}\n"
     ]
    }
   ],
   "source": [
    "print(neoantigen.to_json(indent=2))"
   ]
  },
  {
   "cell_type": "markdown",
   "metadata": {},
   "source": [
    "They can also be transformed into a Python native dictionary:"
   ]
  },
  {
   "cell_type": "code",
   "execution_count": 6,
   "metadata": {},
   "outputs": [
    {
     "data": {
      "text/plain": [
       "{'patientIdentifier': 'P123',\n",
       " 'gene': 'VCAN',\n",
       " 'mutation': {'wildTypeXmer': 'DEVLGEPSQDILVIDQTRLEATISPET',\n",
       "  'mutatedXmer': 'DEVLGEPSQDILVTDQTRLEATISPET'},\n",
       " 'rnaExpression': 0.519506894,\n",
       " 'dnaVariantAlleleFrequency': 0.294573643,\n",
       " 'rnaVariantAlleleFrequency': 0.857142857}"
      ]
     },
     "execution_count": 6,
     "metadata": {},
     "output_type": "execute_result"
    }
   ],
   "source": [
    "neoantigen.to_dict()"
   ]
  },
  {
   "cell_type": "markdown",
   "metadata": {},
   "source": [
    "And also into the Protocol Buffers binary format that allows a better compression for storing the data or sending it over the wire:"
   ]
  },
  {
   "cell_type": "code",
   "execution_count": 7,
   "metadata": {},
   "outputs": [
    {
     "data": {
      "text/plain": [
       "b'\\n\\x04P123\\x12\\x04VCAN\\x1a:\\x12\\x1bDEVLGEPSQDILVIDQTRLEATISPET\\x1a\\x1bDEVLGEPSQDILVTDQTRLEATISPET%g\\xfe\\x04?5[\\xd2\\x96>=\\xb7m[?'"
      ]
     },
     "execution_count": 7,
     "metadata": {},
     "output_type": "execute_result"
    }
   ],
   "source": [
    "neoantigen.SerializeToString()"
   ]
  },
  {
   "cell_type": "markdown",
   "metadata": {},
   "source": [
    "### Integration with Pandas\n",
    "\n",
    "NeoFox integrates with the Python library for data analysis Pandas (see https://pandas.pydata.org/). A single object can be transformed into a Pandas `Series` and a list of objects can be transformed into a Pandas `DataFrame`. Pandas provide functionality to persist this tabular representations to files that can be stored and imported into other environments, for instance R.\n",
    "\n",
    "What is shown here is applicable to all entities in NeoFox data models."
   ]
  },
  {
   "cell_type": "code",
   "execution_count": 8,
   "metadata": {},
   "outputs": [],
   "source": [
    "import pandas as pd\n",
    "from neofox.model.conversion import ModelConverter"
   ]
  },
  {
   "cell_type": "markdown",
   "metadata": {},
   "source": [
    "Transform a neoantigen into a Pandas `Series`:"
   ]
  },
  {
   "cell_type": "code",
   "execution_count": 9,
   "metadata": {},
   "outputs": [
    {
     "data": {
      "text/plain": [
       "patient_identifier                                             P123\n",
       "gene                                                           VCAN\n",
       "rna_expression                                             0.519507\n",
       "imputed_gene_expression                                           0\n",
       "dna_variant_allele_frequency                               0.294574\n",
       "rna_variant_allele_frequency                               0.857143\n",
       "external_annotations                                             []\n",
       "mutation.position                                                []\n",
       "mutation.wild_type_xmer                 DEVLGEPSQDILVIDQTRLEATISPET\n",
       "mutation.mutated_xmer                   DEVLGEPSQDILVTDQTRLEATISPET\n",
       "neofox_annotations.annotations                                   []\n",
       "neofox_annotations.annotator                                       \n",
       "neofox_annotations.annotator_version                               \n",
       "neofox_annotations.timestamp                                       \n",
       "neofox_annotations.resources_hash                                  \n",
       "Name: 0, dtype: object"
      ]
     },
     "execution_count": 9,
     "metadata": {},
     "output_type": "execute_result"
    }
   ],
   "source": [
    "neoantigen_series = ModelConverter.object2series(neoantigen)\n",
    "neoantigen_series"
   ]
  },
  {
   "cell_type": "markdown",
   "metadata": {},
   "source": [
    "Transform a list of transcripts into a Pandas `DataFrame`:"
   ]
  },
  {
   "cell_type": "code",
   "execution_count": 10,
   "metadata": {},
   "outputs": [
    {
     "data": {
      "text/html": [
       "<div>\n",
       "<style scoped>\n",
       "    .dataframe tbody tr th:only-of-type {\n",
       "        vertical-align: middle;\n",
       "    }\n",
       "\n",
       "    .dataframe tbody tr th {\n",
       "        vertical-align: top;\n",
       "    }\n",
       "\n",
       "    .dataframe thead th {\n",
       "        text-align: right;\n",
       "    }\n",
       "</style>\n",
       "<table border=\"1\" class=\"dataframe\">\n",
       "  <thead>\n",
       "    <tr style=\"text-align: right;\">\n",
       "      <th></th>\n",
       "      <th>position</th>\n",
       "      <th>wildTypeXmer</th>\n",
       "      <th>mutatedXmer</th>\n",
       "    </tr>\n",
       "  </thead>\n",
       "  <tbody>\n",
       "    <tr>\n",
       "      <th>0</th>\n",
       "      <td>[]</td>\n",
       "      <td>DEVLGEPSQDILVIDQTRLEATISPET</td>\n",
       "      <td>DEVLGEPSQDILVTDQTRLEATISPET</td>\n",
       "    </tr>\n",
       "    <tr>\n",
       "      <th>1</th>\n",
       "      <td>[]</td>\n",
       "      <td>AAAAAAAAAAAAAAAAAAAAAAAAAAA</td>\n",
       "      <td>AAAAAAAAAAAAAGAAAAAAAAAAAAA</td>\n",
       "    </tr>\n",
       "  </tbody>\n",
       "</table>\n",
       "</div>"
      ],
      "text/plain": [
       "  position                 wildTypeXmer                  mutatedXmer\n",
       "0       []  DEVLGEPSQDILVIDQTRLEATISPET  DEVLGEPSQDILVTDQTRLEATISPET\n",
       "1       []  AAAAAAAAAAAAAAAAAAAAAAAAAAA  AAAAAAAAAAAAAGAAAAAAAAAAAAA"
      ]
     },
     "execution_count": 10,
     "metadata": {},
     "output_type": "execute_result"
    }
   ],
   "source": [
    "mutation2 = Mutation(\n",
    "    wild_type_xmer=\"AAAAAAAAAAAAAAAAAAAAAAAAAAA\", \n",
    "    mutated_xmer=\"AAAAAAAAAAAAAGAAAAAAAAAAAAA\")\n",
    "mutations_df = ModelConverter.objects2dataframe([mutation, mutation2])\n",
    "mutations_df"
   ]
  },
  {
   "cell_type": "markdown",
   "metadata": {},
   "source": [
    "Persist any Pandas object into a file:"
   ]
  },
  {
   "cell_type": "code",
   "execution_count": 11,
   "metadata": {},
   "outputs": [],
   "source": [
    "mutations_df.to_csv(\"data/my_mutations.csv\", sep=\"\\t\", index=False)"
   ]
  },
  {
   "cell_type": "markdown",
   "metadata": {},
   "source": [
    "And read it back:"
   ]
  },
  {
   "cell_type": "code",
   "execution_count": 12,
   "metadata": {},
   "outputs": [
    {
     "data": {
      "text/plain": [
       "[Mutation(position='[]', wild_type_xmer='DEVLGEPSQDILVIDQTRLEATISPET', mutated_xmer='DEVLGEPSQDILVTDQTRLEATISPET'),\n",
       " Mutation(position='[]', wild_type_xmer='AAAAAAAAAAAAAAAAAAAAAAAAAAA', mutated_xmer='AAAAAAAAAAAAAGAAAAAAAAAAAAA')]"
      ]
     },
     "execution_count": 12,
     "metadata": {},
     "output_type": "execute_result"
    }
   ],
   "source": [
    "mutations_df2 = pd.read_csv(\"data/my_mutations.csv\", sep=\"\\t\")\n",
    "mutations = []\n",
    "for _, row in mutations_df2.iterrows():\n",
    "    mutations.append(Mutation().from_dict(row.to_dict()))\n",
    "mutations"
   ]
  },
  {
   "cell_type": "markdown",
   "metadata": {},
   "source": [
    "In some cases you will may be handling nested objects, for instance a neoantigen. The nesting is flattened into the DataFrame by concatenating field names with a dot, eg: `mutation.wild_type_xmer`. In order to read the flattened data back into the nested models we need to add an intermediate step."
   ]
  },
  {
   "cell_type": "code",
   "execution_count": 13,
   "metadata": {},
   "outputs": [
    {
     "data": {
      "text/plain": [
       "{'patient_identifier': 'P123',\n",
       " 'gene': 'VCAN',\n",
       " 'rna_expression': 0.519506894,\n",
       " 'imputed_gene_expression': 0.0,\n",
       " 'dna_variant_allele_frequency': 0.294573643,\n",
       " 'rna_variant_allele_frequency': 0.857142857,\n",
       " 'external_annotations': [],\n",
       " 'mutation.position': [],\n",
       " 'mutation.wild_type_xmer': 'DEVLGEPSQDILVIDQTRLEATISPET',\n",
       " 'mutation.mutated_xmer': 'DEVLGEPSQDILVTDQTRLEATISPET',\n",
       " 'neofox_annotations.annotations': [],\n",
       " 'neofox_annotations.annotator': '',\n",
       " 'neofox_annotations.annotator_version': '',\n",
       " 'neofox_annotations.timestamp': '',\n",
       " 'neofox_annotations.resources_hash': ''}"
      ]
     },
     "execution_count": 13,
     "metadata": {},
     "output_type": "execute_result"
    }
   ],
   "source": [
    "# the flattened dictionary\n",
    "neoantigen_series.to_dict()"
   ]
  },
  {
   "cell_type": "code",
   "execution_count": 14,
   "metadata": {},
   "outputs": [
    {
     "data": {
      "text/plain": [
       "{'patient_identifier': 'P123',\n",
       " 'gene': 'VCAN',\n",
       " 'rna_expression': 0.519506894,\n",
       " 'imputed_gene_expression': 0.0,\n",
       " 'dna_variant_allele_frequency': 0.294573643,\n",
       " 'rna_variant_allele_frequency': 0.857142857,\n",
       " 'external_annotations': [],\n",
       " 'mutation': {'position': [],\n",
       "  'wild_type_xmer': 'DEVLGEPSQDILVIDQTRLEATISPET',\n",
       "  'mutated_xmer': 'DEVLGEPSQDILVTDQTRLEATISPET'},\n",
       " 'neofox_annotations': {'annotations': [],\n",
       "  'annotator': '',\n",
       "  'annotator_version': '',\n",
       "  'timestamp': '',\n",
       "  'resources_hash': ''}}"
      ]
     },
     "execution_count": 14,
     "metadata": {},
     "output_type": "execute_result"
    }
   ],
   "source": [
    "# the nested dictionary\n",
    "ModelConverter._flat_dict2nested_dict(flat_dict=neoantigen_series.to_dict())"
   ]
  },
  {
   "cell_type": "code",
   "execution_count": 15,
   "metadata": {},
   "outputs": [
    {
     "data": {
      "text/plain": [
       "Neoantigen(patient_identifier='P123', gene='VCAN', mutation=Mutation(position=[], wild_type_xmer='DEVLGEPSQDILVIDQTRLEATISPET', mutated_xmer='DEVLGEPSQDILVTDQTRLEATISPET'), rna_expression=0.519506894, imputed_gene_expression=0.0, dna_variant_allele_frequency=0.294573643, rna_variant_allele_frequency=0.857142857, neofox_annotations=NeoantigenAnnotations(annotations=[], annotator='', annotator_version='', timestamp='', resources_hash=''), external_annotations=[])"
      ]
     },
     "execution_count": 15,
     "metadata": {},
     "output_type": "execute_result"
    }
   ],
   "source": [
    "# we can load the nested dictionary into a nested model object\n",
    "Neoantigen().from_dict(ModelConverter._flat_dict2nested_dict(flat_dict=neoantigen_series.to_dict()))"
   ]
  },
  {
   "cell_type": "markdown",
   "metadata": {},
   "source": [
    "### Data validation\n",
    "\n",
    "The quality and cleanliness of data is of great importance to enable an effective data analysis and make the data machine readable. Clean data means that the data is valid and that it is in a normal and homogeneous form. The use of controlled vocabularies help to represent knowledge in a standardised way. This is a domain specific task, although it can be assisted with the right tools such as Pandas in Python or tidyverse in R, it requires domain expertise to perform it. NeoFox provides this domain expertise out of the box with its validation and normalization layers on top of its data models."
   ]
  },
  {
   "cell_type": "code",
   "execution_count": 16,
   "metadata": {},
   "outputs": [],
   "source": [
    "from neofox.model.validation import ModelValidator\n",
    "from neofox.exceptions import NeofoxDataValidationException"
   ]
  },
  {
   "cell_type": "markdown",
   "metadata": {},
   "source": [
    "The data validation checks for missing required fields and shows relevant messages."
   ]
  },
  {
   "cell_type": "code",
   "execution_count": 17,
   "metadata": {},
   "outputs": [
    {
     "name": "stderr",
     "output_type": "stream",
     "text": [
      "[E 210928 12:18:02 validation:85] {}\n"
     ]
    },
    {
     "name": "stdout",
     "output_type": "stream",
     "text": [
      "Error message: A patient identifier is missing. Please provide patientIdentifier in the input file\n"
     ]
    }
   ],
   "source": [
    "try:\n",
    "    ModelValidator.validate_neoantigen(neoantigen=Neoantigen())\n",
    "except NeofoxDataValidationException as e:\n",
    "    print(\"Error message: {}\".format(e))"
   ]
  },
  {
   "cell_type": "markdown",
   "metadata": {},
   "source": [
    "It also performs more domain specific validations such as aminoacids being valid according to the IUPAC standard aminoacid representation."
   ]
  },
  {
   "cell_type": "code",
   "execution_count": 18,
   "metadata": {},
   "outputs": [
    {
     "name": "stderr",
     "output_type": "stream",
     "text": [
      "[E 210928 12:18:02 validation:85] {\n",
      "       \"patientIdentifier\": \"12345\",\n",
      "       \"gene\": \"VCAN\",\n",
      "       \"mutation\": {\n",
      "          \"wildTypeXmer\": \"123456AAAAAAAAAAAAAA\",\n",
      "          \"mutatedXmer\": \"123456GAAAAAAAAAAAAA\"\n",
      "       }\n",
      "    }\n"
     ]
    },
    {
     "name": "stdout",
     "output_type": "stream",
     "text": [
      "Error message: Non existing aminoacid 1\n"
     ]
    }
   ],
   "source": [
    "try:\n",
    "    ModelValidator.validate_neoantigen(neoantigen=Neoantigen(\n",
    "        patient_identifier=\"12345\",\n",
    "        gene=\"VCAN\",\n",
    "        mutation=Mutation(\n",
    "            wild_type_xmer=\"123456AAAAAAAAAAAAAA\", # wrong aminoacid representation\n",
    "            mutated_xmer=\"123456GAAAAAAAAAAAAA\")))\n",
    "except NeofoxDataValidationException as e:\n",
    "    print(\"Error message: {}\".format(e))"
   ]
  },
  {
   "cell_type": "markdown",
   "metadata": {},
   "source": [
    "The data normalization layer ensures the aminoacid representation is normalized into 1 letter IUPAC codes."
   ]
  },
  {
   "cell_type": "code",
   "execution_count": 19,
   "metadata": {},
   "outputs": [
    {
     "name": "stdout",
     "output_type": "stream",
     "text": [
      "{\n",
      "  \"position\": [\n",
      "    6\n",
      "  ],\n",
      "  \"wildTypeXmer\": \"AAAAAAAAAAAAA\",\n",
      "  \"mutatedXmer\": \"AAAAAGAAAAA\"\n",
      "}\n"
     ]
    }
   ],
   "source": [
    "valid_neoantigen = ModelValidator.validate_neoantigen(neoantigen=Neoantigen(\n",
    "    patient_identifier=\"12345\",\n",
    "    mutation=Mutation(\n",
    "        wild_type_xmer=\"AAAAAAAAAAAAA\",\n",
    "        mutated_xmer=\"aaaaaGaaaaa\")))\n",
    "\n",
    "print(valid_neoantigen.mutation.to_json(indent=2))"
   ]
  },
  {
   "cell_type": "markdown",
   "metadata": {},
   "source": [
    "After validation a unique neoantigen identifier is generated, this is a hash function of the normalized neoantigen representation, thus two different representations of the same neoantigen will share the same identifier after normalization."
   ]
  },
  {
   "cell_type": "code",
   "execution_count": 20,
   "metadata": {},
   "outputs": [
    {
     "name": "stdout",
     "output_type": "stream",
     "text": [
      "{\n",
      "  \"patientIdentifier\": \"P123\",\n",
      "  \"gene\": \"VCAN\",\n",
      "  \"mutation\": {\n",
      "    \"position\": [\n",
      "      14\n",
      "    ],\n",
      "    \"wildTypeXmer\": \"DEVLGEPSQDILVIDQTRLEATISPET\",\n",
      "    \"mutatedXmer\": \"DEVLGEPSQDILVTDQTRLEATISPET\"\n",
      "  },\n",
      "  \"rnaExpression\": 0.519506894,\n",
      "  \"dnaVariantAlleleFrequency\": 0.294573643,\n",
      "  \"rnaVariantAlleleFrequency\": 0.857142857\n",
      "}\n"
     ]
    }
   ],
   "source": [
    "validated_neoantigen = ModelValidator.validate_neoantigen(neoantigen=neoantigen)\n",
    "print(validated_neoantigen.to_json(indent=2))"
   ]
  },
  {
   "cell_type": "markdown",
   "metadata": {},
   "source": [
    "## Patients\n",
    "\n",
    "The neoantigen annotation process needs some context information, in particular some data about the individual where the somatic mutation creating this neoantigen took place. This information includes mainly the HLA types of the patient which is needed to compute the binding of the potential neoepitopes."
   ]
  },
  {
   "cell_type": "markdown",
   "metadata": {},
   "source": [
    "### Parse MHC I alleles into a normal representation\n",
    "\n",
    "The main complexity in the patient model is the representation of the MHC I and MHC II alleles present in the patient. The HLA alleles are typically represented using the nomenclature defined here http://hla.alleles.org, but de facto there is certain flexibility in the representation of HLA alleles in the community. NeoFox aims at normalizing the different HLA representations into a controlled representation agreeing with the HLA nomenclature. NeoFox only supports the classic MHC genes and although the provided HLA type is kept internally it only works with the first 4 digits.\n",
    "\n",
    "There are specific functions in NeoFox to parse a list of non normal HLA alleles into a normalized representation of the HLA alleles. Due to the heterogeneous representations of alleles we use IPD-IMGT/HLA database in order to normalize ambiguous alleles (e.g.: B15228=>HLA-B*15:228 and DPB110401=>HLA-DPB1*104:01).\n",
    "\n",
    "Furthermore, the zygosity of each HLA gene is inferred."
   ]
  },
  {
   "cell_type": "code",
   "execution_count": 21,
   "metadata": {},
   "outputs": [
    {
     "name": "stderr",
     "output_type": "stream",
     "text": [
      "[I 210928 12:18:03 references:342] Reference genome folder: /neofox_install/reference_data\n",
      "[I 210928 12:18:03 references:343] Resources\n",
      "[I 210928 12:18:03 references:345] /neofox_install/reference_data/netmhc2pan_available_alleles_human.txt\n",
      "[I 210928 12:18:03 references:345] /neofox_install/reference_data/netmhcpan_available_alleles_human.txt\n",
      "[I 210928 12:18:03 references:345] /neofox_install/reference_data/iedb\n",
      "[I 210928 12:18:03 references:345] /neofox_install/reference_data/proteome_db\n",
      "[I 210928 12:18:03 references:345] /neofox_install/reference_data/proteome_db/Homo_sapiens.fa\n",
      "[I 210928 12:18:03 references:345] /neofox_install/reference_data/iedb/IEDB_homo_sapiens.fasta\n",
      "[I 210928 12:18:03 references:345] /neofox_install/reference_data/hla_database_allele_list.csv\n"
     ]
    }
   ],
   "source": [
    "from neofox.references.references import ReferenceFolder\n",
    "import os\n",
    "\n",
    "os.environ[\"NEOFOX_REFERENCE_FOLDER\"] = \"/neofox_install/reference_data\"\n",
    "reference_folder = ReferenceFolder()\n",
    "hla_database = reference_folder.get_mhc_database()"
   ]
  },
  {
   "cell_type": "code",
   "execution_count": 22,
   "metadata": {},
   "outputs": [
    {
     "name": "stderr",
     "output_type": "stream",
     "text": [
      "[I 210928 12:18:03 references:342] Reference genome folder: /neofox_install/reference_data\n",
      "[I 210928 12:18:03 references:343] Resources\n",
      "[I 210928 12:18:03 references:345] /neofox_install/reference_data/netmhc2pan_available_alleles_mice.txt\n",
      "[I 210928 12:18:03 references:345] /neofox_install/reference_data/netmhcpan_available_alleles_mice.txt\n",
      "[I 210928 12:18:03 references:345] /neofox_install/reference_data/iedb\n",
      "[I 210928 12:18:03 references:345] /neofox_install/reference_data/proteome_db\n",
      "[I 210928 12:18:03 references:345] /neofox_install/reference_data/proteome_db/Mus_musculus.fa\n",
      "[I 210928 12:18:03 references:345] /neofox_install/reference_data/iedb/IEDB_mus_musculus.fasta\n",
      "[I 210928 12:18:03 references:345] /neofox_install/reference_data/h2_database_allele_list.csv\n"
     ]
    }
   ],
   "source": [
    "# by default it loads the references for Homo sapiens and hence HLA, for mouse run:\n",
    "h2_database = ReferenceFolder(organism='mouse').get_mhc_database()"
   ]
  },
  {
   "cell_type": "markdown",
   "metadata": {},
   "source": [
    "Parse a list of MHC I alleles. The data validation will ensure that the data is valid and it will infer the zygosity of the different genes. The data normalization layer will normalize the HLA representation into a the valid HLA nomenclature including the first 4 digits. Different representations of the same allele will be matched after normalization."
   ]
  },
  {
   "cell_type": "code",
   "execution_count": 23,
   "metadata": {},
   "outputs": [
    {
     "data": {
      "text/html": [
       "<div>\n",
       "<style scoped>\n",
       "    .dataframe tbody tr th:only-of-type {\n",
       "        vertical-align: middle;\n",
       "    }\n",
       "\n",
       "    .dataframe tbody tr th {\n",
       "        vertical-align: top;\n",
       "    }\n",
       "\n",
       "    .dataframe thead th {\n",
       "        text-align: right;\n",
       "    }\n",
       "</style>\n",
       "<table border=\"1\" class=\"dataframe\">\n",
       "  <thead>\n",
       "    <tr style=\"text-align: right;\">\n",
       "      <th></th>\n",
       "      <th>name</th>\n",
       "      <th>zygosity</th>\n",
       "      <th>alleles</th>\n",
       "    </tr>\n",
       "  </thead>\n",
       "  <tbody>\n",
       "    <tr>\n",
       "      <th>0</th>\n",
       "      <td>A</td>\n",
       "      <td>HETEROZYGOUS</td>\n",
       "      <td>[{'fullName': 'HLA-A*01:01:02:03N', 'name': 'H...</td>\n",
       "    </tr>\n",
       "    <tr>\n",
       "      <th>1</th>\n",
       "      <td>B</td>\n",
       "      <td>HOMOZYGOUS</td>\n",
       "      <td>[{'fullName': 'HLA-B*15:228', 'name': 'HLA-B*1...</td>\n",
       "    </tr>\n",
       "    <tr>\n",
       "      <th>2</th>\n",
       "      <td>C</td>\n",
       "      <td>HEMIZYGOUS</td>\n",
       "      <td>[{'fullName': 'HLA-C*03:163', 'name': 'HLA-C*0...</td>\n",
       "    </tr>\n",
       "  </tbody>\n",
       "</table>\n",
       "</div>"
      ],
      "text/plain": [
       "  name      zygosity                                            alleles\n",
       "0    A  HETEROZYGOUS  [{'fullName': 'HLA-A*01:01:02:03N', 'name': 'H...\n",
       "1    B    HOMOZYGOUS  [{'fullName': 'HLA-B*15:228', 'name': 'HLA-B*1...\n",
       "2    C    HEMIZYGOUS  [{'fullName': 'HLA-C*03:163', 'name': 'HLA-C*0..."
      ]
     },
     "execution_count": 23,
     "metadata": {},
     "output_type": "execute_result"
    }
   ],
   "source": [
    "mhc1 = ModelConverter.parse_mhc1_alleles(\n",
    "    [\"HLA-A*01:01:02:03N\", \"HLA-A*01:02:02:03N\", \"B15228\", \"HLA-B*15:228:02:04N\", \"C03_163\"], \n",
    "    mhc_database=hla_database)\n",
    "ModelConverter.objects2dataframe(mhc1)"
   ]
  },
  {
   "cell_type": "code",
   "execution_count": 24,
   "metadata": {},
   "outputs": [
    {
     "data": {
      "text/html": [
       "<div>\n",
       "<style scoped>\n",
       "    .dataframe tbody tr th:only-of-type {\n",
       "        vertical-align: middle;\n",
       "    }\n",
       "\n",
       "    .dataframe tbody tr th {\n",
       "        vertical-align: top;\n",
       "    }\n",
       "\n",
       "    .dataframe thead th {\n",
       "        text-align: right;\n",
       "    }\n",
       "</style>\n",
       "<table border=\"1\" class=\"dataframe\">\n",
       "  <thead>\n",
       "    <tr style=\"text-align: right;\">\n",
       "      <th></th>\n",
       "      <th>fullName</th>\n",
       "      <th>name</th>\n",
       "      <th>gene</th>\n",
       "      <th>group</th>\n",
       "      <th>protein</th>\n",
       "    </tr>\n",
       "  </thead>\n",
       "  <tbody>\n",
       "    <tr>\n",
       "      <th>0</th>\n",
       "      <td>HLA-A*01:01:02:03N</td>\n",
       "      <td>HLA-A*01:01</td>\n",
       "      <td>A</td>\n",
       "      <td>01</td>\n",
       "      <td>01</td>\n",
       "    </tr>\n",
       "    <tr>\n",
       "      <th>1</th>\n",
       "      <td>HLA-A*01:02:02:03N</td>\n",
       "      <td>HLA-A*01:02</td>\n",
       "      <td>A</td>\n",
       "      <td>01</td>\n",
       "      <td>02</td>\n",
       "    </tr>\n",
       "    <tr>\n",
       "      <th>2</th>\n",
       "      <td>HLA-B*15:228</td>\n",
       "      <td>HLA-B*15:228</td>\n",
       "      <td>B</td>\n",
       "      <td>15</td>\n",
       "      <td>228</td>\n",
       "    </tr>\n",
       "    <tr>\n",
       "      <th>3</th>\n",
       "      <td>HLA-C*03:163</td>\n",
       "      <td>HLA-C*03:163</td>\n",
       "      <td>C</td>\n",
       "      <td>03</td>\n",
       "      <td>163</td>\n",
       "    </tr>\n",
       "  </tbody>\n",
       "</table>\n",
       "</div>"
      ],
      "text/plain": [
       "             fullName          name gene group protein\n",
       "0  HLA-A*01:01:02:03N   HLA-A*01:01    A    01      01\n",
       "1  HLA-A*01:02:02:03N   HLA-A*01:02    A    01      02\n",
       "2        HLA-B*15:228  HLA-B*15:228    B    15     228\n",
       "3        HLA-C*03:163  HLA-C*03:163    C    03     163"
      ]
     },
     "execution_count": 24,
     "metadata": {},
     "output_type": "execute_result"
    }
   ],
   "source": [
    "ModelConverter.objects2dataframe(mhc1[0].alleles + mhc1[1].alleles + mhc1[2].alleles)"
   ]
  },
  {
   "cell_type": "markdown",
   "metadata": {},
   "source": [
    "### Validation and normalization of MHC alleles\n",
    "\n",
    "The data validation layer checks that the provided allele representations are valid."
   ]
  },
  {
   "cell_type": "code",
   "execution_count": 25,
   "metadata": {},
   "outputs": [
    {
     "name": "stdout",
     "output_type": "stream",
     "text": [
      "Error message: Allele does not match HLA allele pattern HLA-W*01:01:02:03N\n"
     ]
    }
   ],
   "source": [
    "try:\n",
    "    ModelConverter.parse_mhc1_alleles([\"HLA-W*01:01:02:03N\"], mhc_database=hla_database)  # bad gene W\n",
    "except NeofoxDataValidationException as e:\n",
    "    print (\"Error message: {}\".format(e))"
   ]
  },
  {
   "cell_type": "code",
   "execution_count": 26,
   "metadata": {},
   "outputs": [
    {
     "name": "stdout",
     "output_type": "stream",
     "text": [
      "Error message: Allele does not match HLA allele pattern HLA-A*first:second:02:03N\n"
     ]
    }
   ],
   "source": [
    "try:\n",
    "    ModelConverter.parse_mhc1_alleles([\"HLA-A*first:second:02:03N\"], mhc_database=hla_database)  # bad allele representation\n",
    "except NeofoxDataValidationException as e:\n",
    "    print (\"Error message: {}\".format(e))"
   ]
  },
  {
   "cell_type": "code",
   "execution_count": 27,
   "metadata": {},
   "outputs": [
    {
     "name": "stdout",
     "output_type": "stream",
     "text": [
      "Error message: More than 2 alleles for gene A\n"
     ]
    }
   ],
   "source": [
    "try:\n",
    "    ModelConverter.parse_mhc1_alleles([\"HLA-A*01:02:02:03N\", \"HLA-A*01:03:02:03N\", \"HLA-A*01:04:02:03N\"], mhc_database=hla_database)  # wrong number of alleles\n",
    "except NeofoxDataValidationException as e:\n",
    "    print (\"Error message: {}\".format(e))"
   ]
  },
  {
   "cell_type": "markdown",
   "metadata": {},
   "source": [
    "A warning message will be shown for non existing HLA alleles."
   ]
  },
  {
   "cell_type": "code",
   "execution_count": 28,
   "metadata": {},
   "outputs": [
    {
     "name": "stderr",
     "output_type": "stream",
     "text": [
      "[W 210928 12:18:03 mhc_parser:159] Allele HLA-B*01:02:02:03N does not exist in the HLA database\n"
     ]
    },
    {
     "data": {
      "text/plain": [
       "[Mhc1(name=<Mhc1Name.A: 0>, zygosity=<Zygosity.LOSS: 3>, alleles=[]),\n",
       " Mhc1(name=<Mhc1Name.B: 1>, zygosity=<Zygosity.HEMIZYGOUS: 2>, alleles=[MhcAllele(full_name='HLA-B*01:02:02:03N', name='HLA-B*01:02', gene='B', group='01', protein='02')]),\n",
       " Mhc1(name=<Mhc1Name.C: 2>, zygosity=<Zygosity.HEMIZYGOUS: 2>, alleles=[MhcAllele(full_name='HLA-C*01:02', name='HLA-C*01:02', gene='C', group='01', protein='02')])]"
      ]
     },
     "execution_count": 28,
     "metadata": {},
     "output_type": "execute_result"
    }
   ],
   "source": [
    "ModelConverter.parse_mhc1_alleles([\"HLA-B*01:02:02:03N\", \"HLA-C*01:02\"], mhc_database=hla_database)"
   ]
  },
  {
   "cell_type": "markdown",
   "metadata": {},
   "source": [
    "### Parse MHC II alleles into a normal representation\n",
    "\n",
    "The model for MHC II alleles is more complex as we need to reflect all combinations of alpha and beta chains, but the data validation and normalization provided by NeoFox is fundamentally the same.\n",
    "\n",
    "Parse a list of MHC II alleles:"
   ]
  },
  {
   "cell_type": "code",
   "execution_count": 29,
   "metadata": {},
   "outputs": [],
   "source": [
    "mhc2 = ModelConverter.parse_mhc2_alleles([\"HLA-DPA1*01:03\", \"HLA-DPA1*01:04\", \"HLA-DPB1*01:01\", \"HLA-DPB1*01:01\", \n",
    "                                          \"HLA-DQA1*01:01\", \"HLA-DQA1*01:01\", \"HLA-DQB1*02:01\", \"HLA-DQB1*02:01\", \n",
    "                                          \"HLA-DRB1*01:01\", \"HLA-DRB1*01:01\"], mhc_database=hla_database)"
   ]
  },
  {
   "cell_type": "markdown",
   "metadata": {},
   "source": [
    "An MHC II gene with an heteroyzgous alpha chain and an homozygous beta chain has two isoforms"
   ]
  },
  {
   "cell_type": "code",
   "execution_count": 30,
   "metadata": {},
   "outputs": [
    {
     "data": {
      "text/plain": [
       "{'name': 'DQ',\n",
       " 'genes': [{'name': 'DQA1',\n",
       "   'alleles': [{'fullName': 'HLA-DQA1*01:01',\n",
       "     'name': 'HLA-DQA1*01:01',\n",
       "     'gene': 'DQA1',\n",
       "     'group': '01',\n",
       "     'protein': '01'}]},\n",
       "  {'name': 'DQB1',\n",
       "   'alleles': [{'fullName': 'HLA-DQB1*02:01',\n",
       "     'name': 'HLA-DQB1*02:01',\n",
       "     'gene': 'DQB1',\n",
       "     'group': '02',\n",
       "     'protein': '01'}]}],\n",
       " 'isoforms': [{'name': 'HLA-DQA1*01:01-DQB1*02:01',\n",
       "   'alphaChain': {'fullName': 'HLA-DQA1*01:01',\n",
       "    'name': 'HLA-DQA1*01:01',\n",
       "    'gene': 'DQA1',\n",
       "    'group': '01',\n",
       "    'protein': '01'},\n",
       "   'betaChain': {'fullName': 'HLA-DQB1*02:01',\n",
       "    'name': 'HLA-DQB1*02:01',\n",
       "    'gene': 'DQB1',\n",
       "    'group': '02',\n",
       "    'protein': '01'}}]}"
      ]
     },
     "execution_count": 30,
     "metadata": {},
     "output_type": "execute_result"
    }
   ],
   "source": [
    "mhc2[1].to_dict()"
   ]
  },
  {
   "cell_type": "markdown",
   "metadata": {},
   "source": [
    "An MHC II gene with an homozygous alpha and beta chains has a single isoform."
   ]
  },
  {
   "cell_type": "code",
   "execution_count": 31,
   "metadata": {},
   "outputs": [
    {
     "data": {
      "text/plain": [
       "{'genes': [{'alleles': [{'fullName': 'HLA-DRB1*01:01',\n",
       "     'name': 'HLA-DRB1*01:01',\n",
       "     'gene': 'DRB1',\n",
       "     'group': '01',\n",
       "     'protein': '01'}]}],\n",
       " 'isoforms': [{'name': 'HLA-DRB1*01:01',\n",
       "   'betaChain': {'fullName': 'HLA-DRB1*01:01',\n",
       "    'name': 'HLA-DRB1*01:01',\n",
       "    'gene': 'DRB1',\n",
       "    'group': '01',\n",
       "    'protein': '01'}}]}"
      ]
     },
     "execution_count": 31,
     "metadata": {},
     "output_type": "execute_result"
    }
   ],
   "source": [
    "mhc2[2].to_dict()"
   ]
  },
  {
   "cell_type": "markdown",
   "metadata": {},
   "source": [
    "The MHC II DRB gene is a special case with no alpha chain represented as this is not variable."
   ]
  },
  {
   "cell_type": "code",
   "execution_count": 32,
   "metadata": {},
   "outputs": [
    {
     "data": {
      "text/plain": [
       "{'name': 'DP',\n",
       " 'genes': [{'name': 'DPA1',\n",
       "   'zygosity': 'HETEROZYGOUS',\n",
       "   'alleles': [{'fullName': 'HLA-DPA1*01:03',\n",
       "     'name': 'HLA-DPA1*01:03',\n",
       "     'gene': 'DPA1',\n",
       "     'group': '01',\n",
       "     'protein': '03'},\n",
       "    {'fullName': 'HLA-DPA1*01:04',\n",
       "     'name': 'HLA-DPA1*01:04',\n",
       "     'gene': 'DPA1',\n",
       "     'group': '01',\n",
       "     'protein': '04'}]},\n",
       "  {'name': 'DPB1',\n",
       "   'alleles': [{'fullName': 'HLA-DPB1*01:01',\n",
       "     'name': 'HLA-DPB1*01:01',\n",
       "     'gene': 'DPB1',\n",
       "     'group': '01',\n",
       "     'protein': '01'}]}],\n",
       " 'isoforms': [{'name': 'HLA-DPA1*01:03-DPB1*01:01',\n",
       "   'alphaChain': {'fullName': 'HLA-DPA1*01:03',\n",
       "    'name': 'HLA-DPA1*01:03',\n",
       "    'gene': 'DPA1',\n",
       "    'group': '01',\n",
       "    'protein': '03'},\n",
       "   'betaChain': {'fullName': 'HLA-DPB1*01:01',\n",
       "    'name': 'HLA-DPB1*01:01',\n",
       "    'gene': 'DPB1',\n",
       "    'group': '01',\n",
       "    'protein': '01'}},\n",
       "  {'name': 'HLA-DPA1*01:04-DPB1*01:01',\n",
       "   'alphaChain': {'fullName': 'HLA-DPA1*01:04',\n",
       "    'name': 'HLA-DPA1*01:04',\n",
       "    'gene': 'DPA1',\n",
       "    'group': '01',\n",
       "    'protein': '04'},\n",
       "   'betaChain': {'fullName': 'HLA-DPB1*01:01',\n",
       "    'name': 'HLA-DPB1*01:01',\n",
       "    'gene': 'DPB1',\n",
       "    'group': '01',\n",
       "    'protein': '01'}}]}"
      ]
     },
     "execution_count": 32,
     "metadata": {},
     "output_type": "execute_result"
    }
   ],
   "source": [
    "mhc2[0].to_dict()"
   ]
  },
  {
   "cell_type": "markdown",
   "metadata": {},
   "source": [
    "Beware that incomplete MHC II molecules missing one of the chains will have no isoforms and thus no binding will be computed on them. In the case below the beta chain allele for the DP gene is missing."
   ]
  },
  {
   "cell_type": "code",
   "execution_count": 33,
   "metadata": {},
   "outputs": [
    {
     "data": {
      "text/plain": [
       "{'name': 'DQ',\n",
       " 'genes': [{'name': 'DQA1', 'zygosity': 'LOSS'},\n",
       "  {'name': 'DQB1', 'zygosity': 'LOSS'}]}"
      ]
     },
     "execution_count": 33,
     "metadata": {},
     "output_type": "execute_result"
    }
   ],
   "source": [
    "mhc2 = ModelConverter.parse_mhc2_alleles([\"HLA-DPA1*01:03\", \"HLA-DPA1*01:04\"], mhc_database=hla_database)\n",
    "mhc2[1].to_dict()"
   ]
  },
  {
   "cell_type": "markdown",
   "metadata": {},
   "source": [
    "### Create a patient"
   ]
  },
  {
   "cell_type": "code",
   "execution_count": 34,
   "metadata": {},
   "outputs": [
    {
     "data": {
      "text/plain": [
       "identifier                                                       P123\n",
       "is_rna_available                                                 True\n",
       "tumor_type                                                      NSCLC\n",
       "mhc1                [{'name': 'A', 'zygosity': 'HETEROZYGOUS', 'al...\n",
       "mhc2                [{'name': 'DP', 'genes': [{'name': 'DPA1', 'zy...\n",
       "Name: 0, dtype: object"
      ]
     },
     "execution_count": 34,
     "metadata": {},
     "output_type": "execute_result"
    }
   ],
   "source": [
    "from neofox.model.neoantigen import Patient\n",
    "\n",
    "\n",
    "mhc1 = ModelConverter.parse_mhc1_alleles([\"HLA-A*01:01:02:03N\", \"HLA-A*01:02:02:03N\", \n",
    "                                          \"HLA-B*15:01:02:03N\", \"HLA-B*15:01:02:04N\", \n",
    "                                          \"HLA-C*03:02\"], mhc_database=hla_database)\n",
    "mhc2 = ModelConverter.parse_mhc2_alleles([\"HLA-DPA1*01:03\", \"HLA-DPA1*01:04\", \"HLA-DPB1*01:01\", \"HLA-DPB1*01:01\", \n",
    "                                          \"HLA-DQA1*01:01\", \"HLA-DQA1*01:01\", \"HLA-DQB1*02:01\", \"HLA-DQB1*02:01\", \n",
    "                                          \"HLA-DRB1*01:01\", \"HLA-DRB1*01:01\"], mhc_database=hla_database)\n",
    "patient = Patient(\n",
    "    identifier=\"P123\", \n",
    "    is_rna_available=True, \n",
    "    tumor_type=\"NSCLC\", \n",
    "    mhc1=mhc1,\n",
    "    mhc2=mhc2\n",
    ")\n",
    "ModelConverter.object2series(patient)"
   ]
  },
  {
   "cell_type": "markdown",
   "metadata": {},
   "source": [
    "### Validate a patient"
   ]
  },
  {
   "cell_type": "code",
   "execution_count": 35,
   "metadata": {},
   "outputs": [],
   "source": [
    "validated_patient = ModelValidator.validate_patient(patient)"
   ]
  },
  {
   "cell_type": "markdown",
   "metadata": {},
   "source": [
    "A patient requires an identifier. MHC I and MHC II are optional in case one or the other are not available, the output annotations are adapted accordingly."
   ]
  },
  {
   "cell_type": "code",
   "execution_count": 36,
   "metadata": {},
   "outputs": [
    {
     "name": "stderr",
     "output_type": "stream",
     "text": [
      "[E 210928 12:18:04 validation:117] {}\n"
     ]
    },
    {
     "name": "stdout",
     "output_type": "stream",
     "text": [
      "Error message: A patient identifier is missing\n"
     ]
    }
   ],
   "source": [
    "try:\n",
    "    ModelValidator.validate_patient(Patient())  # missing patient identifier\n",
    "except NeofoxDataValidationException as e:\n",
    "    print (\"Error message: {}\".format(e))"
   ]
  },
  {
   "cell_type": "code",
   "execution_count": 37,
   "metadata": {},
   "outputs": [],
   "source": [
    "patient_without_mhc2 = ModelValidator.validate_patient(Patient(identifier=\"12345\", mhc1=mhc1))"
   ]
  },
  {
   "cell_type": "code",
   "execution_count": 38,
   "metadata": {},
   "outputs": [],
   "source": [
    "patient_without_mhc1 = ModelValidator.validate_patient(Patient(identifier=\"12345\", mhc2=mhc2))"
   ]
  },
  {
   "cell_type": "markdown",
   "metadata": {},
   "source": [
    "## Run Neofox"
   ]
  },
  {
   "cell_type": "markdown",
   "metadata": {},
   "source": [
    "### Parse input data from a file\n",
    "\n",
    "Although we could create the data objects manually as shown above, for convenience it is useful to store the data in tabular format. Here we show how to parse the neoantigens and patients from tabular files. "
   ]
  },
  {
   "cell_type": "markdown",
   "metadata": {},
   "source": [
    "The tabular file for neoantigens should look as follows:"
   ]
  },
  {
   "cell_type": "code",
   "execution_count": 39,
   "metadata": {},
   "outputs": [
    {
     "data": {
      "text/html": [
       "<div>\n",
       "<style scoped>\n",
       "    .dataframe tbody tr th:only-of-type {\n",
       "        vertical-align: middle;\n",
       "    }\n",
       "\n",
       "    .dataframe tbody tr th {\n",
       "        vertical-align: top;\n",
       "    }\n",
       "\n",
       "    .dataframe thead th {\n",
       "        text-align: right;\n",
       "    }\n",
       "</style>\n",
       "<table border=\"1\" class=\"dataframe\">\n",
       "  <thead>\n",
       "    <tr style=\"text-align: right;\">\n",
       "      <th></th>\n",
       "      <th>gene</th>\n",
       "      <th>transcript_identifier</th>\n",
       "      <th>mutation.mutatedXmer</th>\n",
       "      <th>mutation.wildTypeXmer</th>\n",
       "      <th>patientIdentifier</th>\n",
       "    </tr>\n",
       "  </thead>\n",
       "  <tbody>\n",
       "    <tr>\n",
       "      <th>0</th>\n",
       "      <td>VCAN</td>\n",
       "      <td>uc003kii.3</td>\n",
       "      <td>DEVLGEPSQDILVTDQTRLEATISPET</td>\n",
       "      <td>DEVLGEPSQDILVIDQTRLEATISPET</td>\n",
       "      <td>Pt27</td>\n",
       "    </tr>\n",
       "    <tr>\n",
       "      <th>1</th>\n",
       "      <td>DCST2</td>\n",
       "      <td>uc001fgm.3</td>\n",
       "      <td>RTNLLAALHRSVRWRAADQGHRSAFLV</td>\n",
       "      <td>RTNLLAALHRSVRRRAADQGHRSAFLV</td>\n",
       "      <td>Pt24</td>\n",
       "    </tr>\n",
       "    <tr>\n",
       "      <th>2</th>\n",
       "      <td>NRAS</td>\n",
       "      <td>uc009wgu.3</td>\n",
       "      <td>MTEYKLVVVGACGVGKSALTIQLIQ</td>\n",
       "      <td>MTEYKLVVVGAGGVGKSALTIQLIQ</td>\n",
       "      <td>Pt28</td>\n",
       "    </tr>\n",
       "    <tr>\n",
       "      <th>3</th>\n",
       "      <td>CEP350</td>\n",
       "      <td>uc001gnt.3</td>\n",
       "      <td>QTDSSSSDMQACSKDKAKISLGSSIDS</td>\n",
       "      <td>QTDSSSSDMQACSQDKAKISLGSSIDS</td>\n",
       "      <td>Pt63</td>\n",
       "    </tr>\n",
       "    <tr>\n",
       "      <th>4</th>\n",
       "      <td>CPPED1</td>\n",
       "      <td>uc002dca.4</td>\n",
       "      <td>DRAIPLVLVSGNHYIGNTPTAETVEEF</td>\n",
       "      <td>DRAIPLVLVSGNHDIGNTPTAETVEEF</td>\n",
       "      <td>Pt77</td>\n",
       "    </tr>\n",
       "    <tr>\n",
       "      <th>5</th>\n",
       "      <td>CXorf26</td>\n",
       "      <td>uc004ecl.1</td>\n",
       "      <td>YNKAVYISVQDKEEEKGVNNGGEKRAD</td>\n",
       "      <td>YNKAVYISVQDKEGEKGVNNGGEKRAD</td>\n",
       "      <td>Pt117</td>\n",
       "    </tr>\n",
       "    <tr>\n",
       "      <th>6</th>\n",
       "      <td>IGSF9B</td>\n",
       "      <td>uc001qgx.4</td>\n",
       "      <td>ASTHLTVIGTSPHVPGSVRVQVSMTTA</td>\n",
       "      <td>ASTHLTVIGTSPHAPGSVRVQVSMTTA</td>\n",
       "      <td>Pt110</td>\n",
       "    </tr>\n",
       "    <tr>\n",
       "      <th>7</th>\n",
       "      <td>HEATR5A</td>\n",
       "      <td>uc001wrf.4</td>\n",
       "      <td>TRRDEKSHPFTNPQWATRVFAAECVCR</td>\n",
       "      <td>TRRDEKSHPFTNPRWATRVFAAECVCR</td>\n",
       "      <td>Pt26</td>\n",
       "    </tr>\n",
       "    <tr>\n",
       "      <th>8</th>\n",
       "      <td>CHRDL2</td>\n",
       "      <td>uc001ovh.3</td>\n",
       "      <td>ARPDMFCLFHGKRHFPGESWHPYLEPQ</td>\n",
       "      <td>ARPDMFCLFHGKRYFPGESWHPYLEPQ</td>\n",
       "      <td>Pt77</td>\n",
       "    </tr>\n",
       "  </tbody>\n",
       "</table>\n",
       "</div>"
      ],
      "text/plain": [
       "      gene transcript_identifier         mutation.mutatedXmer  \\\n",
       "0     VCAN            uc003kii.3  DEVLGEPSQDILVTDQTRLEATISPET   \n",
       "1    DCST2            uc001fgm.3  RTNLLAALHRSVRWRAADQGHRSAFLV   \n",
       "2     NRAS            uc009wgu.3    MTEYKLVVVGACGVGKSALTIQLIQ   \n",
       "3   CEP350            uc001gnt.3  QTDSSSSDMQACSKDKAKISLGSSIDS   \n",
       "4   CPPED1            uc002dca.4  DRAIPLVLVSGNHYIGNTPTAETVEEF   \n",
       "5  CXorf26            uc004ecl.1  YNKAVYISVQDKEEEKGVNNGGEKRAD   \n",
       "6   IGSF9B            uc001qgx.4  ASTHLTVIGTSPHVPGSVRVQVSMTTA   \n",
       "7  HEATR5A            uc001wrf.4  TRRDEKSHPFTNPQWATRVFAAECVCR   \n",
       "8   CHRDL2            uc001ovh.3  ARPDMFCLFHGKRHFPGESWHPYLEPQ   \n",
       "\n",
       "         mutation.wildTypeXmer patientIdentifier  \n",
       "0  DEVLGEPSQDILVIDQTRLEATISPET              Pt27  \n",
       "1  RTNLLAALHRSVRRRAADQGHRSAFLV              Pt24  \n",
       "2    MTEYKLVVVGAGGVGKSALTIQLIQ              Pt28  \n",
       "3  QTDSSSSDMQACSQDKAKISLGSSIDS              Pt63  \n",
       "4  DRAIPLVLVSGNHDIGNTPTAETVEEF              Pt77  \n",
       "5  YNKAVYISVQDKEGEKGVNNGGEKRAD             Pt117  \n",
       "6  ASTHLTVIGTSPHAPGSVRVQVSMTTA             Pt110  \n",
       "7  TRRDEKSHPFTNPRWATRVFAAECVCR              Pt26  \n",
       "8  ARPDMFCLFHGKRYFPGESWHPYLEPQ              Pt77  "
      ]
     },
     "execution_count": 39,
     "metadata": {},
     "output_type": "execute_result"
    }
   ],
   "source": [
    "pd.read_csv(\"data/test_model_file.txt\", sep=\"\\t\")"
   ]
  },
  {
   "cell_type": "markdown",
   "metadata": {},
   "source": [
    "There is a specific function to parse an input file into a list of neoantigens. Any additional column not matching a field in the neoantigens model, in this case `transcript_identifier`, will be parsed into the external annotations. Neofox when executed from the command line interface adds these external annotations in the output together with the new annotations."
   ]
  },
  {
   "cell_type": "code",
   "execution_count": 40,
   "metadata": {},
   "outputs": [],
   "source": [
    "neoantigens = ModelConverter.parse_neoantigens_file(\"data/test_model_file.txt\")"
   ]
  },
  {
   "cell_type": "markdown",
   "metadata": {},
   "source": [
    "The tabular file for patients should look as follows:"
   ]
  },
  {
   "cell_type": "code",
   "execution_count": 41,
   "metadata": {},
   "outputs": [
    {
     "data": {
      "text/html": [
       "<div>\n",
       "<style scoped>\n",
       "    .dataframe tbody tr th:only-of-type {\n",
       "        vertical-align: middle;\n",
       "    }\n",
       "\n",
       "    .dataframe tbody tr th {\n",
       "        vertical-align: top;\n",
       "    }\n",
       "\n",
       "    .dataframe thead th {\n",
       "        text-align: right;\n",
       "    }\n",
       "</style>\n",
       "<table border=\"1\" class=\"dataframe\">\n",
       "  <thead>\n",
       "    <tr style=\"text-align: right;\">\n",
       "      <th></th>\n",
       "      <th>identifier</th>\n",
       "      <th>mhcIAlleles</th>\n",
       "      <th>mhcIIAlleles</th>\n",
       "      <th>isRnaAvailable</th>\n",
       "      <th>tumorType</th>\n",
       "    </tr>\n",
       "  </thead>\n",
       "  <tbody>\n",
       "    <tr>\n",
       "      <th>0</th>\n",
       "      <td>Pt27</td>\n",
       "      <td>HLA-A*03:01,HLA-A*29:02,HLA-B*07:02,HLA-B*44:0...</td>\n",
       "      <td>HLA-DRB1*04:02,HLA-DRB1*08:01,HLA-DQA1*03:01,H...</td>\n",
       "      <td>True</td>\n",
       "      <td>HNSC</td>\n",
       "    </tr>\n",
       "    <tr>\n",
       "      <th>1</th>\n",
       "      <td>Pt24</td>\n",
       "      <td>HLA-A*03:01,HLA-A*29:02,HLA-B*07:02,HLA-B*44:0...</td>\n",
       "      <td>HLA-DRB1*04:02,HLA-DRB1*08:01,HLA-DQA1*03:01,H...</td>\n",
       "      <td>True</td>\n",
       "      <td>HNSC</td>\n",
       "    </tr>\n",
       "    <tr>\n",
       "      <th>2</th>\n",
       "      <td>Pt28</td>\n",
       "      <td>HLA-A*03:01,HLA-A*29:02,HLA-B*07:02,HLA-B*44:0...</td>\n",
       "      <td>HLA-DRB1*04:02,HLA-DRB1*08:01,HLA-DQA1*03:01,H...</td>\n",
       "      <td>True</td>\n",
       "      <td>HNSC</td>\n",
       "    </tr>\n",
       "    <tr>\n",
       "      <th>3</th>\n",
       "      <td>Pt63</td>\n",
       "      <td>HLA-A*03:01,HLA-A*29:02,HLA-B*07:02,HLA-B*44:0...</td>\n",
       "      <td>HLA-DRB1*04:02,HLA-DRB1*08:01,HLA-DQA1*03:01,H...</td>\n",
       "      <td>True</td>\n",
       "      <td>HNSC</td>\n",
       "    </tr>\n",
       "    <tr>\n",
       "      <th>4</th>\n",
       "      <td>Pt77</td>\n",
       "      <td>HLA-A*03:01,HLA-A*29:02,HLA-B*07:02,HLA-B*44:0...</td>\n",
       "      <td>HLA-DRB1*04:02,HLA-DRB1*08:01,HLA-DQA1*03:01,H...</td>\n",
       "      <td>True</td>\n",
       "      <td>HNSC</td>\n",
       "    </tr>\n",
       "    <tr>\n",
       "      <th>5</th>\n",
       "      <td>Pt117</td>\n",
       "      <td>HLA-A*03:01,HLA-A*29:02,HLA-B*07:02,HLA-B*44:0...</td>\n",
       "      <td>HLA-DRB1*04:02,HLA-DRB1*08:01,HLA-DQA1*03:01,H...</td>\n",
       "      <td>True</td>\n",
       "      <td>HNSC</td>\n",
       "    </tr>\n",
       "    <tr>\n",
       "      <th>6</th>\n",
       "      <td>Pt110</td>\n",
       "      <td>HLA-A*03:01,HLA-A*29:02,HLA-B*07:02,HLA-B*44:0...</td>\n",
       "      <td>HLA-DRB1*04:02,HLA-DRB1*08:01,HLA-DQA1*03:01,H...</td>\n",
       "      <td>True</td>\n",
       "      <td>HNSC</td>\n",
       "    </tr>\n",
       "    <tr>\n",
       "      <th>7</th>\n",
       "      <td>Pt26</td>\n",
       "      <td>HLA-A*03:01,HLA-A*29:02,HLA-B*07:02,HLA-B*44:0...</td>\n",
       "      <td>HLA-DRB1*04:02,HLA-DRB1*08:01,HLA-DQA1*03:01,H...</td>\n",
       "      <td>True</td>\n",
       "      <td>HNSC</td>\n",
       "    </tr>\n",
       "  </tbody>\n",
       "</table>\n",
       "</div>"
      ],
      "text/plain": [
       "  identifier                                        mhcIAlleles  \\\n",
       "0       Pt27  HLA-A*03:01,HLA-A*29:02,HLA-B*07:02,HLA-B*44:0...   \n",
       "1       Pt24  HLA-A*03:01,HLA-A*29:02,HLA-B*07:02,HLA-B*44:0...   \n",
       "2       Pt28  HLA-A*03:01,HLA-A*29:02,HLA-B*07:02,HLA-B*44:0...   \n",
       "3       Pt63  HLA-A*03:01,HLA-A*29:02,HLA-B*07:02,HLA-B*44:0...   \n",
       "4       Pt77  HLA-A*03:01,HLA-A*29:02,HLA-B*07:02,HLA-B*44:0...   \n",
       "5      Pt117  HLA-A*03:01,HLA-A*29:02,HLA-B*07:02,HLA-B*44:0...   \n",
       "6      Pt110  HLA-A*03:01,HLA-A*29:02,HLA-B*07:02,HLA-B*44:0...   \n",
       "7       Pt26  HLA-A*03:01,HLA-A*29:02,HLA-B*07:02,HLA-B*44:0...   \n",
       "\n",
       "                                        mhcIIAlleles  isRnaAvailable tumorType  \n",
       "0  HLA-DRB1*04:02,HLA-DRB1*08:01,HLA-DQA1*03:01,H...            True      HNSC  \n",
       "1  HLA-DRB1*04:02,HLA-DRB1*08:01,HLA-DQA1*03:01,H...            True      HNSC  \n",
       "2  HLA-DRB1*04:02,HLA-DRB1*08:01,HLA-DQA1*03:01,H...            True      HNSC  \n",
       "3  HLA-DRB1*04:02,HLA-DRB1*08:01,HLA-DQA1*03:01,H...            True      HNSC  \n",
       "4  HLA-DRB1*04:02,HLA-DRB1*08:01,HLA-DQA1*03:01,H...            True      HNSC  \n",
       "5  HLA-DRB1*04:02,HLA-DRB1*08:01,HLA-DQA1*03:01,H...            True      HNSC  \n",
       "6  HLA-DRB1*04:02,HLA-DRB1*08:01,HLA-DQA1*03:01,H...            True      HNSC  \n",
       "7  HLA-DRB1*04:02,HLA-DRB1*08:01,HLA-DQA1*03:01,H...            True      HNSC  "
      ]
     },
     "execution_count": 41,
     "metadata": {},
     "output_type": "execute_result"
    }
   ],
   "source": [
    "pd.read_csv(\"data/test_patient_file.txt\", sep=\"\\t\")"
   ]
  },
  {
   "cell_type": "markdown",
   "metadata": {},
   "source": [
    "Parse the patients into the model objects as follows:"
   ]
  },
  {
   "cell_type": "code",
   "execution_count": 42,
   "metadata": {},
   "outputs": [],
   "source": [
    "patients = ModelConverter.parse_patients_file(\"data/test_patient_file.txt\", mhc_database=hla_database)"
   ]
  },
  {
   "cell_type": "markdown",
   "metadata": {},
   "source": [
    "### Annotate your neoantigens\n",
    "\n",
    "Running NeoFox requires the configuration its configuration through a number of environment variables, this is described in detail elsewhere in the documentation. This configuration can also be provided through a file passed into Neofox class in the field `configuration_file`."
   ]
  },
  {
   "cell_type": "code",
   "execution_count": 43,
   "metadata": {},
   "outputs": [],
   "source": [
    "from neofox.neofox import NeoFox\n",
    "import os"
   ]
  },
  {
   "cell_type": "code",
   "execution_count": 44,
   "metadata": {},
   "outputs": [
    {
     "name": "stderr",
     "output_type": "stream",
     "text": [
      "[I 210928 12:18:06 references:342] Reference genome folder: /neofox_install/reference_data/\n",
      "[I 210928 12:18:06 references:343] Resources\n",
      "[I 210928 12:18:06 references:345] /neofox_install/reference_data/netmhc2pan_available_alleles_human.txt\n",
      "[I 210928 12:18:06 references:345] /neofox_install/reference_data/netmhcpan_available_alleles_human.txt\n",
      "[I 210928 12:18:06 references:345] /neofox_install/reference_data/iedb\n",
      "[I 210928 12:18:06 references:345] /neofox_install/reference_data/proteome_db\n",
      "[I 210928 12:18:06 references:345] /neofox_install/reference_data/proteome_db/Homo_sapiens.fa\n",
      "[I 210928 12:18:06 references:345] /neofox_install/reference_data/iedb/IEDB_homo_sapiens.fasta\n",
      "[I 210928 12:18:06 references:345] /neofox_install/reference_data/hla_database_allele_list.csv\n",
      "[I 210928 12:18:06 expression_imputation:71] Fetching the gene expression at VCAN:10\n",
      "[I 210928 12:18:06 expression_imputation:77] Fetched a gene expression of 8.8404052357\n",
      "[I 210928 12:18:06 expression_imputation:71] Fetching the gene expression at DCST2:10\n",
      "[I 210928 12:18:06 expression_imputation:77] Fetched a gene expression of 0.1283784886\n",
      "[I 210928 12:18:06 expression_imputation:71] Fetching the gene expression at NRAS:10\n",
      "[I 210928 12:18:06 expression_imputation:77] Fetched a gene expression of 14.0097794749\n",
      "[I 210928 12:18:06 expression_imputation:71] Fetching the gene expression at CEP350:10\n",
      "[I 210928 12:18:06 expression_imputation:77] Fetched a gene expression of 4.1881530572\n",
      "[I 210928 12:18:06 expression_imputation:71] Fetching the gene expression at CPPED1:10\n",
      "[I 210928 12:18:06 expression_imputation:77] Fetched a gene expression of 3.2718222656\n",
      "[I 210928 12:18:06 expression_imputation:71] Fetching the gene expression at CXorf26:10\n",
      "[I 210928 12:18:06 expression_imputation:77] Fetched a gene expression of 13.5743362176\n",
      "[I 210928 12:18:06 expression_imputation:71] Fetching the gene expression at IGSF9B:10\n",
      "[I 210928 12:18:06 expression_imputation:77] Fetched a gene expression of 0.0771477047\n",
      "[I 210928 12:18:06 expression_imputation:71] Fetching the gene expression at HEATR5A:10\n",
      "[I 210928 12:18:06 expression_imputation:77] Fetched a gene expression of 2.8020526973\n",
      "[I 210928 12:18:06 expression_imputation:71] Fetching the gene expression at CHRDL2:10\n",
      "[I 210928 12:18:06 expression_imputation:77] Fetched a gene expression of 0.3346201976\n",
      "[I 210928 12:18:06 neofox:127] Data loaded\n",
      "[I 210928 12:18:06 neofox:199] Starting NeoFox annotations...\n",
      "[I 210928 12:20:18 neofox:246] Elapsed time for annotating 9 neoantigens 130 seconds\n"
     ]
    }
   ],
   "source": [
    "os.environ[\"NEOFOX_REFERENCE_FOLDER\"] = \"/neofox_install/reference_data/\"\n",
    "os.environ[\"NEOFOX_RSCRIPT\"] = \"/usr/bin/Rscript\"\n",
    "os.environ[\"NEOFOX_BLASTP\"] = \"/neofox_install/ncbi-blast-2.10.1+/bin/blastp\"\n",
    "os.environ[\"NEOFOX_NETMHCPAN\"] = \"/neofox_install/netMHCpan-4.1/netMHCpan\"\n",
    "os.environ[\"NEOFOX_NETMHC2PAN\"] = \"/neofox_install/netMHCIIpan-4.0/netMHCIIpan\"\n",
    "os.environ[\"NEOFOX_MIXMHCPRED\"] = \"/neofox_install/MixMHCpred-2.1/MixMHCpred\"\n",
    "os.environ[\"NEOFOX_MIXMHC2PRED\"] = \"/neofox_install/MixMHC2pred-1.2/MixMHC2pred_unix\"\n",
    "os.environ[\"NEOFOX_PRIME\"] = \"/neofox_install/PRIME-master/PRIME\"\n",
    "annotations = NeoFox(neoantigens=neoantigens, patients=patients, num_cpus=4).get_annotations()"
   ]
  },
  {
   "cell_type": "markdown",
   "metadata": {},
   "source": [
    "Neofox returns a list of annotations for each neoantigen, these are stored in an object called `NeoantigenAnnotations` which contains the corresponding neoantigen identifier, the annotator (ie: neofox), the annotator version, a timestamp and finally a list of the annotations."
   ]
  },
  {
   "cell_type": "code",
   "execution_count": 45,
   "metadata": {},
   "outputs": [
    {
     "data": {
      "text/plain": [
       "{'patientIdentifier': 'Pt27',\n",
       " 'gene': 'VCAN',\n",
       " 'mutation': {'position': [14],\n",
       "  'wildTypeXmer': 'DEVLGEPSQDILVIDQTRLEATISPET',\n",
       "  'mutatedXmer': 'DEVLGEPSQDILVTDQTRLEATISPET'},\n",
       " 'rnaExpression': 8.8404052357,\n",
       " 'imputedGeneExpression': 8.8404052357,\n",
       " 'dnaVariantAlleleFrequency': None,\n",
       " 'rnaVariantAlleleFrequency': None,\n",
       " 'neofoxAnnotations': {'annotations': [{'name': 'Best_rank_MHCI_score',\n",
       "    'value': '3.906'},\n",
       "   {'name': 'Best_rank_MHCI_score_epitope', 'value': 'VTDQTRLEA'},\n",
       "   {'name': 'Best_rank_MHCI_score_allele', 'value': 'HLA-C*16:01'},\n",
       "   {'name': 'Best_affinity_MHCI_score', 'value': '2982.7'},\n",
       "   {'name': 'Best_affinity_MHCI_epitope', 'value': 'VTDQTRLEA'},\n",
       "   {'name': 'Best_affinity_MHCI_allele', 'value': 'HLA-C*16:01'},\n",
       "   {'name': 'Best_rank_MHCI_9mer_score', 'value': '3.906'},\n",
       "   {'name': 'Best_rank_MHCI_9mer_epitope', 'value': 'VTDQTRLEA'},\n",
       "   {'name': 'Best_rank_MHCI_9mer_allele', 'value': 'HLA-C*16:01'},\n",
       "   {'name': 'Best_affinity_MHCI_9mer_score', 'value': '2982.7'},\n",
       "   {'name': 'Best_affinity_MHCI_9mer_allele', 'value': 'HLA-C*16:01'},\n",
       "   {'name': 'Best_affinity_MHCI_9mer_epitope', 'value': 'VTDQTRLEA'},\n",
       "   {'name': 'Best_affinity_MHCI_score_WT', 'value': '9467.9'},\n",
       "   {'name': 'Best_affinity_MHCI_epitope_WT', 'value': 'VIDQTRLEA'},\n",
       "   {'name': 'Best_affinity_MHCI_allele_WT', 'value': 'HLA-C*16:01'},\n",
       "   {'name': 'Best_rank_MHCI_score_WT', 'value': '8.277'},\n",
       "   {'name': 'Best_rank_MHCI_score_epitope_WT', 'value': 'VIDQTRLEA'},\n",
       "   {'name': 'Best_rank_MHCI_score_allele_WT', 'value': 'HLA-C*16:01'},\n",
       "   {'name': 'Best_rank_MHCI_9mer_score_WT', 'value': '8.277'},\n",
       "   {'name': 'Best_rank_MHCI_9mer_epitope_WT', 'value': 'VIDQTRLEA'},\n",
       "   {'name': 'Best_rank_MHCI_9mer_allele_WT', 'value': 'HLA-C*16:01'},\n",
       "   {'name': 'Best_affinity_MHCI_9mer_score_WT', 'value': '9467.9'},\n",
       "   {'name': 'Best_affinity_MHCI_9mer_allele_WT', 'value': 'HLA-C*16:01'},\n",
       "   {'name': 'Best_affinity_MHCI_9mer_epitope_WT', 'value': 'VIDQTRLEA'},\n",
       "   {'name': 'Generator_rate_MHCI', 'value': '0'},\n",
       "   {'name': 'Generator_rate_CDN_MHCI', 'value': '0'},\n",
       "   {'name': 'Generator_rate_ADN_MHCI', 'value': '0'},\n",
       "   {'name': 'PHBR_I', 'value': '6.2707'},\n",
       "   {'name': 'Best_affinity_MHCI_9mer_position_mutation', 'value': '2'},\n",
       "   {'name': 'Best_affinity_MHCI_9mer_anchor_mutated', 'value': '1'},\n",
       "   {'name': 'Best_rank_MHCII_score', 'value': '3.26'},\n",
       "   {'name': 'Best_rank_MHCII_score_epitope', 'value': 'SQDILVTDQTRLEAT'},\n",
       "   {'name': 'Best_rank_MHCII_score_allele',\n",
       "    'value': 'HLA-DQA1*03:01-DQB1*03:02'},\n",
       "   {'name': 'Best_affinity_MHCII_score', 'value': '1103.5'},\n",
       "   {'name': 'Best_affinity_MHCII_epitope', 'value': 'QDILVTDQTRLEATI'},\n",
       "   {'name': 'Best_affinity_MHCII_allele', 'value': 'HLA-DRB1*08:01'},\n",
       "   {'name': 'Best_rank_MHCII_score_WT', 'value': '6.14'},\n",
       "   {'name': 'Best_rank_MHCII_score_epitope_WT', 'value': 'SQDILVIDQTRLEAT'},\n",
       "   {'name': 'Best_rank_MHCII_score_allele_WT',\n",
       "    'value': 'HLA-DQA1*03:01-DQB1*03:02'},\n",
       "   {'name': 'Best_affinity_MHCII_score_WT', 'value': '562.6'},\n",
       "   {'name': 'Best_affinity_MHCII_epitope_WT', 'value': 'QDILVIDQTRLEATI'},\n",
       "   {'name': 'Best_affinity_MHCII_allele_WT', 'value': 'HLA-DRB1*08:01'},\n",
       "   {'name': 'PHBR_II', 'value': '8.8958'},\n",
       "   {'name': 'Generator_rate_MHCII', 'value': '0'},\n",
       "   {'name': 'Generator_rate_CDN_MHCII', 'value': '0'},\n",
       "   {'name': 'Generator_rate_ADN_MHCII', 'value': '0'},\n",
       "   {'name': 'MixMHCpred_best_peptide', 'value': 'VTDQTRLEA'},\n",
       "   {'name': 'MixMHCpred_best_score', 'value': '-0.09792'},\n",
       "   {'name': 'MixMHCpred_best_rank', 'value': '10'},\n",
       "   {'name': 'MixMHCpred_best_allele', 'value': 'HLA-A*29:02'},\n",
       "   {'name': 'PRIME_best_peptide', 'value': 'LVTDQTRLE'},\n",
       "   {'name': 'PRIME_best_score', 'value': '0.16349'},\n",
       "   {'name': 'PRIME_best_rank', 'value': '5'},\n",
       "   {'name': 'PRIME_best_allele', 'value': 'HLA-A*29:02'},\n",
       "   {'name': 'MixMHC2pred_best_peptide', 'value': 'DEVLGEPSQDILVT'},\n",
       "   {'name': 'MixMHC2pred_best_rank', 'value': '3.06'},\n",
       "   {'name': 'MixMHC2pred_best_allele', 'value': 'HLA-DPA1*01:03-DPB1*04:01'},\n",
       "   {'name': 'Expression_mutated_transcript', 'value': 'NA'},\n",
       "   {'name': 'mutation_not_found_in_proteome', 'value': '1'},\n",
       "   {'name': 'Amplitude_MHCI_affinity_9mer', 'value': '0.82656'},\n",
       "   {'name': 'Amplitude_MHCI_affinity', 'value': '0.82656'},\n",
       "   {'name': 'Amplitude_MHCII_rank', 'value': '1.8834'},\n",
       "   {'name': 'Pathogensimiliarity_MHCI_9mer', 'value': '0'},\n",
       "   {'name': 'Recognition_Potential_MHCI_9mer', 'value': '0'},\n",
       "   {'name': 'Pathogensimiliarity_MHCII', 'value': '0'},\n",
       "   {'name': 'DAI_MHCI_affinity', 'value': '6485.2'},\n",
       "   {'name': 'CDN_MHCI', 'value': '0'},\n",
       "   {'name': 'ADN_MHCI', 'value': '0'},\n",
       "   {'name': 'CDN_MHCII', 'value': '0'},\n",
       "   {'name': 'ADN_MHCII', 'value': '0'},\n",
       "   {'name': 'Tcell_predictor_score', 'value': '0.5094749478464053'},\n",
       "   {'name': 'Improved_Binder_MHCI', 'value': '1'},\n",
       "   {'name': 'Selfsimilarity_MHCII', 'value': '0.9615321336133709'},\n",
       "   {'name': 'Selfsimilarity_MHCI', 'value': '0.9746163344293891'},\n",
       "   {'name': 'Selfsimilarity_MHCI_conserved_binder', 'value': 'NA'},\n",
       "   {'name': 'Number_of_mismatches_MCHI', 'value': '1'},\n",
       "   {'name': 'Priority_score', 'value': 'NA'},\n",
       "   {'name': 'Neoag_immunogenicity', 'value': '142.3854'},\n",
       "   {'name': 'IEDB_Immunogenicity_MHCI', 'value': '0.0263'},\n",
       "   {'name': 'IEDB_Immunogenicity_MHCII', 'value': '0.24619'},\n",
       "   {'name': 'Dissimilarity_MHCI', 'value': '0'},\n",
       "   {'name': 'Dissimilarity_MHCII', 'value': '0'},\n",
       "   {'name': 'vaxrank_binding_score', 'value': '0'},\n",
       "   {'name': 'vaxrank_total_score', 'value': 'NA'},\n",
       "   {'name': 'Hex_alignment_score_MHCI', 'value': '146'},\n",
       "   {'name': 'Hex_alignment_score_MHCII', 'value': '374'}],\n",
       "  'annotator': 'NeoFox',\n",
       "  'annotatorVersion': '0.5.4.dev3',\n",
       "  'timestamp': '20210928121942034880'},\n",
       " 'externalAnnotations': [{'name': 'transcript_identifier',\n",
       "   'value': 'uc003kii.3'}]}"
      ]
     },
     "execution_count": 45,
     "metadata": {},
     "output_type": "execute_result"
    }
   ],
   "source": [
    "annotations[0].to_dict()"
   ]
  },
  {
   "cell_type": "markdown",
   "metadata": {},
   "source": [
    "### Transform the annotations into a data frame"
   ]
  },
  {
   "cell_type": "code",
   "execution_count": 46,
   "metadata": {},
   "outputs": [
    {
     "data": {
      "text/html": [
       "<div>\n",
       "<style scoped>\n",
       "    .dataframe tbody tr th:only-of-type {\n",
       "        vertical-align: middle;\n",
       "    }\n",
       "\n",
       "    .dataframe tbody tr th {\n",
       "        vertical-align: top;\n",
       "    }\n",
       "\n",
       "    .dataframe thead th {\n",
       "        text-align: right;\n",
       "    }\n",
       "</style>\n",
       "<table border=\"1\" class=\"dataframe\">\n",
       "  <thead>\n",
       "    <tr style=\"text-align: right;\">\n",
       "      <th></th>\n",
       "      <th>patientIdentifier</th>\n",
       "      <th>gene</th>\n",
       "      <th>mutation.mutatedXmer</th>\n",
       "      <th>mutation.wildTypeXmer</th>\n",
       "      <th>mutation.position</th>\n",
       "      <th>dnaVariantAlleleFrequency</th>\n",
       "      <th>rnaVariantAlleleFrequency</th>\n",
       "      <th>rnaExpression</th>\n",
       "      <th>imputedGeneExpression</th>\n",
       "      <th>ADN_MHCI</th>\n",
       "      <th>...</th>\n",
       "      <th>Priority_score</th>\n",
       "      <th>Recognition_Potential_MHCI_9mer</th>\n",
       "      <th>Selfsimilarity_MHCI</th>\n",
       "      <th>Selfsimilarity_MHCII</th>\n",
       "      <th>Selfsimilarity_MHCI_conserved_binder</th>\n",
       "      <th>Tcell_predictor_score</th>\n",
       "      <th>mutation_not_found_in_proteome</th>\n",
       "      <th>transcript_identifier</th>\n",
       "      <th>vaxrank_binding_score</th>\n",
       "      <th>vaxrank_total_score</th>\n",
       "    </tr>\n",
       "  </thead>\n",
       "  <tbody>\n",
       "    <tr>\n",
       "      <th>0</th>\n",
       "      <td>Pt27</td>\n",
       "      <td>VCAN</td>\n",
       "      <td>DEVLGEPSQDILVTDQTRLEATISPET</td>\n",
       "      <td>DEVLGEPSQDILVIDQTRLEATISPET</td>\n",
       "      <td>14</td>\n",
       "      <td>NA</td>\n",
       "      <td>NA</td>\n",
       "      <td>8.840405</td>\n",
       "      <td>8.840405</td>\n",
       "      <td>0</td>\n",
       "      <td>...</td>\n",
       "      <td>NA</td>\n",
       "      <td>0</td>\n",
       "      <td>0.9746163344293891</td>\n",
       "      <td>0.9615321336133709</td>\n",
       "      <td>NA</td>\n",
       "      <td>0.5094749478464053</td>\n",
       "      <td>1</td>\n",
       "      <td>uc003kii.3</td>\n",
       "      <td>0</td>\n",
       "      <td>NA</td>\n",
       "    </tr>\n",
       "    <tr>\n",
       "      <th>1</th>\n",
       "      <td>Pt24</td>\n",
       "      <td>DCST2</td>\n",
       "      <td>RTNLLAALHRSVRWRAADQGHRSAFLV</td>\n",
       "      <td>RTNLLAALHRSVRRRAADQGHRSAFLV</td>\n",
       "      <td>14</td>\n",
       "      <td>NA</td>\n",
       "      <td>NA</td>\n",
       "      <td>0.128378</td>\n",
       "      <td>0.128378</td>\n",
       "      <td>0</td>\n",
       "      <td>...</td>\n",
       "      <td>NA</td>\n",
       "      <td>0</td>\n",
       "      <td>0.9421875787623097</td>\n",
       "      <td>0.9391684897220461</td>\n",
       "      <td>0.9421875787623097</td>\n",
       "      <td>0.27191401693602235</td>\n",
       "      <td>1</td>\n",
       "      <td>uc001fgm.3</td>\n",
       "      <td>0.38942</td>\n",
       "      <td>NA</td>\n",
       "    </tr>\n",
       "    <tr>\n",
       "      <th>2</th>\n",
       "      <td>Pt28</td>\n",
       "      <td>NRAS</td>\n",
       "      <td>MTEYKLVVVGACGVGKSALTIQLIQ</td>\n",
       "      <td>MTEYKLVVVGAGGVGKSALTIQLIQ</td>\n",
       "      <td>12</td>\n",
       "      <td>NA</td>\n",
       "      <td>NA</td>\n",
       "      <td>14.009779</td>\n",
       "      <td>14.009779</td>\n",
       "      <td>0</td>\n",
       "      <td>...</td>\n",
       "      <td>NA</td>\n",
       "      <td>0</td>\n",
       "      <td>0.9330521460001094</td>\n",
       "      <td>0.9341826178609157</td>\n",
       "      <td>0.9330521460001094</td>\n",
       "      <td>0.5068878716790075</td>\n",
       "      <td>1</td>\n",
       "      <td>uc009wgu.3</td>\n",
       "      <td>1.4787</td>\n",
       "      <td>NA</td>\n",
       "    </tr>\n",
       "    <tr>\n",
       "      <th>3</th>\n",
       "      <td>Pt63</td>\n",
       "      <td>CEP350</td>\n",
       "      <td>QTDSSSSDMQACSKDKAKISLGSSIDS</td>\n",
       "      <td>QTDSSSSDMQACSQDKAKISLGSSIDS</td>\n",
       "      <td>14</td>\n",
       "      <td>NA</td>\n",
       "      <td>NA</td>\n",
       "      <td>4.188153</td>\n",
       "      <td>4.188153</td>\n",
       "      <td>0</td>\n",
       "      <td>...</td>\n",
       "      <td>NA</td>\n",
       "      <td>0</td>\n",
       "      <td>0.9822504402167844</td>\n",
       "      <td>0.9861912144506167</td>\n",
       "      <td>0.9822504402167844</td>\n",
       "      <td>0.3367698236194417</td>\n",
       "      <td>1</td>\n",
       "      <td>uc001gnt.3</td>\n",
       "      <td>0.23049</td>\n",
       "      <td>NA</td>\n",
       "    </tr>\n",
       "    <tr>\n",
       "      <th>4</th>\n",
       "      <td>Pt77</td>\n",
       "      <td>CPPED1</td>\n",
       "      <td>DRAIPLVLVSGNHYIGNTPTAETVEEF</td>\n",
       "      <td>DRAIPLVLVSGNHDIGNTPTAETVEEF</td>\n",
       "      <td>14</td>\n",
       "      <td>NA</td>\n",
       "      <td>NA</td>\n",
       "      <td>3.271822</td>\n",
       "      <td>3.271822</td>\n",
       "      <td>1</td>\n",
       "      <td>...</td>\n",
       "      <td>NA</td>\n",
       "      <td>0</td>\n",
       "      <td>0.9716393071320848</td>\n",
       "      <td>0.9451458345555184</td>\n",
       "      <td>NA</td>\n",
       "      <td>0.5720939101479084</td>\n",
       "      <td>1</td>\n",
       "      <td>uc002dca.4</td>\n",
       "      <td>0.8453</td>\n",
       "      <td>NA</td>\n",
       "    </tr>\n",
       "    <tr>\n",
       "      <th>5</th>\n",
       "      <td>Pt117</td>\n",
       "      <td>CXorf26</td>\n",
       "      <td>YNKAVYISVQDKEEEKGVNNGGEKRAD</td>\n",
       "      <td>YNKAVYISVQDKEGEKGVNNGGEKRAD</td>\n",
       "      <td>14</td>\n",
       "      <td>NA</td>\n",
       "      <td>NA</td>\n",
       "      <td>13.574336</td>\n",
       "      <td>13.574336</td>\n",
       "      <td>0</td>\n",
       "      <td>...</td>\n",
       "      <td>NA</td>\n",
       "      <td>0</td>\n",
       "      <td>0.9542175575949939</td>\n",
       "      <td>0.9697523262453144</td>\n",
       "      <td>0.9542175575949939</td>\n",
       "      <td>0.4886563384775356</td>\n",
       "      <td>1</td>\n",
       "      <td>uc004ecl.1</td>\n",
       "      <td>0</td>\n",
       "      <td>NA</td>\n",
       "    </tr>\n",
       "    <tr>\n",
       "      <th>6</th>\n",
       "      <td>Pt110</td>\n",
       "      <td>IGSF9B</td>\n",
       "      <td>ASTHLTVIGTSPHVPGSVRVQVSMTTA</td>\n",
       "      <td>ASTHLTVIGTSPHAPGSVRVQVSMTTA</td>\n",
       "      <td>14</td>\n",
       "      <td>NA</td>\n",
       "      <td>NA</td>\n",
       "      <td>0.077148</td>\n",
       "      <td>0.077148</td>\n",
       "      <td>0</td>\n",
       "      <td>...</td>\n",
       "      <td>NA</td>\n",
       "      <td>0</td>\n",
       "      <td>0.9874590500904996</td>\n",
       "      <td>0.9803010405217453</td>\n",
       "      <td>0.9874590500904996</td>\n",
       "      <td>0.09919940654277996</td>\n",
       "      <td>1</td>\n",
       "      <td>uc001qgx.4</td>\n",
       "      <td>3.6385</td>\n",
       "      <td>NA</td>\n",
       "    </tr>\n",
       "    <tr>\n",
       "      <th>7</th>\n",
       "      <td>Pt26</td>\n",
       "      <td>HEATR5A</td>\n",
       "      <td>TRRDEKSHPFTNPQWATRVFAAECVCR</td>\n",
       "      <td>TRRDEKSHPFTNPRWATRVFAAECVCR</td>\n",
       "      <td>14</td>\n",
       "      <td>NA</td>\n",
       "      <td>NA</td>\n",
       "      <td>2.802053</td>\n",
       "      <td>2.802053</td>\n",
       "      <td>0</td>\n",
       "      <td>...</td>\n",
       "      <td>NA</td>\n",
       "      <td>0</td>\n",
       "      <td>0.9614920042660836</td>\n",
       "      <td>0.9596541446763491</td>\n",
       "      <td>0.9614920042660836</td>\n",
       "      <td>0.3374084622586067</td>\n",
       "      <td>1</td>\n",
       "      <td>uc001wrf.4</td>\n",
       "      <td>3.1392</td>\n",
       "      <td>NA</td>\n",
       "    </tr>\n",
       "    <tr>\n",
       "      <th>8</th>\n",
       "      <td>Pt77</td>\n",
       "      <td>CHRDL2</td>\n",
       "      <td>ARPDMFCLFHGKRHFPGESWHPYLEPQ</td>\n",
       "      <td>ARPDMFCLFHGKRYFPGESWHPYLEPQ</td>\n",
       "      <td>14</td>\n",
       "      <td>NA</td>\n",
       "      <td>NA</td>\n",
       "      <td>0.334620</td>\n",
       "      <td>0.334620</td>\n",
       "      <td>0</td>\n",
       "      <td>...</td>\n",
       "      <td>NA</td>\n",
       "      <td>0</td>\n",
       "      <td>0.9782021524274523</td>\n",
       "      <td>0.9391077888953303</td>\n",
       "      <td>0.9782021524274523</td>\n",
       "      <td>0.49744103834505293</td>\n",
       "      <td>1</td>\n",
       "      <td>uc001ovh.3</td>\n",
       "      <td>0.91677</td>\n",
       "      <td>NA</td>\n",
       "    </tr>\n",
       "  </tbody>\n",
       "</table>\n",
       "<p>9 rows × 96 columns</p>\n",
       "</div>"
      ],
      "text/plain": [
       "  patientIdentifier     gene         mutation.mutatedXmer  \\\n",
       "0              Pt27     VCAN  DEVLGEPSQDILVTDQTRLEATISPET   \n",
       "1              Pt24    DCST2  RTNLLAALHRSVRWRAADQGHRSAFLV   \n",
       "2              Pt28     NRAS    MTEYKLVVVGACGVGKSALTIQLIQ   \n",
       "3              Pt63   CEP350  QTDSSSSDMQACSKDKAKISLGSSIDS   \n",
       "4              Pt77   CPPED1  DRAIPLVLVSGNHYIGNTPTAETVEEF   \n",
       "5             Pt117  CXorf26  YNKAVYISVQDKEEEKGVNNGGEKRAD   \n",
       "6             Pt110   IGSF9B  ASTHLTVIGTSPHVPGSVRVQVSMTTA   \n",
       "7              Pt26  HEATR5A  TRRDEKSHPFTNPQWATRVFAAECVCR   \n",
       "8              Pt77   CHRDL2  ARPDMFCLFHGKRHFPGESWHPYLEPQ   \n",
       "\n",
       "         mutation.wildTypeXmer mutation.position dnaVariantAlleleFrequency  \\\n",
       "0  DEVLGEPSQDILVIDQTRLEATISPET                14                        NA   \n",
       "1  RTNLLAALHRSVRRRAADQGHRSAFLV                14                        NA   \n",
       "2    MTEYKLVVVGAGGVGKSALTIQLIQ                12                        NA   \n",
       "3  QTDSSSSDMQACSQDKAKISLGSSIDS                14                        NA   \n",
       "4  DRAIPLVLVSGNHDIGNTPTAETVEEF                14                        NA   \n",
       "5  YNKAVYISVQDKEGEKGVNNGGEKRAD                14                        NA   \n",
       "6  ASTHLTVIGTSPHAPGSVRVQVSMTTA                14                        NA   \n",
       "7  TRRDEKSHPFTNPRWATRVFAAECVCR                14                        NA   \n",
       "8  ARPDMFCLFHGKRYFPGESWHPYLEPQ                14                        NA   \n",
       "\n",
       "  rnaVariantAlleleFrequency  rnaExpression  imputedGeneExpression ADN_MHCI  \\\n",
       "0                        NA       8.840405               8.840405        0   \n",
       "1                        NA       0.128378               0.128378        0   \n",
       "2                        NA      14.009779              14.009779        0   \n",
       "3                        NA       4.188153               4.188153        0   \n",
       "4                        NA       3.271822               3.271822        1   \n",
       "5                        NA      13.574336              13.574336        0   \n",
       "6                        NA       0.077148               0.077148        0   \n",
       "7                        NA       2.802053               2.802053        0   \n",
       "8                        NA       0.334620               0.334620        0   \n",
       "\n",
       "   ... Priority_score Recognition_Potential_MHCI_9mer Selfsimilarity_MHCI  \\\n",
       "0  ...             NA                               0  0.9746163344293891   \n",
       "1  ...             NA                               0  0.9421875787623097   \n",
       "2  ...             NA                               0  0.9330521460001094   \n",
       "3  ...             NA                               0  0.9822504402167844   \n",
       "4  ...             NA                               0  0.9716393071320848   \n",
       "5  ...             NA                               0  0.9542175575949939   \n",
       "6  ...             NA                               0  0.9874590500904996   \n",
       "7  ...             NA                               0  0.9614920042660836   \n",
       "8  ...             NA                               0  0.9782021524274523   \n",
       "\n",
       "  Selfsimilarity_MHCII Selfsimilarity_MHCI_conserved_binder  \\\n",
       "0   0.9615321336133709                                   NA   \n",
       "1   0.9391684897220461                   0.9421875787623097   \n",
       "2   0.9341826178609157                   0.9330521460001094   \n",
       "3   0.9861912144506167                   0.9822504402167844   \n",
       "4   0.9451458345555184                                   NA   \n",
       "5   0.9697523262453144                   0.9542175575949939   \n",
       "6   0.9803010405217453                   0.9874590500904996   \n",
       "7   0.9596541446763491                   0.9614920042660836   \n",
       "8   0.9391077888953303                   0.9782021524274523   \n",
       "\n",
       "  Tcell_predictor_score mutation_not_found_in_proteome transcript_identifier  \\\n",
       "0    0.5094749478464053                              1            uc003kii.3   \n",
       "1   0.27191401693602235                              1            uc001fgm.3   \n",
       "2    0.5068878716790075                              1            uc009wgu.3   \n",
       "3    0.3367698236194417                              1            uc001gnt.3   \n",
       "4    0.5720939101479084                              1            uc002dca.4   \n",
       "5    0.4886563384775356                              1            uc004ecl.1   \n",
       "6   0.09919940654277996                              1            uc001qgx.4   \n",
       "7    0.3374084622586067                              1            uc001wrf.4   \n",
       "8   0.49744103834505293                              1            uc001ovh.3   \n",
       "\n",
       "  vaxrank_binding_score vaxrank_total_score  \n",
       "0                     0                  NA  \n",
       "1               0.38942                  NA  \n",
       "2                1.4787                  NA  \n",
       "3               0.23049                  NA  \n",
       "4                0.8453                  NA  \n",
       "5                     0                  NA  \n",
       "6                3.6385                  NA  \n",
       "7                3.1392                  NA  \n",
       "8               0.91677                  NA  \n",
       "\n",
       "[9 rows x 96 columns]"
      ]
     },
     "execution_count": 46,
     "metadata": {},
     "output_type": "execute_result"
    }
   ],
   "source": [
    "annotations_table = ModelConverter.annotations2table(neoantigens=annotations)\n",
    "annotations_table.head(10)"
   ]
  },
  {
   "cell_type": "code",
   "execution_count": 47,
   "metadata": {},
   "outputs": [
    {
     "data": {
      "text/html": [
       "<div>\n",
       "<style scoped>\n",
       "    .dataframe tbody tr th:only-of-type {\n",
       "        vertical-align: middle;\n",
       "    }\n",
       "\n",
       "    .dataframe tbody tr th {\n",
       "        vertical-align: top;\n",
       "    }\n",
       "\n",
       "    .dataframe thead th {\n",
       "        text-align: right;\n",
       "    }\n",
       "</style>\n",
       "<table border=\"1\" class=\"dataframe\">\n",
       "  <thead>\n",
       "    <tr style=\"text-align: right;\">\n",
       "      <th></th>\n",
       "      <th>patientIdentifier</th>\n",
       "      <th>mutation.mutatedXmer</th>\n",
       "      <th>level_2</th>\n",
       "      <th>0</th>\n",
       "    </tr>\n",
       "  </thead>\n",
       "  <tbody>\n",
       "    <tr>\n",
       "      <th>0</th>\n",
       "      <td>Pt27</td>\n",
       "      <td>DEVLGEPSQDILVTDQTRLEATISPET</td>\n",
       "      <td>gene</td>\n",
       "      <td>VCAN</td>\n",
       "    </tr>\n",
       "    <tr>\n",
       "      <th>1</th>\n",
       "      <td>Pt27</td>\n",
       "      <td>DEVLGEPSQDILVTDQTRLEATISPET</td>\n",
       "      <td>mutation.wildTypeXmer</td>\n",
       "      <td>DEVLGEPSQDILVIDQTRLEATISPET</td>\n",
       "    </tr>\n",
       "    <tr>\n",
       "      <th>2</th>\n",
       "      <td>Pt27</td>\n",
       "      <td>DEVLGEPSQDILVTDQTRLEATISPET</td>\n",
       "      <td>mutation.position</td>\n",
       "      <td>14</td>\n",
       "    </tr>\n",
       "    <tr>\n",
       "      <th>3</th>\n",
       "      <td>Pt27</td>\n",
       "      <td>DEVLGEPSQDILVTDQTRLEATISPET</td>\n",
       "      <td>dnaVariantAlleleFrequency</td>\n",
       "      <td>NA</td>\n",
       "    </tr>\n",
       "    <tr>\n",
       "      <th>4</th>\n",
       "      <td>Pt27</td>\n",
       "      <td>DEVLGEPSQDILVTDQTRLEATISPET</td>\n",
       "      <td>rnaVariantAlleleFrequency</td>\n",
       "      <td>NA</td>\n",
       "    </tr>\n",
       "    <tr>\n",
       "      <th>5</th>\n",
       "      <td>Pt27</td>\n",
       "      <td>DEVLGEPSQDILVTDQTRLEATISPET</td>\n",
       "      <td>rnaExpression</td>\n",
       "      <td>8.84041</td>\n",
       "    </tr>\n",
       "    <tr>\n",
       "      <th>6</th>\n",
       "      <td>Pt27</td>\n",
       "      <td>DEVLGEPSQDILVTDQTRLEATISPET</td>\n",
       "      <td>imputedGeneExpression</td>\n",
       "      <td>8.84041</td>\n",
       "    </tr>\n",
       "    <tr>\n",
       "      <th>7</th>\n",
       "      <td>Pt27</td>\n",
       "      <td>DEVLGEPSQDILVTDQTRLEATISPET</td>\n",
       "      <td>ADN_MHCI</td>\n",
       "      <td>0</td>\n",
       "    </tr>\n",
       "    <tr>\n",
       "      <th>8</th>\n",
       "      <td>Pt27</td>\n",
       "      <td>DEVLGEPSQDILVTDQTRLEATISPET</td>\n",
       "      <td>ADN_MHCII</td>\n",
       "      <td>0</td>\n",
       "    </tr>\n",
       "    <tr>\n",
       "      <th>9</th>\n",
       "      <td>Pt27</td>\n",
       "      <td>DEVLGEPSQDILVTDQTRLEATISPET</td>\n",
       "      <td>Amplitude_MHCII_rank</td>\n",
       "      <td>1.8834</td>\n",
       "    </tr>\n",
       "    <tr>\n",
       "      <th>10</th>\n",
       "      <td>Pt27</td>\n",
       "      <td>DEVLGEPSQDILVTDQTRLEATISPET</td>\n",
       "      <td>Amplitude_MHCI_affinity</td>\n",
       "      <td>0.82656</td>\n",
       "    </tr>\n",
       "    <tr>\n",
       "      <th>11</th>\n",
       "      <td>Pt27</td>\n",
       "      <td>DEVLGEPSQDILVTDQTRLEATISPET</td>\n",
       "      <td>Amplitude_MHCI_affinity_9mer</td>\n",
       "      <td>0.82656</td>\n",
       "    </tr>\n",
       "    <tr>\n",
       "      <th>12</th>\n",
       "      <td>Pt27</td>\n",
       "      <td>DEVLGEPSQDILVTDQTRLEATISPET</td>\n",
       "      <td>Best_affinity_MHCII_allele</td>\n",
       "      <td>HLA-DRB1*08:01</td>\n",
       "    </tr>\n",
       "    <tr>\n",
       "      <th>13</th>\n",
       "      <td>Pt27</td>\n",
       "      <td>DEVLGEPSQDILVTDQTRLEATISPET</td>\n",
       "      <td>Best_affinity_MHCII_allele_WT</td>\n",
       "      <td>HLA-DRB1*08:01</td>\n",
       "    </tr>\n",
       "    <tr>\n",
       "      <th>14</th>\n",
       "      <td>Pt27</td>\n",
       "      <td>DEVLGEPSQDILVTDQTRLEATISPET</td>\n",
       "      <td>Best_affinity_MHCII_epitope</td>\n",
       "      <td>QDILVTDQTRLEATI</td>\n",
       "    </tr>\n",
       "    <tr>\n",
       "      <th>15</th>\n",
       "      <td>Pt27</td>\n",
       "      <td>DEVLGEPSQDILVTDQTRLEATISPET</td>\n",
       "      <td>Best_affinity_MHCII_epitope_WT</td>\n",
       "      <td>QDILVIDQTRLEATI</td>\n",
       "    </tr>\n",
       "    <tr>\n",
       "      <th>16</th>\n",
       "      <td>Pt27</td>\n",
       "      <td>DEVLGEPSQDILVTDQTRLEATISPET</td>\n",
       "      <td>Best_affinity_MHCII_score</td>\n",
       "      <td>1103.5</td>\n",
       "    </tr>\n",
       "    <tr>\n",
       "      <th>17</th>\n",
       "      <td>Pt27</td>\n",
       "      <td>DEVLGEPSQDILVTDQTRLEATISPET</td>\n",
       "      <td>Best_affinity_MHCII_score_WT</td>\n",
       "      <td>562.6</td>\n",
       "    </tr>\n",
       "    <tr>\n",
       "      <th>18</th>\n",
       "      <td>Pt27</td>\n",
       "      <td>DEVLGEPSQDILVTDQTRLEATISPET</td>\n",
       "      <td>Best_affinity_MHCI_9mer_allele</td>\n",
       "      <td>HLA-C*16:01</td>\n",
       "    </tr>\n",
       "    <tr>\n",
       "      <th>19</th>\n",
       "      <td>Pt27</td>\n",
       "      <td>DEVLGEPSQDILVTDQTRLEATISPET</td>\n",
       "      <td>Best_affinity_MHCI_9mer_allele_WT</td>\n",
       "      <td>HLA-C*16:01</td>\n",
       "    </tr>\n",
       "    <tr>\n",
       "      <th>20</th>\n",
       "      <td>Pt27</td>\n",
       "      <td>DEVLGEPSQDILVTDQTRLEATISPET</td>\n",
       "      <td>Best_affinity_MHCI_9mer_anchor_mutated</td>\n",
       "      <td>1</td>\n",
       "    </tr>\n",
       "    <tr>\n",
       "      <th>21</th>\n",
       "      <td>Pt27</td>\n",
       "      <td>DEVLGEPSQDILVTDQTRLEATISPET</td>\n",
       "      <td>Best_affinity_MHCI_9mer_epitope</td>\n",
       "      <td>VTDQTRLEA</td>\n",
       "    </tr>\n",
       "    <tr>\n",
       "      <th>22</th>\n",
       "      <td>Pt27</td>\n",
       "      <td>DEVLGEPSQDILVTDQTRLEATISPET</td>\n",
       "      <td>Best_affinity_MHCI_9mer_epitope_WT</td>\n",
       "      <td>VIDQTRLEA</td>\n",
       "    </tr>\n",
       "    <tr>\n",
       "      <th>23</th>\n",
       "      <td>Pt27</td>\n",
       "      <td>DEVLGEPSQDILVTDQTRLEATISPET</td>\n",
       "      <td>Best_affinity_MHCI_9mer_position_mutation</td>\n",
       "      <td>2</td>\n",
       "    </tr>\n",
       "    <tr>\n",
       "      <th>24</th>\n",
       "      <td>Pt27</td>\n",
       "      <td>DEVLGEPSQDILVTDQTRLEATISPET</td>\n",
       "      <td>Best_affinity_MHCI_9mer_score</td>\n",
       "      <td>2982.7</td>\n",
       "    </tr>\n",
       "    <tr>\n",
       "      <th>25</th>\n",
       "      <td>Pt27</td>\n",
       "      <td>DEVLGEPSQDILVTDQTRLEATISPET</td>\n",
       "      <td>Best_affinity_MHCI_9mer_score_WT</td>\n",
       "      <td>9467.9</td>\n",
       "    </tr>\n",
       "    <tr>\n",
       "      <th>26</th>\n",
       "      <td>Pt27</td>\n",
       "      <td>DEVLGEPSQDILVTDQTRLEATISPET</td>\n",
       "      <td>Best_affinity_MHCI_allele</td>\n",
       "      <td>HLA-C*16:01</td>\n",
       "    </tr>\n",
       "    <tr>\n",
       "      <th>27</th>\n",
       "      <td>Pt27</td>\n",
       "      <td>DEVLGEPSQDILVTDQTRLEATISPET</td>\n",
       "      <td>Best_affinity_MHCI_allele_WT</td>\n",
       "      <td>HLA-C*16:01</td>\n",
       "    </tr>\n",
       "    <tr>\n",
       "      <th>28</th>\n",
       "      <td>Pt27</td>\n",
       "      <td>DEVLGEPSQDILVTDQTRLEATISPET</td>\n",
       "      <td>Best_affinity_MHCI_epitope</td>\n",
       "      <td>VTDQTRLEA</td>\n",
       "    </tr>\n",
       "    <tr>\n",
       "      <th>29</th>\n",
       "      <td>Pt27</td>\n",
       "      <td>DEVLGEPSQDILVTDQTRLEATISPET</td>\n",
       "      <td>Best_affinity_MHCI_epitope_WT</td>\n",
       "      <td>VIDQTRLEA</td>\n",
       "    </tr>\n",
       "    <tr>\n",
       "      <th>30</th>\n",
       "      <td>Pt27</td>\n",
       "      <td>DEVLGEPSQDILVTDQTRLEATISPET</td>\n",
       "      <td>Best_affinity_MHCI_score</td>\n",
       "      <td>2982.7</td>\n",
       "    </tr>\n",
       "    <tr>\n",
       "      <th>31</th>\n",
       "      <td>Pt27</td>\n",
       "      <td>DEVLGEPSQDILVTDQTRLEATISPET</td>\n",
       "      <td>Best_affinity_MHCI_score_WT</td>\n",
       "      <td>9467.9</td>\n",
       "    </tr>\n",
       "    <tr>\n",
       "      <th>32</th>\n",
       "      <td>Pt27</td>\n",
       "      <td>DEVLGEPSQDILVTDQTRLEATISPET</td>\n",
       "      <td>Best_rank_MHCII_score</td>\n",
       "      <td>3.26</td>\n",
       "    </tr>\n",
       "    <tr>\n",
       "      <th>33</th>\n",
       "      <td>Pt27</td>\n",
       "      <td>DEVLGEPSQDILVTDQTRLEATISPET</td>\n",
       "      <td>Best_rank_MHCII_score_WT</td>\n",
       "      <td>6.14</td>\n",
       "    </tr>\n",
       "    <tr>\n",
       "      <th>34</th>\n",
       "      <td>Pt27</td>\n",
       "      <td>DEVLGEPSQDILVTDQTRLEATISPET</td>\n",
       "      <td>Best_rank_MHCII_score_allele</td>\n",
       "      <td>HLA-DQA1*03:01-DQB1*03:02</td>\n",
       "    </tr>\n",
       "    <tr>\n",
       "      <th>35</th>\n",
       "      <td>Pt27</td>\n",
       "      <td>DEVLGEPSQDILVTDQTRLEATISPET</td>\n",
       "      <td>Best_rank_MHCII_score_allele_WT</td>\n",
       "      <td>HLA-DQA1*03:01-DQB1*03:02</td>\n",
       "    </tr>\n",
       "    <tr>\n",
       "      <th>36</th>\n",
       "      <td>Pt27</td>\n",
       "      <td>DEVLGEPSQDILVTDQTRLEATISPET</td>\n",
       "      <td>Best_rank_MHCII_score_epitope</td>\n",
       "      <td>SQDILVTDQTRLEAT</td>\n",
       "    </tr>\n",
       "    <tr>\n",
       "      <th>37</th>\n",
       "      <td>Pt27</td>\n",
       "      <td>DEVLGEPSQDILVTDQTRLEATISPET</td>\n",
       "      <td>Best_rank_MHCII_score_epitope_WT</td>\n",
       "      <td>SQDILVIDQTRLEAT</td>\n",
       "    </tr>\n",
       "    <tr>\n",
       "      <th>38</th>\n",
       "      <td>Pt27</td>\n",
       "      <td>DEVLGEPSQDILVTDQTRLEATISPET</td>\n",
       "      <td>Best_rank_MHCI_9mer_allele</td>\n",
       "      <td>HLA-C*16:01</td>\n",
       "    </tr>\n",
       "    <tr>\n",
       "      <th>39</th>\n",
       "      <td>Pt27</td>\n",
       "      <td>DEVLGEPSQDILVTDQTRLEATISPET</td>\n",
       "      <td>Best_rank_MHCI_9mer_allele_WT</td>\n",
       "      <td>HLA-C*16:01</td>\n",
       "    </tr>\n",
       "    <tr>\n",
       "      <th>40</th>\n",
       "      <td>Pt27</td>\n",
       "      <td>DEVLGEPSQDILVTDQTRLEATISPET</td>\n",
       "      <td>Best_rank_MHCI_9mer_epitope</td>\n",
       "      <td>VTDQTRLEA</td>\n",
       "    </tr>\n",
       "    <tr>\n",
       "      <th>41</th>\n",
       "      <td>Pt27</td>\n",
       "      <td>DEVLGEPSQDILVTDQTRLEATISPET</td>\n",
       "      <td>Best_rank_MHCI_9mer_epitope_WT</td>\n",
       "      <td>VIDQTRLEA</td>\n",
       "    </tr>\n",
       "    <tr>\n",
       "      <th>42</th>\n",
       "      <td>Pt27</td>\n",
       "      <td>DEVLGEPSQDILVTDQTRLEATISPET</td>\n",
       "      <td>Best_rank_MHCI_9mer_score</td>\n",
       "      <td>3.906</td>\n",
       "    </tr>\n",
       "    <tr>\n",
       "      <th>43</th>\n",
       "      <td>Pt27</td>\n",
       "      <td>DEVLGEPSQDILVTDQTRLEATISPET</td>\n",
       "      <td>Best_rank_MHCI_9mer_score_WT</td>\n",
       "      <td>8.277</td>\n",
       "    </tr>\n",
       "    <tr>\n",
       "      <th>44</th>\n",
       "      <td>Pt27</td>\n",
       "      <td>DEVLGEPSQDILVTDQTRLEATISPET</td>\n",
       "      <td>Best_rank_MHCI_score</td>\n",
       "      <td>3.906</td>\n",
       "    </tr>\n",
       "    <tr>\n",
       "      <th>45</th>\n",
       "      <td>Pt27</td>\n",
       "      <td>DEVLGEPSQDILVTDQTRLEATISPET</td>\n",
       "      <td>Best_rank_MHCI_score_WT</td>\n",
       "      <td>8.277</td>\n",
       "    </tr>\n",
       "    <tr>\n",
       "      <th>46</th>\n",
       "      <td>Pt27</td>\n",
       "      <td>DEVLGEPSQDILVTDQTRLEATISPET</td>\n",
       "      <td>Best_rank_MHCI_score_allele</td>\n",
       "      <td>HLA-C*16:01</td>\n",
       "    </tr>\n",
       "    <tr>\n",
       "      <th>47</th>\n",
       "      <td>Pt27</td>\n",
       "      <td>DEVLGEPSQDILVTDQTRLEATISPET</td>\n",
       "      <td>Best_rank_MHCI_score_allele_WT</td>\n",
       "      <td>HLA-C*16:01</td>\n",
       "    </tr>\n",
       "    <tr>\n",
       "      <th>48</th>\n",
       "      <td>Pt27</td>\n",
       "      <td>DEVLGEPSQDILVTDQTRLEATISPET</td>\n",
       "      <td>Best_rank_MHCI_score_epitope</td>\n",
       "      <td>VTDQTRLEA</td>\n",
       "    </tr>\n",
       "    <tr>\n",
       "      <th>49</th>\n",
       "      <td>Pt27</td>\n",
       "      <td>DEVLGEPSQDILVTDQTRLEATISPET</td>\n",
       "      <td>Best_rank_MHCI_score_epitope_WT</td>\n",
       "      <td>VIDQTRLEA</td>\n",
       "    </tr>\n",
       "    <tr>\n",
       "      <th>50</th>\n",
       "      <td>Pt27</td>\n",
       "      <td>DEVLGEPSQDILVTDQTRLEATISPET</td>\n",
       "      <td>CDN_MHCI</td>\n",
       "      <td>0</td>\n",
       "    </tr>\n",
       "    <tr>\n",
       "      <th>51</th>\n",
       "      <td>Pt27</td>\n",
       "      <td>DEVLGEPSQDILVTDQTRLEATISPET</td>\n",
       "      <td>CDN_MHCII</td>\n",
       "      <td>0</td>\n",
       "    </tr>\n",
       "    <tr>\n",
       "      <th>52</th>\n",
       "      <td>Pt27</td>\n",
       "      <td>DEVLGEPSQDILVTDQTRLEATISPET</td>\n",
       "      <td>DAI_MHCI_affinity</td>\n",
       "      <td>6485.2</td>\n",
       "    </tr>\n",
       "    <tr>\n",
       "      <th>53</th>\n",
       "      <td>Pt27</td>\n",
       "      <td>DEVLGEPSQDILVTDQTRLEATISPET</td>\n",
       "      <td>Dissimilarity_MHCI</td>\n",
       "      <td>0</td>\n",
       "    </tr>\n",
       "    <tr>\n",
       "      <th>54</th>\n",
       "      <td>Pt27</td>\n",
       "      <td>DEVLGEPSQDILVTDQTRLEATISPET</td>\n",
       "      <td>Dissimilarity_MHCII</td>\n",
       "      <td>0</td>\n",
       "    </tr>\n",
       "    <tr>\n",
       "      <th>55</th>\n",
       "      <td>Pt27</td>\n",
       "      <td>DEVLGEPSQDILVTDQTRLEATISPET</td>\n",
       "      <td>Expression_mutated_transcript</td>\n",
       "      <td>NA</td>\n",
       "    </tr>\n",
       "    <tr>\n",
       "      <th>56</th>\n",
       "      <td>Pt27</td>\n",
       "      <td>DEVLGEPSQDILVTDQTRLEATISPET</td>\n",
       "      <td>Generator_rate_ADN_MHCI</td>\n",
       "      <td>0</td>\n",
       "    </tr>\n",
       "    <tr>\n",
       "      <th>57</th>\n",
       "      <td>Pt27</td>\n",
       "      <td>DEVLGEPSQDILVTDQTRLEATISPET</td>\n",
       "      <td>Generator_rate_ADN_MHCII</td>\n",
       "      <td>0</td>\n",
       "    </tr>\n",
       "    <tr>\n",
       "      <th>58</th>\n",
       "      <td>Pt27</td>\n",
       "      <td>DEVLGEPSQDILVTDQTRLEATISPET</td>\n",
       "      <td>Generator_rate_CDN_MHCI</td>\n",
       "      <td>0</td>\n",
       "    </tr>\n",
       "    <tr>\n",
       "      <th>59</th>\n",
       "      <td>Pt27</td>\n",
       "      <td>DEVLGEPSQDILVTDQTRLEATISPET</td>\n",
       "      <td>Generator_rate_CDN_MHCII</td>\n",
       "      <td>0</td>\n",
       "    </tr>\n",
       "  </tbody>\n",
       "</table>\n",
       "</div>"
      ],
      "text/plain": [
       "   patientIdentifier         mutation.mutatedXmer  \\\n",
       "0               Pt27  DEVLGEPSQDILVTDQTRLEATISPET   \n",
       "1               Pt27  DEVLGEPSQDILVTDQTRLEATISPET   \n",
       "2               Pt27  DEVLGEPSQDILVTDQTRLEATISPET   \n",
       "3               Pt27  DEVLGEPSQDILVTDQTRLEATISPET   \n",
       "4               Pt27  DEVLGEPSQDILVTDQTRLEATISPET   \n",
       "5               Pt27  DEVLGEPSQDILVTDQTRLEATISPET   \n",
       "6               Pt27  DEVLGEPSQDILVTDQTRLEATISPET   \n",
       "7               Pt27  DEVLGEPSQDILVTDQTRLEATISPET   \n",
       "8               Pt27  DEVLGEPSQDILVTDQTRLEATISPET   \n",
       "9               Pt27  DEVLGEPSQDILVTDQTRLEATISPET   \n",
       "10              Pt27  DEVLGEPSQDILVTDQTRLEATISPET   \n",
       "11              Pt27  DEVLGEPSQDILVTDQTRLEATISPET   \n",
       "12              Pt27  DEVLGEPSQDILVTDQTRLEATISPET   \n",
       "13              Pt27  DEVLGEPSQDILVTDQTRLEATISPET   \n",
       "14              Pt27  DEVLGEPSQDILVTDQTRLEATISPET   \n",
       "15              Pt27  DEVLGEPSQDILVTDQTRLEATISPET   \n",
       "16              Pt27  DEVLGEPSQDILVTDQTRLEATISPET   \n",
       "17              Pt27  DEVLGEPSQDILVTDQTRLEATISPET   \n",
       "18              Pt27  DEVLGEPSQDILVTDQTRLEATISPET   \n",
       "19              Pt27  DEVLGEPSQDILVTDQTRLEATISPET   \n",
       "20              Pt27  DEVLGEPSQDILVTDQTRLEATISPET   \n",
       "21              Pt27  DEVLGEPSQDILVTDQTRLEATISPET   \n",
       "22              Pt27  DEVLGEPSQDILVTDQTRLEATISPET   \n",
       "23              Pt27  DEVLGEPSQDILVTDQTRLEATISPET   \n",
       "24              Pt27  DEVLGEPSQDILVTDQTRLEATISPET   \n",
       "25              Pt27  DEVLGEPSQDILVTDQTRLEATISPET   \n",
       "26              Pt27  DEVLGEPSQDILVTDQTRLEATISPET   \n",
       "27              Pt27  DEVLGEPSQDILVTDQTRLEATISPET   \n",
       "28              Pt27  DEVLGEPSQDILVTDQTRLEATISPET   \n",
       "29              Pt27  DEVLGEPSQDILVTDQTRLEATISPET   \n",
       "30              Pt27  DEVLGEPSQDILVTDQTRLEATISPET   \n",
       "31              Pt27  DEVLGEPSQDILVTDQTRLEATISPET   \n",
       "32              Pt27  DEVLGEPSQDILVTDQTRLEATISPET   \n",
       "33              Pt27  DEVLGEPSQDILVTDQTRLEATISPET   \n",
       "34              Pt27  DEVLGEPSQDILVTDQTRLEATISPET   \n",
       "35              Pt27  DEVLGEPSQDILVTDQTRLEATISPET   \n",
       "36              Pt27  DEVLGEPSQDILVTDQTRLEATISPET   \n",
       "37              Pt27  DEVLGEPSQDILVTDQTRLEATISPET   \n",
       "38              Pt27  DEVLGEPSQDILVTDQTRLEATISPET   \n",
       "39              Pt27  DEVLGEPSQDILVTDQTRLEATISPET   \n",
       "40              Pt27  DEVLGEPSQDILVTDQTRLEATISPET   \n",
       "41              Pt27  DEVLGEPSQDILVTDQTRLEATISPET   \n",
       "42              Pt27  DEVLGEPSQDILVTDQTRLEATISPET   \n",
       "43              Pt27  DEVLGEPSQDILVTDQTRLEATISPET   \n",
       "44              Pt27  DEVLGEPSQDILVTDQTRLEATISPET   \n",
       "45              Pt27  DEVLGEPSQDILVTDQTRLEATISPET   \n",
       "46              Pt27  DEVLGEPSQDILVTDQTRLEATISPET   \n",
       "47              Pt27  DEVLGEPSQDILVTDQTRLEATISPET   \n",
       "48              Pt27  DEVLGEPSQDILVTDQTRLEATISPET   \n",
       "49              Pt27  DEVLGEPSQDILVTDQTRLEATISPET   \n",
       "50              Pt27  DEVLGEPSQDILVTDQTRLEATISPET   \n",
       "51              Pt27  DEVLGEPSQDILVTDQTRLEATISPET   \n",
       "52              Pt27  DEVLGEPSQDILVTDQTRLEATISPET   \n",
       "53              Pt27  DEVLGEPSQDILVTDQTRLEATISPET   \n",
       "54              Pt27  DEVLGEPSQDILVTDQTRLEATISPET   \n",
       "55              Pt27  DEVLGEPSQDILVTDQTRLEATISPET   \n",
       "56              Pt27  DEVLGEPSQDILVTDQTRLEATISPET   \n",
       "57              Pt27  DEVLGEPSQDILVTDQTRLEATISPET   \n",
       "58              Pt27  DEVLGEPSQDILVTDQTRLEATISPET   \n",
       "59              Pt27  DEVLGEPSQDILVTDQTRLEATISPET   \n",
       "\n",
       "                                      level_2                            0  \n",
       "0                                        gene                         VCAN  \n",
       "1                       mutation.wildTypeXmer  DEVLGEPSQDILVIDQTRLEATISPET  \n",
       "2                           mutation.position                           14  \n",
       "3                   dnaVariantAlleleFrequency                           NA  \n",
       "4                   rnaVariantAlleleFrequency                           NA  \n",
       "5                               rnaExpression                      8.84041  \n",
       "6                       imputedGeneExpression                      8.84041  \n",
       "7                                    ADN_MHCI                            0  \n",
       "8                                   ADN_MHCII                            0  \n",
       "9                        Amplitude_MHCII_rank                       1.8834  \n",
       "10                    Amplitude_MHCI_affinity                      0.82656  \n",
       "11               Amplitude_MHCI_affinity_9mer                      0.82656  \n",
       "12                 Best_affinity_MHCII_allele               HLA-DRB1*08:01  \n",
       "13              Best_affinity_MHCII_allele_WT               HLA-DRB1*08:01  \n",
       "14                Best_affinity_MHCII_epitope              QDILVTDQTRLEATI  \n",
       "15             Best_affinity_MHCII_epitope_WT              QDILVIDQTRLEATI  \n",
       "16                  Best_affinity_MHCII_score                       1103.5  \n",
       "17               Best_affinity_MHCII_score_WT                        562.6  \n",
       "18             Best_affinity_MHCI_9mer_allele                  HLA-C*16:01  \n",
       "19          Best_affinity_MHCI_9mer_allele_WT                  HLA-C*16:01  \n",
       "20     Best_affinity_MHCI_9mer_anchor_mutated                            1  \n",
       "21            Best_affinity_MHCI_9mer_epitope                    VTDQTRLEA  \n",
       "22         Best_affinity_MHCI_9mer_epitope_WT                    VIDQTRLEA  \n",
       "23  Best_affinity_MHCI_9mer_position_mutation                            2  \n",
       "24              Best_affinity_MHCI_9mer_score                       2982.7  \n",
       "25           Best_affinity_MHCI_9mer_score_WT                       9467.9  \n",
       "26                  Best_affinity_MHCI_allele                  HLA-C*16:01  \n",
       "27               Best_affinity_MHCI_allele_WT                  HLA-C*16:01  \n",
       "28                 Best_affinity_MHCI_epitope                    VTDQTRLEA  \n",
       "29              Best_affinity_MHCI_epitope_WT                    VIDQTRLEA  \n",
       "30                   Best_affinity_MHCI_score                       2982.7  \n",
       "31                Best_affinity_MHCI_score_WT                       9467.9  \n",
       "32                      Best_rank_MHCII_score                         3.26  \n",
       "33                   Best_rank_MHCII_score_WT                         6.14  \n",
       "34               Best_rank_MHCII_score_allele    HLA-DQA1*03:01-DQB1*03:02  \n",
       "35            Best_rank_MHCII_score_allele_WT    HLA-DQA1*03:01-DQB1*03:02  \n",
       "36              Best_rank_MHCII_score_epitope              SQDILVTDQTRLEAT  \n",
       "37           Best_rank_MHCII_score_epitope_WT              SQDILVIDQTRLEAT  \n",
       "38                 Best_rank_MHCI_9mer_allele                  HLA-C*16:01  \n",
       "39              Best_rank_MHCI_9mer_allele_WT                  HLA-C*16:01  \n",
       "40                Best_rank_MHCI_9mer_epitope                    VTDQTRLEA  \n",
       "41             Best_rank_MHCI_9mer_epitope_WT                    VIDQTRLEA  \n",
       "42                  Best_rank_MHCI_9mer_score                        3.906  \n",
       "43               Best_rank_MHCI_9mer_score_WT                        8.277  \n",
       "44                       Best_rank_MHCI_score                        3.906  \n",
       "45                    Best_rank_MHCI_score_WT                        8.277  \n",
       "46                Best_rank_MHCI_score_allele                  HLA-C*16:01  \n",
       "47             Best_rank_MHCI_score_allele_WT                  HLA-C*16:01  \n",
       "48               Best_rank_MHCI_score_epitope                    VTDQTRLEA  \n",
       "49            Best_rank_MHCI_score_epitope_WT                    VIDQTRLEA  \n",
       "50                                   CDN_MHCI                            0  \n",
       "51                                  CDN_MHCII                            0  \n",
       "52                          DAI_MHCI_affinity                       6485.2  \n",
       "53                         Dissimilarity_MHCI                            0  \n",
       "54                        Dissimilarity_MHCII                            0  \n",
       "55              Expression_mutated_transcript                           NA  \n",
       "56                    Generator_rate_ADN_MHCI                            0  \n",
       "57                   Generator_rate_ADN_MHCII                            0  \n",
       "58                    Generator_rate_CDN_MHCI                            0  \n",
       "59                   Generator_rate_CDN_MHCII                            0  "
      ]
     },
     "execution_count": 47,
     "metadata": {},
     "output_type": "execute_result"
    }
   ],
   "source": [
    "annotations_table.set_index(['patientIdentifier', 'mutation.mutatedXmer']).stack().reset_index().head(60)"
   ]
  }
 ],
 "metadata": {
  "kernelspec": {
   "display_name": "Python 3",
   "language": "python",
   "name": "python3"
  },
  "language_info": {
   "codemirror_mode": {
    "name": "ipython",
    "version": 3
   },
   "file_extension": ".py",
   "mimetype": "text/x-python",
   "name": "python",
   "nbconvert_exporter": "python",
   "pygments_lexer": "ipython3",
   "version": "3.7.11"
  }
 },
 "nbformat": 4,
 "nbformat_minor": 4
}
