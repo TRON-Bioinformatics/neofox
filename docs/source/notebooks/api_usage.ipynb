{
 "cells": [
  {
   "cell_type": "markdown",
   "metadata": {},
   "source": [
    "# Programmatic usage of NeoFox\n",
    "\n",
    "NeoFox provides an Application Programming Interface (API) that enables the integration into other applications. This API relies heavily on Protocol Buffers data models that provide placeholder objects to store the required data while enabling different representations, data manipulation, validation and normalization. We use the Protocol Buffers data models to generate Python code automatically and to implement validation and normalization around them, but Protocol Buffers is technology agnostic thus this may facilitate the integration with third party applications not necessarily implemented in Python (see https://developers.google.com/protocol-buffers). The API is tightly integrated with the Python data analysis library Pandas (see https://pandas.pydata.org/).\n",
    "\n",
    "Here we show: \n",
    "\n",
    "* how to create new model objects\n",
    "* how to import/export these objects into different representations\n",
    "* how to manipulate them\n",
    "* how to validate and normalize on the data \n",
    "\n",
    "And finally we show how to run NeoFox programmatically, you may want to skip to this part for a quick grasp of the API usage."
   ]
  },
  {
   "cell_type": "markdown",
   "metadata": {},
   "source": [
    "## Neoantigens\n",
    "\n",
    "The neoantigen is the central piece of information that NeoFox handles, all output annotations refer to a neoantigen. A neoantigen is formed by two subentities transcript and mutation, plus some additional attributes. Here we show how to create a neoantigen, transform it into different representations and validate it."
   ]
  },
  {
   "cell_type": "markdown",
   "metadata": {},
   "source": [
    "### Create a neoantigen\n"
   ]
  },
  {
   "cell_type": "code",
   "execution_count": 1,
   "metadata": {},
   "outputs": [],
   "source": [
    "from neofox.model.neoantigen import Neoantigen, Mutation"
   ]
  },
  {
   "cell_type": "markdown",
   "metadata": {},
   "source": [
    "Create a mutation:"
   ]
  },
  {
   "cell_type": "code",
   "execution_count": 3,
   "metadata": {},
   "outputs": [],
   "source": [
    "mutation = Mutation(\n",
    "    wild_type_xmer=\"DEVLGEPSQDILVIDQTRLEATISPET\", \n",
    "    mutated_xmer=\"DEVLGEPSQDILVTDQTRLEATISPET\")"
   ]
  },
  {
   "cell_type": "markdown",
   "metadata": {},
   "source": [
    "Create a neoantigen using the previous transcript and mutation:"
   ]
  },
  {
   "cell_type": "code",
   "execution_count": 4,
   "metadata": {},
   "outputs": [],
   "source": [
    "neoantigen = Neoantigen(\n",
    "    patient_identifier=\"P123\", \n",
    "    mutation=mutation, \n",
    "    gene=\"VCAN\", \n",
    "    rna_expression=0.519506894, \n",
    "    rna_variant_allele_frequency=0.857142857, \n",
    "    dna_variant_allele_frequency=0.294573643)"
   ]
  },
  {
   "cell_type": "markdown",
   "metadata": {},
   "source": [
    "### Representation into different formats\n",
    "\n",
    "The same piece of data agreeing with NeoFox data models can be represented in different formats. Here we show how to transform the data between several formats: JSON, Python dictionaries, Protocol Buffers binary representations, Pandas dataframes and tabular representations in files. This is relevant for enabling data import and export and adding flexibility to the integration with other tools.\n",
    "\n",
    "What is shown here is applicable to all entities in NeoFox data models.\n",
    "\n",
    "These objects can be easily transformed into JSON:"
   ]
  },
  {
   "cell_type": "code",
   "execution_count": 5,
   "metadata": {},
   "outputs": [
    {
     "name": "stdout",
     "output_type": "stream",
     "text": [
      "{\n",
      "  \"patientIdentifier\": \"P123\",\n",
      "  \"gene\": \"VCAN\",\n",
      "  \"mutation\": {\n",
      "    \"wildTypeXmer\": \"DEVLGEPSQDILVIDQTRLEATISPET\",\n",
      "    \"mutatedXmer\": \"DEVLGEPSQDILVTDQTRLEATISPET\"\n",
      "  },\n",
      "  \"rnaExpression\": 0.519506894,\n",
      "  \"dnaVariantAlleleFrequency\": 0.294573643,\n",
      "  \"rnaVariantAlleleFrequency\": 0.857142857\n",
      "}\n"
     ]
    }
   ],
   "source": [
    "print(neoantigen.to_json(indent=2))"
   ]
  },
  {
   "cell_type": "markdown",
   "metadata": {},
   "source": [
    "They can also be transformed into a Python native dictionary:"
   ]
  },
  {
   "cell_type": "code",
   "execution_count": 6,
   "metadata": {},
   "outputs": [
    {
     "data": {
      "text/plain": [
       "{'patientIdentifier': 'P123',\n",
       " 'gene': 'VCAN',\n",
       " 'mutation': {'wildTypeXmer': 'DEVLGEPSQDILVIDQTRLEATISPET',\n",
       "  'mutatedXmer': 'DEVLGEPSQDILVTDQTRLEATISPET'},\n",
       " 'rnaExpression': 0.519506894,\n",
       " 'dnaVariantAlleleFrequency': 0.294573643,\n",
       " 'rnaVariantAlleleFrequency': 0.857142857}"
      ]
     },
     "execution_count": 6,
     "metadata": {},
     "output_type": "execute_result"
    }
   ],
   "source": [
    "neoantigen.to_dict()"
   ]
  },
  {
   "cell_type": "markdown",
   "metadata": {},
   "source": [
    "And also into the Protocol Buffers binary format that allows a better compression for storing the data or sending it over the wire:"
   ]
  },
  {
   "cell_type": "code",
   "execution_count": 7,
   "metadata": {},
   "outputs": [
    {
     "data": {
      "text/plain": [
       "b'\\x12\\x04P123\\x1a\\x04VCAN\":\\x12\\x1bDEVLGEPSQDILVIDQTRLEATISPET\\x1a\\x1bDEVLGEPSQDILVTDQTRLEATISPET-g\\xfe\\x04?=[\\xd2\\x96>E\\xb7m[?'"
      ]
     },
     "execution_count": 7,
     "metadata": {},
     "output_type": "execute_result"
    }
   ],
   "source": [
    "neoantigen.SerializeToString()"
   ]
  },
  {
   "cell_type": "markdown",
   "metadata": {},
   "source": [
    "### Integration with Pandas\n",
    "\n",
    "NeoFox integrates with the Python library for data analysis Pandas (see https://pandas.pydata.org/). A single object can be transformed into a Pandas `Series` and a list of objects can be transformed into a Pandas `DataFrame`. Pandas provide functionality to persist this tabular representations to files that can be stored and imported into other environments, for instance R.\n",
    "\n",
    "What is shown here is applicable to all entities in NeoFox data models."
   ]
  },
  {
   "cell_type": "code",
   "execution_count": 8,
   "metadata": {},
   "outputs": [],
   "source": [
    "import pandas as pd\n",
    "from neofox.model.conversion import ModelConverter"
   ]
  },
  {
   "cell_type": "markdown",
   "metadata": {},
   "source": [
    "Transform a neoantigen into a Pandas `Series`:"
   ]
  },
  {
   "cell_type": "code",
   "execution_count": 9,
   "metadata": {},
   "outputs": [
    {
     "data": {
      "text/plain": [
       "identifier                                                 \n",
       "patient_identifier                                     P123\n",
       "gene                                                   VCAN\n",
       "rna_expression                                     0.519507\n",
       "imputed_gene_expression                                   0\n",
       "dna_variant_allele_frequency                       0.294574\n",
       "rna_variant_allele_frequency                       0.857143\n",
       "mutation.position                                        []\n",
       "mutation.wild_type_xmer         DEVLGEPSQDILVIDQTRLEATISPET\n",
       "mutation.mutated_xmer           DEVLGEPSQDILVTDQTRLEATISPET\n",
       "Name: 0, dtype: object"
      ]
     },
     "execution_count": 9,
     "metadata": {},
     "output_type": "execute_result"
    }
   ],
   "source": [
    "neoantigen_series = ModelConverter.object2series(neoantigen)\n",
    "neoantigen_series"
   ]
  },
  {
   "cell_type": "markdown",
   "metadata": {},
   "source": [
    "Transform a list of transcripts into a Pandas `DataFrame`:"
   ]
  },
  {
   "cell_type": "code",
   "execution_count": 10,
   "metadata": {},
   "outputs": [
    {
     "data": {
      "text/html": [
       "<div>\n",
       "<style scoped>\n",
       "    .dataframe tbody tr th:only-of-type {\n",
       "        vertical-align: middle;\n",
       "    }\n",
       "\n",
       "    .dataframe tbody tr th {\n",
       "        vertical-align: top;\n",
       "    }\n",
       "\n",
       "    .dataframe thead th {\n",
       "        text-align: right;\n",
       "    }\n",
       "</style>\n",
       "<table border=\"1\" class=\"dataframe\">\n",
       "  <thead>\n",
       "    <tr style=\"text-align: right;\">\n",
       "      <th></th>\n",
       "      <th>position</th>\n",
       "      <th>wildTypeXmer</th>\n",
       "      <th>mutatedXmer</th>\n",
       "    </tr>\n",
       "  </thead>\n",
       "  <tbody>\n",
       "    <tr>\n",
       "      <th>0</th>\n",
       "      <td>[]</td>\n",
       "      <td>DEVLGEPSQDILVIDQTRLEATISPET</td>\n",
       "      <td>DEVLGEPSQDILVTDQTRLEATISPET</td>\n",
       "    </tr>\n",
       "    <tr>\n",
       "      <th>1</th>\n",
       "      <td>[]</td>\n",
       "      <td>AAAAAAAAAAAAAAAAAAAAAAAAAAA</td>\n",
       "      <td>AAAAAAAAAAAAAGAAAAAAAAAAAAA</td>\n",
       "    </tr>\n",
       "  </tbody>\n",
       "</table>\n",
       "</div>"
      ],
      "text/plain": [
       "  position                 wildTypeXmer                  mutatedXmer\n",
       "0       []  DEVLGEPSQDILVIDQTRLEATISPET  DEVLGEPSQDILVTDQTRLEATISPET\n",
       "1       []  AAAAAAAAAAAAAAAAAAAAAAAAAAA  AAAAAAAAAAAAAGAAAAAAAAAAAAA"
      ]
     },
     "execution_count": 10,
     "metadata": {},
     "output_type": "execute_result"
    }
   ],
   "source": [
    "mutation2 = Mutation(\n",
    "    wild_type_xmer=\"AAAAAAAAAAAAAAAAAAAAAAAAAAA\", \n",
    "    mutated_xmer=\"AAAAAAAAAAAAAGAAAAAAAAAAAAA\")\n",
    "mutations_df = ModelConverter.objects2dataframe([mutation, mutation2])\n",
    "mutations_df"
   ]
  },
  {
   "cell_type": "markdown",
   "metadata": {},
   "source": [
    "Persist any Pandas object into a file:"
   ]
  },
  {
   "cell_type": "code",
   "execution_count": 11,
   "metadata": {},
   "outputs": [],
   "source": [
    "mutations_df.to_csv(\"my_mutations.csv\", sep=\"\\t\", index=False)"
   ]
  },
  {
   "cell_type": "markdown",
   "metadata": {},
   "source": [
    "And read it back:"
   ]
  },
  {
   "cell_type": "code",
   "execution_count": 12,
   "metadata": {},
   "outputs": [
    {
     "data": {
      "text/plain": [
       "[Mutation(position='[]', wild_type_xmer='DEVLGEPSQDILVIDQTRLEATISPET', mutated_xmer='DEVLGEPSQDILVTDQTRLEATISPET'),\n",
       " Mutation(position='[]', wild_type_xmer='AAAAAAAAAAAAAAAAAAAAAAAAAAA', mutated_xmer='AAAAAAAAAAAAAGAAAAAAAAAAAAA')]"
      ]
     },
     "execution_count": 12,
     "metadata": {},
     "output_type": "execute_result"
    }
   ],
   "source": [
    "mutations_df2 = pd.read_csv(\"my_mutations.csv\", sep=\"\\t\")\n",
    "mutations = []\n",
    "for _, row in mutations_df2.iterrows():\n",
    "    #nested_dict = ModelConverter._flat_dict2nested_dict(flat_dict=row.to_dict())\n",
    "    mutations.append(Mutation().from_dict(row.to_dict()))\n",
    "#ModelConverter.objects2dataframe(mutations)\n",
    "mutations"
   ]
  },
  {
   "cell_type": "markdown",
   "metadata": {},
   "source": [
    "In some cases you will may be handling nested objects, for instance a neoantigen. The nesting is flattened into the DataFrame by concatenating field names with a dot, eg: `mutation.wild_type_xmer`. In order to read the flattened data back into the nested models we need to add an intermediate step."
   ]
  },
  {
   "cell_type": "code",
   "execution_count": 13,
   "metadata": {},
   "outputs": [
    {
     "data": {
      "text/plain": [
       "{'identifier': '',\n",
       " 'patient_identifier': 'P123',\n",
       " 'gene': 'VCAN',\n",
       " 'rna_expression': 0.519506894,\n",
       " 'imputed_gene_expression': 0.0,\n",
       " 'dna_variant_allele_frequency': 0.294573643,\n",
       " 'rna_variant_allele_frequency': 0.857142857,\n",
       " 'mutation.position': [],\n",
       " 'mutation.wild_type_xmer': 'DEVLGEPSQDILVIDQTRLEATISPET',\n",
       " 'mutation.mutated_xmer': 'DEVLGEPSQDILVTDQTRLEATISPET'}"
      ]
     },
     "execution_count": 13,
     "metadata": {},
     "output_type": "execute_result"
    }
   ],
   "source": [
    "# the flattened dictionary\n",
    "neoantigen_series.to_dict()"
   ]
  },
  {
   "cell_type": "code",
   "execution_count": 14,
   "metadata": {},
   "outputs": [
    {
     "data": {
      "text/plain": [
       "{'identifier': '',\n",
       " 'patient_identifier': 'P123',\n",
       " 'gene': 'VCAN',\n",
       " 'rna_expression': 0.519506894,\n",
       " 'imputed_gene_expression': 0.0,\n",
       " 'dna_variant_allele_frequency': 0.294573643,\n",
       " 'rna_variant_allele_frequency': 0.857142857,\n",
       " 'mutation': {'position': [],\n",
       "  'wild_type_xmer': 'DEVLGEPSQDILVIDQTRLEATISPET',\n",
       "  'mutated_xmer': 'DEVLGEPSQDILVTDQTRLEATISPET'}}"
      ]
     },
     "execution_count": 14,
     "metadata": {},
     "output_type": "execute_result"
    }
   ],
   "source": [
    "# the nested dictionary\n",
    "ModelConverter._flat_dict2nested_dict(flat_dict=neoantigen_series.to_dict())"
   ]
  },
  {
   "cell_type": "code",
   "execution_count": 15,
   "metadata": {},
   "outputs": [
    {
     "data": {
      "text/plain": [
       "Neoantigen(identifier='', patient_identifier='P123', gene='VCAN', mutation=Mutation(position=[], wild_type_xmer='DEVLGEPSQDILVIDQTRLEATISPET', mutated_xmer='DEVLGEPSQDILVTDQTRLEATISPET'), rna_expression=0.519506894, imputed_gene_expression=0.0, dna_variant_allele_frequency=0.294573643, rna_variant_allele_frequency=0.857142857)"
      ]
     },
     "execution_count": 15,
     "metadata": {},
     "output_type": "execute_result"
    }
   ],
   "source": [
    "# we can load the nested dictionary into a nested model object\n",
    "Neoantigen().from_dict(ModelConverter._flat_dict2nested_dict(flat_dict=neoantigen_series.to_dict()))"
   ]
  },
  {
   "cell_type": "markdown",
   "metadata": {},
   "source": [
    "### Data validation\n",
    "\n",
    "The quality and cleanliness of data is of great importance to enable an effective data analysis and make the data machine readable. Clean data means that the data is valid and that it is in a normal and homogeneous form. The use of controlled vocabularies help to represent knowledge in a standardised way. This is a domain specific task, although it can be assisted with the right tools such as Pandas in Python or tidyverse in R, it requires domain expertise to perform it. NeoFox provides this domain expertise out of the box with its validation and normalization layers on top of its data models."
   ]
  },
  {
   "cell_type": "code",
   "execution_count": 16,
   "metadata": {},
   "outputs": [],
   "source": [
    "from neofox.model.conversion import ModelValidator\n",
    "from neofox.exceptions import NeofoxDataValidationException"
   ]
  },
  {
   "cell_type": "markdown",
   "metadata": {},
   "source": [
    "The data validation checks for missing required fields and shows relevant messages."
   ]
  },
  {
   "cell_type": "code",
   "execution_count": 17,
   "metadata": {},
   "outputs": [
    {
     "name": "stderr",
     "output_type": "stream",
     "text": [
      "[E 210602 14:43:36 conversion:549] {}\n"
     ]
    },
    {
     "name": "stdout",
     "output_type": "stream",
     "text": [
      "Error message: A patient identifier is missing. Please provide patientIdentifier in the input file\n"
     ]
    }
   ],
   "source": [
    "try:\n",
    "    ModelValidator.validate_neoantigen(neoantigen=Neoantigen())\n",
    "except NeofoxDataValidationException as e:\n",
    "    print(\"Error message: {}\".format(e))"
   ]
  },
  {
   "cell_type": "markdown",
   "metadata": {},
   "source": [
    "It also performs more domain specific validations such as aminoacids being valid according to the IUPAC standard aminoacid representation."
   ]
  },
  {
   "cell_type": "code",
   "execution_count": 18,
   "metadata": {},
   "outputs": [
    {
     "name": "stderr",
     "output_type": "stream",
     "text": [
      "[E 210602 14:43:44 conversion:549] {\n",
      "       \"patientIdentifier\": \"12345\",\n",
      "       \"gene\": \"VCAN\",\n",
      "       \"mutation\": {\n",
      "          \"wildTypeXmer\": \"123456AAAAAAAAAAAAAA\",\n",
      "          \"mutatedXmer\": \"123456GAAAAAAAAAAAAA\"\n",
      "       }\n",
      "    }\n"
     ]
    },
    {
     "name": "stdout",
     "output_type": "stream",
     "text": [
      "Error message: Non existing aminoacid 1\n"
     ]
    }
   ],
   "source": [
    "try:\n",
    "    ModelValidator.validate_neoantigen(neoantigen=Neoantigen(\n",
    "        patient_identifier=\"12345\",\n",
    "        gene=\"VCAN\",\n",
    "        mutation=Mutation(\n",
    "            wild_type_xmer=\"123456AAAAAAAAAAAAAA\", # wrong aminoacid representation\n",
    "            mutated_xmer=\"123456GAAAAAAAAAAAAA\")))\n",
    "except NeofoxDataValidationException as e:\n",
    "    print(\"Error message: {}\".format(e))"
   ]
  },
  {
   "cell_type": "markdown",
   "metadata": {},
   "source": [
    "The data normalization layer ensures the aminoacid representation is normalized into 1 letter IUPAC codes."
   ]
  },
  {
   "cell_type": "code",
   "execution_count": 19,
   "metadata": {},
   "outputs": [
    {
     "name": "stdout",
     "output_type": "stream",
     "text": [
      "{\n",
      "  \"position\": [\n",
      "    6\n",
      "  ],\n",
      "  \"wildTypeXmer\": \"AAAAAAAAAAAAA\",\n",
      "  \"mutatedXmer\": \"AAAAAGAAAAA\"\n",
      "}\n"
     ]
    }
   ],
   "source": [
    "valid_neoantigen = ModelValidator.validate_neoantigen(neoantigen=Neoantigen(\n",
    "    patient_identifier=\"12345\",\n",
    "    mutation=Mutation(\n",
    "        wild_type_xmer=\"AAAAAAAAAAAAA\",\n",
    "        mutated_xmer=\"aaaaaGaaaaa\")))\n",
    "\n",
    "print(valid_neoantigen.mutation.to_json(indent=2))"
   ]
  },
  {
   "cell_type": "markdown",
   "metadata": {},
   "source": [
    "After validation a unique neoantigen identifier is generated, this is a hash function of the normalized neoantigen representation, thus two different representations of the same neoantigen will share the same identifier after normalization."
   ]
  },
  {
   "cell_type": "code",
   "execution_count": 20,
   "metadata": {},
   "outputs": [
    {
     "name": "stdout",
     "output_type": "stream",
     "text": [
      "{\n",
      "  \"identifier\": \"v9cO6QEVw9XjrpJlvJ3isw==\",\n",
      "  \"patientIdentifier\": \"P123\",\n",
      "  \"gene\": \"VCAN\",\n",
      "  \"mutation\": {\n",
      "    \"position\": [\n",
      "      14\n",
      "    ],\n",
      "    \"wildTypeXmer\": \"DEVLGEPSQDILVIDQTRLEATISPET\",\n",
      "    \"mutatedXmer\": \"DEVLGEPSQDILVTDQTRLEATISPET\"\n",
      "  },\n",
      "  \"rnaExpression\": 0.519506894,\n",
      "  \"dnaVariantAlleleFrequency\": 0.294573643,\n",
      "  \"rnaVariantAlleleFrequency\": 0.857142857\n",
      "}\n"
     ]
    }
   ],
   "source": [
    "validated_neoantigen = ModelValidator.validate_neoantigen(neoantigen=neoantigen)\n",
    "print(validated_neoantigen.to_json(indent=2))"
   ]
  },
  {
   "cell_type": "markdown",
   "metadata": {},
   "source": [
    "## Patients\n",
    "\n",
    "The neoantigen annotation process needs some context information, in particular some data about the individual where the somatic mutation creating this neoantigen took place. This information includes mainly the HLA types of the patient which is needed to compute the binding of the potential neoepitopes."
   ]
  },
  {
   "cell_type": "markdown",
   "metadata": {},
   "source": [
    "### Parse MHC I alleles into a normal representation\n",
    "\n",
    "The main complexity in the patient model is the representation of the MHC I and MHC II alleles present in the patient. The HLA alleles are typically represented using the nomenclature defined here http://hla.alleles.org, but de facto there is certain flexibility in the representation of HLA alleles in the community. NeoFox aims at normalizing the different HLA representations into a controlled representation agreeing with the HLA nomenclature. NeoFox only supports the classic MHC genes and although the provided HLA type is kept internally it only works with the first 4 digits.\n",
    "\n",
    "There are specific functions in NeoFox to parse a list of non normal HLA alleles into a normalized representation of the HLA alleles. Due to the heterogeneous representations of alleles we use IPD-IMGT/HLA database in order to normalize ambiguous alleles (e.g.: B15228=>HLA-B*15:228 and DPB110401=>HLA-DPB1*104:01).\n",
    "\n",
    "Furthermore, the zygosity of each HLA gene is inferred."
   ]
  },
  {
   "cell_type": "code",
   "execution_count": 33,
   "metadata": {},
   "outputs": [
    {
     "name": "stderr",
     "output_type": "stream",
     "text": [
      "[I 210602 14:57:45 references:189] Reference genome folder: /neofox_install/reference_data\n",
      "[I 210602 14:57:45 references:190] Resources\n",
      "[I 210602 14:57:45 references:192] /neofox_install/reference_data/netmhc2pan_available_alleles.txt\n",
      "[I 210602 14:57:45 references:192] /neofox_install/reference_data/netmhcpan_available_alleles.txt\n",
      "[I 210602 14:57:45 references:192] /neofox_install/reference_data/iedb\n",
      "[I 210602 14:57:45 references:192] /neofox_install/reference_data/proteome_db\n",
      "[I 210602 14:57:45 references:192] /neofox_install/reference_data/proteome_db/Homo_sapiens.fa\n",
      "[I 210602 14:57:45 references:192] /neofox_install/reference_data/iedb/IEDB.fasta\n",
      "[I 210602 14:57:45 references:192] /neofox_install/reference_data/proteome_db/Homo_sapiens.fa\n",
      "[I 210602 14:57:45 references:192] /neofox_install/reference_data/hla_database_allele_list.csv\n"
     ]
    }
   ],
   "source": [
    "from neofox.references.references import ReferenceFolder\n",
    "import os\n",
    "\n",
    "os.environ[\"NEOFOX_REFERENCE_FOLDER\"] = \"/neofox_install/reference_data\"\n",
    "reference_folder = ReferenceFolder()\n",
    "hla_database = reference_folder.get_hla_database()"
   ]
  },
  {
   "cell_type": "markdown",
   "metadata": {},
   "source": [
    "Parse a list of MHC I alleles. The data validation will ensure that the data is valid and it will infer the zygosity of the different genes. The data normalization layer will normalize the HLA representation into a the valid HLA nomenclature including the first 4 digits. Different representations of the same allele will be matched after normalization."
   ]
  },
  {
   "cell_type": "code",
   "execution_count": 55,
   "metadata": {},
   "outputs": [
    {
     "data": {
      "text/html": [
       "<div>\n",
       "<style scoped>\n",
       "    .dataframe tbody tr th:only-of-type {\n",
       "        vertical-align: middle;\n",
       "    }\n",
       "\n",
       "    .dataframe tbody tr th {\n",
       "        vertical-align: top;\n",
       "    }\n",
       "\n",
       "    .dataframe thead th {\n",
       "        text-align: right;\n",
       "    }\n",
       "</style>\n",
       "<table border=\"1\" class=\"dataframe\">\n",
       "  <thead>\n",
       "    <tr style=\"text-align: right;\">\n",
       "      <th></th>\n",
       "      <th>name</th>\n",
       "      <th>zygosity</th>\n",
       "      <th>alleles</th>\n",
       "    </tr>\n",
       "  </thead>\n",
       "  <tbody>\n",
       "    <tr>\n",
       "      <th>0</th>\n",
       "      <td>A</td>\n",
       "      <td>HETEROZYGOUS</td>\n",
       "      <td>[{'fullName': 'HLA-A*01:01:02:03N', 'name': 'H...</td>\n",
       "    </tr>\n",
       "    <tr>\n",
       "      <th>1</th>\n",
       "      <td>B</td>\n",
       "      <td>HOMOZYGOUS</td>\n",
       "      <td>[{'fullName': 'HLA-B*15:228', 'name': 'HLA-B*1...</td>\n",
       "    </tr>\n",
       "    <tr>\n",
       "      <th>2</th>\n",
       "      <td>C</td>\n",
       "      <td>HEMIZYGOUS</td>\n",
       "      <td>[{'fullName': 'HLA-C*03:163', 'name': 'HLA-C*0...</td>\n",
       "    </tr>\n",
       "  </tbody>\n",
       "</table>\n",
       "</div>"
      ],
      "text/plain": [
       "  name      zygosity                                            alleles\n",
       "0    A  HETEROZYGOUS  [{'fullName': 'HLA-A*01:01:02:03N', 'name': 'H...\n",
       "1    B    HOMOZYGOUS  [{'fullName': 'HLA-B*15:228', 'name': 'HLA-B*1...\n",
       "2    C    HEMIZYGOUS  [{'fullName': 'HLA-C*03:163', 'name': 'HLA-C*0..."
      ]
     },
     "execution_count": 55,
     "metadata": {},
     "output_type": "execute_result"
    }
   ],
   "source": [
    "mhc1 = ModelConverter.parse_mhc1_alleles(\n",
    "    [\"HLA-A*01:01:02:03N\", \"HLA-A*01:02:02:03N\", \"B15228\", \"HLA-B*15:228:02:04N\", \"C03_163\"], \n",
    "    hla_database=hla_database)\n",
    "ModelConverter.objects2dataframe(mhc1)"
   ]
  },
  {
   "cell_type": "code",
   "execution_count": 56,
   "metadata": {},
   "outputs": [
    {
     "data": {
      "text/html": [
       "<div>\n",
       "<style scoped>\n",
       "    .dataframe tbody tr th:only-of-type {\n",
       "        vertical-align: middle;\n",
       "    }\n",
       "\n",
       "    .dataframe tbody tr th {\n",
       "        vertical-align: top;\n",
       "    }\n",
       "\n",
       "    .dataframe thead th {\n",
       "        text-align: right;\n",
       "    }\n",
       "</style>\n",
       "<table border=\"1\" class=\"dataframe\">\n",
       "  <thead>\n",
       "    <tr style=\"text-align: right;\">\n",
       "      <th></th>\n",
       "      <th>fullName</th>\n",
       "      <th>name</th>\n",
       "      <th>gene</th>\n",
       "      <th>group</th>\n",
       "      <th>protein</th>\n",
       "    </tr>\n",
       "  </thead>\n",
       "  <tbody>\n",
       "    <tr>\n",
       "      <th>0</th>\n",
       "      <td>HLA-A*01:01:02:03N</td>\n",
       "      <td>HLA-A*01:01</td>\n",
       "      <td>A</td>\n",
       "      <td>01</td>\n",
       "      <td>01</td>\n",
       "    </tr>\n",
       "    <tr>\n",
       "      <th>1</th>\n",
       "      <td>HLA-A*01:02:02:03N</td>\n",
       "      <td>HLA-A*01:02</td>\n",
       "      <td>A</td>\n",
       "      <td>01</td>\n",
       "      <td>02</td>\n",
       "    </tr>\n",
       "    <tr>\n",
       "      <th>2</th>\n",
       "      <td>HLA-B*15:228</td>\n",
       "      <td>HLA-B*15:228</td>\n",
       "      <td>B</td>\n",
       "      <td>15</td>\n",
       "      <td>228</td>\n",
       "    </tr>\n",
       "    <tr>\n",
       "      <th>3</th>\n",
       "      <td>HLA-C*03:163</td>\n",
       "      <td>HLA-C*03:163</td>\n",
       "      <td>C</td>\n",
       "      <td>03</td>\n",
       "      <td>163</td>\n",
       "    </tr>\n",
       "  </tbody>\n",
       "</table>\n",
       "</div>"
      ],
      "text/plain": [
       "             fullName          name gene group protein\n",
       "0  HLA-A*01:01:02:03N   HLA-A*01:01    A    01      01\n",
       "1  HLA-A*01:02:02:03N   HLA-A*01:02    A    01      02\n",
       "2        HLA-B*15:228  HLA-B*15:228    B    15     228\n",
       "3        HLA-C*03:163  HLA-C*03:163    C    03     163"
      ]
     },
     "execution_count": 56,
     "metadata": {},
     "output_type": "execute_result"
    }
   ],
   "source": [
    "ModelConverter.objects2dataframe(mhc1[0].alleles + mhc1[1].alleles + mhc1[2].alleles)"
   ]
  },
  {
   "cell_type": "markdown",
   "metadata": {},
   "source": [
    "### Validation and normalization of MHC alleles\n",
    "\n",
    "The data validation layer checks that the provided allele representations are valid."
   ]
  },
  {
   "cell_type": "code",
   "execution_count": 41,
   "metadata": {},
   "outputs": [
    {
     "name": "stdout",
     "output_type": "stream",
     "text": [
      "Error message: Allele does not match HLA allele pattern HLA-W*01:01:02:03N\n"
     ]
    }
   ],
   "source": [
    "try:\n",
    "    ModelConverter.parse_mhc1_alleles([\"HLA-W*01:01:02:03N\"], hla_database=hla_database)  # bad gene W\n",
    "except NeofoxDataValidationException as e:\n",
    "    print (\"Error message: {}\".format(e))"
   ]
  },
  {
   "cell_type": "code",
   "execution_count": 37,
   "metadata": {},
   "outputs": [
    {
     "name": "stdout",
     "output_type": "stream",
     "text": [
      "Error message: Allele does not match HLA allele pattern HLA-A*first:second:02:03N\n"
     ]
    }
   ],
   "source": [
    "try:\n",
    "    ModelConverter.parse_mhc1_alleles([\"HLA-A*first:second:02:03N\"], hla_database=hla_database)  # bad allele representation\n",
    "except NeofoxDataValidationException as e:\n",
    "    print (\"Error message: {}\".format(e))"
   ]
  },
  {
   "cell_type": "code",
   "execution_count": 57,
   "metadata": {},
   "outputs": [
    {
     "name": "stdout",
     "output_type": "stream",
     "text": [
      "Error message: More than 2 alleles for gene A\n"
     ]
    }
   ],
   "source": [
    "try:\n",
    "    ModelConverter.parse_mhc1_alleles([\"HLA-A*01:02:02:03N\", \"HLA-A*01:03:02:03N\", \"HLA-A*01:04:02:03N\"], hla_database=hla_database)  # wrong number of alleles\n",
    "except NeofoxDataValidationException as e:\n",
    "    print (\"Error message: {}\".format(e))"
   ]
  },
  {
   "cell_type": "markdown",
   "metadata": {},
   "source": [
    "A warning message will be shown for non existing HLA alleles."
   ]
  },
  {
   "cell_type": "code",
   "execution_count": 58,
   "metadata": {},
   "outputs": [
    {
     "name": "stderr",
     "output_type": "stream",
     "text": [
      "[W 210602 15:09:17 mhc_parser:68] Allele HLA-B*01:02:02:03N does not exist in the HLA database\n"
     ]
    },
    {
     "data": {
      "text/plain": [
       "[Mhc1(name=<Mhc1Name.A: 0>, zygosity=<Zygosity.LOSS: 3>, alleles=[]),\n",
       " Mhc1(name=<Mhc1Name.B: 1>, zygosity=<Zygosity.HEMIZYGOUS: 2>, alleles=[MhcAllele(full_name='HLA-B*01:02:02:03N', name='HLA-B*01:02', gene='B', group='01', protein='02')]),\n",
       " Mhc1(name=<Mhc1Name.C: 2>, zygosity=<Zygosity.HEMIZYGOUS: 2>, alleles=[MhcAllele(full_name='HLA-C*01:02', name='HLA-C*01:02', gene='C', group='01', protein='02')])]"
      ]
     },
     "execution_count": 58,
     "metadata": {},
     "output_type": "execute_result"
    }
   ],
   "source": [
    "ModelConverter.parse_mhc1_alleles([\"HLA-B*01:02:02:03N\", \"HLA-C*01:02\"], hla_database=hla_database)"
   ]
  },
  {
   "cell_type": "markdown",
   "metadata": {},
   "source": [
    "### Parse MHC II alleles into a normal representation\n",
    "\n",
    "The model for MHC II alleles is more complex as we need to reflect all combinations of alpha and beta chains, but the data validation and normalization provided by NeoFox is fundamentally the same.\n",
    "\n",
    "Parse a list of MHC II alleles:"
   ]
  },
  {
   "cell_type": "code",
   "execution_count": 60,
   "metadata": {},
   "outputs": [],
   "source": [
    "mhc2 = ModelConverter.parse_mhc2_alleles([\"HLA-DPA1*01:03\", \"HLA-DPA1*01:04\", \"HLA-DPB1*01:01\", \"HLA-DPB1*01:01\", \n",
    "                                          \"HLA-DQA1*01:01\", \"HLA-DQA1*01:01\", \"HLA-DQB1*02:01\", \"HLA-DQB1*02:01\", \n",
    "                                          \"HLA-DRB1*01:01\", \"HLA-DRB1*01:01\"], hla_database=hla_database)"
   ]
  },
  {
   "cell_type": "markdown",
   "metadata": {},
   "source": [
    "An MHC II gene with an heteroyzgous alpha chain and an homozygous beta chain has two isoforms"
   ]
  },
  {
   "cell_type": "code",
   "execution_count": 61,
   "metadata": {},
   "outputs": [
    {
     "data": {
      "text/plain": [
       "{'name': 'DP',\n",
       " 'genes': [{'name': 'DPA1',\n",
       "   'zygosity': 'HETEROZYGOUS',\n",
       "   'alleles': [{'fullName': 'HLA-DPA1*01:03',\n",
       "     'name': 'HLA-DPA1*01:03',\n",
       "     'gene': 'DPA1',\n",
       "     'group': '01',\n",
       "     'protein': '03'},\n",
       "    {'fullName': 'HLA-DPA1*01:04',\n",
       "     'name': 'HLA-DPA1*01:04',\n",
       "     'gene': 'DPA1',\n",
       "     'group': '01',\n",
       "     'protein': '04'}]},\n",
       "  {'name': 'DPB1',\n",
       "   'alleles': [{'fullName': 'HLA-DPB1*01:01',\n",
       "     'name': 'HLA-DPB1*01:01',\n",
       "     'gene': 'DPB1',\n",
       "     'group': '01',\n",
       "     'protein': '01'}]}],\n",
       " 'isoforms': [{'name': 'HLA-DPA1*01:03-DPB1*01:01',\n",
       "   'alphaChain': {'fullName': 'HLA-DPA1*01:03',\n",
       "    'name': 'HLA-DPA1*01:03',\n",
       "    'gene': 'DPA1',\n",
       "    'group': '01',\n",
       "    'protein': '03'},\n",
       "   'betaChain': {'fullName': 'HLA-DPB1*01:01',\n",
       "    'name': 'HLA-DPB1*01:01',\n",
       "    'gene': 'DPB1',\n",
       "    'group': '01',\n",
       "    'protein': '01'}},\n",
       "  {'name': 'HLA-DPA1*01:04-DPB1*01:01',\n",
       "   'alphaChain': {'fullName': 'HLA-DPA1*01:04',\n",
       "    'name': 'HLA-DPA1*01:04',\n",
       "    'gene': 'DPA1',\n",
       "    'group': '01',\n",
       "    'protein': '04'},\n",
       "   'betaChain': {'fullName': 'HLA-DPB1*01:01',\n",
       "    'name': 'HLA-DPB1*01:01',\n",
       "    'gene': 'DPB1',\n",
       "    'group': '01',\n",
       "    'protein': '01'}}]}"
      ]
     },
     "execution_count": 61,
     "metadata": {},
     "output_type": "execute_result"
    }
   ],
   "source": [
    "mhc2[1].to_dict()"
   ]
  },
  {
   "cell_type": "markdown",
   "metadata": {},
   "source": [
    "An MHC II gene with an homozygous alpha and beta chains has a single isoform."
   ]
  },
  {
   "cell_type": "code",
   "execution_count": 62,
   "metadata": {},
   "outputs": [
    {
     "data": {
      "text/plain": [
       "{'name': 'DQ',\n",
       " 'genes': [{'name': 'DQA1',\n",
       "   'alleles': [{'fullName': 'HLA-DQA1*01:01',\n",
       "     'name': 'HLA-DQA1*01:01',\n",
       "     'gene': 'DQA1',\n",
       "     'group': '01',\n",
       "     'protein': '01'}]},\n",
       "  {'name': 'DQB1',\n",
       "   'alleles': [{'fullName': 'HLA-DQB1*02:01',\n",
       "     'name': 'HLA-DQB1*02:01',\n",
       "     'gene': 'DQB1',\n",
       "     'group': '02',\n",
       "     'protein': '01'}]}],\n",
       " 'isoforms': [{'name': 'HLA-DQA1*01:01-DQB1*02:01',\n",
       "   'alphaChain': {'fullName': 'HLA-DQA1*01:01',\n",
       "    'name': 'HLA-DQA1*01:01',\n",
       "    'gene': 'DQA1',\n",
       "    'group': '01',\n",
       "    'protein': '01'},\n",
       "   'betaChain': {'fullName': 'HLA-DQB1*02:01',\n",
       "    'name': 'HLA-DQB1*02:01',\n",
       "    'gene': 'DQB1',\n",
       "    'group': '02',\n",
       "    'protein': '01'}}]}"
      ]
     },
     "execution_count": 62,
     "metadata": {},
     "output_type": "execute_result"
    }
   ],
   "source": [
    "mhc2[2].to_dict()"
   ]
  },
  {
   "cell_type": "markdown",
   "metadata": {},
   "source": [
    "The MHC II DRB gene is a special case with no alpha chain represented as this is not variable."
   ]
  },
  {
   "cell_type": "code",
   "execution_count": 63,
   "metadata": {},
   "outputs": [
    {
     "data": {
      "text/plain": [
       "{'genes': [{'alleles': [{'fullName': 'HLA-DRB1*01:01',\n",
       "     'name': 'HLA-DRB1*01:01',\n",
       "     'gene': 'DRB1',\n",
       "     'group': '01',\n",
       "     'protein': '01'}]}],\n",
       " 'isoforms': [{'name': 'HLA-DRB1*01:01',\n",
       "   'betaChain': {'fullName': 'HLA-DRB1*01:01',\n",
       "    'name': 'HLA-DRB1*01:01',\n",
       "    'gene': 'DRB1',\n",
       "    'group': '01',\n",
       "    'protein': '01'}}]}"
      ]
     },
     "execution_count": 63,
     "metadata": {},
     "output_type": "execute_result"
    }
   ],
   "source": [
    "mhc2[0].to_dict()"
   ]
  },
  {
   "cell_type": "markdown",
   "metadata": {},
   "source": [
    "Beware that incomplete MHC II molecules missing one of the chains will have no isoforms and thus no binding will be computed on them. In the case below the beta chain allele for the DP gene is missing."
   ]
  },
  {
   "cell_type": "code",
   "execution_count": 66,
   "metadata": {},
   "outputs": [
    {
     "data": {
      "text/plain": [
       "{'name': 'DP',\n",
       " 'genes': [{'name': 'DPA1',\n",
       "   'zygosity': 'HETEROZYGOUS',\n",
       "   'alleles': [{'fullName': 'HLA-DPA1*01:03',\n",
       "     'name': 'HLA-DPA1*01:03',\n",
       "     'gene': 'DPA1',\n",
       "     'group': '01',\n",
       "     'protein': '03'},\n",
       "    {'fullName': 'HLA-DPA1*01:04',\n",
       "     'name': 'HLA-DPA1*01:04',\n",
       "     'gene': 'DPA1',\n",
       "     'group': '01',\n",
       "     'protein': '04'}]},\n",
       "  {'name': 'DPB1', 'zygosity': 'LOSS'}]}"
      ]
     },
     "execution_count": 66,
     "metadata": {},
     "output_type": "execute_result"
    }
   ],
   "source": [
    "mhc2 = ModelConverter.parse_mhc2_alleles([\"HLA-DPA1*01:03\", \"HLA-DPA1*01:04\"], hla_database=hla_database)\n",
    "mhc2[1].to_dict()"
   ]
  },
  {
   "cell_type": "markdown",
   "metadata": {},
   "source": [
    "### Create a patient"
   ]
  },
  {
   "cell_type": "code",
   "execution_count": 72,
   "metadata": {},
   "outputs": [
    {
     "data": {
      "text/plain": [
       "identifier                                                       P123\n",
       "is_rna_available                                                 True\n",
       "tumor_type                                                      NSCLC\n",
       "mhc1                [{'name': 'A', 'zygosity': 'HETEROZYGOUS', 'al...\n",
       "mhc2                [{'name': 'DR', 'genes': [{'name': 'DRB1', 'zy...\n",
       "Name: 0, dtype: object"
      ]
     },
     "execution_count": 72,
     "metadata": {},
     "output_type": "execute_result"
    }
   ],
   "source": [
    "from neofox.model.neoantigen import Patient\n",
    "\n",
    "\n",
    "mhc1 = ModelConverter.parse_mhc1_alleles([\"HLA-A*01:01:02:03N\", \"HLA-A*01:02:02:03N\", \n",
    "                                          \"HLA-B*15:01:02:03N\", \"HLA-B*15:01:02:04N\", \n",
    "                                          \"HLA-C*03:02\"], hla_database=hla_database)\n",
    "mhc2 = ModelConverter.parse_mhc2_alleles([\"HLA-DPA1*01:03\", \"HLA-DPA1*01:04\", \"HLA-DPB1*01:01\", \"HLA-DPB1*01:01\", \n",
    "                                          \"HLA-DQA1*01:01\", \"HLA-DQA1*01:01\", \"HLA-DQB1*02:01\", \"HLA-DQB1*02:01\", \n",
    "                                          \"HLA-DRB1*01:01\", \"HLA-DRB1*01:01\"], hla_database=hla_database)\n",
    "patient = Patient(\n",
    "    identifier=\"P123\", \n",
    "    is_rna_available=True, \n",
    "    tumor_type=\"NSCLC\", \n",
    "    mhc1=mhc1,\n",
    "    mhc2=mhc2\n",
    ")\n",
    "ModelConverter.object2series(patient)"
   ]
  },
  {
   "cell_type": "markdown",
   "metadata": {},
   "source": [
    "### Validate a patient"
   ]
  },
  {
   "cell_type": "code",
   "execution_count": 73,
   "metadata": {},
   "outputs": [],
   "source": [
    "validated_patient = ModelValidator.validate_patient(patient)"
   ]
  },
  {
   "cell_type": "markdown",
   "metadata": {},
   "source": [
    "A patient requires an identifier. MHC I and MHC II are optional in case one or the other are not available, the output annotations are adapted accordingly."
   ]
  },
  {
   "cell_type": "code",
   "execution_count": 74,
   "metadata": {},
   "outputs": [
    {
     "name": "stderr",
     "output_type": "stream",
     "text": [
      "[E 210602 15:14:20 conversion:590] {}\n"
     ]
    },
    {
     "name": "stdout",
     "output_type": "stream",
     "text": [
      "Error message: A patient identifier is missing\n"
     ]
    }
   ],
   "source": [
    "try:\n",
    "    ModelValidator.validate_patient(Patient())  # missing patient identifier\n",
    "except NeofoxDataValidationException as e:\n",
    "    print (\"Error message: {}\".format(e))"
   ]
  },
  {
   "cell_type": "code",
   "execution_count": 75,
   "metadata": {},
   "outputs": [],
   "source": [
    "patient_without_mhc2 = ModelValidator.validate_patient(Patient(identifier=\"12345\", mhc1=mhc1))"
   ]
  },
  {
   "cell_type": "code",
   "execution_count": 76,
   "metadata": {},
   "outputs": [],
   "source": [
    "patient_without_mhc1 = ModelValidator.validate_patient(Patient(identifier=\"12345\", mhc2=mhc2))"
   ]
  },
  {
   "cell_type": "markdown",
   "metadata": {},
   "source": [
    "## Run Neofox"
   ]
  },
  {
   "cell_type": "markdown",
   "metadata": {},
   "source": [
    "### Parse input data from a file\n",
    "\n",
    "Although we could create the data objects manually as shown above, for convenience it is useful to store the data in tabular format. Here we show how to parse the neoantigens and patients from tabular files. "
   ]
  },
  {
   "cell_type": "markdown",
   "metadata": {},
   "source": [
    "The tabular file for neoantigens should look as follows:"
   ]
  },
  {
   "cell_type": "code",
   "execution_count": 77,
   "metadata": {},
   "outputs": [
    {
     "data": {
      "text/html": [
       "<div>\n",
       "<style scoped>\n",
       "    .dataframe tbody tr th:only-of-type {\n",
       "        vertical-align: middle;\n",
       "    }\n",
       "\n",
       "    .dataframe tbody tr th {\n",
       "        vertical-align: top;\n",
       "    }\n",
       "\n",
       "    .dataframe thead th {\n",
       "        text-align: right;\n",
       "    }\n",
       "</style>\n",
       "<table border=\"1\" class=\"dataframe\">\n",
       "  <thead>\n",
       "    <tr style=\"text-align: right;\">\n",
       "      <th></th>\n",
       "      <th>gene</th>\n",
       "      <th>transcript_identifier</th>\n",
       "      <th>mutation.mutatedXmer</th>\n",
       "      <th>mutation.wildTypeXmer</th>\n",
       "      <th>patientIdentifier</th>\n",
       "    </tr>\n",
       "  </thead>\n",
       "  <tbody>\n",
       "    <tr>\n",
       "      <th>0</th>\n",
       "      <td>VCAN</td>\n",
       "      <td>uc003kii.3</td>\n",
       "      <td>DEVLGEPSQDILVTDQTRLEATISPET</td>\n",
       "      <td>DEVLGEPSQDILVIDQTRLEATISPET</td>\n",
       "      <td>Pt27</td>\n",
       "    </tr>\n",
       "    <tr>\n",
       "      <th>1</th>\n",
       "      <td>DCST2</td>\n",
       "      <td>uc001fgm.3</td>\n",
       "      <td>RTNLLAALHRSVRWRAADQGHRSAFLV</td>\n",
       "      <td>RTNLLAALHRSVRRRAADQGHRSAFLV</td>\n",
       "      <td>Pt24</td>\n",
       "    </tr>\n",
       "    <tr>\n",
       "      <th>2</th>\n",
       "      <td>NRAS</td>\n",
       "      <td>uc009wgu.3</td>\n",
       "      <td>MTEYKLVVVGACGVGKSALTIQLIQ</td>\n",
       "      <td>MTEYKLVVVGAGGVGKSALTIQLIQ</td>\n",
       "      <td>Pt28</td>\n",
       "    </tr>\n",
       "    <tr>\n",
       "      <th>3</th>\n",
       "      <td>CEP350</td>\n",
       "      <td>uc001gnt.3</td>\n",
       "      <td>QTDSSSSDMQACSKDKAKISLGSSIDS</td>\n",
       "      <td>QTDSSSSDMQACSQDKAKISLGSSIDS</td>\n",
       "      <td>Pt63</td>\n",
       "    </tr>\n",
       "    <tr>\n",
       "      <th>4</th>\n",
       "      <td>CPPED1</td>\n",
       "      <td>uc002dca.4</td>\n",
       "      <td>DRAIPLVLVSGNHYIGNTPTAETVEEF</td>\n",
       "      <td>DRAIPLVLVSGNHDIGNTPTAETVEEF</td>\n",
       "      <td>Pt77</td>\n",
       "    </tr>\n",
       "    <tr>\n",
       "      <th>5</th>\n",
       "      <td>CXorf26</td>\n",
       "      <td>uc004ecl.1</td>\n",
       "      <td>YNKAVYISVQDKEEEKGVNNGGEKRAD</td>\n",
       "      <td>YNKAVYISVQDKEGEKGVNNGGEKRAD</td>\n",
       "      <td>Pt117</td>\n",
       "    </tr>\n",
       "    <tr>\n",
       "      <th>6</th>\n",
       "      <td>IGSF9B</td>\n",
       "      <td>uc001qgx.4</td>\n",
       "      <td>ASTHLTVIGTSPHVPGSVRVQVSMTTA</td>\n",
       "      <td>ASTHLTVIGTSPHAPGSVRVQVSMTTA</td>\n",
       "      <td>Pt110</td>\n",
       "    </tr>\n",
       "    <tr>\n",
       "      <th>7</th>\n",
       "      <td>HEATR5A</td>\n",
       "      <td>uc001wrf.4</td>\n",
       "      <td>TRRDEKSHPFTNPQWATRVFAAECVCR</td>\n",
       "      <td>TRRDEKSHPFTNPRWATRVFAAECVCR</td>\n",
       "      <td>Pt26</td>\n",
       "    </tr>\n",
       "    <tr>\n",
       "      <th>8</th>\n",
       "      <td>CHRDL2</td>\n",
       "      <td>uc001ovh.3</td>\n",
       "      <td>ARPDMFCLFHGKRHFPGESWHPYLEPQ</td>\n",
       "      <td>ARPDMFCLFHGKRYFPGESWHPYLEPQ</td>\n",
       "      <td>Pt77</td>\n",
       "    </tr>\n",
       "  </tbody>\n",
       "</table>\n",
       "</div>"
      ],
      "text/plain": [
       "      gene transcript_identifier         mutation.mutatedXmer  \\\n",
       "0     VCAN            uc003kii.3  DEVLGEPSQDILVTDQTRLEATISPET   \n",
       "1    DCST2            uc001fgm.3  RTNLLAALHRSVRWRAADQGHRSAFLV   \n",
       "2     NRAS            uc009wgu.3    MTEYKLVVVGACGVGKSALTIQLIQ   \n",
       "3   CEP350            uc001gnt.3  QTDSSSSDMQACSKDKAKISLGSSIDS   \n",
       "4   CPPED1            uc002dca.4  DRAIPLVLVSGNHYIGNTPTAETVEEF   \n",
       "5  CXorf26            uc004ecl.1  YNKAVYISVQDKEEEKGVNNGGEKRAD   \n",
       "6   IGSF9B            uc001qgx.4  ASTHLTVIGTSPHVPGSVRVQVSMTTA   \n",
       "7  HEATR5A            uc001wrf.4  TRRDEKSHPFTNPQWATRVFAAECVCR   \n",
       "8   CHRDL2            uc001ovh.3  ARPDMFCLFHGKRHFPGESWHPYLEPQ   \n",
       "\n",
       "         mutation.wildTypeXmer patientIdentifier  \n",
       "0  DEVLGEPSQDILVIDQTRLEATISPET              Pt27  \n",
       "1  RTNLLAALHRSVRRRAADQGHRSAFLV              Pt24  \n",
       "2    MTEYKLVVVGAGGVGKSALTIQLIQ              Pt28  \n",
       "3  QTDSSSSDMQACSQDKAKISLGSSIDS              Pt63  \n",
       "4  DRAIPLVLVSGNHDIGNTPTAETVEEF              Pt77  \n",
       "5  YNKAVYISVQDKEGEKGVNNGGEKRAD             Pt117  \n",
       "6  ASTHLTVIGTSPHAPGSVRVQVSMTTA             Pt110  \n",
       "7  TRRDEKSHPFTNPRWATRVFAAECVCR              Pt26  \n",
       "8  ARPDMFCLFHGKRYFPGESWHPYLEPQ              Pt77  "
      ]
     },
     "execution_count": 77,
     "metadata": {},
     "output_type": "execute_result"
    }
   ],
   "source": [
    "pd.read_csv(\"test_model_file.txt\", sep=\"\\t\")"
   ]
  },
  {
   "cell_type": "markdown",
   "metadata": {},
   "source": [
    "There is a specific function to parse an input file into a list of neoantigens. Any additional column not matching a field in the neoantigens model, in this case `transcript_identifier`, will be parsed into the external annotations. Neofox when executed from the command line interface adds these external annotations in the output together with the new annotations."
   ]
  },
  {
   "cell_type": "code",
   "execution_count": 79,
   "metadata": {},
   "outputs": [],
   "source": [
    "neoantigens, external_annotations = ModelConverter.parse_neoantigens_file(\"test_model_file.txt\", sep=\"\\t\")"
   ]
  },
  {
   "cell_type": "markdown",
   "metadata": {},
   "source": [
    "The tabular file for patients should look as follows:"
   ]
  },
  {
   "cell_type": "code",
   "execution_count": 80,
   "metadata": {},
   "outputs": [
    {
     "data": {
      "text/html": [
       "<div>\n",
       "<style scoped>\n",
       "    .dataframe tbody tr th:only-of-type {\n",
       "        vertical-align: middle;\n",
       "    }\n",
       "\n",
       "    .dataframe tbody tr th {\n",
       "        vertical-align: top;\n",
       "    }\n",
       "\n",
       "    .dataframe thead th {\n",
       "        text-align: right;\n",
       "    }\n",
       "</style>\n",
       "<table border=\"1\" class=\"dataframe\">\n",
       "  <thead>\n",
       "    <tr style=\"text-align: right;\">\n",
       "      <th></th>\n",
       "      <th>identifier</th>\n",
       "      <th>mhcIAlleles</th>\n",
       "      <th>mhcIIAlleles</th>\n",
       "      <th>isRnaAvailable</th>\n",
       "      <th>tumorType</th>\n",
       "    </tr>\n",
       "  </thead>\n",
       "  <tbody>\n",
       "    <tr>\n",
       "      <th>0</th>\n",
       "      <td>Pt27</td>\n",
       "      <td>HLA-A*03:01,HLA-A*29:02,HLA-B*07:02,HLA-B*44:0...</td>\n",
       "      <td>HLA-DRB1*04:02,HLA-DRB1*08:01,HLA-DQA1*03:01,H...</td>\n",
       "      <td>True</td>\n",
       "      <td>HNSC</td>\n",
       "    </tr>\n",
       "    <tr>\n",
       "      <th>1</th>\n",
       "      <td>Pt24</td>\n",
       "      <td>HLA-A*03:01,HLA-A*29:02,HLA-B*07:02,HLA-B*44:0...</td>\n",
       "      <td>HLA-DRB1*04:02,HLA-DRB1*08:01,HLA-DQA1*03:01,H...</td>\n",
       "      <td>True</td>\n",
       "      <td>HNSC</td>\n",
       "    </tr>\n",
       "    <tr>\n",
       "      <th>2</th>\n",
       "      <td>Pt28</td>\n",
       "      <td>HLA-A*03:01,HLA-A*29:02,HLA-B*07:02,HLA-B*44:0...</td>\n",
       "      <td>HLA-DRB1*04:02,HLA-DRB1*08:01,HLA-DQA1*03:01,H...</td>\n",
       "      <td>True</td>\n",
       "      <td>HNSC</td>\n",
       "    </tr>\n",
       "    <tr>\n",
       "      <th>3</th>\n",
       "      <td>Pt63</td>\n",
       "      <td>HLA-A*03:01,HLA-A*29:02,HLA-B*07:02,HLA-B*44:0...</td>\n",
       "      <td>HLA-DRB1*04:02,HLA-DRB1*08:01,HLA-DQA1*03:01,H...</td>\n",
       "      <td>True</td>\n",
       "      <td>HNSC</td>\n",
       "    </tr>\n",
       "    <tr>\n",
       "      <th>4</th>\n",
       "      <td>Pt77</td>\n",
       "      <td>HLA-A*03:01,HLA-A*29:02,HLA-B*07:02,HLA-B*44:0...</td>\n",
       "      <td>HLA-DRB1*04:02,HLA-DRB1*08:01,HLA-DQA1*03:01,H...</td>\n",
       "      <td>True</td>\n",
       "      <td>HNSC</td>\n",
       "    </tr>\n",
       "    <tr>\n",
       "      <th>5</th>\n",
       "      <td>Pt117</td>\n",
       "      <td>HLA-A*03:01,HLA-A*29:02,HLA-B*07:02,HLA-B*44:0...</td>\n",
       "      <td>HLA-DRB1*04:02,HLA-DRB1*08:01,HLA-DQA1*03:01,H...</td>\n",
       "      <td>True</td>\n",
       "      <td>HNSC</td>\n",
       "    </tr>\n",
       "    <tr>\n",
       "      <th>6</th>\n",
       "      <td>Pt110</td>\n",
       "      <td>HLA-A*03:01,HLA-A*29:02,HLA-B*07:02,HLA-B*44:0...</td>\n",
       "      <td>HLA-DRB1*04:02,HLA-DRB1*08:01,HLA-DQA1*03:01,H...</td>\n",
       "      <td>True</td>\n",
       "      <td>HNSC</td>\n",
       "    </tr>\n",
       "    <tr>\n",
       "      <th>7</th>\n",
       "      <td>Pt26</td>\n",
       "      <td>HLA-A*03:01,HLA-A*29:02,HLA-B*07:02,HLA-B*44:0...</td>\n",
       "      <td>HLA-DRB1*04:02,HLA-DRB1*08:01,HLA-DQA1*03:01,H...</td>\n",
       "      <td>True</td>\n",
       "      <td>HNSC</td>\n",
       "    </tr>\n",
       "  </tbody>\n",
       "</table>\n",
       "</div>"
      ],
      "text/plain": [
       "  identifier                                        mhcIAlleles  \\\n",
       "0       Pt27  HLA-A*03:01,HLA-A*29:02,HLA-B*07:02,HLA-B*44:0...   \n",
       "1       Pt24  HLA-A*03:01,HLA-A*29:02,HLA-B*07:02,HLA-B*44:0...   \n",
       "2       Pt28  HLA-A*03:01,HLA-A*29:02,HLA-B*07:02,HLA-B*44:0...   \n",
       "3       Pt63  HLA-A*03:01,HLA-A*29:02,HLA-B*07:02,HLA-B*44:0...   \n",
       "4       Pt77  HLA-A*03:01,HLA-A*29:02,HLA-B*07:02,HLA-B*44:0...   \n",
       "5      Pt117  HLA-A*03:01,HLA-A*29:02,HLA-B*07:02,HLA-B*44:0...   \n",
       "6      Pt110  HLA-A*03:01,HLA-A*29:02,HLA-B*07:02,HLA-B*44:0...   \n",
       "7       Pt26  HLA-A*03:01,HLA-A*29:02,HLA-B*07:02,HLA-B*44:0...   \n",
       "\n",
       "                                        mhcIIAlleles  isRnaAvailable tumorType  \n",
       "0  HLA-DRB1*04:02,HLA-DRB1*08:01,HLA-DQA1*03:01,H...            True      HNSC  \n",
       "1  HLA-DRB1*04:02,HLA-DRB1*08:01,HLA-DQA1*03:01,H...            True      HNSC  \n",
       "2  HLA-DRB1*04:02,HLA-DRB1*08:01,HLA-DQA1*03:01,H...            True      HNSC  \n",
       "3  HLA-DRB1*04:02,HLA-DRB1*08:01,HLA-DQA1*03:01,H...            True      HNSC  \n",
       "4  HLA-DRB1*04:02,HLA-DRB1*08:01,HLA-DQA1*03:01,H...            True      HNSC  \n",
       "5  HLA-DRB1*04:02,HLA-DRB1*08:01,HLA-DQA1*03:01,H...            True      HNSC  \n",
       "6  HLA-DRB1*04:02,HLA-DRB1*08:01,HLA-DQA1*03:01,H...            True      HNSC  \n",
       "7  HLA-DRB1*04:02,HLA-DRB1*08:01,HLA-DQA1*03:01,H...            True      HNSC  "
      ]
     },
     "execution_count": 80,
     "metadata": {},
     "output_type": "execute_result"
    }
   ],
   "source": [
    "pd.read_csv(\"test_patient_file.txt\", sep=\"\\t\")"
   ]
  },
  {
   "cell_type": "markdown",
   "metadata": {},
   "source": [
    "Parse the patients into the model objects as follows:"
   ]
  },
  {
   "cell_type": "code",
   "execution_count": 84,
   "metadata": {},
   "outputs": [],
   "source": [
    "patients = ModelConverter.parse_patients_file(\"test_patient_file.txt\", hla_database=hla_database)"
   ]
  },
  {
   "cell_type": "markdown",
   "metadata": {},
   "source": [
    "### Annotate your neoantigens\n",
    "\n",
    "Running NeoFox requires the configuration its configuration through a number of environment variables, this is described in detail elsewhere in the documentation. This configuration can also be provided through a file passed into Neofox class in the field `configuration_file`."
   ]
  },
  {
   "cell_type": "code",
   "execution_count": 85,
   "metadata": {},
   "outputs": [],
   "source": [
    "from neofox.neofox import NeoFox\n",
    "import os"
   ]
  },
  {
   "cell_type": "code",
   "execution_count": 86,
   "metadata": {},
   "outputs": [
    {
     "name": "stderr",
     "output_type": "stream",
     "text": [
      "[I 210602 15:27:32 references:189] Reference genome folder: /neofox_install/reference_data/\n",
      "[I 210602 15:27:32 references:190] Resources\n",
      "[I 210602 15:27:32 references:192] /neofox_install/reference_data/netmhc2pan_available_alleles.txt\n",
      "[I 210602 15:27:32 references:192] /neofox_install/reference_data/netmhcpan_available_alleles.txt\n",
      "[I 210602 15:27:32 references:192] /neofox_install/reference_data/iedb\n",
      "[I 210602 15:27:32 references:192] /neofox_install/reference_data/proteome_db\n",
      "[I 210602 15:27:32 references:192] /neofox_install/reference_data/proteome_db/Homo_sapiens.fa\n",
      "[I 210602 15:27:32 references:192] /neofox_install/reference_data/iedb/IEDB.fasta\n",
      "[I 210602 15:27:32 references:192] /neofox_install/reference_data/proteome_db/Homo_sapiens.fa\n",
      "[I 210602 15:27:32 references:192] /neofox_install/reference_data/hla_database_allele_list.csv\n",
      "[I 210602 15:27:33 expression_imputation:70] Fetching the gene expression at VCAN:10\n",
      "[I 210602 15:27:33 expression_imputation:76] Fetched a gene expression of 8.8404052357\n",
      "[I 210602 15:27:33 expression_imputation:70] Fetching the gene expression at DCST2:10\n",
      "[I 210602 15:27:33 expression_imputation:76] Fetched a gene expression of 0.1283784886\n",
      "[I 210602 15:27:33 expression_imputation:70] Fetching the gene expression at NRAS:10\n",
      "[I 210602 15:27:33 expression_imputation:76] Fetched a gene expression of 14.0097794749\n",
      "[I 210602 15:27:33 expression_imputation:70] Fetching the gene expression at CEP350:10\n",
      "[I 210602 15:27:33 expression_imputation:76] Fetched a gene expression of 4.1881530572\n",
      "[I 210602 15:27:33 expression_imputation:70] Fetching the gene expression at CPPED1:10\n",
      "[I 210602 15:27:33 expression_imputation:76] Fetched a gene expression of 3.2718222656\n",
      "[I 210602 15:27:33 expression_imputation:70] Fetching the gene expression at CXorf26:10\n",
      "[I 210602 15:27:33 expression_imputation:76] Fetched a gene expression of 13.5743362176\n",
      "[I 210602 15:27:33 expression_imputation:70] Fetching the gene expression at IGSF9B:10\n",
      "[I 210602 15:27:33 expression_imputation:76] Fetched a gene expression of 0.0771477047\n",
      "[I 210602 15:27:33 expression_imputation:70] Fetching the gene expression at HEATR5A:10\n",
      "[I 210602 15:27:33 expression_imputation:76] Fetched a gene expression of 2.8020526973\n",
      "[I 210602 15:27:33 expression_imputation:70] Fetching the gene expression at CHRDL2:10\n",
      "[I 210602 15:27:33 expression_imputation:76] Fetched a gene expression of 0.3346201976\n",
      "[I 210602 15:27:33 neofox:125] Data loaded\n",
      "[I 210602 15:27:33 neofox:203] Starting NeoFox annotations...\n",
      "/home/priesgo/test_neofox_api/venv/lib/python3.8/site-packages/distributed/node.py:151: UserWarning: Port 8787 is already in use.\n",
      "Perhaps you already have a cluster running?\n",
      "Hosting the HTTP server on port 41431 instead\n",
      "  warnings.warn(\n"
     ]
    },
    {
     "ename": "AttributeError",
     "evalue": "'NoneType' object has no attribute 'affinity_score'",
     "output_type": "error",
     "traceback": [
      "\u001b[0;31m---------------------------------------------------------------------------\u001b[0m",
      "\u001b[0;31mAttributeError\u001b[0m                            Traceback (most recent call last)",
      "\u001b[0;32m<ipython-input-86-db39e7aae3df>\u001b[0m in \u001b[0;36m<module>\u001b[0;34m\u001b[0m\n\u001b[1;32m      7\u001b[0m \u001b[0mos\u001b[0m\u001b[0;34m.\u001b[0m\u001b[0menviron\u001b[0m\u001b[0;34m[\u001b[0m\u001b[0;34m\"NEOFOX_MIXMHC2PRED\"\u001b[0m\u001b[0;34m]\u001b[0m \u001b[0;34m=\u001b[0m \u001b[0;34m\"/neofox_install/MixMHC2pred-1.2/MixMHC2pred_unix\"\u001b[0m\u001b[0;34m\u001b[0m\u001b[0;34m\u001b[0m\u001b[0m\n\u001b[1;32m      8\u001b[0m \u001b[0mos\u001b[0m\u001b[0;34m.\u001b[0m\u001b[0menviron\u001b[0m\u001b[0;34m[\u001b[0m\u001b[0;34m\"NEOFOX_PRIME\"\u001b[0m\u001b[0;34m]\u001b[0m \u001b[0;34m=\u001b[0m \u001b[0;34m\"/neofox_install/PRIME-master/PRIME\"\u001b[0m\u001b[0;34m\u001b[0m\u001b[0;34m\u001b[0m\u001b[0m\n\u001b[0;32m----> 9\u001b[0;31m \u001b[0mannotations\u001b[0m \u001b[0;34m=\u001b[0m \u001b[0mNeoFox\u001b[0m\u001b[0;34m(\u001b[0m\u001b[0mneoantigens\u001b[0m\u001b[0;34m=\u001b[0m\u001b[0mneoantigens\u001b[0m\u001b[0;34m,\u001b[0m \u001b[0mpatients\u001b[0m\u001b[0;34m=\u001b[0m\u001b[0mpatients\u001b[0m\u001b[0;34m,\u001b[0m \u001b[0mnum_cpus\u001b[0m\u001b[0;34m=\u001b[0m\u001b[0;36m4\u001b[0m\u001b[0;34m)\u001b[0m\u001b[0;34m.\u001b[0m\u001b[0mget_annotations\u001b[0m\u001b[0;34m(\u001b[0m\u001b[0;34m)\u001b[0m\u001b[0;34m\u001b[0m\u001b[0;34m\u001b[0m\u001b[0m\n\u001b[0m",
      "\u001b[0;32m~/test_neofox_api/venv/lib/python3.8/site-packages/neofox/neofox.py\u001b[0m in \u001b[0;36mget_annotations\u001b[0;34m(self)\u001b[0m\n\u001b[1;32m    207\u001b[0m             \u001b[0mn_workers\u001b[0m\u001b[0;34m=\u001b[0m\u001b[0mself\u001b[0m\u001b[0;34m.\u001b[0m\u001b[0mnum_cpus\u001b[0m\u001b[0;34m,\u001b[0m \u001b[0mthreads_per_worker\u001b[0m\u001b[0;34m=\u001b[0m\u001b[0;36m1\u001b[0m\u001b[0;34m,\u001b[0m\u001b[0;34m\u001b[0m\u001b[0;34m\u001b[0m\u001b[0m\n\u001b[1;32m    208\u001b[0m         )\n\u001b[0;32m--> 209\u001b[0;31m         \u001b[0mannotations\u001b[0m \u001b[0;34m=\u001b[0m \u001b[0mself\u001b[0m\u001b[0;34m.\u001b[0m\u001b[0msend_to_client\u001b[0m\u001b[0;34m(\u001b[0m\u001b[0mdask_client\u001b[0m\u001b[0;34m)\u001b[0m\u001b[0;34m\u001b[0m\u001b[0;34m\u001b[0m\u001b[0m\n\u001b[0m\u001b[1;32m    210\u001b[0m         \u001b[0mdask_client\u001b[0m\u001b[0;34m.\u001b[0m\u001b[0mclose\u001b[0m\u001b[0;34m(\u001b[0m\u001b[0;34m)\u001b[0m\u001b[0;34m\u001b[0m\u001b[0;34m\u001b[0m\u001b[0m\n\u001b[1;32m    211\u001b[0m \u001b[0;34m\u001b[0m\u001b[0m\n",
      "\u001b[0;32m~/test_neofox_api/venv/lib/python3.8/site-packages/neofox/neofox.py\u001b[0m in \u001b[0;36msend_to_client\u001b[0;34m(self, dask_client)\u001b[0m\n\u001b[1;32m    244\u001b[0m                 )\n\u001b[1;32m    245\u001b[0m             )\n\u001b[0;32m--> 246\u001b[0;31m         \u001b[0mannotations\u001b[0m \u001b[0;34m=\u001b[0m \u001b[0mdask_client\u001b[0m\u001b[0;34m.\u001b[0m\u001b[0mgather\u001b[0m\u001b[0;34m(\u001b[0m\u001b[0mfutures\u001b[0m\u001b[0;34m)\u001b[0m\u001b[0;34m\u001b[0m\u001b[0;34m\u001b[0m\u001b[0m\n\u001b[0m\u001b[1;32m    247\u001b[0m         \u001b[0mend\u001b[0m \u001b[0;34m=\u001b[0m \u001b[0mtime\u001b[0m\u001b[0;34m.\u001b[0m\u001b[0mtime\u001b[0m\u001b[0;34m(\u001b[0m\u001b[0;34m)\u001b[0m\u001b[0;34m\u001b[0m\u001b[0;34m\u001b[0m\u001b[0m\n\u001b[1;32m    248\u001b[0m         logger.info(\n",
      "\u001b[0;32m~/test_neofox_api/venv/lib/python3.8/site-packages/distributed/client.py\u001b[0m in \u001b[0;36mgather\u001b[0;34m(self, futures, errors, direct, asynchronous)\u001b[0m\n\u001b[1;32m   1983\u001b[0m             \u001b[0;32melse\u001b[0m\u001b[0;34m:\u001b[0m\u001b[0;34m\u001b[0m\u001b[0;34m\u001b[0m\u001b[0m\n\u001b[1;32m   1984\u001b[0m                 \u001b[0mlocal_worker\u001b[0m \u001b[0;34m=\u001b[0m \u001b[0;32mNone\u001b[0m\u001b[0;34m\u001b[0m\u001b[0;34m\u001b[0m\u001b[0m\n\u001b[0;32m-> 1985\u001b[0;31m             return self.sync(\n\u001b[0m\u001b[1;32m   1986\u001b[0m                 \u001b[0mself\u001b[0m\u001b[0;34m.\u001b[0m\u001b[0m_gather\u001b[0m\u001b[0;34m,\u001b[0m\u001b[0;34m\u001b[0m\u001b[0;34m\u001b[0m\u001b[0m\n\u001b[1;32m   1987\u001b[0m                 \u001b[0mfutures\u001b[0m\u001b[0;34m,\u001b[0m\u001b[0;34m\u001b[0m\u001b[0;34m\u001b[0m\u001b[0m\n",
      "\u001b[0;32m~/test_neofox_api/venv/lib/python3.8/site-packages/distributed/client.py\u001b[0m in \u001b[0;36msync\u001b[0;34m(self, func, asynchronous, callback_timeout, *args, **kwargs)\u001b[0m\n\u001b[1;32m    831\u001b[0m             \u001b[0;32mreturn\u001b[0m \u001b[0mfuture\u001b[0m\u001b[0;34m\u001b[0m\u001b[0;34m\u001b[0m\u001b[0m\n\u001b[1;32m    832\u001b[0m         \u001b[0;32melse\u001b[0m\u001b[0;34m:\u001b[0m\u001b[0;34m\u001b[0m\u001b[0;34m\u001b[0m\u001b[0m\n\u001b[0;32m--> 833\u001b[0;31m             return sync(\n\u001b[0m\u001b[1;32m    834\u001b[0m                 \u001b[0mself\u001b[0m\u001b[0;34m.\u001b[0m\u001b[0mloop\u001b[0m\u001b[0;34m,\u001b[0m \u001b[0mfunc\u001b[0m\u001b[0;34m,\u001b[0m \u001b[0;34m*\u001b[0m\u001b[0margs\u001b[0m\u001b[0;34m,\u001b[0m \u001b[0mcallback_timeout\u001b[0m\u001b[0;34m=\u001b[0m\u001b[0mcallback_timeout\u001b[0m\u001b[0;34m,\u001b[0m \u001b[0;34m**\u001b[0m\u001b[0mkwargs\u001b[0m\u001b[0;34m\u001b[0m\u001b[0;34m\u001b[0m\u001b[0m\n\u001b[1;32m    835\u001b[0m             )\n",
      "\u001b[0;32m~/test_neofox_api/venv/lib/python3.8/site-packages/distributed/utils.py\u001b[0m in \u001b[0;36msync\u001b[0;34m(loop, func, callback_timeout, *args, **kwargs)\u001b[0m\n\u001b[1;32m    337\u001b[0m     \u001b[0;32mif\u001b[0m \u001b[0merror\u001b[0m\u001b[0;34m[\u001b[0m\u001b[0;36m0\u001b[0m\u001b[0;34m]\u001b[0m\u001b[0;34m:\u001b[0m\u001b[0;34m\u001b[0m\u001b[0;34m\u001b[0m\u001b[0m\n\u001b[1;32m    338\u001b[0m         \u001b[0mtyp\u001b[0m\u001b[0;34m,\u001b[0m \u001b[0mexc\u001b[0m\u001b[0;34m,\u001b[0m \u001b[0mtb\u001b[0m \u001b[0;34m=\u001b[0m \u001b[0merror\u001b[0m\u001b[0;34m[\u001b[0m\u001b[0;36m0\u001b[0m\u001b[0;34m]\u001b[0m\u001b[0;34m\u001b[0m\u001b[0;34m\u001b[0m\u001b[0m\n\u001b[0;32m--> 339\u001b[0;31m         \u001b[0;32mraise\u001b[0m \u001b[0mexc\u001b[0m\u001b[0;34m.\u001b[0m\u001b[0mwith_traceback\u001b[0m\u001b[0;34m(\u001b[0m\u001b[0mtb\u001b[0m\u001b[0;34m)\u001b[0m\u001b[0;34m\u001b[0m\u001b[0;34m\u001b[0m\u001b[0m\n\u001b[0m\u001b[1;32m    340\u001b[0m     \u001b[0;32melse\u001b[0m\u001b[0;34m:\u001b[0m\u001b[0;34m\u001b[0m\u001b[0;34m\u001b[0m\u001b[0m\n\u001b[1;32m    341\u001b[0m         \u001b[0;32mreturn\u001b[0m \u001b[0mresult\u001b[0m\u001b[0;34m[\u001b[0m\u001b[0;36m0\u001b[0m\u001b[0;34m]\u001b[0m\u001b[0;34m\u001b[0m\u001b[0;34m\u001b[0m\u001b[0m\n",
      "\u001b[0;32m~/test_neofox_api/venv/lib/python3.8/site-packages/distributed/utils.py\u001b[0m in \u001b[0;36mf\u001b[0;34m()\u001b[0m\n\u001b[1;32m    321\u001b[0m             \u001b[0;32mif\u001b[0m \u001b[0mcallback_timeout\u001b[0m \u001b[0;32mis\u001b[0m \u001b[0;32mnot\u001b[0m \u001b[0;32mNone\u001b[0m\u001b[0;34m:\u001b[0m\u001b[0;34m\u001b[0m\u001b[0;34m\u001b[0m\u001b[0m\n\u001b[1;32m    322\u001b[0m                 \u001b[0mfuture\u001b[0m \u001b[0;34m=\u001b[0m \u001b[0masyncio\u001b[0m\u001b[0;34m.\u001b[0m\u001b[0mwait_for\u001b[0m\u001b[0;34m(\u001b[0m\u001b[0mfuture\u001b[0m\u001b[0;34m,\u001b[0m \u001b[0mcallback_timeout\u001b[0m\u001b[0;34m)\u001b[0m\u001b[0;34m\u001b[0m\u001b[0;34m\u001b[0m\u001b[0m\n\u001b[0;32m--> 323\u001b[0;31m             \u001b[0mresult\u001b[0m\u001b[0;34m[\u001b[0m\u001b[0;36m0\u001b[0m\u001b[0;34m]\u001b[0m \u001b[0;34m=\u001b[0m \u001b[0;32myield\u001b[0m \u001b[0mfuture\u001b[0m\u001b[0;34m\u001b[0m\u001b[0;34m\u001b[0m\u001b[0m\n\u001b[0m\u001b[1;32m    324\u001b[0m         \u001b[0;32mexcept\u001b[0m \u001b[0mException\u001b[0m \u001b[0;32mas\u001b[0m \u001b[0mexc\u001b[0m\u001b[0;34m:\u001b[0m\u001b[0;34m\u001b[0m\u001b[0;34m\u001b[0m\u001b[0m\n\u001b[1;32m    325\u001b[0m             \u001b[0merror\u001b[0m\u001b[0;34m[\u001b[0m\u001b[0;36m0\u001b[0m\u001b[0;34m]\u001b[0m \u001b[0;34m=\u001b[0m \u001b[0msys\u001b[0m\u001b[0;34m.\u001b[0m\u001b[0mexc_info\u001b[0m\u001b[0;34m(\u001b[0m\u001b[0;34m)\u001b[0m\u001b[0;34m\u001b[0m\u001b[0;34m\u001b[0m\u001b[0m\n",
      "\u001b[0;32m~/test_neofox_api/venv/lib/python3.8/site-packages/tornado/gen.py\u001b[0m in \u001b[0;36mrun\u001b[0;34m(self)\u001b[0m\n\u001b[1;32m    760\u001b[0m \u001b[0;34m\u001b[0m\u001b[0m\n\u001b[1;32m    761\u001b[0m                     \u001b[0;32mtry\u001b[0m\u001b[0;34m:\u001b[0m\u001b[0;34m\u001b[0m\u001b[0;34m\u001b[0m\u001b[0m\n\u001b[0;32m--> 762\u001b[0;31m                         \u001b[0mvalue\u001b[0m \u001b[0;34m=\u001b[0m \u001b[0mfuture\u001b[0m\u001b[0;34m.\u001b[0m\u001b[0mresult\u001b[0m\u001b[0;34m(\u001b[0m\u001b[0;34m)\u001b[0m\u001b[0;34m\u001b[0m\u001b[0;34m\u001b[0m\u001b[0m\n\u001b[0m\u001b[1;32m    763\u001b[0m                     \u001b[0;32mexcept\u001b[0m \u001b[0mException\u001b[0m\u001b[0;34m:\u001b[0m\u001b[0;34m\u001b[0m\u001b[0;34m\u001b[0m\u001b[0m\n\u001b[1;32m    764\u001b[0m                         \u001b[0mexc_info\u001b[0m \u001b[0;34m=\u001b[0m \u001b[0msys\u001b[0m\u001b[0;34m.\u001b[0m\u001b[0mexc_info\u001b[0m\u001b[0;34m(\u001b[0m\u001b[0;34m)\u001b[0m\u001b[0;34m\u001b[0m\u001b[0;34m\u001b[0m\u001b[0m\n",
      "\u001b[0;32m~/test_neofox_api/venv/lib/python3.8/site-packages/distributed/client.py\u001b[0m in \u001b[0;36m_gather\u001b[0;34m(self, futures, errors, direct, local_worker)\u001b[0m\n\u001b[1;32m   1848\u001b[0m                             \u001b[0mexc\u001b[0m \u001b[0;34m=\u001b[0m \u001b[0mCancelledError\u001b[0m\u001b[0;34m(\u001b[0m\u001b[0mkey\u001b[0m\u001b[0;34m)\u001b[0m\u001b[0;34m\u001b[0m\u001b[0;34m\u001b[0m\u001b[0m\n\u001b[1;32m   1849\u001b[0m                         \u001b[0;32melse\u001b[0m\u001b[0;34m:\u001b[0m\u001b[0;34m\u001b[0m\u001b[0;34m\u001b[0m\u001b[0m\n\u001b[0;32m-> 1850\u001b[0;31m                             \u001b[0;32mraise\u001b[0m \u001b[0mexception\u001b[0m\u001b[0;34m.\u001b[0m\u001b[0mwith_traceback\u001b[0m\u001b[0;34m(\u001b[0m\u001b[0mtraceback\u001b[0m\u001b[0;34m)\u001b[0m\u001b[0;34m\u001b[0m\u001b[0;34m\u001b[0m\u001b[0m\n\u001b[0m\u001b[1;32m   1851\u001b[0m                         \u001b[0;32mraise\u001b[0m \u001b[0mexc\u001b[0m\u001b[0;34m\u001b[0m\u001b[0;34m\u001b[0m\u001b[0m\n\u001b[1;32m   1852\u001b[0m                     \u001b[0;32mif\u001b[0m \u001b[0merrors\u001b[0m \u001b[0;34m==\u001b[0m \u001b[0;34m\"skip\"\u001b[0m\u001b[0;34m:\u001b[0m\u001b[0;34m\u001b[0m\u001b[0;34m\u001b[0m\u001b[0m\n",
      "\u001b[0;32m~/test_neofox_api/venv/lib/python3.8/site-packages/neofox/neofox.py\u001b[0m in \u001b[0;36mannotate_neoantigen\u001b[0;34m()\u001b[0m\n\u001b[1;32m    270\u001b[0m         )\n\u001b[1;32m    271\u001b[0m         \u001b[0mstart\u001b[0m \u001b[0;34m=\u001b[0m \u001b[0mtime\u001b[0m\u001b[0;34m.\u001b[0m\u001b[0mtime\u001b[0m\u001b[0;34m(\u001b[0m\u001b[0;34m)\u001b[0m\u001b[0;34m\u001b[0m\u001b[0;34m\u001b[0m\u001b[0m\n\u001b[0;32m--> 272\u001b[0;31m         annotation = NeoantigenAnnotator(\n\u001b[0m\u001b[1;32m    273\u001b[0m             \u001b[0mreference_folder\u001b[0m\u001b[0;34m,\u001b[0m\u001b[0;34m\u001b[0m\u001b[0;34m\u001b[0m\u001b[0m\n\u001b[1;32m    274\u001b[0m             \u001b[0mconfiguration\u001b[0m\u001b[0;34m,\u001b[0m\u001b[0;34m\u001b[0m\u001b[0;34m\u001b[0m\u001b[0m\n",
      "\u001b[0;32m~/test_neofox_api/venv/lib/python3.8/site-packages/neofox/annotator.py\u001b[0m in \u001b[0;36mget_annotation\u001b[0;34m()\u001b[0m\n\u001b[1;32m    123\u001b[0m             \u001b[0mnetmhcpan\u001b[0m\u001b[0;34m,\u001b[0m\u001b[0;34m\u001b[0m\u001b[0;34m\u001b[0m\u001b[0m\n\u001b[1;32m    124\u001b[0m             \u001b[0mprime_annotations\u001b[0m\u001b[0;34m\u001b[0m\u001b[0;34m\u001b[0m\u001b[0m\n\u001b[0;32m--> 125\u001b[0;31m         ) = self._compute_long_running_tasks(neoantigen, patient)\n\u001b[0m\u001b[1;32m    126\u001b[0m \u001b[0;34m\u001b[0m\u001b[0m\n\u001b[1;32m    127\u001b[0m         \u001b[0;31m# HLA I predictions: NetMHCpan\u001b[0m\u001b[0;34m\u001b[0m\u001b[0;34m\u001b[0m\u001b[0;34m\u001b[0m\u001b[0m\n",
      "\u001b[0;32m~/test_neofox_api/venv/lib/python3.8/site-packages/neofox/annotator.py\u001b[0m in \u001b[0;36m_compute_long_running_tasks\u001b[0;34m()\u001b[0m\n\u001b[1;32m    344\u001b[0m         \u001b[0;32mif\u001b[0m \u001b[0msequential\u001b[0m\u001b[0;34m:\u001b[0m\u001b[0;34m\u001b[0m\u001b[0;34m\u001b[0m\u001b[0m\n\u001b[1;32m    345\u001b[0m             \u001b[0;32mif\u001b[0m \u001b[0mhas_mhc1\u001b[0m\u001b[0;34m:\u001b[0m\u001b[0;34m\u001b[0m\u001b[0;34m\u001b[0m\u001b[0m\n\u001b[0;32m--> 346\u001b[0;31m                 netmhcpan = self.run_netmhcpan(\n\u001b[0m\u001b[1;32m    347\u001b[0m                     \u001b[0mself\u001b[0m\u001b[0;34m.\u001b[0m\u001b[0mrunner\u001b[0m\u001b[0;34m,\u001b[0m\u001b[0;34m\u001b[0m\u001b[0;34m\u001b[0m\u001b[0m\n\u001b[1;32m    348\u001b[0m                     \u001b[0mself\u001b[0m\u001b[0;34m.\u001b[0m\u001b[0mconfiguration\u001b[0m\u001b[0;34m,\u001b[0m\u001b[0;34m\u001b[0m\u001b[0;34m\u001b[0m\u001b[0m\n",
      "\u001b[0;32m~/test_neofox_api/venv/lib/python3.8/site-packages/neofox/annotator.py\u001b[0m in \u001b[0;36mrun_netmhcpan\u001b[0;34m()\u001b[0m\n\u001b[1;32m    477\u001b[0m         netmhcpan = BestAndMultipleBinder(runner=runner, configuration=configuration, mhc_parser=mhc_parser,\n\u001b[1;32m    478\u001b[0m                                           blastp_runner=self.proteome_blastp_runner)\n\u001b[0;32m--> 479\u001b[0;31m         netmhcpan.run(\n\u001b[0m\u001b[1;32m    480\u001b[0m             \u001b[0mmutation\u001b[0m\u001b[0;34m=\u001b[0m\u001b[0mneoantigen\u001b[0m\u001b[0;34m.\u001b[0m\u001b[0mmutation\u001b[0m\u001b[0;34m,\u001b[0m\u001b[0;34m\u001b[0m\u001b[0;34m\u001b[0m\u001b[0m\n\u001b[1;32m    481\u001b[0m             \u001b[0mmhc1_alleles_patient\u001b[0m\u001b[0;34m=\u001b[0m\u001b[0mpatient\u001b[0m\u001b[0;34m.\u001b[0m\u001b[0mmhc1\u001b[0m\u001b[0;34m,\u001b[0m\u001b[0;34m\u001b[0m\u001b[0;34m\u001b[0m\u001b[0m\n",
      "\u001b[0;32m~/test_neofox_api/venv/lib/python3.8/site-packages/neofox/MHC_predictors/netmhcpan/combine_netmhcpan_pred_multiple_binders.py\u001b[0m in \u001b[0;36mrun\u001b[0;34m()\u001b[0m\n\u001b[1;32m    305\u001b[0m                     )\n\u001b[1;32m    306\u001b[0m                 \u001b[0;31m# multiple binding based on affinity\u001b[0m\u001b[0;34m\u001b[0m\u001b[0;34m\u001b[0m\u001b[0;34m\u001b[0m\u001b[0m\n\u001b[0;32m--> 307\u001b[0;31m                 self.generator_rate_adn = self.determine_number_of_alternative_binders(\n\u001b[0m\u001b[1;32m    308\u001b[0m                     \u001b[0mpredictions\u001b[0m\u001b[0;34m=\u001b[0m\u001b[0mfiltered_predictions\u001b[0m\u001b[0;34m,\u001b[0m \u001b[0mpredictions_wt\u001b[0m\u001b[0;34m=\u001b[0m\u001b[0mfiltered_predictions_wt\u001b[0m\u001b[0;34m\u001b[0m\u001b[0;34m\u001b[0m\u001b[0m\n\u001b[1;32m    309\u001b[0m                 )\n",
      "\u001b[0;32m~/test_neofox_api/venv/lib/python3.8/site-packages/neofox/MHC_predictors/netmhcpan/combine_netmhcpan_pred_multiple_binders.py\u001b[0m in \u001b[0;36mdetermine_number_of_alternative_binders\u001b[0;34m()\u001b[0m\n\u001b[1;32m    187\u001b[0m                         )\n\u001b[1;32m    188\u001b[0m                 )\n\u001b[0;32m--> 189\u001b[0;31m                 \u001b[0mdai\u001b[0m \u001b[0;34m=\u001b[0m \u001b[0mwt_peptide\u001b[0m\u001b[0;34m.\u001b[0m\u001b[0maffinity_score\u001b[0m \u001b[0;34m/\u001b[0m \u001b[0mepitope\u001b[0m\u001b[0;34m.\u001b[0m\u001b[0maffinity_score\u001b[0m\u001b[0;34m\u001b[0m\u001b[0;34m\u001b[0m\u001b[0m\n\u001b[0m\u001b[1;32m    190\u001b[0m                 \u001b[0;32mif\u001b[0m \u001b[0mdai\u001b[0m \u001b[0;34m>\u001b[0m \u001b[0mthreshold\u001b[0m\u001b[0;34m:\u001b[0m\u001b[0;34m\u001b[0m\u001b[0;34m\u001b[0m\u001b[0m\n\u001b[1;32m    191\u001b[0m                     \u001b[0mnumber_binders\u001b[0m \u001b[0;34m+=\u001b[0m \u001b[0;36m1\u001b[0m\u001b[0;34m\u001b[0m\u001b[0;34m\u001b[0m\u001b[0m\n",
      "\u001b[0;31mAttributeError\u001b[0m: 'NoneType' object has no attribute 'affinity_score'"
     ]
    }
   ],
   "source": [
    "os.environ[\"NEOFOX_REFERENCE_FOLDER\"] = \"/neofox_install/reference_data/\"\n",
    "os.environ[\"NEOFOX_RSCRIPT\"] = \"/usr/bin/Rscript\"\n",
    "os.environ[\"NEOFOX_BLASTP\"] = \"/neofox_install/ncbi-blast-2.10.1+/bin/blastp\"\n",
    "os.environ[\"NEOFOX_NETMHCPAN\"] = \"/neofox_install/netMHCpan-4.1/netMHCpan\"\n",
    "os.environ[\"NEOFOX_NETMHC2PAN\"] = \"/neofox_install/netMHCIIpan-4.0/netMHCIIpan\"\n",
    "os.environ[\"NEOFOX_MIXMHCPRED\"] = \"/neofox_install/MixMHCpred-2.1/MixMHCpred\"\n",
    "os.environ[\"NEOFOX_MIXMHC2PRED\"] = \"/neofox_install/MixMHC2pred-1.2/MixMHC2pred_unix\"\n",
    "os.environ[\"NEOFOX_PRIME\"] = \"/neofox_install/PRIME-master/PRIME\"\n",
    "annotations = NeoFox(neoantigens=neoantigens, patients=patients, num_cpus=4).get_annotations()"
   ]
  },
  {
   "cell_type": "markdown",
   "metadata": {},
   "source": [
    "Neofox returns a list of annotations for each neoantigen, these are stored in an object called `NeoantigenAnnotations` which contains the corresponding neoantigen identifier, the annotator (ie: neofox), the annotator version, a timestamp and finally a list of the annotations."
   ]
  },
  {
   "cell_type": "code",
   "execution_count": null,
   "metadata": {},
   "outputs": [],
   "source": [
    "annotations[0].to_dict()"
   ]
  },
  {
   "cell_type": "markdown",
   "metadata": {},
   "source": [
    "### Transform the annotations into a data frame"
   ]
  },
  {
   "cell_type": "code",
   "execution_count": 43,
   "metadata": {},
   "outputs": [
    {
     "data": {
      "text/html": [
       "<div>\n",
       "<style scoped>\n",
       "    .dataframe tbody tr th:only-of-type {\n",
       "        vertical-align: middle;\n",
       "    }\n",
       "\n",
       "    .dataframe tbody tr th {\n",
       "        vertical-align: top;\n",
       "    }\n",
       "\n",
       "    .dataframe thead th {\n",
       "        text-align: right;\n",
       "    }\n",
       "</style>\n",
       "<table border=\"1\" class=\"dataframe\">\n",
       "  <thead>\n",
       "    <tr style=\"text-align: right;\">\n",
       "      <th></th>\n",
       "      <th>name</th>\n",
       "      <th>neoantigen_identifier</th>\n",
       "      <th>value</th>\n",
       "    </tr>\n",
       "  </thead>\n",
       "  <tbody>\n",
       "    <tr>\n",
       "      <th>0</th>\n",
       "      <td>Best_rank_MHCI_score</td>\n",
       "      <td>ooADEHHbdX//9epH59/tuQ==</td>\n",
       "      <td>6.2429</td>\n",
       "    </tr>\n",
       "    <tr>\n",
       "      <th>1</th>\n",
       "      <td>Best_rank_MHCI_score_epitope</td>\n",
       "      <td>ooADEHHbdX//9epH59/tuQ==</td>\n",
       "      <td>GEPSQDILVT</td>\n",
       "    </tr>\n",
       "    <tr>\n",
       "      <th>2</th>\n",
       "      <td>Best_rank_MHCI_score_allele</td>\n",
       "      <td>ooADEHHbdX//9epH59/tuQ==</td>\n",
       "      <td>HLA-B*44:03</td>\n",
       "    </tr>\n",
       "    <tr>\n",
       "      <th>3</th>\n",
       "      <td>Best_affinity_MHCI_score</td>\n",
       "      <td>ooADEHHbdX//9epH59/tuQ==</td>\n",
       "      <td>3984.4</td>\n",
       "    </tr>\n",
       "    <tr>\n",
       "      <th>4</th>\n",
       "      <td>Best_affinity_MHCI_epitope</td>\n",
       "      <td>ooADEHHbdX//9epH59/tuQ==</td>\n",
       "      <td>ILVTDQTRL</td>\n",
       "    </tr>\n",
       "    <tr>\n",
       "      <th>5</th>\n",
       "      <td>Best_affinity_MHCI_allele</td>\n",
       "      <td>ooADEHHbdX//9epH59/tuQ==</td>\n",
       "      <td>HLA-C*16:01</td>\n",
       "    </tr>\n",
       "    <tr>\n",
       "      <th>6</th>\n",
       "      <td>Best_rank_MHCI_9mer_score</td>\n",
       "      <td>ooADEHHbdX//9epH59/tuQ==</td>\n",
       "      <td>6.2525</td>\n",
       "    </tr>\n",
       "    <tr>\n",
       "      <th>7</th>\n",
       "      <td>Best_rank_MHCI_9mer_epitope</td>\n",
       "      <td>ooADEHHbdX//9epH59/tuQ==</td>\n",
       "      <td>ILVTDQTRL</td>\n",
       "    </tr>\n",
       "    <tr>\n",
       "      <th>8</th>\n",
       "      <td>Best_rank_MHCI_9mer_allele</td>\n",
       "      <td>ooADEHHbdX//9epH59/tuQ==</td>\n",
       "      <td>HLA-C*16:01</td>\n",
       "    </tr>\n",
       "    <tr>\n",
       "      <th>9</th>\n",
       "      <td>Best_affinity_MHCI_9mer_score</td>\n",
       "      <td>ooADEHHbdX//9epH59/tuQ==</td>\n",
       "      <td>3984.4</td>\n",
       "    </tr>\n",
       "  </tbody>\n",
       "</table>\n",
       "</div>"
      ],
      "text/plain": [
       "                            name     neoantigen_identifier        value\n",
       "0           Best_rank_MHCI_score  ooADEHHbdX//9epH59/tuQ==       6.2429\n",
       "1   Best_rank_MHCI_score_epitope  ooADEHHbdX//9epH59/tuQ==   GEPSQDILVT\n",
       "2    Best_rank_MHCI_score_allele  ooADEHHbdX//9epH59/tuQ==  HLA-B*44:03\n",
       "3       Best_affinity_MHCI_score  ooADEHHbdX//9epH59/tuQ==       3984.4\n",
       "4     Best_affinity_MHCI_epitope  ooADEHHbdX//9epH59/tuQ==    ILVTDQTRL\n",
       "5      Best_affinity_MHCI_allele  ooADEHHbdX//9epH59/tuQ==  HLA-C*16:01\n",
       "6      Best_rank_MHCI_9mer_score  ooADEHHbdX//9epH59/tuQ==       6.2525\n",
       "7    Best_rank_MHCI_9mer_epitope  ooADEHHbdX//9epH59/tuQ==    ILVTDQTRL\n",
       "8     Best_rank_MHCI_9mer_allele  ooADEHHbdX//9epH59/tuQ==  HLA-C*16:01\n",
       "9  Best_affinity_MHCI_9mer_score  ooADEHHbdX//9epH59/tuQ==       3984.4"
      ]
     },
     "execution_count": 43,
     "metadata": {},
     "output_type": "execute_result"
    }
   ],
   "source": [
    "annotations_ts = ModelConverter.annotations2tall_skinny_table(neoantigen_annotations=annotations)\n",
    "annotations_ts.head(10)"
   ]
  },
  {
   "cell_type": "code",
   "execution_count": 44,
   "metadata": {},
   "outputs": [
    {
     "data": {
      "text/html": [
       "<div>\n",
       "<style scoped>\n",
       "    .dataframe tbody tr th:only-of-type {\n",
       "        vertical-align: middle;\n",
       "    }\n",
       "\n",
       "    .dataframe tbody tr th {\n",
       "        vertical-align: top;\n",
       "    }\n",
       "\n",
       "    .dataframe thead th {\n",
       "        text-align: right;\n",
       "    }\n",
       "</style>\n",
       "<table border=\"1\" class=\"dataframe\">\n",
       "  <thead>\n",
       "    <tr style=\"text-align: right;\">\n",
       "      <th></th>\n",
       "      <th>identifier</th>\n",
       "      <th>dnaVariantAlleleFrequency</th>\n",
       "      <th>gene</th>\n",
       "      <th>mutation.mutatedXmer</th>\n",
       "      <th>mutation.position</th>\n",
       "      <th>mutation.wildTypeXmer</th>\n",
       "      <th>patientIdentifier</th>\n",
       "      <th>rnaExpression</th>\n",
       "      <th>rnaVariantAlleleFrequency</th>\n",
       "      <th>ADN_MHCI</th>\n",
       "      <th>...</th>\n",
       "      <th>PHBR-I</th>\n",
       "      <th>PHBR-II</th>\n",
       "      <th>Pathogensimiliarity_MHCI_affinity_9mer</th>\n",
       "      <th>Priority_score</th>\n",
       "      <th>Recognition_Potential_MHCI_affinity_9mer</th>\n",
       "      <th>Selfsimilarity_MHCI_conserved_binder</th>\n",
       "      <th>Tcell_predictor_score_cutoff500nM</th>\n",
       "      <th>mutation_not_found_in_proteome</th>\n",
       "      <th>vaxrank_binding_score</th>\n",
       "      <th>vaxrank_total_score</th>\n",
       "    </tr>\n",
       "  </thead>\n",
       "  <tbody>\n",
       "    <tr>\n",
       "      <th>0</th>\n",
       "      <td>ooADEHHbdX//9epH59/tuQ==</td>\n",
       "      <td>0.0</td>\n",
       "      <td>VCAN</td>\n",
       "      <td>DEVLGEPSQDILVTDQTRLEATISPET</td>\n",
       "      <td>14</td>\n",
       "      <td>DEVLGEPSQDILVIDQTRLEATISPET</td>\n",
       "      <td>Pt27</td>\n",
       "      <td>0.0</td>\n",
       "      <td>0.0</td>\n",
       "      <td>0</td>\n",
       "      <td>...</td>\n",
       "      <td>9.2247</td>\n",
       "      <td>37.098</td>\n",
       "      <td>0</td>\n",
       "      <td>0</td>\n",
       "      <td>NA</td>\n",
       "      <td>0.9867459752059601</td>\n",
       "      <td>NA</td>\n",
       "      <td>1</td>\n",
       "      <td>0</td>\n",
       "      <td>0</td>\n",
       "    </tr>\n",
       "    <tr>\n",
       "      <th>1</th>\n",
       "      <td>9kAgxf3dqEc2krSYb30uBQ==</td>\n",
       "      <td>0.0</td>\n",
       "      <td>DCST2</td>\n",
       "      <td>RTNLLAALHRSVRWRAADQGHRSAFLV</td>\n",
       "      <td>14</td>\n",
       "      <td>RTNLLAALHRSVRRRAADQGHRSAFLV</td>\n",
       "      <td>Pt24</td>\n",
       "      <td>0.0</td>\n",
       "      <td>0.0</td>\n",
       "      <td>0</td>\n",
       "      <td>...</td>\n",
       "      <td>3.4198</td>\n",
       "      <td>1.058</td>\n",
       "      <td>0</td>\n",
       "      <td>0</td>\n",
       "      <td>NA</td>\n",
       "      <td>0.9421875787623097</td>\n",
       "      <td>NA</td>\n",
       "      <td>1</td>\n",
       "      <td>0.11069</td>\n",
       "      <td>0</td>\n",
       "    </tr>\n",
       "    <tr>\n",
       "      <th>2</th>\n",
       "      <td>s8sKwJW3aw2Bm8vUnElcVg==</td>\n",
       "      <td>0.0</td>\n",
       "      <td>NRAS</td>\n",
       "      <td>MTEYKLVVVGACGVGKSALTIQLIQ</td>\n",
       "      <td>12</td>\n",
       "      <td>MTEYKLVVVGAGGVGKSALTIQLIQ</td>\n",
       "      <td>Pt28</td>\n",
       "      <td>0.0</td>\n",
       "      <td>0.0</td>\n",
       "      <td>0</td>\n",
       "      <td>...</td>\n",
       "      <td>2.4762</td>\n",
       "      <td>35.345</td>\n",
       "      <td>0</td>\n",
       "      <td>0</td>\n",
       "      <td>0</td>\n",
       "      <td>0.9330521460001094</td>\n",
       "      <td>0.5068878716790075</td>\n",
       "      <td>1</td>\n",
       "      <td>1.6547</td>\n",
       "      <td>0</td>\n",
       "    </tr>\n",
       "    <tr>\n",
       "      <th>3</th>\n",
       "      <td>iJPwEltDbKAOBzIifaDt0A==</td>\n",
       "      <td>0.0</td>\n",
       "      <td>CEP350</td>\n",
       "      <td>QTDSSSSDMQACSKDKAKISLGSSIDS</td>\n",
       "      <td>14</td>\n",
       "      <td>QTDSSSSDMQACSQDKAKISLGSSIDS</td>\n",
       "      <td>Pt63</td>\n",
       "      <td>0.0</td>\n",
       "      <td>0.0</td>\n",
       "      <td>0</td>\n",
       "      <td>...</td>\n",
       "      <td>4.7855</td>\n",
       "      <td>57.667</td>\n",
       "      <td>0</td>\n",
       "      <td>0</td>\n",
       "      <td>NA</td>\n",
       "      <td>NA</td>\n",
       "      <td>NA</td>\n",
       "      <td>1</td>\n",
       "      <td>0.14174</td>\n",
       "      <td>0</td>\n",
       "    </tr>\n",
       "    <tr>\n",
       "      <th>4</th>\n",
       "      <td>wCSx1C7OtJiFgrix/rmMGg==</td>\n",
       "      <td>0.0</td>\n",
       "      <td>CPPED1</td>\n",
       "      <td>DRAIPLVLVSGNHYIGNTPTAETVEEF</td>\n",
       "      <td>14</td>\n",
       "      <td>DRAIPLVLVSGNHDIGNTPTAETVEEF</td>\n",
       "      <td>Pt77</td>\n",
       "      <td>0.0</td>\n",
       "      <td>0.0</td>\n",
       "      <td>1</td>\n",
       "      <td>...</td>\n",
       "      <td>1.4605</td>\n",
       "      <td>7.4182</td>\n",
       "      <td>0</td>\n",
       "      <td>0</td>\n",
       "      <td>0</td>\n",
       "      <td>NA</td>\n",
       "      <td>0.5720939101479084</td>\n",
       "      <td>1</td>\n",
       "      <td>0.89423</td>\n",
       "      <td>0</td>\n",
       "    </tr>\n",
       "    <tr>\n",
       "      <th>5</th>\n",
       "      <td>2iu87vd3WXZqJ3ggzlccYg==</td>\n",
       "      <td>0.0</td>\n",
       "      <td>CXorf26</td>\n",
       "      <td>YNKAVYISVQDKEEEKGVNNGGEKRAD</td>\n",
       "      <td>14</td>\n",
       "      <td>YNKAVYISVQDKEGEKGVNNGGEKRAD</td>\n",
       "      <td>Pt117</td>\n",
       "      <td>0.0</td>\n",
       "      <td>0.0</td>\n",
       "      <td>0</td>\n",
       "      <td>...</td>\n",
       "      <td>15.021</td>\n",
       "      <td>29.186</td>\n",
       "      <td>0</td>\n",
       "      <td>0</td>\n",
       "      <td>NA</td>\n",
       "      <td>0.9542175575949939</td>\n",
       "      <td>NA</td>\n",
       "      <td>1</td>\n",
       "      <td>0</td>\n",
       "      <td>0</td>\n",
       "    </tr>\n",
       "    <tr>\n",
       "      <th>6</th>\n",
       "      <td>rciXzVxw4LQItjGQZpQAWA==</td>\n",
       "      <td>0.0</td>\n",
       "      <td>IGSF9B</td>\n",
       "      <td>ASTHLTVIGTSPHVPGSVRVQVSMTTA</td>\n",
       "      <td>14</td>\n",
       "      <td>ASTHLTVIGTSPHAPGSVRVQVSMTTA</td>\n",
       "      <td>Pt110</td>\n",
       "      <td>0.0</td>\n",
       "      <td>0.0</td>\n",
       "      <td>0</td>\n",
       "      <td>...</td>\n",
       "      <td>0.93399</td>\n",
       "      <td>24.362</td>\n",
       "      <td>0</td>\n",
       "      <td>0</td>\n",
       "      <td>0</td>\n",
       "      <td>0.9649973487719512</td>\n",
       "      <td>0.09919940654277996</td>\n",
       "      <td>1</td>\n",
       "      <td>3.7569</td>\n",
       "      <td>0</td>\n",
       "    </tr>\n",
       "    <tr>\n",
       "      <th>7</th>\n",
       "      <td>Ft7fPmHSZxekWMPk3/gxfg==</td>\n",
       "      <td>0.0</td>\n",
       "      <td>HEATR5A</td>\n",
       "      <td>TRRDEKSHPFTNPQWATRVFAAECVCR</td>\n",
       "      <td>14</td>\n",
       "      <td>TRRDEKSHPFTNPRWATRVFAAECVCR</td>\n",
       "      <td>Pt26</td>\n",
       "      <td>0.0</td>\n",
       "      <td>0.0</td>\n",
       "      <td>0</td>\n",
       "      <td>...</td>\n",
       "      <td>0.74995</td>\n",
       "      <td>1.262</td>\n",
       "      <td>0</td>\n",
       "      <td>0</td>\n",
       "      <td>0</td>\n",
       "      <td>0.9614920042660836</td>\n",
       "      <td>0.3374084622586067</td>\n",
       "      <td>1</td>\n",
       "      <td>2.5678</td>\n",
       "      <td>0</td>\n",
       "    </tr>\n",
       "    <tr>\n",
       "      <th>8</th>\n",
       "      <td>zffz2eWQtXHsLzlmXEtU7w==</td>\n",
       "      <td>0.0</td>\n",
       "      <td>CHRDL2</td>\n",
       "      <td>ARPDMFCLFHGKRHFPGESWHPYLEPQ</td>\n",
       "      <td>14</td>\n",
       "      <td>ARPDMFCLFHGKRYFPGESWHPYLEPQ</td>\n",
       "      <td>Pt77</td>\n",
       "      <td>0.0</td>\n",
       "      <td>0.0</td>\n",
       "      <td>0</td>\n",
       "      <td>...</td>\n",
       "      <td>1.6364</td>\n",
       "      <td>31.649</td>\n",
       "      <td>0</td>\n",
       "      <td>0</td>\n",
       "      <td>NA</td>\n",
       "      <td>0.9782021524274523</td>\n",
       "      <td>NA</td>\n",
       "      <td>1</td>\n",
       "      <td>0.92031</td>\n",
       "      <td>0</td>\n",
       "    </tr>\n",
       "  </tbody>\n",
       "</table>\n",
       "<p>9 rows × 79 columns</p>\n",
       "</div>"
      ],
      "text/plain": [
       "                 identifier  dnaVariantAlleleFrequency     gene  \\\n",
       "0  ooADEHHbdX//9epH59/tuQ==                        0.0     VCAN   \n",
       "1  9kAgxf3dqEc2krSYb30uBQ==                        0.0    DCST2   \n",
       "2  s8sKwJW3aw2Bm8vUnElcVg==                        0.0     NRAS   \n",
       "3  iJPwEltDbKAOBzIifaDt0A==                        0.0   CEP350   \n",
       "4  wCSx1C7OtJiFgrix/rmMGg==                        0.0   CPPED1   \n",
       "5  2iu87vd3WXZqJ3ggzlccYg==                        0.0  CXorf26   \n",
       "6  rciXzVxw4LQItjGQZpQAWA==                        0.0   IGSF9B   \n",
       "7  Ft7fPmHSZxekWMPk3/gxfg==                        0.0  HEATR5A   \n",
       "8  zffz2eWQtXHsLzlmXEtU7w==                        0.0   CHRDL2   \n",
       "\n",
       "          mutation.mutatedXmer mutation.position        mutation.wildTypeXmer  \\\n",
       "0  DEVLGEPSQDILVTDQTRLEATISPET                14  DEVLGEPSQDILVIDQTRLEATISPET   \n",
       "1  RTNLLAALHRSVRWRAADQGHRSAFLV                14  RTNLLAALHRSVRRRAADQGHRSAFLV   \n",
       "2    MTEYKLVVVGACGVGKSALTIQLIQ                12    MTEYKLVVVGAGGVGKSALTIQLIQ   \n",
       "3  QTDSSSSDMQACSKDKAKISLGSSIDS                14  QTDSSSSDMQACSQDKAKISLGSSIDS   \n",
       "4  DRAIPLVLVSGNHYIGNTPTAETVEEF                14  DRAIPLVLVSGNHDIGNTPTAETVEEF   \n",
       "5  YNKAVYISVQDKEEEKGVNNGGEKRAD                14  YNKAVYISVQDKEGEKGVNNGGEKRAD   \n",
       "6  ASTHLTVIGTSPHVPGSVRVQVSMTTA                14  ASTHLTVIGTSPHAPGSVRVQVSMTTA   \n",
       "7  TRRDEKSHPFTNPQWATRVFAAECVCR                14  TRRDEKSHPFTNPRWATRVFAAECVCR   \n",
       "8  ARPDMFCLFHGKRHFPGESWHPYLEPQ                14  ARPDMFCLFHGKRYFPGESWHPYLEPQ   \n",
       "\n",
       "  patientIdentifier  rnaExpression  rnaVariantAlleleFrequency ADN_MHCI  ...  \\\n",
       "0              Pt27            0.0                        0.0        0  ...   \n",
       "1              Pt24            0.0                        0.0        0  ...   \n",
       "2              Pt28            0.0                        0.0        0  ...   \n",
       "3              Pt63            0.0                        0.0        0  ...   \n",
       "4              Pt77            0.0                        0.0        1  ...   \n",
       "5             Pt117            0.0                        0.0        0  ...   \n",
       "6             Pt110            0.0                        0.0        0  ...   \n",
       "7              Pt26            0.0                        0.0        0  ...   \n",
       "8              Pt77            0.0                        0.0        0  ...   \n",
       "\n",
       "    PHBR-I PHBR-II Pathogensimiliarity_MHCI_affinity_9mer Priority_score  \\\n",
       "0   9.2247  37.098                                      0              0   \n",
       "1   3.4198   1.058                                      0              0   \n",
       "2   2.4762  35.345                                      0              0   \n",
       "3   4.7855  57.667                                      0              0   \n",
       "4   1.4605  7.4182                                      0              0   \n",
       "5   15.021  29.186                                      0              0   \n",
       "6  0.93399  24.362                                      0              0   \n",
       "7  0.74995   1.262                                      0              0   \n",
       "8   1.6364  31.649                                      0              0   \n",
       "\n",
       "  Recognition_Potential_MHCI_affinity_9mer  \\\n",
       "0                                       NA   \n",
       "1                                       NA   \n",
       "2                                        0   \n",
       "3                                       NA   \n",
       "4                                        0   \n",
       "5                                       NA   \n",
       "6                                        0   \n",
       "7                                        0   \n",
       "8                                       NA   \n",
       "\n",
       "  Selfsimilarity_MHCI_conserved_binder Tcell_predictor_score_cutoff500nM  \\\n",
       "0                   0.9867459752059601                                NA   \n",
       "1                   0.9421875787623097                                NA   \n",
       "2                   0.9330521460001094                0.5068878716790075   \n",
       "3                                   NA                                NA   \n",
       "4                                   NA                0.5720939101479084   \n",
       "5                   0.9542175575949939                                NA   \n",
       "6                   0.9649973487719512               0.09919940654277996   \n",
       "7                   0.9614920042660836                0.3374084622586067   \n",
       "8                   0.9782021524274523                                NA   \n",
       "\n",
       "  mutation_not_found_in_proteome vaxrank_binding_score vaxrank_total_score  \n",
       "0                              1                     0                   0  \n",
       "1                              1               0.11069                   0  \n",
       "2                              1                1.6547                   0  \n",
       "3                              1               0.14174                   0  \n",
       "4                              1               0.89423                   0  \n",
       "5                              1                     0                   0  \n",
       "6                              1                3.7569                   0  \n",
       "7                              1                2.5678                   0  \n",
       "8                              1               0.92031                   0  \n",
       "\n",
       "[9 rows x 79 columns]"
      ]
     },
     "execution_count": 44,
     "metadata": {},
     "output_type": "execute_result"
    }
   ],
   "source": [
    "annotations_sw = ModelConverter.annotations2short_wide_table(annotations, neoantigens)\n",
    "annotations_sw"
   ]
  }
 ],
 "metadata": {
  "kernelspec": {
   "display_name": "Python 3",
   "language": "python",
   "name": "python3"
  },
  "language_info": {
   "codemirror_mode": {
    "name": "ipython",
    "version": 3
   },
   "file_extension": ".py",
   "mimetype": "text/x-python",
   "name": "python",
   "nbconvert_exporter": "python",
   "pygments_lexer": "ipython3",
   "version": "3.8.5"
  }
 },
 "nbformat": 4,
 "nbformat_minor": 4
}
