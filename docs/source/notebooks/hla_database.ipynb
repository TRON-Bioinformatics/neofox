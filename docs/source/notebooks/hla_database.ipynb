{
 "cells": [
  {
   "cell_type": "code",
   "execution_count": 1,
   "id": "8ff87f61",
   "metadata": {},
   "outputs": [],
   "source": [
    "import pandas as pd"
   ]
  },
  {
   "cell_type": "code",
   "execution_count": 2,
   "id": "f505711a",
   "metadata": {},
   "outputs": [
    {
     "data": {
      "text/html": [
       "<div>\n",
       "<style scoped>\n",
       "    .dataframe tbody tr th:only-of-type {\n",
       "        vertical-align: middle;\n",
       "    }\n",
       "\n",
       "    .dataframe tbody tr th {\n",
       "        vertical-align: top;\n",
       "    }\n",
       "\n",
       "    .dataframe thead th {\n",
       "        text-align: right;\n",
       "    }\n",
       "</style>\n",
       "<table border=\"1\" class=\"dataframe\">\n",
       "  <thead>\n",
       "    <tr style=\"text-align: right;\">\n",
       "      <th></th>\n",
       "      <th>AlleleID</th>\n",
       "      <th>Allele</th>\n",
       "    </tr>\n",
       "  </thead>\n",
       "  <tbody>\n",
       "    <tr>\n",
       "      <th>0</th>\n",
       "      <td>HLA00001</td>\n",
       "      <td>A*01:01:01:01</td>\n",
       "    </tr>\n",
       "    <tr>\n",
       "      <th>1</th>\n",
       "      <td>HLA02169</td>\n",
       "      <td>A*01:01:01:02N</td>\n",
       "    </tr>\n",
       "    <tr>\n",
       "      <th>2</th>\n",
       "      <td>HLA14798</td>\n",
       "      <td>A*01:01:01:03</td>\n",
       "    </tr>\n",
       "    <tr>\n",
       "      <th>3</th>\n",
       "      <td>HLA15760</td>\n",
       "      <td>A*01:01:01:04</td>\n",
       "    </tr>\n",
       "    <tr>\n",
       "      <th>4</th>\n",
       "      <td>HLA16415</td>\n",
       "      <td>A*01:01:01:05</td>\n",
       "    </tr>\n",
       "  </tbody>\n",
       "</table>\n",
       "</div>"
      ],
      "text/plain": [
       "   AlleleID          Allele\n",
       "0  HLA00001   A*01:01:01:01\n",
       "1  HLA02169  A*01:01:01:02N\n",
       "2  HLA14798   A*01:01:01:03\n",
       "3  HLA15760   A*01:01:01:04\n",
       "4  HLA16415   A*01:01:01:05"
      ]
     },
     "execution_count": 2,
     "metadata": {},
     "output_type": "execute_result"
    }
   ],
   "source": [
    "url = \"https://raw.githubusercontent.com/ANHIG/IMGTHLA/Latest/Allelelist.3430.txt\"\n",
    "data = pd.read_csv(url, comment=\"#\")\n",
    "data.head()"
   ]
  },
  {
   "cell_type": "code",
   "execution_count": 8,
   "id": "56775c0a",
   "metadata": {},
   "outputs": [
    {
     "data": {
      "text/html": [
       "<div>\n",
       "<style scoped>\n",
       "    .dataframe tbody tr th:only-of-type {\n",
       "        vertical-align: middle;\n",
       "    }\n",
       "\n",
       "    .dataframe tbody tr th {\n",
       "        vertical-align: top;\n",
       "    }\n",
       "\n",
       "    .dataframe thead th {\n",
       "        text-align: right;\n",
       "    }\n",
       "</style>\n",
       "<table border=\"1\" class=\"dataframe\">\n",
       "  <thead>\n",
       "    <tr style=\"text-align: right;\">\n",
       "      <th></th>\n",
       "      <th>AlleleID</th>\n",
       "      <th>Allele</th>\n",
       "      <th>parsed_allele</th>\n",
       "    </tr>\n",
       "  </thead>\n",
       "  <tbody>\n",
       "    <tr>\n",
       "      <th>0</th>\n",
       "      <td>HLA00001</td>\n",
       "      <td>A*01:01:01:01</td>\n",
       "      <td>A*01:01</td>\n",
       "    </tr>\n",
       "    <tr>\n",
       "      <th>1</th>\n",
       "      <td>HLA02169</td>\n",
       "      <td>A*01:01:01:02N</td>\n",
       "      <td>A*01:01</td>\n",
       "    </tr>\n",
       "    <tr>\n",
       "      <th>2</th>\n",
       "      <td>HLA14798</td>\n",
       "      <td>A*01:01:01:03</td>\n",
       "      <td>A*01:01</td>\n",
       "    </tr>\n",
       "    <tr>\n",
       "      <th>3</th>\n",
       "      <td>HLA15760</td>\n",
       "      <td>A*01:01:01:04</td>\n",
       "      <td>A*01:01</td>\n",
       "    </tr>\n",
       "    <tr>\n",
       "      <th>4</th>\n",
       "      <td>HLA16415</td>\n",
       "      <td>A*01:01:01:05</td>\n",
       "      <td>A*01:01</td>\n",
       "    </tr>\n",
       "  </tbody>\n",
       "</table>\n",
       "</div>"
      ],
      "text/plain": [
       "   AlleleID          Allele parsed_allele\n",
       "0  HLA00001   A*01:01:01:01       A*01:01\n",
       "1  HLA02169  A*01:01:01:02N       A*01:01\n",
       "2  HLA14798   A*01:01:01:03       A*01:01\n",
       "3  HLA15760   A*01:01:01:04       A*01:01\n",
       "4  HLA16415   A*01:01:01:05       A*01:01"
      ]
     },
     "execution_count": 8,
     "metadata": {},
     "output_type": "execute_result"
    }
   ],
   "source": [
    "def parse_allele(allele):\n",
    "    values = allele.split(\":\")\n",
    "    if len(values) > 1:\n",
    "        return values[0] + \":\" + values[1]\n",
    "    else:\n",
    "        return None\n",
    "\n",
    "data[\"parsed_allele\"] = data.Allele.transform(parse_allele)\n",
    "data.head()"
   ]
  },
  {
   "cell_type": "code",
   "execution_count": 24,
   "id": "dbee0f5e",
   "metadata": {},
   "outputs": [
    {
     "name": "stdout",
     "output_type": "stream",
     "text": [
      "Absolute total alleles: 29417\n",
      "Total alleles: 19144\n",
      "A alleles: 4247\n",
      "B alleles: 5138\n",
      "C alleles: 3985\n",
      "DPA1 alleles: 98\n",
      "DPB1 alleles: 1164\n",
      "DQA1 alleles: 130\n",
      "DQB1 alleles: 1374\n",
      "DRB1 alleles: 2086\n"
     ]
    }
   ],
   "source": [
    "print(\"Absolute total alleles: {}\".format(data.shape[0]))\n",
    "unique_alleles = data.parsed_allele.unique()\n",
    "print(\"Total alleles: {}\".format(len(unique_alleles)))\n",
    "print(\"A alleles: {}\".format(len(list(filter(lambda a: a.startswith(\"A*\") if a else False, unique_alleles)))))\n",
    "print(\"B alleles: {}\".format(len(list(filter(lambda a: a.startswith(\"B*\") if a else False, unique_alleles)))))\n",
    "print(\"C alleles: {}\".format(len(list(filter(lambda a: a.startswith(\"C*\") if a else False, unique_alleles)))))\n",
    "print(\"DPA1 alleles: {}\".format(len(list(filter(lambda a: a.startswith(\"DPA1*\") if a else False, unique_alleles)))))\n",
    "print(\"DPB1 alleles: {}\".format(len(list(filter(lambda a: a.startswith(\"DPB1*\") if a else False, unique_alleles)))))\n",
    "print(\"DQA1 alleles: {}\".format(len(list(filter(lambda a: a.startswith(\"DQA1*\") if a else False, unique_alleles)))))\n",
    "print(\"DQB1 alleles: {}\".format(len(list(filter(lambda a: a.startswith(\"DQB1*\") if a else False, unique_alleles)))))\n",
    "print(\"DRB1 alleles: {}\".format(len(list(filter(lambda a: a.startswith(\"DRB1*\") if a else False, unique_alleles)))))"
   ]
  },
  {
   "cell_type": "code",
   "execution_count": 25,
   "id": "6a376f5c",
   "metadata": {},
   "outputs": [
    {
     "data": {
      "text/html": [
       "<div>\n",
       "<style scoped>\n",
       "    .dataframe tbody tr th:only-of-type {\n",
       "        vertical-align: middle;\n",
       "    }\n",
       "\n",
       "    .dataframe tbody tr th {\n",
       "        vertical-align: top;\n",
       "    }\n",
       "\n",
       "    .dataframe thead th {\n",
       "        text-align: right;\n",
       "    }\n",
       "</style>\n",
       "<table border=\"1\" class=\"dataframe\">\n",
       "  <thead>\n",
       "    <tr style=\"text-align: right;\">\n",
       "      <th></th>\n",
       "      <th>AlleleID</th>\n",
       "      <th>Allele</th>\n",
       "      <th>parsed_allele</th>\n",
       "    </tr>\n",
       "  </thead>\n",
       "  <tbody>\n",
       "    <tr>\n",
       "      <th>21337</th>\n",
       "      <td>HLA02046</td>\n",
       "      <td>DPB1*104:01:01:01</td>\n",
       "      <td>DPB1*104:01</td>\n",
       "    </tr>\n",
       "    <tr>\n",
       "      <th>21338</th>\n",
       "      <td>HLA16361</td>\n",
       "      <td>DPB1*104:01:01:02</td>\n",
       "      <td>DPB1*104:01</td>\n",
       "    </tr>\n",
       "    <tr>\n",
       "      <th>21339</th>\n",
       "      <td>HLA16904</td>\n",
       "      <td>DPB1*104:01:01:03</td>\n",
       "      <td>DPB1*104:01</td>\n",
       "    </tr>\n",
       "    <tr>\n",
       "      <th>21340</th>\n",
       "      <td>HLA17670</td>\n",
       "      <td>DPB1*104:01:01:04</td>\n",
       "      <td>DPB1*104:01</td>\n",
       "    </tr>\n",
       "    <tr>\n",
       "      <th>21341</th>\n",
       "      <td>HLA17671</td>\n",
       "      <td>DPB1*104:01:01:05</td>\n",
       "      <td>DPB1*104:01</td>\n",
       "    </tr>\n",
       "    <tr>\n",
       "      <th>21342</th>\n",
       "      <td>HLA21676</td>\n",
       "      <td>DPB1*104:01:01:06</td>\n",
       "      <td>DPB1*104:01</td>\n",
       "    </tr>\n",
       "    <tr>\n",
       "      <th>21343</th>\n",
       "      <td>HLA22274</td>\n",
       "      <td>DPB1*104:01:02</td>\n",
       "      <td>DPB1*104:01</td>\n",
       "    </tr>\n",
       "    <tr>\n",
       "      <th>21344</th>\n",
       "      <td>HLA25762</td>\n",
       "      <td>DPB1*104:01:03</td>\n",
       "      <td>DPB1*104:01</td>\n",
       "    </tr>\n",
       "    <tr>\n",
       "      <th>21345</th>\n",
       "      <td>HLA26403</td>\n",
       "      <td>DPB1*104:01:04</td>\n",
       "      <td>DPB1*104:01</td>\n",
       "    </tr>\n",
       "  </tbody>\n",
       "</table>\n",
       "</div>"
      ],
      "text/plain": [
       "       AlleleID             Allele parsed_allele\n",
       "21337  HLA02046  DPB1*104:01:01:01   DPB1*104:01\n",
       "21338  HLA16361  DPB1*104:01:01:02   DPB1*104:01\n",
       "21339  HLA16904  DPB1*104:01:01:03   DPB1*104:01\n",
       "21340  HLA17670  DPB1*104:01:01:04   DPB1*104:01\n",
       "21341  HLA17671  DPB1*104:01:01:05   DPB1*104:01\n",
       "21342  HLA21676  DPB1*104:01:01:06   DPB1*104:01\n",
       "21343  HLA22274     DPB1*104:01:02   DPB1*104:01\n",
       "21344  HLA25762     DPB1*104:01:03   DPB1*104:01\n",
       "21345  HLA26403     DPB1*104:01:04   DPB1*104:01"
      ]
     },
     "execution_count": 25,
     "metadata": {},
     "output_type": "execute_result"
    }
   ],
   "source": [
    "data[data.parsed_allele == \"DPB1*104:01\"]"
   ]
  },
  {
   "cell_type": "code",
   "execution_count": 26,
   "id": "7284a7ac",
   "metadata": {},
   "outputs": [
    {
     "data": {
      "text/html": [
       "<div>\n",
       "<style scoped>\n",
       "    .dataframe tbody tr th:only-of-type {\n",
       "        vertical-align: middle;\n",
       "    }\n",
       "\n",
       "    .dataframe tbody tr th {\n",
       "        vertical-align: top;\n",
       "    }\n",
       "\n",
       "    .dataframe thead th {\n",
       "        text-align: right;\n",
       "    }\n",
       "</style>\n",
       "<table border=\"1\" class=\"dataframe\">\n",
       "  <thead>\n",
       "    <tr style=\"text-align: right;\">\n",
       "      <th></th>\n",
       "      <th>AlleleID</th>\n",
       "      <th>Allele</th>\n",
       "      <th>parsed_allele</th>\n",
       "    </tr>\n",
       "  </thead>\n",
       "  <tbody>\n",
       "  </tbody>\n",
       "</table>\n",
       "</div>"
      ],
      "text/plain": [
       "Empty DataFrame\n",
       "Columns: [AlleleID, Allele, parsed_allele]\n",
       "Index: []"
      ]
     },
     "execution_count": 26,
     "metadata": {},
     "output_type": "execute_result"
    }
   ],
   "source": [
    "data[data.parsed_allele == \"DPB1*10:401\"]"
   ]
  },
  {
   "cell_type": "code",
   "execution_count": 27,
   "id": "e4c4093a",
   "metadata": {},
   "outputs": [
    {
     "data": {
      "text/html": [
       "<div>\n",
       "<style scoped>\n",
       "    .dataframe tbody tr th:only-of-type {\n",
       "        vertical-align: middle;\n",
       "    }\n",
       "\n",
       "    .dataframe tbody tr th {\n",
       "        vertical-align: top;\n",
       "    }\n",
       "\n",
       "    .dataframe thead th {\n",
       "        text-align: right;\n",
       "    }\n",
       "</style>\n",
       "<table border=\"1\" class=\"dataframe\">\n",
       "  <thead>\n",
       "    <tr style=\"text-align: right;\">\n",
       "      <th></th>\n",
       "      <th>AlleleID</th>\n",
       "      <th>Allele</th>\n",
       "      <th>parsed_allele</th>\n",
       "    </tr>\n",
       "  </thead>\n",
       "  <tbody>\n",
       "    <tr>\n",
       "      <th>8276</th>\n",
       "      <td>HLA06903</td>\n",
       "      <td>B*15:228</td>\n",
       "      <td>B*15:228</td>\n",
       "    </tr>\n",
       "  </tbody>\n",
       "</table>\n",
       "</div>"
      ],
      "text/plain": [
       "      AlleleID    Allele parsed_allele\n",
       "8276  HLA06903  B*15:228      B*15:228"
      ]
     },
     "execution_count": 27,
     "metadata": {},
     "output_type": "execute_result"
    }
   ],
   "source": [
    "data[data.parsed_allele == \"B*15:228\"]"
   ]
  },
  {
   "cell_type": "code",
   "execution_count": 28,
   "id": "a4fbcb46",
   "metadata": {},
   "outputs": [
    {
     "data": {
      "text/html": [
       "<div>\n",
       "<style scoped>\n",
       "    .dataframe tbody tr th:only-of-type {\n",
       "        vertical-align: middle;\n",
       "    }\n",
       "\n",
       "    .dataframe tbody tr th {\n",
       "        vertical-align: top;\n",
       "    }\n",
       "\n",
       "    .dataframe thead th {\n",
       "        text-align: right;\n",
       "    }\n",
       "</style>\n",
       "<table border=\"1\" class=\"dataframe\">\n",
       "  <thead>\n",
       "    <tr style=\"text-align: right;\">\n",
       "      <th></th>\n",
       "      <th>AlleleID</th>\n",
       "      <th>Allele</th>\n",
       "      <th>parsed_allele</th>\n",
       "    </tr>\n",
       "  </thead>\n",
       "  <tbody>\n",
       "  </tbody>\n",
       "</table>\n",
       "</div>"
      ],
      "text/plain": [
       "Empty DataFrame\n",
       "Columns: [AlleleID, Allele, parsed_allele]\n",
       "Index: []"
      ]
     },
     "execution_count": 28,
     "metadata": {},
     "output_type": "execute_result"
    }
   ],
   "source": [
    "data[data.parsed_allele == \"B*152:28\"]"
   ]
  }
 ],
 "metadata": {
  "kernelspec": {
   "display_name": "Python 3",
   "language": "python",
   "name": "python3"
  },
  "language_info": {
   "codemirror_mode": {
    "name": "ipython",
    "version": 3
   },
   "file_extension": ".py",
   "mimetype": "text/x-python",
   "name": "python",
   "nbconvert_exporter": "python",
   "pygments_lexer": "ipython3",
   "version": "3.7.10"
  }
 },
 "nbformat": 4,
 "nbformat_minor": 5
}
